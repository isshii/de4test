{
  "nbformat": 4,
  "nbformat_minor": 0,
  "metadata": {
    "colab": {
      "name": "VGG16_Lime_to_DeepExplorer.ipynb",
      "provenance": [],
      "collapsed_sections": [],
      "authorship_tag": "ABX9TyMTdlz32ytEEQFUmrSKAWxo",
      "include_colab_link": true
    },
    "kernelspec": {
      "name": "python3",
      "display_name": "Python 3"
    },
    "accelerator": "GPU"
  },
  "cells": [
    {
      "cell_type": "markdown",
      "metadata": {
        "id": "view-in-github",
        "colab_type": "text"
      },
      "source": [
        "<a href=\"https://colab.research.google.com/github/isshii/de4test/blob/master/DeepExplorer/VGG16_Lime_to_DeepExplorer.ipynb\" target=\"_parent\"><img src=\"https://colab.research.google.com/assets/colab-badge.svg\" alt=\"Open In Colab\"/></a>"
      ]
    },
    {
      "cell_type": "code",
      "metadata": {
        "id": "HuBLIVSBGEFd",
        "colab_type": "code",
        "outputId": "3fe5bd44-e421-4749-c8ac-a52ad6d68ae1",
        "colab": {
          "base_uri": "https://localhost:8080/",
          "height": 98
        }
      },
      "source": [
        "from keras_applications.imagenet_utils import preprocess_input as preprocess_input\n",
        "import os, re\n",
        "import random\n",
        "import keras\n",
        "# models\n",
        "from keras.applications import inception_v3 as inc_net\n",
        "from keras.applications import resnet50 as resnet50\n",
        "from keras.applications import vgg16 as vgg16\n",
        "from keras.applications.vgg16 import preprocess_input, decode_predictions\n",
        "from keras.applications.resnet50 import ResNet50\n",
        "#from keras.applications.vgg16 import VGG16\n",
        "from keras.applications.vgg19 import VGG19\n",
        "from keras.preprocessing import image\n",
        "from keras.applications.imagenet_utils import decode_predictions\n",
        "from keras.layers import Input\n",
        "from keras.preprocessing import image\n",
        "\n",
        "from skimage.segmentation import mark_boundaries\n",
        "from skimage.io import imread\n",
        "import matplotlib.pyplot as plt\n",
        "import numpy as np\n",
        "print('Notebook run using keras:', keras.__version__)\n",
        "\n",
        "import argparse\n",
        "import imageio"
      ],
      "execution_count": 1,
      "outputs": [
        {
          "output_type": "stream",
          "text": [
            "Using TensorFlow backend.\n"
          ],
          "name": "stderr"
        },
        {
          "output_type": "display_data",
          "data": {
            "text/html": [
              "<p style=\"color: red;\">\n",
              "The default version of TensorFlow in Colab will soon switch to TensorFlow 2.x.<br>\n",
              "We recommend you <a href=\"https://www.tensorflow.org/guide/migrate\" target=\"_blank\">upgrade</a> now \n",
              "or ensure your notebook will continue to use TensorFlow 1.x via the <code>%tensorflow_version 1.x</code> magic:\n",
              "<a href=\"https://colab.research.google.com/notebooks/tensorflow_version.ipynb\" target=\"_blank\">more info</a>.</p>\n"
            ],
            "text/plain": [
              "<IPython.core.display.HTML object>"
            ]
          },
          "metadata": {
            "tags": []
          }
        },
        {
          "output_type": "stream",
          "text": [
            "Notebook run using keras: 2.2.5\n"
          ],
          "name": "stdout"
        }
      ]
    },
    {
      "cell_type": "code",
      "metadata": {
        "id": "iIY2gYGi_Uc1",
        "colab_type": "code",
        "colab": {}
      },
      "source": [
        "# 共通で使うパスなどの定義\n",
        "# 共通の変数設定\n",
        "# 共通フォルダパス\n",
        "data_dir = \"/content/gdrive/My Drive/ColabNotebooks/test4ai/data\"\n",
        "data_imagenet = \"/content/gdrive/My Drive/ColabNotebooks/test4ai/data/ImageNet\"\n",
        "data_imagenet_seeds = \"/content/gdrive/My Drive/ColabNotebooks/test4ai/data/ImageNet/seeds\"\n",
        "data_imagenet_single = \"/content/gdrive/My Drive/ColabNotebooks/test4ai/data/ImageNet/single\"\n",
        "model_dir = \"/content/gdrive/My Drive/ColabNotebooks/test4ai/model\"\n",
        "output_dir = \"/content/gdrive/My Drive/ColabNotebooks/test4ai/output\"\n",
        "tmp_dir = \"/content/gdrive/My Drive/ColabNotebooks/test4ai/tmp\""
      ],
      "execution_count": 0,
      "outputs": []
    },
    {
      "cell_type": "code",
      "metadata": {
        "id": "CpJ0Nan481Rq",
        "colab_type": "code",
        "colab": {
          "base_uri": "https://localhost:8080/",
          "height": 34
        },
        "outputId": "d62fc87a-f4af-4e17-d856-2c0cd443f26d"
      },
      "source": [
        "# ドライブをマウントする\n",
        "from google.colab import drive\n",
        "drive.mount('/content/gdrive')"
      ],
      "execution_count": 3,
      "outputs": [
        {
          "output_type": "stream",
          "text": [
            "Drive already mounted at /content/gdrive; to attempt to forcibly remount, call drive.mount(\"/content/gdrive\", force_remount=True).\n"
          ],
          "name": "stdout"
        }
      ]
    },
    {
      "cell_type": "code",
      "metadata": {
        "id": "75AT2rE-_Yo2",
        "colab_type": "code",
        "colab": {
          "base_uri": "https://localhost:8080/",
          "height": 34
        },
        "outputId": "fcdbee75-6647-46fd-db02-bfbc1639ce2f"
      },
      "source": [
        "# outputフォルダ内容物のクリーンアップ削除\n",
        "!rm \"$output_dir\"/*"
      ],
      "execution_count": 4,
      "outputs": [
        {
          "output_type": "stream",
          "text": [
            "rm: cannot remove '/content/gdrive/My Drive/ColabNotebooks/test4ai/output/*': No such file or directory\n"
          ],
          "name": "stdout"
        }
      ]
    },
    {
      "cell_type": "code",
      "metadata": {
        "id": "lhu7Plgp9YvY",
        "colab_type": "code",
        "colab": {
          "base_uri": "https://localhost:8080/",
          "height": 354
        },
        "outputId": "f8daf324-b1ea-406f-9350-0e7b3edbeb69"
      },
      "source": [
        "#lime  インストール\n",
        "! pip install lime\n",
        "%load_ext autoreload\n",
        "%autoreload 2\n",
        "import os,sys\n",
        "try:\n",
        "    import lime\n",
        "except:\n",
        "    sys.path.append(os.path.join('..', '..')) # add the current directory\n",
        "    import lime\n",
        "from lime import lime_image"
      ],
      "execution_count": 5,
      "outputs": [
        {
          "output_type": "stream",
          "text": [
            "Requirement already satisfied: lime in /usr/local/lib/python3.6/dist-packages (0.1.1.37)\n",
            "Requirement already satisfied: scikit-learn>=0.18 in /usr/local/lib/python3.6/dist-packages (from lime) (0.22.1)\n",
            "Requirement already satisfied: matplotlib; python_version >= \"3.0\" in /usr/local/lib/python3.6/dist-packages (from lime) (3.1.2)\n",
            "Requirement already satisfied: progressbar in /usr/local/lib/python3.6/dist-packages (from lime) (2.5)\n",
            "Requirement already satisfied: numpy in /usr/local/lib/python3.6/dist-packages (from lime) (1.17.5)\n",
            "Requirement already satisfied: scikit-image>=0.12; python_version >= \"3.0\" in /usr/local/lib/python3.6/dist-packages (from lime) (0.16.2)\n",
            "Requirement already satisfied: scipy in /usr/local/lib/python3.6/dist-packages (from lime) (1.4.1)\n",
            "Requirement already satisfied: joblib>=0.11 in /usr/local/lib/python3.6/dist-packages (from scikit-learn>=0.18->lime) (0.14.1)\n",
            "Requirement already satisfied: python-dateutil>=2.1 in /usr/local/lib/python3.6/dist-packages (from matplotlib; python_version >= \"3.0\"->lime) (2.6.1)\n",
            "Requirement already satisfied: pyparsing!=2.0.4,!=2.1.2,!=2.1.6,>=2.0.1 in /usr/local/lib/python3.6/dist-packages (from matplotlib; python_version >= \"3.0\"->lime) (2.4.6)\n",
            "Requirement already satisfied: cycler>=0.10 in /usr/local/lib/python3.6/dist-packages (from matplotlib; python_version >= \"3.0\"->lime) (0.10.0)\n",
            "Requirement already satisfied: kiwisolver>=1.0.1 in /usr/local/lib/python3.6/dist-packages (from matplotlib; python_version >= \"3.0\"->lime) (1.1.0)\n",
            "Requirement already satisfied: pillow>=4.3.0 in /usr/local/lib/python3.6/dist-packages (from scikit-image>=0.12; python_version >= \"3.0\"->lime) (6.2.2)\n",
            "Requirement already satisfied: imageio>=2.3.0 in /usr/local/lib/python3.6/dist-packages (from scikit-image>=0.12; python_version >= \"3.0\"->lime) (2.4.1)\n",
            "Requirement already satisfied: networkx>=2.0 in /usr/local/lib/python3.6/dist-packages (from scikit-image>=0.12; python_version >= \"3.0\"->lime) (2.4)\n",
            "Requirement already satisfied: PyWavelets>=0.4.0 in /usr/local/lib/python3.6/dist-packages (from scikit-image>=0.12; python_version >= \"3.0\"->lime) (1.1.1)\n",
            "Requirement already satisfied: six>=1.5 in /usr/local/lib/python3.6/dist-packages (from python-dateutil>=2.1->matplotlib; python_version >= \"3.0\"->lime) (1.12.0)\n",
            "Requirement already satisfied: setuptools in /usr/local/lib/python3.6/dist-packages (from kiwisolver>=1.0.1->matplotlib; python_version >= \"3.0\"->lime) (42.0.2)\n",
            "Requirement already satisfied: decorator>=4.3.0 in /usr/local/lib/python3.6/dist-packages (from networkx>=2.0->scikit-image>=0.12; python_version >= \"3.0\"->lime) (4.4.1)\n"
          ],
          "name": "stdout"
        }
      ]
    },
    {
      "cell_type": "code",
      "metadata": {
        "id": "3Ub6yD-wMIV7",
        "colab_type": "code",
        "colab": {}
      },
      "source": [
        "# 画像読み込みユーティリティ\n",
        "def transform_img_fn(path_list, target_size=(299, 299)):\n",
        "    out = []\n",
        "    for img_path in path_list:\n",
        "        img = image.load_img(img_path, target_size=target_size)\n",
        "        x = image.img_to_array(img)\n",
        "        x = np.expand_dims(x, axis=0)\n",
        "        x = vgg16.preprocess_input(x, mode='tf')\n",
        "        out.append(x)\n",
        "    return np.vstack(out)\n",
        "\n",
        "def load_image(filename):\n",
        "  img = image.load_img(filename, target_size=(224, 224))\n",
        "  return image.img_to_array(img)"
      ],
      "execution_count": 0,
      "outputs": []
    },
    {
      "cell_type": "code",
      "metadata": {
        "id": "qzJaFnRNDNbo",
        "colab_type": "code",
        "colab": {}
      },
      "source": [
        "def get_predicts(model, imgpath):\n",
        "  images4vgg = [imgpath]\n",
        "  x = np.zeros((len(images4vgg), 224, 224, 3))\n",
        "\n",
        "  for i in range(0, len(images4vgg)):\n",
        "    x[i] = load_image(images4vgg[i])\n",
        "  pred = model.predict(preprocess_input(x))\n",
        "  #print('pred.shape={shape}'.format(shape=pred.shape))\n",
        "  top = decode_predictions(pred, top=5)\n",
        "\n",
        "  for i in range(0, len(top)):\n",
        "    #print('{i}:'.format(i=i))\n",
        "    for j in range(0, len(top[i])):\n",
        "      name, desc, score = top[i][j]\n",
        "      #print('  {rank}    {desc} {score:02.1f}%'.format(rank=j+1, desc=desc, score=score*100))\n",
        "  \n",
        "  return model.predict\n"
      ],
      "execution_count": 0,
      "outputs": []
    },
    {
      "cell_type": "code",
      "metadata": {
        "id": "Lm_Rn8TtguyV",
        "colab_type": "code",
        "colab": {}
      },
      "source": [
        "# lime の出力 (mask の結果) を DeepExplorer のノイズブロックの位置に使えるように変換する\n",
        "# 特定サイズの矩形で、最も1(maskされている=limeによって特徴的であると判断された場所)が含まれる個数が多い場所を求める\n",
        "# 評価が同じ矩形が複数あった場合は最初のひとつを保持する\n",
        "def get_rectangle_good_2_noise(nparray, rectangle_size=(30, 30)):\n",
        "    max_x = 0\n",
        "    max_y = 0\n",
        "    max_score = 0\n",
        "    sizeof_x = len(nparray[0])\n",
        "    sizeof_y = len(nparray)\n",
        "    #print(len(nparray[0]))\n",
        "    #print(len(nparray))\n",
        "    for y in range(0, sizeof_y):\n",
        "        for x in range(0, sizeof_x):\n",
        "            fixed_y = y+rectangle_size[0]\n",
        "            fixed_x = x+rectangle_size[1]\n",
        "            score = np.sum(nparray[y:fixed_y, x:fixed_x])\n",
        "            #print(image[y:fixed_y, x:fixed_x])\n",
        "            #print(\"x:%d  y:%d\" % (x, y))\n",
        "            #print(\"score: %d\" % score)\n",
        "            #print(\"\")\n",
        "            if score > max_score:\n",
        "                max_x = x\n",
        "                max_y = y\n",
        "                max_score = score\n",
        "    #print(\"max score : %d\" % max_score)\n",
        "    #print(\"rectangle x : %d  y : %d\" % (max_x, max_y))\n",
        "    return (max_x, max_y, max_score)\n",
        "\n",
        "# lime 用の 4角マスクデータを作るよ\n",
        "def create_my_mask(target_size=(224,224), x_start=0, y_start=0, rectangle_size=(30, 30)):\n",
        "  my_mask = np.zeros(target_size, dtype = int)\n",
        "  x_end = x_start + rectangle_size[0]\n",
        "  y_end = y_start + rectangle_size[1]\n",
        "  my_mask[y_start:y_end, x_start:x_end]=1\n",
        "  return my_mask"
      ],
      "execution_count": 0,
      "outputs": []
    },
    {
      "cell_type": "code",
      "metadata": {
        "id": "vgYnjMK45Y-P",
        "colab_type": "code",
        "colab": {}
      },
      "source": [
        "# lime よんで mask とって de 用のノイズ位置をゲットするよ\n",
        "def get_rectangle_using_lime_result(model, imgpath, target_block_size=(60,60)):\n",
        "  # lime による特徴ピクセル取得 \n",
        "  explainer = lime_image.LimeImageExplainer()\n",
        "  image_to_lime =  transform_img_fn([imgpath], (224, 224))[0]\n",
        "  explanation = explainer.explain_instance(image_to_lime, get_predicts(model, imgpath), top_labels=5, hide_color=0, num_samples=1000)\n",
        "  temp, mask = explanation.get_image_and_mask(explanation.top_labels[0], positive_only=True, num_features=1, hide_rest=False)\n",
        "  # LIME の素の出力を見たいときには↓をアンコメントしてね\n",
        "  # plt.imshow(mark_boundaries(temp / 2 + 0.5, mask))\n",
        "\n",
        "  (start_x, start_y, score) = get_rectangle_good_2_noise(mask, target_block_size)\n",
        "  my_mask = create_my_mask((224, 224), start_x, start_y, target_block_size)\n",
        "  \n",
        "  # DeepExplorer 向けのブロックノイズ位置の出力\n",
        "  np.set_printoptions(threshold=224*224)\n",
        "  temp, mask = explanation.get_image_and_mask(explanation.top_labels[0], positive_only=True, num_features=1, hide_rest=False)\n",
        "  # LIME の素の出力をしたいときには↓をアンコメントしてね\n",
        "  #plt.imshow(mark_boundaries(temp / 2 + 0.5, my_mask))\n",
        "\n",
        "  return (start_x, start_y)"
      ],
      "execution_count": 0,
      "outputs": []
    },
    {
      "cell_type": "code",
      "metadata": {
        "id": "TANE3szmGpPe",
        "colab_type": "code",
        "colab": {}
      },
      "source": [
        "# 指定されたフォルダ内の画像っぽいファイルのパスリストを返す\n",
        "def list_pictures(directory, ext='jpg|jpeg|bmp|png|ppm'):\n",
        "    return [os.path.join(root, f)\n",
        "            for root, _, files in os.walk(directory) for f in files\n",
        "            if re.match(r'([\\w]+\\.(?:' + ext + '))', f.lower())]"
      ],
      "execution_count": 0,
      "outputs": []
    },
    {
      "cell_type": "code",
      "metadata": {
        "id": "QfzOykFI_uEp",
        "colab_type": "code",
        "outputId": "a9100d34-2f46-402f-c7c4-8e100bdc92ec",
        "colab": {
          "base_uri": "https://localhost:8080/",
          "height": 1000
        }
      },
      "source": [
        "%%time\n",
        "\n",
        "# 画像ごとの DeepXplorer 用ブロックノイズの始点データの入れ物\n",
        "# basename : (start_x, start_y)\n",
        "xydict = {}\n",
        "\n",
        "# VGG16 による画像のラベル判定(LIME 適用準備)\n",
        "vgg16_model = vgg16.VGG16(include_top=True, weights='imagenet', input_tensor=None, input_shape=None)\n",
        "\n",
        "# 画像読み込み\n",
        "#imgpath = \"/content/gdrive/My Drive/ColabNotebooks/test4ai/data/ImageNet/single/ILSVRC2012_test_00001582.JPEG\"\n",
        "#imgpath =  \"/content/gdrive/My Drive/ColabNotebooks/test4ai/data/ImageNet/seeds/ILSVRC2012_test_00001288.JPEG\"\n",
        "\n",
        "img_path_list = list_pictures(data_imagenet_seeds)\n",
        "\n",
        "i = 0\n",
        "numimg = len(img_path_list)\n",
        "for imgpath in img_path_list:\n",
        "  imgpath_basename = os.path.basename(imgpath)\n",
        "  x_and_y = get_rectangle_using_lime_result(vgg16_model, imgpath)\n",
        "  i = i + 1\n",
        "  print(f'{i}/{numimg} : {imgpath_basename} : {x_and_y}')\n",
        "  xydict[imgpath_basename] = x_and_y\n",
        "\n",
        "# xydict を yaml で保存\n",
        "import yaml\n",
        "\n",
        "with open(\"/content/gdrive/My Drive/ColabNotebooks/test4ai/output/xydict.yaml\", \"w\") as wf:\n",
        "    yaml.dump(xydict, wf)\n",
        "\n"
      ],
      "execution_count": 42,
      "outputs": [
        {
          "output_type": "stream",
          "text": [
            "\n"
          ],
          "name": "stderr"
        },
        {
          "output_type": "stream",
          "text": [
            "1/50 : ILSVRC2012_test_00001926.JPEG : (62, 135)\n"
          ],
          "name": "stdout"
        },
        {
          "output_type": "stream",
          "text": [
            "\n"
          ],
          "name": "stderr"
        },
        {
          "output_type": "stream",
          "text": [
            "2/50 : ILSVRC2012_test_00001869.JPEG : (67, 137)\n"
          ],
          "name": "stdout"
        },
        {
          "output_type": "stream",
          "text": [
            "\n"
          ],
          "name": "stderr"
        },
        {
          "output_type": "stream",
          "text": [
            "3/50 : ILSVRC2012_test_00001733.JPEG : (71, 43)\n"
          ],
          "name": "stdout"
        },
        {
          "output_type": "stream",
          "text": [
            "\n"
          ],
          "name": "stderr"
        },
        {
          "output_type": "stream",
          "text": [
            "4/50 : ILSVRC2012_test_00001567.JPEG : (77, 122)\n"
          ],
          "name": "stdout"
        },
        {
          "output_type": "stream",
          "text": [
            "\n"
          ],
          "name": "stderr"
        },
        {
          "output_type": "stream",
          "text": [
            "5/50 : ILSVRC2012_test_00001739.JPEG : (0, 164)\n"
          ],
          "name": "stdout"
        },
        {
          "output_type": "stream",
          "text": [
            "\n"
          ],
          "name": "stderr"
        },
        {
          "output_type": "stream",
          "text": [
            "6/50 : ILSVRC2012_test_00001810.JPEG : (136, 86)\n"
          ],
          "name": "stdout"
        },
        {
          "output_type": "stream",
          "text": [
            "\n"
          ],
          "name": "stderr"
        },
        {
          "output_type": "stream",
          "text": [
            "7/50 : ILSVRC2012_test_00001288.JPEG : (164, 0)\n"
          ],
          "name": "stdout"
        },
        {
          "output_type": "stream",
          "text": [
            "\n"
          ],
          "name": "stderr"
        },
        {
          "output_type": "stream",
          "text": [
            "8/50 : ILSVRC2012_test_00001514.JPEG : (164, 145)\n"
          ],
          "name": "stdout"
        },
        {
          "output_type": "stream",
          "text": [
            "\n"
          ],
          "name": "stderr"
        },
        {
          "output_type": "stream",
          "text": [
            "9/50 : ILSVRC2012_test_00001490.JPEG : (97, 0)\n"
          ],
          "name": "stdout"
        },
        {
          "output_type": "stream",
          "text": [
            "\n"
          ],
          "name": "stderr"
        },
        {
          "output_type": "stream",
          "text": [
            "10/50 : ILSVRC2012_test_00001902.JPEG : (104, 43)\n"
          ],
          "name": "stdout"
        },
        {
          "output_type": "stream",
          "text": [
            "\n"
          ],
          "name": "stderr"
        },
        {
          "output_type": "stream",
          "text": [
            "11/50 : ILSVRC2012_test_00001549.JPEG : (104, 55)\n"
          ],
          "name": "stdout"
        },
        {
          "output_type": "stream",
          "text": [
            "\n"
          ],
          "name": "stderr"
        },
        {
          "output_type": "stream",
          "text": [
            "12/50 : ILSVRC2012_test_00001955.JPEG : (0, 80)\n"
          ],
          "name": "stdout"
        },
        {
          "output_type": "stream",
          "text": [
            "\n"
          ],
          "name": "stderr"
        },
        {
          "output_type": "stream",
          "text": [
            "13/50 : ILSVRC2012_test_00001351.JPEG : (118, 5)\n"
          ],
          "name": "stdout"
        },
        {
          "output_type": "stream",
          "text": [
            "\n"
          ],
          "name": "stderr"
        },
        {
          "output_type": "stream",
          "text": [
            "14/50 : ILSVRC2012_test_00001422.JPEG : (137, 118)\n"
          ],
          "name": "stdout"
        },
        {
          "output_type": "stream",
          "text": [
            "\n"
          ],
          "name": "stderr"
        },
        {
          "output_type": "stream",
          "text": [
            "15/50 : ILSVRC2012_test_00001685.JPEG : (121, 23)\n"
          ],
          "name": "stdout"
        },
        {
          "output_type": "stream",
          "text": [
            "\n"
          ],
          "name": "stderr"
        },
        {
          "output_type": "stream",
          "text": [
            "16/50 : ILSVRC2012_test_00001428.JPEG : (16, 73)\n"
          ],
          "name": "stdout"
        },
        {
          "output_type": "stream",
          "text": [
            "\n"
          ],
          "name": "stderr"
        },
        {
          "output_type": "stream",
          "text": [
            "17/50 : ILSVRC2012_test_00001526.JPEG : (140, 20)\n"
          ],
          "name": "stdout"
        },
        {
          "output_type": "stream",
          "text": [
            "\n"
          ],
          "name": "stderr"
        },
        {
          "output_type": "stream",
          "text": [
            "18/50 : ILSVRC2012_test_00001778.JPEG : (29, 164)\n"
          ],
          "name": "stdout"
        },
        {
          "output_type": "stream",
          "text": [
            "\n"
          ],
          "name": "stderr"
        },
        {
          "output_type": "stream",
          "text": [
            "19/50 : ILSVRC2012_test_00001543.JPEG : (72, 90)\n"
          ],
          "name": "stdout"
        },
        {
          "output_type": "stream",
          "text": [
            "\n"
          ],
          "name": "stderr"
        },
        {
          "output_type": "stream",
          "text": [
            "20/50 : ILSVRC2012_test_00001886.JPEG : (141, 75)\n"
          ],
          "name": "stdout"
        },
        {
          "output_type": "stream",
          "text": [
            "\n"
          ],
          "name": "stderr"
        },
        {
          "output_type": "stream",
          "text": [
            "21/50 : ILSVRC2012_test_00001949.JPEG : (117, 17)\n"
          ],
          "name": "stdout"
        },
        {
          "output_type": "stream",
          "text": [
            "\n"
          ],
          "name": "stderr"
        },
        {
          "output_type": "stream",
          "text": [
            "22/50 : ILSVRC2012_test_00001699.JPEG : (164, 23)\n"
          ],
          "name": "stdout"
        },
        {
          "output_type": "stream",
          "text": [
            "\n"
          ],
          "name": "stderr"
        },
        {
          "output_type": "stream",
          "text": [
            "23/50 : ILSVRC2012_test_00001676.JPEG : (0, 57)\n"
          ],
          "name": "stdout"
        },
        {
          "output_type": "stream",
          "text": [
            "\n"
          ],
          "name": "stderr"
        },
        {
          "output_type": "stream",
          "text": [
            "24/50 : ILSVRC2012_test_00001930.JPEG : (21, 164)\n"
          ],
          "name": "stdout"
        },
        {
          "output_type": "stream",
          "text": [
            "\n"
          ],
          "name": "stderr"
        },
        {
          "output_type": "stream",
          "text": [
            "25/50 : ILSVRC2012_test_00001390.JPEG : (123, 0)\n"
          ],
          "name": "stdout"
        },
        {
          "output_type": "stream",
          "text": [
            "\n"
          ],
          "name": "stderr"
        },
        {
          "output_type": "stream",
          "text": [
            "26/50 : ILSVRC2012_test_00001530.JPEG : (164, 164)\n"
          ],
          "name": "stdout"
        },
        {
          "output_type": "stream",
          "text": [
            "\n"
          ],
          "name": "stderr"
        },
        {
          "output_type": "stream",
          "text": [
            "27/50 : ILSVRC2012_test_00001796.JPEG : (118, 164)\n"
          ],
          "name": "stdout"
        },
        {
          "output_type": "stream",
          "text": [
            "\n"
          ],
          "name": "stderr"
        },
        {
          "output_type": "stream",
          "text": [
            "28/50 : ILSVRC2012_test_00001847.JPEG : (99, 54)\n"
          ],
          "name": "stdout"
        },
        {
          "output_type": "stream",
          "text": [
            "\n"
          ],
          "name": "stderr"
        },
        {
          "output_type": "stream",
          "text": [
            "29/50 : ILSVRC2012_test_00001834.JPEG : (16, 68)\n"
          ],
          "name": "stdout"
        },
        {
          "output_type": "stream",
          "text": [
            "\n"
          ],
          "name": "stderr"
        },
        {
          "output_type": "stream",
          "text": [
            "30/50 : ILSVRC2012_test_00001469.JPEG : (44, 164)\n"
          ],
          "name": "stdout"
        },
        {
          "output_type": "stream",
          "text": [
            "\n"
          ],
          "name": "stderr"
        },
        {
          "output_type": "stream",
          "text": [
            "31/50 : ILSVRC2012_test_00001582.JPEG : (60, 70)\n"
          ],
          "name": "stdout"
        },
        {
          "output_type": "stream",
          "text": [
            "\n"
          ],
          "name": "stderr"
        },
        {
          "output_type": "stream",
          "text": [
            "32/50 : ILSVRC2012_test_00001475.JPEG : (70, 164)\n"
          ],
          "name": "stdout"
        },
        {
          "output_type": "stream",
          "text": [
            "\n"
          ],
          "name": "stderr"
        },
        {
          "output_type": "stream",
          "text": [
            "33/50 : ILSVRC2012_test_00001619.JPEG : (47, 25)\n"
          ],
          "name": "stdout"
        },
        {
          "output_type": "stream",
          "text": [
            "\n"
          ],
          "name": "stderr"
        },
        {
          "output_type": "stream",
          "text": [
            "34/50 : ILSVRC2012_test_00001644.JPEG : (29, 156)\n"
          ],
          "name": "stdout"
        },
        {
          "output_type": "stream",
          "text": [
            "\n"
          ],
          "name": "stderr"
        },
        {
          "output_type": "stream",
          "text": [
            "35/50 : ILSVRC2012_test_00001375.JPEG : (54, 70)\n"
          ],
          "name": "stdout"
        },
        {
          "output_type": "stream",
          "text": [
            "\n"
          ],
          "name": "stderr"
        },
        {
          "output_type": "stream",
          "text": [
            "36/50 : ILSVRC2012_test_00001725.JPEG : (56, 164)\n"
          ],
          "name": "stdout"
        },
        {
          "output_type": "stream",
          "text": [
            "\n"
          ],
          "name": "stderr"
        },
        {
          "output_type": "stream",
          "text": [
            "37/50 : ILSVRC2012_test_00001701.JPEG : (80, 164)\n"
          ],
          "name": "stdout"
        },
        {
          "output_type": "stream",
          "text": [
            "\n"
          ],
          "name": "stderr"
        },
        {
          "output_type": "stream",
          "text": [
            "38/50 : ILSVRC2012_test_00001772.JPEG : (88, 87)\n"
          ],
          "name": "stdout"
        },
        {
          "output_type": "stream",
          "text": [
            "\n"
          ],
          "name": "stderr"
        },
        {
          "output_type": "stream",
          "text": [
            "39/50 : ILSVRC2012_test_00001306.JPEG : (62, 109)\n"
          ],
          "name": "stdout"
        },
        {
          "output_type": "stream",
          "text": [
            "\n"
          ],
          "name": "stderr"
        },
        {
          "output_type": "stream",
          "text": [
            "40/50 : ILSVRC2012_test_00001660.JPEG : (164, 0)\n"
          ],
          "name": "stdout"
        },
        {
          "output_type": "stream",
          "text": [
            "\n"
          ],
          "name": "stderr"
        },
        {
          "output_type": "stream",
          "text": [
            "41/50 : ILSVRC2012_test_00001451.JPEG : (141, 12)\n"
          ],
          "name": "stdout"
        },
        {
          "output_type": "stream",
          "text": [
            "\n"
          ],
          "name": "stderr"
        },
        {
          "output_type": "stream",
          "text": [
            "42/50 : ILSVRC2012_test_00001613.JPEG : (0, 85)\n"
          ],
          "name": "stdout"
        },
        {
          "output_type": "stream",
          "text": [
            "\n"
          ],
          "name": "stderr"
        },
        {
          "output_type": "stream",
          "text": [
            "43/50 : ILSVRC2012_test_00001369.JPEG : (119, 119)\n"
          ],
          "name": "stdout"
        },
        {
          "output_type": "stream",
          "text": [
            "\n"
          ],
          "name": "stderr"
        },
        {
          "output_type": "stream",
          "text": [
            "44/50 : ILSVRC2012_test_00001588.JPEG : (164, 164)\n"
          ],
          "name": "stdout"
        },
        {
          "output_type": "stream",
          "text": [
            "\n"
          ],
          "name": "stderr"
        },
        {
          "output_type": "stream",
          "text": [
            "45/50 : ILSVRC2012_test_00001890.JPEG : (164, 164)\n"
          ],
          "name": "stdout"
        },
        {
          "output_type": "stream",
          "text": [
            "\n"
          ],
          "name": "stderr"
        },
        {
          "output_type": "stream",
          "text": [
            "46/50 : ILSVRC2012_test_00001637.JPEG : (0, 135)\n"
          ],
          "name": "stdout"
        },
        {
          "output_type": "stream",
          "text": [
            "\n"
          ],
          "name": "stderr"
        },
        {
          "output_type": "stream",
          "text": [
            "47/50 : ILSVRC2012_test_00001863.JPEG : (123, 4)\n"
          ],
          "name": "stdout"
        },
        {
          "output_type": "stream",
          "text": [
            "\n"
          ],
          "name": "stderr"
        },
        {
          "output_type": "stream",
          "text": [
            "48/50 : ILSVRC2012_test_00001797.JPEG : (164, 164)\n"
          ],
          "name": "stdout"
        },
        {
          "output_type": "stream",
          "text": [
            "\n"
          ],
          "name": "stderr"
        },
        {
          "output_type": "stream",
          "text": [
            "49/50 : ILSVRC2012_test_00001756.JPEG : (0, 164)\n"
          ],
          "name": "stdout"
        },
        {
          "output_type": "stream",
          "text": [
            "\n"
          ],
          "name": "stderr"
        },
        {
          "output_type": "stream",
          "text": [
            "50/50 : ILSVRC2012_test_00001322.JPEG : (0, 36)\n",
            "CPU times: user 3min 49s, sys: 27.8 s, total: 4min 17s\n",
            "Wall time: 7min 56s\n"
          ],
          "name": "stdout"
        },
        {
          "output_type": "display_data",
          "data": {
            "image/png": "[encoded data removed]",
            "text/plain": [
              "<Figure size 432x288 with 1 Axes>"
            ]
          },
          "metadata": {
            "tags": []
          }
        }
      ]
    },
    {
      "cell_type": "code",
      "metadata": {
        "id": "3PyyORyBEQKX",
        "colab_type": "code",
        "colab": {
          "base_uri": "https://localhost:8080/",
          "height": 905
        },
        "outputId": "62b2ca05-19ef-4875-cc62-d68165aa2168"
      },
      "source": [
        "with open(\"/content/gdrive/My Drive/ColabNotebooks/test4ai/output/xydict.yaml\") as rf:\n",
        "    data = yaml.load(rf)\n",
        "\n",
        "for d in data:\n",
        "  print(f'{d} : {data[d]}')"
      ],
      "execution_count": 45,
      "outputs": [
        {
          "output_type": "stream",
          "text": [
            "ILSVRC2012_test_00001288.JPEG : (164, 0)\n",
            "ILSVRC2012_test_00001306.JPEG : (62, 109)\n",
            "ILSVRC2012_test_00001322.JPEG : (0, 36)\n",
            "ILSVRC2012_test_00001351.JPEG : (118, 5)\n",
            "ILSVRC2012_test_00001369.JPEG : (119, 119)\n",
            "ILSVRC2012_test_00001375.JPEG : (54, 70)\n",
            "ILSVRC2012_test_00001390.JPEG : (123, 0)\n",
            "ILSVRC2012_test_00001422.JPEG : (137, 118)\n",
            "ILSVRC2012_test_00001428.JPEG : (16, 73)\n",
            "ILSVRC2012_test_00001451.JPEG : (141, 12)\n",
            "ILSVRC2012_test_00001469.JPEG : (44, 164)\n",
            "ILSVRC2012_test_00001475.JPEG : (70, 164)\n",
            "ILSVRC2012_test_00001490.JPEG : (97, 0)\n",
            "ILSVRC2012_test_00001514.JPEG : (164, 145)\n",
            "ILSVRC2012_test_00001526.JPEG : (140, 20)\n",
            "ILSVRC2012_test_00001530.JPEG : (164, 164)\n",
            "ILSVRC2012_test_00001543.JPEG : (72, 90)\n",
            "ILSVRC2012_test_00001549.JPEG : (104, 55)\n",
            "ILSVRC2012_test_00001567.JPEG : (77, 122)\n",
            "ILSVRC2012_test_00001582.JPEG : (60, 70)\n",
            "ILSVRC2012_test_00001588.JPEG : (164, 164)\n",
            "ILSVRC2012_test_00001613.JPEG : (0, 85)\n",
            "ILSVRC2012_test_00001619.JPEG : (47, 25)\n",
            "ILSVRC2012_test_00001637.JPEG : (0, 135)\n",
            "ILSVRC2012_test_00001644.JPEG : (29, 156)\n",
            "ILSVRC2012_test_00001660.JPEG : (164, 0)\n",
            "ILSVRC2012_test_00001676.JPEG : (0, 57)\n",
            "ILSVRC2012_test_00001685.JPEG : (121, 23)\n",
            "ILSVRC2012_test_00001699.JPEG : (164, 23)\n",
            "ILSVRC2012_test_00001701.JPEG : (80, 164)\n",
            "ILSVRC2012_test_00001725.JPEG : (56, 164)\n",
            "ILSVRC2012_test_00001733.JPEG : (71, 43)\n",
            "ILSVRC2012_test_00001739.JPEG : (0, 164)\n",
            "ILSVRC2012_test_00001756.JPEG : (0, 164)\n",
            "ILSVRC2012_test_00001772.JPEG : (88, 87)\n",
            "ILSVRC2012_test_00001778.JPEG : (29, 164)\n",
            "ILSVRC2012_test_00001796.JPEG : (118, 164)\n",
            "ILSVRC2012_test_00001797.JPEG : (164, 164)\n",
            "ILSVRC2012_test_00001810.JPEG : (136, 86)\n",
            "ILSVRC2012_test_00001834.JPEG : (16, 68)\n",
            "ILSVRC2012_test_00001847.JPEG : (99, 54)\n",
            "ILSVRC2012_test_00001863.JPEG : (123, 4)\n",
            "ILSVRC2012_test_00001869.JPEG : (67, 137)\n",
            "ILSVRC2012_test_00001886.JPEG : (141, 75)\n",
            "ILSVRC2012_test_00001890.JPEG : (164, 164)\n",
            "ILSVRC2012_test_00001902.JPEG : (104, 43)\n",
            "ILSVRC2012_test_00001926.JPEG : (62, 135)\n",
            "ILSVRC2012_test_00001930.JPEG : (21, 164)\n",
            "ILSVRC2012_test_00001949.JPEG : (117, 17)\n",
            "ILSVRC2012_test_00001955.JPEG : (0, 80)\n"
          ],
          "name": "stdout"
        }
      ]
    },
    {
      "cell_type": "code",
      "metadata": {
        "id": "7i6hXNf3-Mw2",
        "colab_type": "code",
        "colab": {}
      },
      "source": [
        "# ここまで lime 実行〜出力を DeepExplorer で利用できるようにする準備\n",
        "# ここから DeepExplorer の実行"
      ],
      "execution_count": 0,
      "outputs": []
    },
    {
      "cell_type": "code",
      "metadata": {
        "id": "igMqysBH_lvD",
        "colab_type": "code",
        "colab": {
          "base_uri": "https://localhost:8080/",
          "height": 496
        },
        "outputId": "87cd29d2-7348-438c-bc0a-18262056f75a"
      },
      "source": [
        "from tensorflow.python.client import device_lib\n",
        "device_lib.list_local_devices()"
      ],
      "execution_count": 15,
      "outputs": [
        {
          "output_type": "execute_result",
          "data": {
            "text/plain": [
              "[name: \"/device:CPU:0\"\n",
              " device_type: \"CPU\"\n",
              " memory_limit: 268435456\n",
              " locality {\n",
              " }\n",
              " incarnation: 7180771703530904480, name: \"/device:XLA_CPU:0\"\n",
              " device_type: \"XLA_CPU\"\n",
              " memory_limit: 17179869184\n",
              " locality {\n",
              " }\n",
              " incarnation: 9456726960224049637\n",
              " physical_device_desc: \"device: XLA_CPU device\", name: \"/device:XLA_GPU:0\"\n",
              " device_type: \"XLA_GPU\"\n",
              " memory_limit: 17179869184\n",
              " locality {\n",
              " }\n",
              " incarnation: 3196645796738867377\n",
              " physical_device_desc: \"device: XLA_GPU device\", name: \"/device:GPU:0\"\n",
              " device_type: \"GPU\"\n",
              " memory_limit: 14912199066\n",
              " locality {\n",
              "   bus_id: 1\n",
              "   links {\n",
              "   }\n",
              " }\n",
              " incarnation: 11075573376061901039\n",
              " physical_device_desc: \"device: 0, name: Tesla T4, pci bus id: 0000:00:04.0, compute capability: 7.5\"]"
            ]
          },
          "metadata": {
            "tags": []
          },
          "execution_count": 15
        }
      ]
    },
    {
      "cell_type": "code",
      "metadata": {
        "id": "9AsEBoSE_9_M",
        "colab_type": "code",
        "colab": {
          "base_uri": "https://localhost:8080/",
          "height": 34
        },
        "cellView": "code",
        "outputId": "2643f73b-3d39-4543-e50f-0f16cbc11a3b"
      },
      "source": [
        "#@title パラメータ\n",
        "variable_name = \"\" #@param {type:\"string\"}\n",
        "# DeepXplore のパラメータ設定部\n",
        "# read the parameter\n",
        "# argument parsing\n",
        "parser = argparse.ArgumentParser(description='Main function for difference-inducing input generation in MNIST dataset')\n",
        "parser.add_argument('transformation', help=\"realistic transformation type\", choices=['light', 'occl', 'blackout'])\n",
        "parser.add_argument('weight_diff', help=\"weight hyperparm to control differential behavior\", type=float)\n",
        "parser.add_argument('weight_nc', help=\"weight hyperparm to control neuron coverage\", type=float)\n",
        "parser.add_argument('step', help=\"step size of gradient descent\", type=float)\n",
        "parser.add_argument('seeds', help=\"number of seeds of input\", type=int)\n",
        "parser.add_argument('grad_iterations', help=\"number of iterations of gradient descent\", type=int)\n",
        "parser.add_argument('threshold', help=\"threshold for determining neuron activated\", type=float)\n",
        "parser.add_argument('-t', '--target_model', help=\"target model that we want it predicts differently\",\n",
        "                    choices=[0, 1, 2], default=0, type=int)\n",
        "parser.add_argument('-sp', '--start_point', help=\"occlusion upper left corner coordinate\", default=(start_y, start_x), type=tuple)\n",
        "parser.add_argument('-occl_size', '--occlusion_size', help=\"occlusion size\", default=target_block_size, type=tuple)"
      ],
      "execution_count": 15,
      "outputs": [
        {
          "output_type": "execute_result",
          "data": {
            "text/plain": [
              "_StoreAction(option_strings=['-occl_size', '--occlusion_size'], dest='occlusion_size', nargs=None, const=None, default=(60, 60), type=<class 'tuple'>, choices=None, help='occlusion size', metavar=None)"
            ]
          },
          "metadata": {
            "tags": []
          },
          "execution_count": 15
        }
      ]
    },
    {
      "cell_type": "code",
      "metadata": {
        "id": "XEdJnjFsACig",
        "colab_type": "code",
        "colab": {}
      },
      "source": [
        "#@title ノイズのタイプ light / occl / blackout\n",
        "#@body {light,occl,blackout} weight_diff weight_nc step seeds\n",
        "#                   grad_iterations threshold\n",
        "noise_type = \"occl\" #@param [\"light\", \"occl\", \"blackout\"]\n",
        "weight_diff = \"0.1\" #@param {type:\"string\"}\n",
        "weight_nc = \"0.1\" #@param {type:\"string\"}\n",
        "step = \"1\" #@param {type:\"string\"}\n",
        "seeds = \"10\" #@param {type:\"string\"}\n",
        "grad_iterations = \"100\" #@param {type:\"string\"}\n",
        "threshold = \"0.1\" #@param {type:\"string\"}"
      ],
      "execution_count": 0,
      "outputs": []
    },
    {
      "cell_type": "code",
      "metadata": {
        "id": "7dyGbNlDDbg4",
        "colab_type": "code",
        "colab": {}
      },
      "source": [
        "args = parser.parse_args([noise_type, weight_diff, weight_nc, step, seeds, grad_iterations, threshold])\n"
      ],
      "execution_count": 0,
      "outputs": []
    },
    {
      "cell_type": "code",
      "metadata": {
        "id": "yfHO11V9BlHs",
        "colab_type": "code",
        "colab": {}
      },
      "source": [
        "import random\n",
        "from collections import defaultdict\n",
        "\n",
        "import numpy as np\n",
        "from keras import backend as K\n",
        "from keras.applications.vgg16 import preprocess_input, decode_predictions\n",
        "from keras.models import Model\n",
        "from keras.preprocessing import image\n",
        "import os, re\n",
        "\n",
        "\n",
        "def preprocess_image(img_path):\n",
        "    img = image.load_img(img_path, target_size=(224, 224))\n",
        "    input_img_data = image.img_to_array(img)\n",
        "    input_img_data = np.expand_dims(input_img_data, axis=0)\n",
        "    input_img_data = preprocess_input(input_img_data)  # final input shape = (1,224,224,3)\n",
        "    return input_img_data\n",
        "\n",
        "\n",
        "def deprocess_image(x):\n",
        "    x = x.reshape((224, 224, 3))\n",
        "    # Remove zero-center by mean pixel\n",
        "    x[:, :, 0] += 103.939\n",
        "    x[:, :, 1] += 116.779\n",
        "    x[:, :, 2] += 123.68\n",
        "    # 'BGR'->'RGB'\n",
        "    x = x[:, :, ::-1]\n",
        "    x = np.clip(x, 0, 255).astype('uint8')\n",
        "    return x\n",
        "\n",
        "\n",
        "def decode_label(pred):\n",
        "    return decode_predictions(pred)[0][0][1]\n",
        "\n",
        "\n",
        "def normalize(x):\n",
        "    # utility function to normalize a tensor by its L2 norm\n",
        "    return x / (K.sqrt(K.mean(K.square(x))) + 1e-5)\n",
        "\n",
        "\n",
        "def constraint_occl(gradients, start_point, rect_shape):\n",
        "    new_grads = np.zeros_like(gradients)\n",
        "    new_grads[:, start_point[0]:start_point[0] + rect_shape[0],\n",
        "    start_point[1]:start_point[1] + rect_shape[1]] = gradients[:, start_point[0]:start_point[0] + rect_shape[0],\n",
        "                                                     start_point[1]:start_point[1] + rect_shape[1]]\n",
        "    return new_grads\n",
        "\n",
        "\n",
        "def constraint_light(gradients):\n",
        "    new_grads = np.ones_like(gradients)\n",
        "    grad_mean = 1e4 * np.mean(gradients)\n",
        "    return grad_mean * new_grads\n",
        "\n",
        "\n",
        "def constraint_black(gradients, rect_shape=(10, 10)):\n",
        "    start_point = (\n",
        "        random.randint(0, gradients.shape[1] - rect_shape[0]), random.randint(0, gradients.shape[2] - rect_shape[1]))\n",
        "    new_grads = np.zeros_like(gradients)\n",
        "    patch = gradients[:, start_point[0]:start_point[0] + rect_shape[0], start_point[1]:start_point[1] + rect_shape[1]]\n",
        "    if np.mean(patch) < 0:\n",
        "        new_grads[:, start_point[0]:start_point[0] + rect_shape[0],\n",
        "        start_point[1]:start_point[1] + rect_shape[1]] = -np.ones_like(patch)\n",
        "    return new_grads\n",
        "\n",
        "\n",
        "def init_coverage_tables(model1, model2, model3):\n",
        "    model_layer_dict1 = defaultdict(bool)\n",
        "    model_layer_dict2 = defaultdict(bool)\n",
        "    model_layer_dict3 = defaultdict(bool)\n",
        "    init_dict(model1, model_layer_dict1)\n",
        "    init_dict(model2, model_layer_dict2)\n",
        "    init_dict(model3, model_layer_dict3)\n",
        "    return model_layer_dict1, model_layer_dict2, model_layer_dict3\n",
        "\n",
        "\n",
        "def init_dict(model, model_layer_dict):\n",
        "    for layer in model.layers:\n",
        "        if 'flatten' in layer.name or 'input' in layer.name:\n",
        "            continue\n",
        "        for index in range(layer.output_shape[-1]):\n",
        "            model_layer_dict[(layer.name, index)] = False\n",
        "\n",
        "\n",
        "def neuron_to_cover(model_layer_dict):\n",
        "    not_covered = [(layer_name, index) for (layer_name, index), v in list(model_layer_dict.items()) if not v]\n",
        "    if not_covered:\n",
        "        layer_name, index = random.choice(not_covered)\n",
        "    else:\n",
        "        layer_name, index = random.choice(list(model_layer_dict.keys()))\n",
        "    return layer_name, index\n",
        "\n",
        "\n",
        "def neuron_covered(model_layer_dict):\n",
        "    covered_neurons = len([v for v in list(model_layer_dict.values()) if v])\n",
        "    total_neurons = len(model_layer_dict)\n",
        "    return covered_neurons, total_neurons, covered_neurons / float(total_neurons)\n",
        "\n",
        "\n",
        "def scale(intermediate_layer_output, rmax=1, rmin=0):\n",
        "    X_std = (intermediate_layer_output - intermediate_layer_output.min()) / (\n",
        "        intermediate_layer_output.max() - intermediate_layer_output.min())\n",
        "    X_scaled = X_std * (rmax - rmin) + rmin\n",
        "    return X_scaled\n",
        "\n",
        "\n",
        "def update_coverage(input_data, model, model_layer_dict, threshold=0):\n",
        "    layer_names = [layer.name for layer in model.layers if\n",
        "                   'flatten' not in layer.name and 'input' not in layer.name]\n",
        "\n",
        "    intermediate_layer_model = Model(inputs=model.input,\n",
        "                                     outputs=[model.get_layer(layer_name).output for layer_name in layer_names])\n",
        "    intermediate_layer_outputs = intermediate_layer_model.predict(input_data)\n",
        "\n",
        "    for i, intermediate_layer_output in enumerate(intermediate_layer_outputs):\n",
        "        scaled = scale(intermediate_layer_output[0])\n",
        "        for num_neuron in range(scaled.shape[-1]):\n",
        "            if np.mean(scaled[..., num_neuron]) > threshold and not model_layer_dict[(layer_names[i], num_neuron)]:\n",
        "                model_layer_dict[(layer_names[i], num_neuron)] = True\n",
        "\n",
        "\n",
        "def full_coverage(model_layer_dict):\n",
        "    if False in list(model_layer_dict.values()):\n",
        "        return False\n",
        "    return True\n",
        "\n",
        "\n",
        "def fired(model, layer_name, index, input_data, threshold=0):\n",
        "    intermediate_layer_model = Model(inputs=model.input, outputs=model.get_layer(layer_name).output)\n",
        "    intermediate_layer_output = intermediate_layer_model.predict(input_data)[0]\n",
        "    scaled = scale(intermediate_layer_output)\n",
        "    if np.mean(scaled[..., index]) > threshold:\n",
        "        return True\n",
        "    return False\n",
        "\n",
        "\n",
        "def diverged(predictions1, predictions2, predictions3, target):\n",
        "    if not predictions1 == predictions2 == predictions3:\n",
        "        return True\n",
        "    return False\n",
        "\n",
        "#add\n",
        "def list_pictures(directory, ext='jpg|jpeg|bmp|png|ppm'):\n",
        "    return [os.path.join(root, f)\n",
        "            for root, _, files in os.walk(directory) for f in files\n",
        "            if re.match(r'([\\w]+\\.(?:' + ext + '))', f.lower())]"
      ],
      "execution_count": 0,
      "outputs": []
    },
    {
      "cell_type": "code",
      "metadata": {
        "id": "eV8itX0XBsGV",
        "colab_type": "code",
        "colab": {
          "base_uri": "https://localhost:8080/",
          "height": 143
        },
        "outputId": "a90502a1-dceb-41dc-ec75-c270a160cf87"
      },
      "source": [
        "%%time\n",
        "# input image dimensions\n",
        "img_rows, img_cols = 224, 224\n",
        "input_shape = (img_rows, img_cols, 3)\n",
        "\n",
        "# define input tensor as a placeholder\n",
        "input_tensor = Input(shape=input_shape)\n",
        "\n",
        "# load multiple models sharing same input tensor\n",
        "K.set_learning_phase(0)\n",
        "\n",
        "model1 = vgg16.VGG16(input_tensor=input_tensor)\n",
        "model2 = VGG19(input_tensor=input_tensor)\n",
        "model3 = ResNet50(input_tensor=input_tensor)\n",
        "\n",
        "\n",
        "# init coverage table\n",
        "model_layer_dict1, model_layer_dict2, model_layer_dict3 = init_coverage_tables(model1, model2, model3)"
      ],
      "execution_count": 19,
      "outputs": [
        {
          "output_type": "stream",
          "text": [
            "WARNING:tensorflow:From /usr/local/lib/python3.6/dist-packages/keras/backend/tensorflow_backend.py:4479: The name tf.truncated_normal is deprecated. Please use tf.random.truncated_normal instead.\n",
            "\n",
            "WARNING:tensorflow:From /usr/local/lib/python3.6/dist-packages/keras/backend/tensorflow_backend.py:2041: The name tf.nn.fused_batch_norm is deprecated. Please use tf.compat.v1.nn.fused_batch_norm instead.\n",
            "\n",
            "CPU times: user 9.31 s, sys: 628 ms, total: 9.94 s\n",
            "Wall time: 9.91 s\n"
          ],
          "name": "stdout"
        }
      ]
    },
    {
      "cell_type": "code",
      "metadata": {
        "id": "64zsUl6MCey9",
        "colab_type": "code",
        "colab": {}
      },
      "source": [
        "# start gen inputs\n",
        " img_paths = list_pictures(data_imagenet_single)"
      ],
      "execution_count": 0,
      "outputs": []
    },
    {
      "cell_type": "code",
      "metadata": {
        "id": "2iAIhAAKDKwS",
        "colab_type": "code",
        "colab": {
          "base_uri": "https://localhost:8080/",
          "height": 425
        },
        "outputId": "4046c917-51e4-4da2-88b4-b767bd8fc8b4"
      },
      "source": [
        "%%time\n",
        "for _ in range(args.seeds):\n",
        "    gen_img = preprocess_image(random.choice(img_paths))\n",
        "    orig_img = gen_img.copy()\n",
        "    # first check if input already induces differences\n",
        "    pred1, pred2, pred3 = model1.predict(gen_img), model2.predict(gen_img), model3.predict(gen_img)\n",
        "    label1, label2, label3 = np.argmax(pred1[0]), np.argmax(pred2[0]), np.argmax(pred3[0])\n",
        "    if not label1 == label2 == label3:\n",
        "        print('input already causes different outputs: {}, {}, {}'.format(decode_label(pred1),\n",
        "                                                                                            decode_label(pred2),\n",
        "                                                                                            decode_label(\n",
        "                                                                                                pred3)))\n",
        "\n",
        "        update_coverage(gen_img, model1, model_layer_dict1, args.threshold)\n",
        "        update_coverage(gen_img, model2, model_layer_dict2, args.threshold)\n",
        "        update_coverage(gen_img, model3, model_layer_dict3, args.threshold)\n",
        "\n",
        "        print('covered neurons percentage %d neurons %.3f, %d neurons %.3f, %d neurons %.3f'\n",
        "              % (len(model_layer_dict1), neuron_covered(model_layer_dict1)[2], len(model_layer_dict2),\n",
        "                 neuron_covered(model_layer_dict2)[2], len(model_layer_dict3),\n",
        "                 neuron_covered(model_layer_dict3)[2]))\n",
        "  \n",
        "        averaged_nc = (neuron_covered(model_layer_dict1)[0] + neuron_covered(model_layer_dict2)[0] +\n",
        "                       neuron_covered(model_layer_dict3)[0]) / float(\n",
        "            neuron_covered(model_layer_dict1)[1] + neuron_covered(model_layer_dict2)[1] +\n",
        "            neuron_covered(model_layer_dict3)[1])\n",
        "        print('averaged covered neurons %.3f' % averaged_nc)\n",
        "\n",
        "        gen_img_deprocessed = deprocess_image(gen_img)\n",
        "\n",
        "        # save the result to disk\n",
        "        outputfilepath0 = os.path.join(output_dir, 'already_differ_' + decode_label(pred1) + '_' + decode_label(pred2) + '_' + decode_label(pred3) + '.png')\n",
        "        imageio.imwrite(outputfilepath0, gen_img_deprocessed)\n",
        "        continue\n",
        "\n",
        "    # if all label agrees\n",
        "    orig_label = label1\n",
        "    layer_name1, index1 = neuron_to_cover(model_layer_dict1)\n",
        "    layer_name2, index2 = neuron_to_cover(model_layer_dict2)\n",
        "    layer_name3, index3 = neuron_to_cover(model_layer_dict3)\n",
        "\n",
        "    # construct joint loss function\n",
        "    if args.target_model == 0:\n",
        "        loss1 = -args.weight_diff * K.mean(model1.get_layer('predictions').output[..., orig_label])\n",
        "        loss2 = K.mean(model2.get_layer('predictions').output[..., orig_label])\n",
        "        loss3 = K.mean(model3.get_layer('fc1000').output[..., orig_label])\n",
        "    elif args.target_model == 1:\n",
        "        loss1 = K.mean(model1.get_layer('predictions').output[..., orig_label])\n",
        "        loss2 = -args.weight_diff * K.mean(model2.get_layer('predictions').output[..., orig_label])\n",
        "        loss3 = K.mean(model3.get_layer('fc1000').output[..., orig_label])\n",
        "    elif args.target_model == 2:\n",
        "        loss1 = K.mean(model1.get_layer('predictions').output[..., label1])\n",
        "        loss2 = K.mean(model2.get_layer('predictions').output[..., orig_label])\n",
        "        loss3 = -args.weight_diff * K.mean(model3.get_layer('fc1000').output[..., orig_label])\n",
        "    loss1_neuron = K.mean(model1.get_layer(layer_name1).output[..., index1])\n",
        "    loss2_neuron = K.mean(model2.get_layer(layer_name2).output[..., index2])\n",
        "    loss3_neuron = K.mean(model3.get_layer(layer_name3).output[..., index3])\n",
        "    layer_output = (loss1 + loss2 + loss3) + args.weight_nc * (loss1_neuron + loss2_neuron + loss3_neuron)\n",
        "\n",
        "    # for adversarial image generation\n",
        "    final_loss = K.mean(layer_output)\n",
        "\n",
        "    # we compute the gradient of the input picture wrt this loss\n",
        "    grads = normalize(K.gradients(final_loss, input_tensor)[0])\n",
        "\n",
        "    # this function returns the loss and grads given the input picture\n",
        "    iterate = K.function([input_tensor], [loss1, loss2, loss3, loss1_neuron, loss2_neuron, loss3_neuron, grads])\n",
        "\n",
        "    # we run gradient ascent for 20 steps\n",
        "    for iters in range(args.grad_iterations):\n",
        "        loss_value1, loss_value2, loss_value3, loss_neuron1, loss_neuron2, loss_neuron3, grads_value = iterate(\n",
        "            [gen_img])\n",
        "        if args.transformation == 'light':\n",
        "            grads_value = constraint_light(grads_value)  # constraint the gradients value\n",
        "        elif args.transformation == 'occl':\n",
        "            grads_value = constraint_occl(grads_value, args.start_point,\n",
        "                                          args.occlusion_size)  # constraint the gradients value\n",
        "        elif args.transformation == 'blackout':\n",
        "            grads_value = constraint_black(grads_value)  # constraint the gradients value\n",
        "\n",
        "        gen_img += grads_value * args.step\n",
        "        pred1, pred2, pred3 = model1.predict(gen_img), model2.predict(gen_img), model3.predict(gen_img)\n",
        "        label1, label2, label3 = np.argmax(pred1[0]), np.argmax(pred2[0]), np.argmax(pred3[0])\n",
        "\n",
        "        if not label1 == label2 == label3:\n",
        "            update_coverage(gen_img, model1, model_layer_dict1, args.threshold)\n",
        "            update_coverage(gen_img, model2, model_layer_dict2, args.threshold)\n",
        "            update_coverage(gen_img, model3, model_layer_dict3, args.threshold)\n",
        "            averaged_nc = (neuron_covered(model_layer_dict1)[0] + neuron_covered(model_layer_dict2)[0] +\n",
        "                           neuron_covered(model_layer_dict3)[0]) / float(\n",
        "                neuron_covered(model_layer_dict1)[1] + neuron_covered(model_layer_dict2)[1] +\n",
        "                neuron_covered(model_layer_dict3)[\n",
        "                    1])\n",
        "            print('averaged covered neurons %.3f' % averaged_nc)\n",
        "\n",
        "            gen_img_deprocessed = deprocess_image(gen_img)\n",
        "            orig_img_deprocessed = deprocess_image(orig_img)\n",
        "\n",
        "            # save the result to disk\n",
        "            outputfilepath = os.path.join(output_dir, args.transformation + '_' + decode_label(pred1) + '_' + decode_label(pred2) + '_' + decode_label(pred3) + '.png')\n",
        "            print(outputfilepath)\n",
        "            imageio.imwrite(outputfilepath, gen_img_deprocessed)\n",
        "            outputfilepath2 = os.path.join(output_dir, args.transformation + '_' + decode_label(pred1) + '_' + decode_label(pred2) + '_' + decode_label(pred3) + '_orig.png')\n",
        "            print(outputfilepath2)\n",
        "            imageio.imwrite(outputfilepath2, orig_img_deprocessed)\n",
        "            break"
      ],
      "execution_count": 21,
      "outputs": [
        {
          "output_type": "stream",
          "text": [
            "averaged covered neurons 0.578\n",
            "/content/gdrive/My Drive/ColabNotebooks/test4ai/output/occl_African_chameleon_lacewing_African_chameleon.png\n",
            "/content/gdrive/My Drive/ColabNotebooks/test4ai/output/occl_African_chameleon_lacewing_African_chameleon_orig.png\n",
            "averaged covered neurons 0.588\n",
            "/content/gdrive/My Drive/ColabNotebooks/test4ai/output/occl_green_lizard_African_chameleon_African_chameleon.png\n",
            "/content/gdrive/My Drive/ColabNotebooks/test4ai/output/occl_green_lizard_African_chameleon_African_chameleon_orig.png\n",
            "averaged covered neurons 0.596\n",
            "/content/gdrive/My Drive/ColabNotebooks/test4ai/output/occl_lacewing_African_chameleon_African_chameleon.png\n",
            "/content/gdrive/My Drive/ColabNotebooks/test4ai/output/occl_lacewing_African_chameleon_African_chameleon_orig.png\n",
            "averaged covered neurons 0.602\n",
            "/content/gdrive/My Drive/ColabNotebooks/test4ai/output/occl_African_chameleon_lacewing_African_chameleon.png\n",
            "/content/gdrive/My Drive/ColabNotebooks/test4ai/output/occl_African_chameleon_lacewing_African_chameleon_orig.png\n",
            "averaged covered neurons 0.608\n",
            "/content/gdrive/My Drive/ColabNotebooks/test4ai/output/occl_hummingbird_African_chameleon_African_chameleon.png\n",
            "/content/gdrive/My Drive/ColabNotebooks/test4ai/output/occl_hummingbird_African_chameleon_African_chameleon_orig.png\n",
            "averaged covered neurons 0.612\n",
            "/content/gdrive/My Drive/ColabNotebooks/test4ai/output/occl_nail_African_chameleon_African_chameleon.png\n",
            "/content/gdrive/My Drive/ColabNotebooks/test4ai/output/occl_nail_African_chameleon_African_chameleon_orig.png\n",
            "averaged covered neurons 0.614\n",
            "/content/gdrive/My Drive/ColabNotebooks/test4ai/output/occl_African_chameleon_lycaenid_African_chameleon.png\n",
            "/content/gdrive/My Drive/ColabNotebooks/test4ai/output/occl_African_chameleon_lycaenid_African_chameleon_orig.png\n",
            "CPU times: user 1min 48s, sys: 16.1 s, total: 2min 4s\n",
            "Wall time: 2min 18s\n"
          ],
          "name": "stdout"
        }
      ]
    }
  ]
}