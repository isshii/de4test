{
  "nbformat": 4,
  "nbformat_minor": 0,
  "metadata": {
    "colab": {
      "name": "DeepXplore_04_01_coverage_plot.ipynb",
      "provenance": [],
      "authorship_tag": "ABX9TyOPi3zcM8Fn48tSX2+guBhP",
      "include_colab_link": true
    },
    "kernelspec": {
      "name": "python3",
      "display_name": "Python 3"
    }
  },
  "cells": [
    {
      "cell_type": "markdown",
      "metadata": {
        "id": "view-in-github",
        "colab_type": "text"
      },
      "source": [
        "<a href=\"https://colab.research.google.com/github/isshii/de4test/blob/test_ozawa/DeepXplore/DeepXplore_04_01_result_01_20200209_0046_02.ipynb\" target=\"_parent\"><img src=\"https://colab.research.google.com/assets/colab-badge.svg\" alt=\"Open In Colab\"/></a>"
      ]
    },
    {
      "cell_type": "code",
      "metadata": {
        "id": "i492YdJz8ZCx",
        "colab_type": "code",
        "colab": {}
      },
      "source": [
        "# 共通で使うパスなどの定義\n",
        "# 共通の変数設定\n",
        "# 共通フォルダパス\n",
        "\n",
        "#import datetime\n",
        "#import pytz\n",
        "#dt_now = datetime.datetime.now(pytz.timezone('Asia/Tokyo'))\n",
        "#dt_str = str(dt_now.strftime('%Y%m%d_%H%M'))\n",
        "dt_str = \"20200209_0046\"\n",
        "\n",
        "data_dir = \"/content/gdrive/My Drive/ColabNotebooks/test4ai/data\"\n",
        "#data_imagenet = \"/content/gdrive/My Drive/ColabNotebooks/test4ai/data/ImageNet\"\n",
        "data_mnist = \"/content/gdrive/My Drive/ColabNotebooks/test4ai/data/MNIST\"\n",
        "#data_imagenet_seeds = \"/content/gdrive/My Drive/ColabNotebooks/test4ai/data/ImageNet/seeds\"\n",
        "model_dir = \"/content/gdrive/My Drive/ColabNotebooks/test4ai/model\"\n",
        "#output_dir = \"/content/gdrive/My Drive/ColabNotebooks/test4ai/output\"\n",
        "output_dir = \"/content/gdrive/My Drive/ColabNotebooks/test4ai/output/\" + dt_str\n",
        "tmp_dir = \"/content/gdrive/My Drive/ColabNotebooks/test4ai/tmp\""
      ],
      "execution_count": 0,
      "outputs": []
    },
    {
      "cell_type": "markdown",
      "metadata": {
        "id": "SeevISl9uxKM",
        "colab_type": "text"
      },
      "source": [
        ""
      ]
    },
    {
      "cell_type": "code",
      "metadata": {
        "id": "QNFsRDiS8foK",
        "colab_type": "code",
        "outputId": "9572030d-bb72-432b-c0c0-7839854d9cdf",
        "colab": {
          "base_uri": "https://localhost:8080/",
          "height": 34
        }
      },
      "source": [
        "# Goggle Drive つなぐ\n",
        "from google.colab import drive\n",
        "drive.mount('/content/gdrive')"
      ],
      "execution_count": 2,
      "outputs": [
        {
          "output_type": "stream",
          "text": [
            "Drive already mounted at /content/gdrive; to attempt to forcibly remount, call drive.mount(\"/content/gdrive\", force_remount=True).\n"
          ],
          "name": "stdout"
        }
      ]
    },
    {
      "cell_type": "code",
      "metadata": {
        "id": "30WPTTzJ8hv6",
        "colab_type": "code",
        "outputId": "5d932bb0-b12d-4261-d523-fe83f1019cb6",
        "colab": {
          "base_uri": "https://localhost:8080/",
          "height": 246
        }
      },
      "source": [
        "import sys\n",
        "import argparse\n",
        "import pandas as pd\n",
        "pd.options.display.float_format = '{:.3f}'.format\n",
        "\n",
        "%tensorflow_version 1.x\n",
        "from keras.datasets import mnist\n",
        "from keras.layers import Input\n",
        "import imageio\n",
        "\n",
        "from __future__ import print_function\n",
        "\n",
        "from keras.datasets import mnist\n",
        "from keras.layers import Convolution2D, MaxPooling2D, Input, Dense, Activation, Flatten\n",
        "from keras.models import Model\n",
        "from keras.utils import to_categorical\n",
        "import os\n",
        "\n",
        "# TensorFlowでGPUを使っているかのチェック：\n",
        "# \"device_type: \"GPU\" \" があればOK\n",
        "from tensorflow.python.client import device_lib\n",
        "device_lib.list_local_devices()"
      ],
      "execution_count": 3,
      "outputs": [
        {
          "output_type": "stream",
          "text": [
            "Using TensorFlow backend.\n"
          ],
          "name": "stderr"
        },
        {
          "output_type": "execute_result",
          "data": {
            "text/plain": [
              "[name: \"/device:CPU:0\"\n",
              " device_type: \"CPU\"\n",
              " memory_limit: 268435456\n",
              " locality {\n",
              " }\n",
              " incarnation: 6611125867803467978, name: \"/device:XLA_CPU:0\"\n",
              " device_type: \"XLA_CPU\"\n",
              " memory_limit: 17179869184\n",
              " locality {\n",
              " }\n",
              " incarnation: 6193209994064274913\n",
              " physical_device_desc: \"device: XLA_CPU device\"]"
            ]
          },
          "metadata": {
            "tags": []
          },
          "execution_count": 3
        }
      ]
    },
    {
      "cell_type": "code",
      "metadata": {
        "id": "GuJfmpTw8s_R",
        "colab_type": "code",
        "outputId": "287d4fa2-a6a5-487c-c08e-1375ffc2ccc9",
        "colab": {
          "base_uri": "https://localhost:8080/",
          "height": 439
        }
      },
      "source": [
        "parser = argparse.ArgumentParser(description='Main function for difference-inducing input generation in MNIST dataset')\n",
        "parser.add_argument('transformation', help=\"realistic transformation type\", choices=['light', 'occl', 'blackout'])\n",
        "parser.add_argument('weight_diff', help=\"weight hyperparm to control differential behavior\", type=float)\n",
        "parser.add_argument('weight_nc', help=\"weight hyperparm to control neuron coverage\", type=float)\n",
        "parser.add_argument('step', help=\"step size of gradient descent\", type=float)\n",
        "parser.add_argument('seeds', help=\"number of seeds of input\", type=int)\n",
        "parser.add_argument('grad_iterations', help=\"number of iterations of gradient descent\", type=int)\n",
        "parser.add_argument('threshold', help=\"threshold for determining neuron activated\", type=float)\n",
        "parser.add_argument('-t', '--target_model', help=\"target model that we want it predicts differently\",\n",
        "                    choices=[0, 1, 2], default=0, type=int)\n",
        "parser.add_argument('-sp', '--start_point', help=\"occlusion upper left corner coordinate\", default=(0, 0), type=tuple)\n",
        "parser.add_argument('-occl_size', '--occlusion_size', help=\"occlusion size\", default=(10, 10), type=tuple)\n",
        "noise_type = \"light\" #@param [\"light\", \"occl\", \"blackout\"]\n",
        "weight_diff = \"0.1\" #@param {type:\"string\"}\n",
        "weight_nc = \"0.1\" #@param {type:\"string\"}\n",
        "step = \"10\" #@param {type:\"string\"}　#50だとほぼ白飛び\n",
        "seeds = \"10\" #@param {type:\"string\"}\n",
        "grad_iterations = \"20\" #@param {type:\"string\"}\n",
        "threshold = \"0.1\" #@param {type:\"string\"}\n",
        "\n",
        "args = parser.parse_args([noise_type, weight_diff, weight_nc, step, seeds, grad_iterations, threshold])\n",
        "\n",
        "length = int(args.seeds)\n",
        "\n",
        "df2_scale = pd.DataFrame()\n",
        "df3_scale = pd.DataFrame()\n",
        "df4_scale = pd.DataFrame()\n",
        "for start_fig in range(10):\n",
        "  #df1_scale = pd.read_csv(output_dir[:-14]+ \"/01_fig\" + str(start_fig) + \"_seed\" + str(length) +\"_neuron.csv\")\n",
        "  df1_scale = pd.read_csv(output_dir + \"/03_16_fig\" + str(start_fig) + \"_seed\" + str(length) +\"_neuron.csv\")\n",
        "  df2_scale = pd.concat([df2_scale, df1_scale])\n",
        "\n",
        "  #df1_scale = pd.read_csv(output_dir[:-14]+ \"/01_fig\" + str(start_fig) + \"_seed\" + str(length) +\"_index.csv\")\n",
        "  df1_scale = pd.read_csv(output_dir + \"/03_16_fig\" + str(start_fig) + \"_seed\" + str(length) +\"_index.csv\")\n",
        "  df3_scale = pd.concat([df3_scale, df1_scale])\n",
        "\n",
        "  #df1_scale = pd.read_csv(output_dir[:-14]+ \"/01_fig\" + str(start_fig) + \"_seed\" + str(length) +\"_trace.csv\")\n",
        "  df1_scale = pd.read_csv(output_dir + \"/03_16_fig\" + str(start_fig) + \"_seed\" + str(length) +\"_trace.csv\")\n",
        "  df4_scale = pd.concat([df4_scale, df1_scale])\n",
        "\n",
        "tmp_list = list(df2_scale.iloc[:,0])\n",
        "df2_scale.index = tmp_list\n",
        "print(df2_scale.iloc[:,1:].head())\n",
        "\n",
        "tmp_list = list(df3_scale.iloc[:,0])\n",
        "df3_scale.index = tmp_list\n",
        "print(df3_scale.iloc[:,1:].head())\n",
        "\n",
        "tmp_list = list(df4_scale.iloc[:,0])\n",
        "df4_scale.index = tmp_list\n",
        "print(df4_scale.iloc[:,1:].head())"
      ],
      "execution_count": 4,
      "outputs": [
        {
          "output_type": "stream",
          "text": [
            "     ('block1_conv1', 0)  ...  ('predictions', 9)\n",
            "0_1                0.005  ...               0.000\n",
            "0_2                0.540  ...               0.000\n",
            "0_3                0.357  ...               0.000\n",
            "0_4                0.387  ...               0.000\n",
            "0_5                0.537  ...               0.000\n",
            "\n",
            "[5 rows x 52 columns]\n",
            "     already_diff  found  not_found  ... index2        layer3  index3\n",
            "0_1         0.000  4.000      0.000  ...  2.000           fc2  12.000\n",
            "0_2         0.000  6.000      0.000  ... 79.000           fc1  89.000\n",
            "0_3         0.000  0.000      1.000  ... 72.000  block2_conv1  14.000\n",
            "0_4         0.000  0.000      1.000  ...  8.000           fc2  63.000\n",
            "0_5         0.000  2.000      0.000  ...  4.000           fc1 116.000\n",
            "\n",
            "[5 rows x 9 columns]\n",
            "       ('block1_conv1', 0)  ...  ('predictions', 9)\n",
            "0_1_0                0.084  ...               0.001\n",
            "0_1_1                0.479  ...               0.000\n",
            "0_1_2                0.228  ...               0.000\n",
            "0_1_3                0.005  ...               0.077\n",
            "0_2_0                0.134  ...               0.000\n",
            "\n",
            "[5 rows x 52 columns]\n"
          ],
          "name": "stdout"
        }
      ]
    },
    {
      "cell_type": "code",
      "metadata": {
        "id": "5MM-Sgil87FT",
        "colab_type": "code",
        "outputId": "d737b2a9-de17-4a56-f273-0f49a7b9063a",
        "colab": {
          "base_uri": "https://localhost:8080/",
          "height": 262
        }
      },
      "source": [
        "df4_scale.head(6)"
      ],
      "execution_count": 5,
      "outputs": [
        {
          "output_type": "execute_result",
          "data": {
            "text/html": [
              "<div>\n",
              "<style scoped>\n",
              "    .dataframe tbody tr th:only-of-type {\n",
              "        vertical-align: middle;\n",
              "    }\n",
              "\n",
              "    .dataframe tbody tr th {\n",
              "        vertical-align: top;\n",
              "    }\n",
              "\n",
              "    .dataframe thead th {\n",
              "        text-align: right;\n",
              "    }\n",
              "</style>\n",
              "<table border=\"1\" class=\"dataframe\">\n",
              "  <thead>\n",
              "    <tr style=\"text-align: right;\">\n",
              "      <th></th>\n",
              "      <th>Unnamed: 0</th>\n",
              "      <th>('block1_conv1', 0)</th>\n",
              "      <th>('block1_conv1', 1)</th>\n",
              "      <th>('block1_conv1', 2)</th>\n",
              "      <th>('block1_conv1', 3)</th>\n",
              "      <th>('block1_pool1', 0)</th>\n",
              "      <th>('block1_pool1', 1)</th>\n",
              "      <th>('block1_pool1', 2)</th>\n",
              "      <th>('block1_pool1', 3)</th>\n",
              "      <th>('block2_conv1', 0)</th>\n",
              "      <th>('block2_conv1', 1)</th>\n",
              "      <th>('block2_conv1', 2)</th>\n",
              "      <th>('block2_conv1', 3)</th>\n",
              "      <th>('block2_conv1', 4)</th>\n",
              "      <th>('block2_conv1', 5)</th>\n",
              "      <th>('block2_conv1', 6)</th>\n",
              "      <th>('block2_conv1', 7)</th>\n",
              "      <th>('block2_conv1', 8)</th>\n",
              "      <th>('block2_conv1', 9)</th>\n",
              "      <th>('block2_conv1', 10)</th>\n",
              "      <th>('block2_conv1', 11)</th>\n",
              "      <th>('block2_pool1', 0)</th>\n",
              "      <th>('block2_pool1', 1)</th>\n",
              "      <th>('block2_pool1', 2)</th>\n",
              "      <th>('block2_pool1', 3)</th>\n",
              "      <th>('block2_pool1', 4)</th>\n",
              "      <th>('block2_pool1', 5)</th>\n",
              "      <th>('block2_pool1', 6)</th>\n",
              "      <th>('block2_pool1', 7)</th>\n",
              "      <th>('block2_pool1', 8)</th>\n",
              "      <th>('block2_pool1', 9)</th>\n",
              "      <th>('block2_pool1', 10)</th>\n",
              "      <th>('block2_pool1', 11)</th>\n",
              "      <th>('before_softmax', 0)</th>\n",
              "      <th>('before_softmax', 1)</th>\n",
              "      <th>('before_softmax', 2)</th>\n",
              "      <th>('before_softmax', 3)</th>\n",
              "      <th>('before_softmax', 4)</th>\n",
              "      <th>('before_softmax', 5)</th>\n",
              "      <th>('before_softmax', 6)</th>\n",
              "      <th>('before_softmax', 7)</th>\n",
              "      <th>('before_softmax', 8)</th>\n",
              "      <th>('before_softmax', 9)</th>\n",
              "      <th>('predictions', 0)</th>\n",
              "      <th>('predictions', 1)</th>\n",
              "      <th>('predictions', 2)</th>\n",
              "      <th>('predictions', 3)</th>\n",
              "      <th>('predictions', 4)</th>\n",
              "      <th>('predictions', 5)</th>\n",
              "      <th>('predictions', 6)</th>\n",
              "      <th>('predictions', 7)</th>\n",
              "      <th>('predictions', 8)</th>\n",
              "      <th>('predictions', 9)</th>\n",
              "    </tr>\n",
              "  </thead>\n",
              "  <tbody>\n",
              "    <tr>\n",
              "      <th>0_1_0</th>\n",
              "      <td>0_1_0</td>\n",
              "      <td>0.084</td>\n",
              "      <td>0.073</td>\n",
              "      <td>0.086</td>\n",
              "      <td>0.073</td>\n",
              "      <td>0.126</td>\n",
              "      <td>0.112</td>\n",
              "      <td>0.135</td>\n",
              "      <td>0.112</td>\n",
              "      <td>0.065</td>\n",
              "      <td>0.101</td>\n",
              "      <td>0.080</td>\n",
              "      <td>0.060</td>\n",
              "      <td>0.079</td>\n",
              "      <td>0.098</td>\n",
              "      <td>0.070</td>\n",
              "      <td>0.064</td>\n",
              "      <td>0.064</td>\n",
              "      <td>0.087</td>\n",
              "      <td>0.048</td>\n",
              "      <td>0.064</td>\n",
              "      <td>0.130</td>\n",
              "      <td>0.203</td>\n",
              "      <td>0.161</td>\n",
              "      <td>0.111</td>\n",
              "      <td>0.161</td>\n",
              "      <td>0.182</td>\n",
              "      <td>0.134</td>\n",
              "      <td>0.101</td>\n",
              "      <td>0.132</td>\n",
              "      <td>0.173</td>\n",
              "      <td>0.103</td>\n",
              "      <td>0.130</td>\n",
              "      <td>1.000</td>\n",
              "      <td>0.000</td>\n",
              "      <td>0.450</td>\n",
              "      <td>0.142</td>\n",
              "      <td>0.175</td>\n",
              "      <td>0.508</td>\n",
              "      <td>0.495</td>\n",
              "      <td>0.204</td>\n",
              "      <td>0.044</td>\n",
              "      <td>0.393</td>\n",
              "      <td>1.000</td>\n",
              "      <td>0.000</td>\n",
              "      <td>0.001</td>\n",
              "      <td>0.000</td>\n",
              "      <td>0.000</td>\n",
              "      <td>0.002</td>\n",
              "      <td>0.002</td>\n",
              "      <td>0.000</td>\n",
              "      <td>0.000</td>\n",
              "      <td>0.001</td>\n",
              "    </tr>\n",
              "    <tr>\n",
              "      <th>0_1_1</th>\n",
              "      <td>0_1_1</td>\n",
              "      <td>0.479</td>\n",
              "      <td>0.309</td>\n",
              "      <td>0.075</td>\n",
              "      <td>0.344</td>\n",
              "      <td>0.520</td>\n",
              "      <td>0.345</td>\n",
              "      <td>0.098</td>\n",
              "      <td>0.381</td>\n",
              "      <td>0.228</td>\n",
              "      <td>0.088</td>\n",
              "      <td>0.022</td>\n",
              "      <td>0.264</td>\n",
              "      <td>0.156</td>\n",
              "      <td>0.166</td>\n",
              "      <td>0.072</td>\n",
              "      <td>0.155</td>\n",
              "      <td>0.029</td>\n",
              "      <td>0.056</td>\n",
              "      <td>0.018</td>\n",
              "      <td>0.163</td>\n",
              "      <td>0.338</td>\n",
              "      <td>0.159</td>\n",
              "      <td>0.044</td>\n",
              "      <td>0.348</td>\n",
              "      <td>0.260</td>\n",
              "      <td>0.270</td>\n",
              "      <td>0.121</td>\n",
              "      <td>0.220</td>\n",
              "      <td>0.061</td>\n",
              "      <td>0.110</td>\n",
              "      <td>0.035</td>\n",
              "      <td>0.242</td>\n",
              "      <td>1.000</td>\n",
              "      <td>0.000</td>\n",
              "      <td>0.820</td>\n",
              "      <td>0.718</td>\n",
              "      <td>0.136</td>\n",
              "      <td>0.527</td>\n",
              "      <td>0.433</td>\n",
              "      <td>0.173</td>\n",
              "      <td>0.597</td>\n",
              "      <td>0.188</td>\n",
              "      <td>1.000</td>\n",
              "      <td>0.000</td>\n",
              "      <td>0.019</td>\n",
              "      <td>0.002</td>\n",
              "      <td>0.000</td>\n",
              "      <td>0.000</td>\n",
              "      <td>0.000</td>\n",
              "      <td>0.000</td>\n",
              "      <td>0.000</td>\n",
              "      <td>0.000</td>\n",
              "    </tr>\n",
              "    <tr>\n",
              "      <th>0_1_2</th>\n",
              "      <td>0_1_2</td>\n",
              "      <td>0.228</td>\n",
              "      <td>0.144</td>\n",
              "      <td>0.057</td>\n",
              "      <td>0.161</td>\n",
              "      <td>0.279</td>\n",
              "      <td>0.186</td>\n",
              "      <td>0.085</td>\n",
              "      <td>0.204</td>\n",
              "      <td>0.102</td>\n",
              "      <td>0.097</td>\n",
              "      <td>0.049</td>\n",
              "      <td>0.100</td>\n",
              "      <td>0.098</td>\n",
              "      <td>0.114</td>\n",
              "      <td>0.060</td>\n",
              "      <td>0.093</td>\n",
              "      <td>0.044</td>\n",
              "      <td>0.072</td>\n",
              "      <td>0.032</td>\n",
              "      <td>0.085</td>\n",
              "      <td>0.171</td>\n",
              "      <td>0.184</td>\n",
              "      <td>0.106</td>\n",
              "      <td>0.156</td>\n",
              "      <td>0.179</td>\n",
              "      <td>0.202</td>\n",
              "      <td>0.108</td>\n",
              "      <td>0.146</td>\n",
              "      <td>0.090</td>\n",
              "      <td>0.141</td>\n",
              "      <td>0.063</td>\n",
              "      <td>0.148</td>\n",
              "      <td>1.000</td>\n",
              "      <td>0.000</td>\n",
              "      <td>0.557</td>\n",
              "      <td>0.351</td>\n",
              "      <td>0.115</td>\n",
              "      <td>0.432</td>\n",
              "      <td>0.457</td>\n",
              "      <td>0.196</td>\n",
              "      <td>0.276</td>\n",
              "      <td>0.339</td>\n",
              "      <td>1.000</td>\n",
              "      <td>0.000</td>\n",
              "      <td>0.000</td>\n",
              "      <td>0.000</td>\n",
              "      <td>0.000</td>\n",
              "      <td>0.000</td>\n",
              "      <td>0.000</td>\n",
              "      <td>0.000</td>\n",
              "      <td>0.000</td>\n",
              "      <td>0.000</td>\n",
              "    </tr>\n",
              "    <tr>\n",
              "      <th>0_1_3</th>\n",
              "      <td>0_1_3</td>\n",
              "      <td>0.005</td>\n",
              "      <td>0.008</td>\n",
              "      <td>0.100</td>\n",
              "      <td>0.006</td>\n",
              "      <td>0.012</td>\n",
              "      <td>0.019</td>\n",
              "      <td>0.161</td>\n",
              "      <td>0.013</td>\n",
              "      <td>0.032</td>\n",
              "      <td>0.094</td>\n",
              "      <td>0.104</td>\n",
              "      <td>0.057</td>\n",
              "      <td>0.064</td>\n",
              "      <td>0.084</td>\n",
              "      <td>0.089</td>\n",
              "      <td>0.021</td>\n",
              "      <td>0.091</td>\n",
              "      <td>0.128</td>\n",
              "      <td>0.093</td>\n",
              "      <td>0.038</td>\n",
              "      <td>0.064</td>\n",
              "      <td>0.192</td>\n",
              "      <td>0.193</td>\n",
              "      <td>0.099</td>\n",
              "      <td>0.137</td>\n",
              "      <td>0.154</td>\n",
              "      <td>0.153</td>\n",
              "      <td>0.041</td>\n",
              "      <td>0.167</td>\n",
              "      <td>0.248</td>\n",
              "      <td>0.165</td>\n",
              "      <td>0.077</td>\n",
              "      <td>1.000</td>\n",
              "      <td>0.233</td>\n",
              "      <td>0.635</td>\n",
              "      <td>0.000</td>\n",
              "      <td>0.838</td>\n",
              "      <td>0.756</td>\n",
              "      <td>0.865</td>\n",
              "      <td>0.367</td>\n",
              "      <td>0.405</td>\n",
              "      <td>0.585</td>\n",
              "      <td>1.000</td>\n",
              "      <td>0.007</td>\n",
              "      <td>0.106</td>\n",
              "      <td>0.000</td>\n",
              "      <td>0.372</td>\n",
              "      <td>0.224</td>\n",
              "      <td>0.437</td>\n",
              "      <td>0.019</td>\n",
              "      <td>0.024</td>\n",
              "      <td>0.077</td>\n",
              "    </tr>\n",
              "    <tr>\n",
              "      <th>0_2_0</th>\n",
              "      <td>0_2_0</td>\n",
              "      <td>0.134</td>\n",
              "      <td>0.090</td>\n",
              "      <td>0.060</td>\n",
              "      <td>0.097</td>\n",
              "      <td>0.188</td>\n",
              "      <td>0.136</td>\n",
              "      <td>0.092</td>\n",
              "      <td>0.138</td>\n",
              "      <td>0.084</td>\n",
              "      <td>0.103</td>\n",
              "      <td>0.069</td>\n",
              "      <td>0.073</td>\n",
              "      <td>0.101</td>\n",
              "      <td>0.106</td>\n",
              "      <td>0.062</td>\n",
              "      <td>0.090</td>\n",
              "      <td>0.067</td>\n",
              "      <td>0.080</td>\n",
              "      <td>0.043</td>\n",
              "      <td>0.075</td>\n",
              "      <td>0.137</td>\n",
              "      <td>0.188</td>\n",
              "      <td>0.136</td>\n",
              "      <td>0.127</td>\n",
              "      <td>0.160</td>\n",
              "      <td>0.191</td>\n",
              "      <td>0.123</td>\n",
              "      <td>0.187</td>\n",
              "      <td>0.121</td>\n",
              "      <td>0.152</td>\n",
              "      <td>0.085</td>\n",
              "      <td>0.146</td>\n",
              "      <td>1.000</td>\n",
              "      <td>0.000</td>\n",
              "      <td>0.598</td>\n",
              "      <td>0.376</td>\n",
              "      <td>0.039</td>\n",
              "      <td>0.554</td>\n",
              "      <td>0.473</td>\n",
              "      <td>0.121</td>\n",
              "      <td>0.506</td>\n",
              "      <td>0.262</td>\n",
              "      <td>1.000</td>\n",
              "      <td>0.000</td>\n",
              "      <td>0.000</td>\n",
              "      <td>0.000</td>\n",
              "      <td>0.000</td>\n",
              "      <td>0.000</td>\n",
              "      <td>0.000</td>\n",
              "      <td>0.000</td>\n",
              "      <td>0.000</td>\n",
              "      <td>0.000</td>\n",
              "    </tr>\n",
              "    <tr>\n",
              "      <th>0_2_1</th>\n",
              "      <td>0_2_1</td>\n",
              "      <td>0.508</td>\n",
              "      <td>0.329</td>\n",
              "      <td>0.078</td>\n",
              "      <td>0.365</td>\n",
              "      <td>0.551</td>\n",
              "      <td>0.366</td>\n",
              "      <td>0.102</td>\n",
              "      <td>0.401</td>\n",
              "      <td>0.205</td>\n",
              "      <td>0.071</td>\n",
              "      <td>0.016</td>\n",
              "      <td>0.235</td>\n",
              "      <td>0.145</td>\n",
              "      <td>0.139</td>\n",
              "      <td>0.062</td>\n",
              "      <td>0.143</td>\n",
              "      <td>0.025</td>\n",
              "      <td>0.041</td>\n",
              "      <td>0.015</td>\n",
              "      <td>0.143</td>\n",
              "      <td>0.296</td>\n",
              "      <td>0.117</td>\n",
              "      <td>0.039</td>\n",
              "      <td>0.305</td>\n",
              "      <td>0.224</td>\n",
              "      <td>0.219</td>\n",
              "      <td>0.109</td>\n",
              "      <td>0.229</td>\n",
              "      <td>0.052</td>\n",
              "      <td>0.077</td>\n",
              "      <td>0.029</td>\n",
              "      <td>0.209</td>\n",
              "      <td>1.000</td>\n",
              "      <td>0.024</td>\n",
              "      <td>0.939</td>\n",
              "      <td>0.864</td>\n",
              "      <td>0.009</td>\n",
              "      <td>0.643</td>\n",
              "      <td>0.396</td>\n",
              "      <td>0.000</td>\n",
              "      <td>0.803</td>\n",
              "      <td>0.120</td>\n",
              "      <td>1.000</td>\n",
              "      <td>0.000</td>\n",
              "      <td>0.232</td>\n",
              "      <td>0.038</td>\n",
              "      <td>0.000</td>\n",
              "      <td>0.000</td>\n",
              "      <td>0.000</td>\n",
              "      <td>0.000</td>\n",
              "      <td>0.009</td>\n",
              "      <td>0.000</td>\n",
              "    </tr>\n",
              "  </tbody>\n",
              "</table>\n",
              "</div>"
            ],
            "text/plain": [
              "      Unnamed: 0  ('block1_conv1', 0)  ...  ('predictions', 8)  ('predictions', 9)\n",
              "0_1_0      0_1_0                0.084  ...               0.000               0.001\n",
              "0_1_1      0_1_1                0.479  ...               0.000               0.000\n",
              "0_1_2      0_1_2                0.228  ...               0.000               0.000\n",
              "0_1_3      0_1_3                0.005  ...               0.024               0.077\n",
              "0_2_0      0_2_0                0.134  ...               0.000               0.000\n",
              "0_2_1      0_2_1                0.508  ...               0.009               0.000\n",
              "\n",
              "[6 rows x 53 columns]"
            ]
          },
          "metadata": {
            "tags": []
          },
          "execution_count": 5
        }
      ]
    },
    {
      "cell_type": "markdown",
      "metadata": {
        "id": "CQZoq8HUwPfL",
        "colab_type": "text"
      },
      "source": [
        "### [前]\n",
        "* ある誤判断が起こった画像に対する発火値の抽出\n",
        "* もともとの画像と、バグが起きた時の画像\n",
        "\n",
        "\n"
      ]
    },
    {
      "cell_type": "code",
      "metadata": {
        "id": "d27L0vUkBYcN",
        "colab_type": "code",
        "outputId": "cdbe8edd-393e-4503-f92e-7053e0d5ad9f",
        "colab": {
          "base_uri": "https://localhost:8080/",
          "height": 193
        }
      },
      "source": [
        "print(df4_scale.loc[\"2_7_0\"][:4])\n",
        "print(type(df4_scale.loc[\"2_7_0\"]))\n",
        "print(type(df4_scale.loc[\"2_7_0\":\"2_7_2\"]))\n",
        "print(df4_scale.loc[\"2_7_0\"][1])\n",
        "print(type(df4_scale.loc[\"2_7_0\"][1]))\n",
        "\n",
        "print(df4_scale.loc[\"2_7_0\"].index[1])"
      ],
      "execution_count": 6,
      "outputs": [
        {
          "output_type": "stream",
          "text": [
            "Unnamed: 0             2_7_0\n",
            "('block1_conv1', 0)    0.095\n",
            "('block1_conv1', 1)    0.064\n",
            "('block1_conv1', 2)    0.048\n",
            "Name: 2_7_0, dtype: object\n",
            "<class 'pandas.core.series.Series'>\n",
            "<class 'pandas.core.frame.DataFrame'>\n",
            "0.09514566510915756\n",
            "<class 'numpy.float64'>\n",
            "('block1_conv1', 0)\n"
          ],
          "name": "stdout"
        }
      ]
    },
    {
      "cell_type": "markdown",
      "metadata": {
        "id": "m4aZIbepwiOa",
        "colab_type": "text"
      },
      "source": [
        "### [後]\n",
        "* すべてのご判断が起こった画像の抽出　＋　各々に対する発火値の相関の抽出\n",
        "* もともとの画像と、バグが起きた時の画像のチョイス"
      ]
    },
    {
      "cell_type": "code",
      "metadata": {
        "id": "w6COP5Dvwhm8",
        "colab_type": "code",
        "colab": {
          "base_uri": "https://localhost:8080/",
          "height": 225
        },
        "outputId": "546434f3-aca3-4877-cf9e-d9569dfdd4fd"
      },
      "source": [
        "df3_scale.head(6)"
      ],
      "execution_count": 7,
      "outputs": [
        {
          "output_type": "execute_result",
          "data": {
            "text/html": [
              "<div>\n",
              "<style scoped>\n",
              "    .dataframe tbody tr th:only-of-type {\n",
              "        vertical-align: middle;\n",
              "    }\n",
              "\n",
              "    .dataframe tbody tr th {\n",
              "        vertical-align: top;\n",
              "    }\n",
              "\n",
              "    .dataframe thead th {\n",
              "        text-align: right;\n",
              "    }\n",
              "</style>\n",
              "<table border=\"1\" class=\"dataframe\">\n",
              "  <thead>\n",
              "    <tr style=\"text-align: right;\">\n",
              "      <th></th>\n",
              "      <th>Unnamed: 0</th>\n",
              "      <th>already_diff</th>\n",
              "      <th>found</th>\n",
              "      <th>not_found</th>\n",
              "      <th>layer1</th>\n",
              "      <th>index1</th>\n",
              "      <th>layer2</th>\n",
              "      <th>index2</th>\n",
              "      <th>layer3</th>\n",
              "      <th>index3</th>\n",
              "    </tr>\n",
              "  </thead>\n",
              "  <tbody>\n",
              "    <tr>\n",
              "      <th>0_1</th>\n",
              "      <td>0_1</td>\n",
              "      <td>0.000</td>\n",
              "      <td>4.000</td>\n",
              "      <td>0.000</td>\n",
              "      <td>block2_conv1</td>\n",
              "      <td>10.000</td>\n",
              "      <td>fc1</td>\n",
              "      <td>2.000</td>\n",
              "      <td>fc2</td>\n",
              "      <td>12.000</td>\n",
              "    </tr>\n",
              "    <tr>\n",
              "      <th>0_2</th>\n",
              "      <td>0_2</td>\n",
              "      <td>0.000</td>\n",
              "      <td>6.000</td>\n",
              "      <td>0.000</td>\n",
              "      <td>block2_pool1</td>\n",
              "      <td>3.000</td>\n",
              "      <td>fc1</td>\n",
              "      <td>79.000</td>\n",
              "      <td>fc1</td>\n",
              "      <td>89.000</td>\n",
              "    </tr>\n",
              "    <tr>\n",
              "      <th>0_3</th>\n",
              "      <td>0_3</td>\n",
              "      <td>0.000</td>\n",
              "      <td>0.000</td>\n",
              "      <td>1.000</td>\n",
              "      <td>predictions</td>\n",
              "      <td>1.000</td>\n",
              "      <td>fc1</td>\n",
              "      <td>72.000</td>\n",
              "      <td>block2_conv1</td>\n",
              "      <td>14.000</td>\n",
              "    </tr>\n",
              "    <tr>\n",
              "      <th>0_4</th>\n",
              "      <td>0_4</td>\n",
              "      <td>0.000</td>\n",
              "      <td>0.000</td>\n",
              "      <td>1.000</td>\n",
              "      <td>predictions</td>\n",
              "      <td>8.000</td>\n",
              "      <td>block2_conv1</td>\n",
              "      <td>8.000</td>\n",
              "      <td>fc2</td>\n",
              "      <td>63.000</td>\n",
              "    </tr>\n",
              "    <tr>\n",
              "      <th>0_5</th>\n",
              "      <td>0_5</td>\n",
              "      <td>0.000</td>\n",
              "      <td>2.000</td>\n",
              "      <td>0.000</td>\n",
              "      <td>block1_conv1</td>\n",
              "      <td>2.000</td>\n",
              "      <td>fc1</td>\n",
              "      <td>4.000</td>\n",
              "      <td>fc1</td>\n",
              "      <td>116.000</td>\n",
              "    </tr>\n",
              "    <tr>\n",
              "      <th>0_6</th>\n",
              "      <td>0_6</td>\n",
              "      <td>0.000</td>\n",
              "      <td>0.000</td>\n",
              "      <td>1.000</td>\n",
              "      <td>predictions</td>\n",
              "      <td>8.000</td>\n",
              "      <td>fc1</td>\n",
              "      <td>67.000</td>\n",
              "      <td>fc1</td>\n",
              "      <td>70.000</td>\n",
              "    </tr>\n",
              "  </tbody>\n",
              "</table>\n",
              "</div>"
            ],
            "text/plain": [
              "    Unnamed: 0  already_diff  found  ...  index2        layer3  index3\n",
              "0_1        0_1         0.000  4.000  ...   2.000           fc2  12.000\n",
              "0_2        0_2         0.000  6.000  ...  79.000           fc1  89.000\n",
              "0_3        0_3         0.000  0.000  ...  72.000  block2_conv1  14.000\n",
              "0_4        0_4         0.000  0.000  ...   8.000           fc2  63.000\n",
              "0_5        0_5         0.000  2.000  ...   4.000           fc1 116.000\n",
              "0_6        0_6         0.000  0.000  ...  67.000           fc1  70.000\n",
              "\n",
              "[6 rows x 10 columns]"
            ]
          },
          "metadata": {
            "tags": []
          },
          "execution_count": 7
        }
      ]
    },
    {
      "cell_type": "code",
      "metadata": {
        "id": "8moNKfdUw_1i",
        "colab_type": "code",
        "colab": {
          "base_uri": "https://localhost:8080/",
          "height": 125
        },
        "outputId": "177daa0a-7f92-4b8c-eb30-f6855724ee0d"
      },
      "source": [
        "target_list = []\n",
        "target0_list = []\n",
        "target1_list = []\n",
        "for index in df3_scale.index:\n",
        "  #print( df3_scale.loc[index])\n",
        "  #print( df3_scale.loc[index][\"found\"])\n",
        "  found = df3_scale.loc[index][\"found\"]\n",
        "\n",
        "  if found > 2.5:\n",
        "    #print(index, int(df3_scale.loc[index][\"found\"]))\n",
        "    test_name = index\n",
        "    test_name0 = index + \"_0\"\n",
        "    test_name1 = index + \"_\" + str(int(df3_scale.loc[index][\"found\"])-1)\n",
        "    #test_name1 = index + \"_\" + str(int(df3_scale.loc[index][\"found\"]))\n",
        "    #print(index, test_name1)\n",
        "    target_list.append(test_name)\n",
        "    target0_list.append(test_name0)\n",
        "    target1_list.append(test_name1)\n",
        "\n",
        "print(target_list)\n",
        "print(target0_list)\n",
        "print(target1_list)\n",
        "print(len(target1_list))\n",
        "print(len(target0_list))\n"
      ],
      "execution_count": 37,
      "outputs": [
        {
          "output_type": "stream",
          "text": [
            "['0_1', '0_2', '0_9', '0_10', '1_1', '1_3', '1_4', '1_5', '1_6', '1_7', '2_5', '2_7', '2_9', '3_3', '3_7', '4_2', '4_3', '4_5', '4_10', '5_4', '5_5', '6_2', '6_9', '7_1', '7_2', '7_3', '7_7', '7_9', '8_4', '8_5', '8_9', '9_1', '9_3', '9_8']\n",
            "['0_1_0', '0_2_0', '0_9_0', '0_10_0', '1_1_0', '1_3_0', '1_4_0', '1_5_0', '1_6_0', '1_7_0', '2_5_0', '2_7_0', '2_9_0', '3_3_0', '3_7_0', '4_2_0', '4_3_0', '4_5_0', '4_10_0', '5_4_0', '5_5_0', '6_2_0', '6_9_0', '7_1_0', '7_2_0', '7_3_0', '7_7_0', '7_9_0', '8_4_0', '8_5_0', '8_9_0', '9_1_0', '9_3_0', '9_8_0']\n",
            "['0_1_3', '0_2_5', '0_9_9', '0_10_2', '1_1_2', '1_3_2', '1_4_2', '1_5_2', '1_6_2', '1_7_2', '2_5_2', '2_7_2', '2_9_45', '3_3_38', '3_7_9', '4_2_2', '4_3_2', '4_5_5', '4_10_3', '5_4_3', '5_5_2', '6_2_4', '6_9_4', '7_1_15', '7_2_5', '7_3_2', '7_7_2', '7_9_2', '8_4_4', '8_5_17', '8_9_3', '9_1_2', '9_3_2', '9_8_2']\n",
            "34\n",
            "34\n"
          ],
          "name": "stdout"
        }
      ]
    },
    {
      "cell_type": "code",
      "metadata": {
        "id": "lIZv_2oqv72x",
        "colab_type": "code",
        "colab": {
          "base_uri": "https://localhost:8080/",
          "height": 202
        },
        "outputId": "b1335ffa-e5ce-467e-dc91-69cf9fb08112"
      },
      "source": [
        "test = 0\n",
        "df4_scale.loc[target0_list[test]:target1_list[test]].iloc[:,1:]"
      ],
      "execution_count": 38,
      "outputs": [
        {
          "output_type": "execute_result",
          "data": {
            "text/html": [
              "<div>\n",
              "<style scoped>\n",
              "    .dataframe tbody tr th:only-of-type {\n",
              "        vertical-align: middle;\n",
              "    }\n",
              "\n",
              "    .dataframe tbody tr th {\n",
              "        vertical-align: top;\n",
              "    }\n",
              "\n",
              "    .dataframe thead th {\n",
              "        text-align: right;\n",
              "    }\n",
              "</style>\n",
              "<table border=\"1\" class=\"dataframe\">\n",
              "  <thead>\n",
              "    <tr style=\"text-align: right;\">\n",
              "      <th></th>\n",
              "      <th>('block1_conv1', 0)</th>\n",
              "      <th>('block1_conv1', 1)</th>\n",
              "      <th>('block1_conv1', 2)</th>\n",
              "      <th>('block1_conv1', 3)</th>\n",
              "      <th>('block1_pool1', 0)</th>\n",
              "      <th>('block1_pool1', 1)</th>\n",
              "      <th>('block1_pool1', 2)</th>\n",
              "      <th>('block1_pool1', 3)</th>\n",
              "      <th>('block2_conv1', 0)</th>\n",
              "      <th>('block2_conv1', 1)</th>\n",
              "      <th>('block2_conv1', 2)</th>\n",
              "      <th>('block2_conv1', 3)</th>\n",
              "      <th>('block2_conv1', 4)</th>\n",
              "      <th>('block2_conv1', 5)</th>\n",
              "      <th>('block2_conv1', 6)</th>\n",
              "      <th>('block2_conv1', 7)</th>\n",
              "      <th>('block2_conv1', 8)</th>\n",
              "      <th>('block2_conv1', 9)</th>\n",
              "      <th>('block2_conv1', 10)</th>\n",
              "      <th>('block2_conv1', 11)</th>\n",
              "      <th>('block2_pool1', 0)</th>\n",
              "      <th>('block2_pool1', 1)</th>\n",
              "      <th>('block2_pool1', 2)</th>\n",
              "      <th>('block2_pool1', 3)</th>\n",
              "      <th>('block2_pool1', 4)</th>\n",
              "      <th>('block2_pool1', 5)</th>\n",
              "      <th>('block2_pool1', 6)</th>\n",
              "      <th>('block2_pool1', 7)</th>\n",
              "      <th>('block2_pool1', 8)</th>\n",
              "      <th>('block2_pool1', 9)</th>\n",
              "      <th>('block2_pool1', 10)</th>\n",
              "      <th>('block2_pool1', 11)</th>\n",
              "      <th>('before_softmax', 0)</th>\n",
              "      <th>('before_softmax', 1)</th>\n",
              "      <th>('before_softmax', 2)</th>\n",
              "      <th>('before_softmax', 3)</th>\n",
              "      <th>('before_softmax', 4)</th>\n",
              "      <th>('before_softmax', 5)</th>\n",
              "      <th>('before_softmax', 6)</th>\n",
              "      <th>('before_softmax', 7)</th>\n",
              "      <th>('before_softmax', 8)</th>\n",
              "      <th>('before_softmax', 9)</th>\n",
              "      <th>('predictions', 0)</th>\n",
              "      <th>('predictions', 1)</th>\n",
              "      <th>('predictions', 2)</th>\n",
              "      <th>('predictions', 3)</th>\n",
              "      <th>('predictions', 4)</th>\n",
              "      <th>('predictions', 5)</th>\n",
              "      <th>('predictions', 6)</th>\n",
              "      <th>('predictions', 7)</th>\n",
              "      <th>('predictions', 8)</th>\n",
              "      <th>('predictions', 9)</th>\n",
              "    </tr>\n",
              "  </thead>\n",
              "  <tbody>\n",
              "    <tr>\n",
              "      <th>0_1_0</th>\n",
              "      <td>0.084</td>\n",
              "      <td>0.073</td>\n",
              "      <td>0.086</td>\n",
              "      <td>0.073</td>\n",
              "      <td>0.126</td>\n",
              "      <td>0.112</td>\n",
              "      <td>0.135</td>\n",
              "      <td>0.112</td>\n",
              "      <td>0.065</td>\n",
              "      <td>0.101</td>\n",
              "      <td>0.080</td>\n",
              "      <td>0.060</td>\n",
              "      <td>0.079</td>\n",
              "      <td>0.098</td>\n",
              "      <td>0.070</td>\n",
              "      <td>0.064</td>\n",
              "      <td>0.064</td>\n",
              "      <td>0.087</td>\n",
              "      <td>0.048</td>\n",
              "      <td>0.064</td>\n",
              "      <td>0.130</td>\n",
              "      <td>0.203</td>\n",
              "      <td>0.161</td>\n",
              "      <td>0.111</td>\n",
              "      <td>0.161</td>\n",
              "      <td>0.182</td>\n",
              "      <td>0.134</td>\n",
              "      <td>0.101</td>\n",
              "      <td>0.132</td>\n",
              "      <td>0.173</td>\n",
              "      <td>0.103</td>\n",
              "      <td>0.130</td>\n",
              "      <td>1.000</td>\n",
              "      <td>0.000</td>\n",
              "      <td>0.450</td>\n",
              "      <td>0.142</td>\n",
              "      <td>0.175</td>\n",
              "      <td>0.508</td>\n",
              "      <td>0.495</td>\n",
              "      <td>0.204</td>\n",
              "      <td>0.044</td>\n",
              "      <td>0.393</td>\n",
              "      <td>1.000</td>\n",
              "      <td>0.000</td>\n",
              "      <td>0.001</td>\n",
              "      <td>0.000</td>\n",
              "      <td>0.000</td>\n",
              "      <td>0.002</td>\n",
              "      <td>0.002</td>\n",
              "      <td>0.000</td>\n",
              "      <td>0.000</td>\n",
              "      <td>0.001</td>\n",
              "    </tr>\n",
              "    <tr>\n",
              "      <th>0_1_1</th>\n",
              "      <td>0.479</td>\n",
              "      <td>0.309</td>\n",
              "      <td>0.075</td>\n",
              "      <td>0.344</td>\n",
              "      <td>0.520</td>\n",
              "      <td>0.345</td>\n",
              "      <td>0.098</td>\n",
              "      <td>0.381</td>\n",
              "      <td>0.228</td>\n",
              "      <td>0.088</td>\n",
              "      <td>0.022</td>\n",
              "      <td>0.264</td>\n",
              "      <td>0.156</td>\n",
              "      <td>0.166</td>\n",
              "      <td>0.072</td>\n",
              "      <td>0.155</td>\n",
              "      <td>0.029</td>\n",
              "      <td>0.056</td>\n",
              "      <td>0.018</td>\n",
              "      <td>0.163</td>\n",
              "      <td>0.338</td>\n",
              "      <td>0.159</td>\n",
              "      <td>0.044</td>\n",
              "      <td>0.348</td>\n",
              "      <td>0.260</td>\n",
              "      <td>0.270</td>\n",
              "      <td>0.121</td>\n",
              "      <td>0.220</td>\n",
              "      <td>0.061</td>\n",
              "      <td>0.110</td>\n",
              "      <td>0.035</td>\n",
              "      <td>0.242</td>\n",
              "      <td>1.000</td>\n",
              "      <td>0.000</td>\n",
              "      <td>0.820</td>\n",
              "      <td>0.718</td>\n",
              "      <td>0.136</td>\n",
              "      <td>0.527</td>\n",
              "      <td>0.433</td>\n",
              "      <td>0.173</td>\n",
              "      <td>0.597</td>\n",
              "      <td>0.188</td>\n",
              "      <td>1.000</td>\n",
              "      <td>0.000</td>\n",
              "      <td>0.019</td>\n",
              "      <td>0.002</td>\n",
              "      <td>0.000</td>\n",
              "      <td>0.000</td>\n",
              "      <td>0.000</td>\n",
              "      <td>0.000</td>\n",
              "      <td>0.000</td>\n",
              "      <td>0.000</td>\n",
              "    </tr>\n",
              "    <tr>\n",
              "      <th>0_1_2</th>\n",
              "      <td>0.228</td>\n",
              "      <td>0.144</td>\n",
              "      <td>0.057</td>\n",
              "      <td>0.161</td>\n",
              "      <td>0.279</td>\n",
              "      <td>0.186</td>\n",
              "      <td>0.085</td>\n",
              "      <td>0.204</td>\n",
              "      <td>0.102</td>\n",
              "      <td>0.097</td>\n",
              "      <td>0.049</td>\n",
              "      <td>0.100</td>\n",
              "      <td>0.098</td>\n",
              "      <td>0.114</td>\n",
              "      <td>0.060</td>\n",
              "      <td>0.093</td>\n",
              "      <td>0.044</td>\n",
              "      <td>0.072</td>\n",
              "      <td>0.032</td>\n",
              "      <td>0.085</td>\n",
              "      <td>0.171</td>\n",
              "      <td>0.184</td>\n",
              "      <td>0.106</td>\n",
              "      <td>0.156</td>\n",
              "      <td>0.179</td>\n",
              "      <td>0.202</td>\n",
              "      <td>0.108</td>\n",
              "      <td>0.146</td>\n",
              "      <td>0.090</td>\n",
              "      <td>0.141</td>\n",
              "      <td>0.063</td>\n",
              "      <td>0.148</td>\n",
              "      <td>1.000</td>\n",
              "      <td>0.000</td>\n",
              "      <td>0.557</td>\n",
              "      <td>0.351</td>\n",
              "      <td>0.115</td>\n",
              "      <td>0.432</td>\n",
              "      <td>0.457</td>\n",
              "      <td>0.196</td>\n",
              "      <td>0.276</td>\n",
              "      <td>0.339</td>\n",
              "      <td>1.000</td>\n",
              "      <td>0.000</td>\n",
              "      <td>0.000</td>\n",
              "      <td>0.000</td>\n",
              "      <td>0.000</td>\n",
              "      <td>0.000</td>\n",
              "      <td>0.000</td>\n",
              "      <td>0.000</td>\n",
              "      <td>0.000</td>\n",
              "      <td>0.000</td>\n",
              "    </tr>\n",
              "    <tr>\n",
              "      <th>0_1_3</th>\n",
              "      <td>0.005</td>\n",
              "      <td>0.008</td>\n",
              "      <td>0.100</td>\n",
              "      <td>0.006</td>\n",
              "      <td>0.012</td>\n",
              "      <td>0.019</td>\n",
              "      <td>0.161</td>\n",
              "      <td>0.013</td>\n",
              "      <td>0.032</td>\n",
              "      <td>0.094</td>\n",
              "      <td>0.104</td>\n",
              "      <td>0.057</td>\n",
              "      <td>0.064</td>\n",
              "      <td>0.084</td>\n",
              "      <td>0.089</td>\n",
              "      <td>0.021</td>\n",
              "      <td>0.091</td>\n",
              "      <td>0.128</td>\n",
              "      <td>0.093</td>\n",
              "      <td>0.038</td>\n",
              "      <td>0.064</td>\n",
              "      <td>0.192</td>\n",
              "      <td>0.193</td>\n",
              "      <td>0.099</td>\n",
              "      <td>0.137</td>\n",
              "      <td>0.154</td>\n",
              "      <td>0.153</td>\n",
              "      <td>0.041</td>\n",
              "      <td>0.167</td>\n",
              "      <td>0.248</td>\n",
              "      <td>0.165</td>\n",
              "      <td>0.077</td>\n",
              "      <td>1.000</td>\n",
              "      <td>0.233</td>\n",
              "      <td>0.635</td>\n",
              "      <td>0.000</td>\n",
              "      <td>0.838</td>\n",
              "      <td>0.756</td>\n",
              "      <td>0.865</td>\n",
              "      <td>0.367</td>\n",
              "      <td>0.405</td>\n",
              "      <td>0.585</td>\n",
              "      <td>1.000</td>\n",
              "      <td>0.007</td>\n",
              "      <td>0.106</td>\n",
              "      <td>0.000</td>\n",
              "      <td>0.372</td>\n",
              "      <td>0.224</td>\n",
              "      <td>0.437</td>\n",
              "      <td>0.019</td>\n",
              "      <td>0.024</td>\n",
              "      <td>0.077</td>\n",
              "    </tr>\n",
              "  </tbody>\n",
              "</table>\n",
              "</div>"
            ],
            "text/plain": [
              "       ('block1_conv1', 0)  ...  ('predictions', 9)\n",
              "0_1_0                0.084  ...               0.001\n",
              "0_1_1                0.479  ...               0.000\n",
              "0_1_2                0.228  ...               0.000\n",
              "0_1_3                0.005  ...               0.077\n",
              "\n",
              "[4 rows x 52 columns]"
            ]
          },
          "metadata": {
            "tags": []
          },
          "execution_count": 38
        }
      ]
    },
    {
      "cell_type": "code",
      "metadata": {
        "id": "d4nNo41DyF8H",
        "colab_type": "code",
        "colab": {}
      },
      "source": [
        "#df4_scale.loc[target1]"
      ],
      "execution_count": 0,
      "outputs": []
    },
    {
      "cell_type": "code",
      "metadata": {
        "id": "KMAh6trVxnJM",
        "colab_type": "code",
        "colab": {
          "base_uri": "https://localhost:8080/",
          "height": 545
        },
        "outputId": "de9dfb54-cce5-409e-fab4-2c8e0dab8b09"
      },
      "source": [
        "%%time\n",
        "import glob\n",
        "import re\n",
        "df5_scale = pd.DataFrame(columns=df4_scale.columns[1:])\n",
        "\n",
        "for i in range(len(target1_list)):\n",
        "  target = target0_list[i]\n",
        "  target0 = target0_list[i]\n",
        "  target1 = target1_list[i]\n",
        "\n",
        "  test = [m.span() for m in re.finditer('_', target1_list[i])]\n",
        "  trial = int(target1_list[i][test[0][1]:test[1][0]]) - 1\n",
        " \n",
        "  file_list = glob.glob(output_dir + \"/light_from\" + target1_list[i][0] + \"*\" + str(trial) + \"].png\")\n",
        "  #print(\"error\", file_list[0][file_list[0].find(\"_to\")+3], file_list[0])\n",
        "  error_before= target[0]\n",
        "  error_after = file_list[0][file_list[0].find(\"_to\")+3]\n",
        "\n",
        "  if error_before != error_after:\n",
        "   #print(\"#\", i, file_list, \"error from\", target[0], \"to\", error_after)\n",
        "    df = df4_scale.loc[target0:target1].iloc[:,1:]\n",
        "    df_corr = df.corr()\n",
        "    print(\"#\", i, \"('predictions', \"+error_after+\")\")\n",
        "    #print(df_corr[\"('predictions', \"+error_after+\")\"] > 0.80)+(df_corr[\"('predictions', \"+error_after+\")\"] < -0.80)\n",
        "    #print(type(df_corr[\"('predictions', \"+error_after+\")\"] > 0.8))\n",
        "    temp = (df_corr[\"('predictions', \"+error_after+\")\"] > 0.8)\n",
        "    df5_scale = df5_scale.append(temp)\n",
        "    temp = (df_corr[\"('predictions', \"+error_after+\")\"] < -0.8)\n",
        "    df5_scale = df5_scale.append(temp)\n",
        "  \n",
        "df.head()"
      ],
      "execution_count": 138,
      "outputs": [
        {
          "output_type": "stream",
          "text": [
            "# 1 ('predictions', 2)\n",
            "# 3 ('predictions', 3)\n",
            "# 4 ('predictions', 3)\n",
            "# 5 ('predictions', 3)\n",
            "# 6 ('predictions', 3)\n",
            "# 7 ('predictions', 3)\n",
            "# 8 ('predictions', 3)\n",
            "# 9 ('predictions', 3)\n",
            "# 11 ('predictions', 7)\n",
            "# 12 ('predictions', 7)\n",
            "# 13 ('predictions', 5)\n",
            "# 14 ('predictions', 5)\n",
            "# 15 ('predictions', 8)\n",
            "# 16 ('predictions', 3)\n",
            "# 17 ('predictions', 3)\n",
            "# 18 ('predictions', 3)\n",
            "# 19 ('predictions', 3)\n",
            "# 20 ('predictions', 4)\n",
            "# 21 ('predictions', 3)\n",
            "# 22 ('predictions', 3)\n",
            "# 23 ('predictions', 3)\n",
            "# 24 ('predictions', 3)\n",
            "# 25 ('predictions', 3)\n",
            "# 26 ('predictions', 3)\n",
            "# 27 ('predictions', 3)\n",
            "# 31 ('predictions', 3)\n",
            "# 32 ('predictions', 4)\n",
            "# 33 ('predictions', 1)\n",
            "CPU times: user 186 ms, sys: 8.45 ms, total: 194 ms\n",
            "Wall time: 205 ms\n"
          ],
          "name": "stdout"
        }
      ]
    },
    {
      "cell_type": "code",
      "metadata": {
        "id": "WjU9Gp7_3Nd2",
        "colab_type": "code",
        "colab": {
          "base_uri": "https://localhost:8080/",
          "height": 594
        },
        "outputId": "d86901bc-d043-4b9d-f499-8f798bd81d77"
      },
      "source": [
        "fig, axes = plt.subplots(figsize=(12, 8))\n",
        "df5_scale.sum().plot(kind = \"bar\")"
      ],
      "execution_count": 139,
      "outputs": [
        {
          "output_type": "execute_result",
          "data": {
            "text/plain": [
              "<matplotlib.axes._subplots.AxesSubplot at 0x7f5037f4e780>"
            ]
          },
          "metadata": {
            "tags": []
          },
          "execution_count": 139
        },
        {
          "output_type": "display_data",
          "data": {
            "image/png": "[encoded data removed]",
            "text/plain": [
              "<Figure size 864x576 with 1 Axes>"
            ]
          },
          "metadata": {
            "tags": []
          }
        }
      ]
    },
    {
      "cell_type": "markdown",
      "metadata": {
        "id": "oVue4Zz-1PQ1",
        "colab_type": "text"
      },
      "source": [
        "できた。"
      ]
    },
    {
      "cell_type": "markdown",
      "metadata": {
        "id": "NUVvCNgd1zml",
        "colab_type": "text"
      },
      "source": [
        "[前]もともとの画像と、バグが起きた時の画像"
      ]
    },
    {
      "cell_type": "code",
      "metadata": {
        "id": "1mxuzxBm1OqU",
        "colab_type": "code",
        "colab": {
          "base_uri": "https://localhost:8080/",
          "height": 594
        },
        "outputId": "b8690c74-e817-4d18-a00a-3fb9c39074ac"
      },
      "source": [
        "import matplotlib.pyplot as plt\n",
        "\n",
        "df_corr = df.corr()\n",
        "\n",
        "#fig, axes = plt.subplots(figsize=(12, 16))\n",
        "#df_corr[[\"('predictions', 3)\",\"('before_softmax', 7)\"]].plot(kind=\"bar\")\n",
        "fig, axes = plt.subplots(figsize=(12, 8))\n",
        "df_corr[\"('predictions', 3)\"].plot(kind=\"bar\")"
      ],
      "execution_count": 42,
      "outputs": [
        {
          "output_type": "execute_result",
          "data": {
            "text/plain": [
              "<matplotlib.axes._subplots.AxesSubplot at 0x7f5038815198>"
            ]
          },
          "metadata": {
            "tags": []
          },
          "execution_count": 42
        },
        {
          "output_type": "display_data",
          "data": {
            "image/png": "[encoded data removed]",
            "text/plain": [
              "<Figure size 864x576 with 1 Axes>"
            ]
          },
          "metadata": {
            "tags": []
          }
        }
      ]
    },
    {
      "cell_type": "markdown",
      "metadata": {
        "id": "VZ1KObGb3lC1",
        "colab_type": "text"
      },
      "source": [
        "[後]もともとの画像と、バグが起きた時の画像のチョイス"
      ]
    },
    {
      "cell_type": "code",
      "metadata": {
        "id": "aljHTjUE3jwq",
        "colab_type": "code",
        "colab": {}
      },
      "source": [
        "orig_fig_list = []\n",
        "\n",
        "for i in target0_list:\n",
        "  orig_fig_list.append(i[0])\n",
        "  test = [m.span() for m in re.finditer('_', i)]\n",
        "  orig_fig_list.append(i[test[0][1]:test[1][0]])\n"
      ],
      "execution_count": 0,
      "outputs": []
    },
    {
      "cell_type": "code",
      "metadata": {
        "id": "NskYzb1w09Zz",
        "colab_type": "code",
        "colab": {
          "base_uri": "https://localhost:8080/",
          "height": 34
        },
        "outputId": "9134e2f8-94fc-4fe5-ce61-a5202faf1c00"
      },
      "source": [
        "i = \"9_100_10\"\n",
        "#orig_fig_list\n",
        "print(i, i.find(\"_\"))"
      ],
      "execution_count": 61,
      "outputs": [
        {
          "output_type": "stream",
          "text": [
            "9_100_10 1\n"
          ],
          "name": "stdout"
        }
      ]
    },
    {
      "cell_type": "code",
      "metadata": {
        "id": "eIs7JQzt42T9",
        "colab_type": "code",
        "colab": {
          "base_uri": "https://localhost:8080/",
          "height": 34
        },
        "outputId": "39d6d505-caf9-422c-a0ad-2ec7a5a993de"
      },
      "source": [
        "import re\n",
        "print([m.span() for m in re.finditer('_', i)])"
      ],
      "execution_count": 62,
      "outputs": [
        {
          "output_type": "stream",
          "text": [
            "[(1, 2), (5, 6)]\n"
          ],
          "name": "stdout"
        }
      ]
    },
    {
      "cell_type": "code",
      "metadata": {
        "id": "dbHzZSYLzfI3",
        "colab_type": "code",
        "colab": {
          "base_uri": "https://localhost:8080/",
          "height": 34
        },
        "outputId": "a3f4e85a-b11e-43a4-8228-2dae48bbd8c3"
      },
      "source": [
        "test = [m.span() for m in re.finditer('_', i)]\n",
        "test"
      ],
      "execution_count": 66,
      "outputs": [
        {
          "output_type": "execute_result",
          "data": {
            "text/plain": [
              "[(1, 2), (5, 6)]"
            ]
          },
          "metadata": {
            "tags": []
          },
          "execution_count": 66
        }
      ]
    },
    {
      "cell_type": "code",
      "metadata": {
        "id": "c0c2837Dztla",
        "colab_type": "code",
        "colab": {
          "base_uri": "https://localhost:8080/",
          "height": 34
        },
        "outputId": "19c113d2-a858-4335-8c2a-4ee59a59b80d"
      },
      "source": [
        "print(test[0][1], test[1][0])"
      ],
      "execution_count": 67,
      "outputs": [
        {
          "output_type": "stream",
          "text": [
            "2 5\n"
          ],
          "name": "stdout"
        }
      ]
    },
    {
      "cell_type": "code",
      "metadata": {
        "id": "wOIXi8Ab7K1M",
        "colab_type": "code",
        "colab": {
          "base_uri": "https://localhost:8080/",
          "height": 34
        },
        "outputId": "ccffa428-0990-434d-941e-03d76c80de2c"
      },
      "source": [
        "i[test[0][1]:test[1][0]]"
      ],
      "execution_count": 68,
      "outputs": [
        {
          "output_type": "execute_result",
          "data": {
            "text/plain": [
              "'100'"
            ]
          },
          "metadata": {
            "tags": []
          },
          "execution_count": 68
        }
      ]
    },
    {
      "cell_type": "code",
      "metadata": {
        "id": "u1a6696uDkfK",
        "colab_type": "code",
        "colab": {
          "base_uri": "https://localhost:8080/",
          "height": 52
        },
        "outputId": "0dd104e5-3260-4b1c-a07b-11eb7760ca54"
      },
      "source": [
        "import glob\n",
        "file_list = glob.glob(output_dir + \"/light_from*].png\")\n",
        "test = 2\n",
        "print(file_list[test])\n",
        "print(file_list[test][file_list[test].find(\"_to\")+3], file_list[test])"
      ],
      "execution_count": 78,
      "outputs": [
        {
          "output_type": "stream",
          "text": [
            "/content/gdrive/My Drive/ColabNotebooks/test4ai/output/20200209_0046/light_from0_to3_0_2_[4].png\n",
            "3 /content/gdrive/My Drive/ColabNotebooks/test4ai/output/20200209_0046/light_from0_to3_0_2_[4].png\n"
          ],
          "name": "stdout"
        }
      ]
    },
    {
      "cell_type": "code",
      "metadata": {
        "id": "v_Utf4MuRGj9",
        "colab_type": "code",
        "colab": {
          "base_uri": "https://localhost:8080/",
          "height": 752
        },
        "outputId": "f0731569-59b2-452d-fc8b-bea80b101fde"
      },
      "source": [
        "#target0 = \"2_7_0\"\n",
        "#target1 = \"2_7_2\"\n",
        "target0 = \"7_1_1\"\n",
        "target1 = \"7_1_15\"\n",
        "print(df4_scale.loc[target0:target1, \"('block1_conv1', 0)\":\"('block1_conv1', 3)\"])\n",
        "print(df4_scale.loc[target0:target1:2, \"('block1_conv1', 0)\":\"('block1_conv1', 3)\"])\n",
        "\n",
        "fig, axes = plt.subplots(nrows=3, ncols=2, figsize=(16, 16))\n",
        "#df4_scale.loc[target0:target1, \"('block1_conv1', 0)\":\"('block1_conv1', 3)\"].plot(kind=\"barh\")\n",
        "df4_scale.loc[target0:target1:2, \"('block1_conv1', 0)\":\"('block1_conv1', 3)\" ].plot(ax=axes[0, 0], kind=\"line\")\n",
        "df4_scale.loc[target0:target1:2, \"('block1_pool1', 0)\":\"('block1_pool1', 3)\" ].plot(ax=axes[0, 1], kind=\"line\")\n",
        "df4_scale.loc[target0:target1:2, \"('block2_conv1', 0)\":\"('block2_conv1', 11)\"].plot(ax=axes[1, 0], kind=\"line\")\n",
        "df4_scale.loc[target0:target1:2, \"('block2_pool1', 0)\":\"('block2_pool1', 11)\"].plot(ax=axes[1, 1], kind=\"line\")\n",
        "df4_scale.loc[target0:target1:2, \"('before_softmax', 0)\":\"('before_softmax', 9)\"].plot(ax=axes[2, 0], kind=\"line\")\n",
        "df4_scale.loc[target0:target1:2, \"('predictions', 0)\":\"('predictions', 9)\"].plot(ax=axes[2, 1], kind=\"line\")\n",
        "#df4_scale.loc[target1][1:5].plot(kind=\"bar\")\n"
      ],
      "execution_count": 13,
      "outputs": [
        {
          "output_type": "stream",
          "text": [
            "        ('block1_conv1', 0)  ...  ('block1_conv1', 3)\n",
            "7_1_1                 0.352  ...                0.251\n",
            "7_1_2                 0.003  ...                0.004\n",
            "7_1_3                 0.179  ...                0.125\n",
            "7_1_4                 0.001  ...                0.002\n",
            "7_1_5                 0.271  ...                0.192\n",
            "7_1_6                 0.000  ...                0.000\n",
            "7_1_7                 0.239  ...                0.169\n",
            "7_1_8                 0.000  ...                0.000\n",
            "7_1_9                 0.152  ...                0.105\n",
            "7_1_10                0.010  ...                0.012\n",
            "7_1_11                0.380  ...                0.272\n",
            "7_1_12                0.010  ...                0.012\n",
            "7_1_13                0.387  ...                0.277\n",
            "7_1_14                0.016  ...                0.018\n",
            "7_1_15                0.417  ...                0.299\n",
            "\n",
            "[15 rows x 4 columns]\n",
            "        ('block1_conv1', 0)  ...  ('block1_conv1', 3)\n",
            "7_1_1                 0.352  ...                0.251\n",
            "7_1_3                 0.179  ...                0.125\n",
            "7_1_5                 0.271  ...                0.192\n",
            "7_1_7                 0.239  ...                0.169\n",
            "7_1_9                 0.152  ...                0.105\n",
            "7_1_11                0.380  ...                0.272\n",
            "7_1_13                0.387  ...                0.277\n",
            "7_1_15                0.417  ...                0.299\n",
            "\n",
            "[8 rows x 4 columns]\n"
          ],
          "name": "stdout"
        },
        {
          "output_type": "error",
          "ename": "NameError",
          "evalue": "ignored",
          "traceback": [
            "\u001b[0;31m---------------------------------------------------------------------------\u001b[0m",
            "\u001b[0;31mNameError\u001b[0m                                 Traceback (most recent call last)",
            "\u001b[0;32m<ipython-input-13-f8dc9b5db312>\u001b[0m in \u001b[0;36m<module>\u001b[0;34m()\u001b[0m\n\u001b[1;32m      4\u001b[0m \u001b[0mprint\u001b[0m\u001b[0;34m(\u001b[0m\u001b[0mdf4_scale\u001b[0m\u001b[0;34m.\u001b[0m\u001b[0mloc\u001b[0m\u001b[0;34m[\u001b[0m\u001b[0mtarget0\u001b[0m\u001b[0;34m:\u001b[0m\u001b[0mtarget1\u001b[0m\u001b[0;34m:\u001b[0m\u001b[0;36m2\u001b[0m\u001b[0;34m,\u001b[0m \u001b[0;34m\"('block1_conv1', 0)\"\u001b[0m\u001b[0;34m:\u001b[0m\u001b[0;34m\"('block1_conv1', 3)\"\u001b[0m\u001b[0;34m]\u001b[0m\u001b[0;34m)\u001b[0m\u001b[0;34m\u001b[0m\u001b[0;34m\u001b[0m\u001b[0m\n\u001b[1;32m      5\u001b[0m \u001b[0;34m\u001b[0m\u001b[0m\n\u001b[0;32m----> 6\u001b[0;31m \u001b[0mfig\u001b[0m\u001b[0;34m,\u001b[0m \u001b[0maxes\u001b[0m \u001b[0;34m=\u001b[0m \u001b[0mplt\u001b[0m\u001b[0;34m.\u001b[0m\u001b[0msubplots\u001b[0m\u001b[0;34m(\u001b[0m\u001b[0mnrows\u001b[0m\u001b[0;34m=\u001b[0m\u001b[0;36m3\u001b[0m\u001b[0;34m,\u001b[0m \u001b[0mncols\u001b[0m\u001b[0;34m=\u001b[0m\u001b[0;36m2\u001b[0m\u001b[0;34m,\u001b[0m \u001b[0mfigsize\u001b[0m\u001b[0;34m=\u001b[0m\u001b[0;34m(\u001b[0m\u001b[0;36m16\u001b[0m\u001b[0;34m,\u001b[0m \u001b[0;36m16\u001b[0m\u001b[0;34m)\u001b[0m\u001b[0;34m)\u001b[0m\u001b[0;34m\u001b[0m\u001b[0;34m\u001b[0m\u001b[0m\n\u001b[0m\u001b[1;32m      7\u001b[0m \u001b[0;31m#df4_scale.loc[target0:target1, \"('block1_conv1', 0)\":\"('block1_conv1', 3)\"].plot(kind=\"barh\")\u001b[0m\u001b[0;34m\u001b[0m\u001b[0;34m\u001b[0m\u001b[0;34m\u001b[0m\u001b[0m\n\u001b[1;32m      8\u001b[0m \u001b[0mdf4_scale\u001b[0m\u001b[0;34m.\u001b[0m\u001b[0mloc\u001b[0m\u001b[0;34m[\u001b[0m\u001b[0mtarget0\u001b[0m\u001b[0;34m:\u001b[0m\u001b[0mtarget1\u001b[0m\u001b[0;34m:\u001b[0m\u001b[0;36m2\u001b[0m\u001b[0;34m,\u001b[0m \u001b[0;34m\"('block1_conv1', 0)\"\u001b[0m\u001b[0;34m:\u001b[0m\u001b[0;34m\"('block1_conv1', 3)\"\u001b[0m \u001b[0;34m]\u001b[0m\u001b[0;34m.\u001b[0m\u001b[0mplot\u001b[0m\u001b[0;34m(\u001b[0m\u001b[0max\u001b[0m\u001b[0;34m=\u001b[0m\u001b[0maxes\u001b[0m\u001b[0;34m[\u001b[0m\u001b[0;36m0\u001b[0m\u001b[0;34m,\u001b[0m \u001b[0;36m0\u001b[0m\u001b[0;34m]\u001b[0m\u001b[0;34m,\u001b[0m \u001b[0mkind\u001b[0m\u001b[0;34m=\u001b[0m\u001b[0;34m\"line\"\u001b[0m\u001b[0;34m)\u001b[0m\u001b[0;34m\u001b[0m\u001b[0;34m\u001b[0m\u001b[0m\n",
            "\u001b[0;31mNameError\u001b[0m: name 'plt' is not defined"
          ]
        }
      ]
    },
    {
      "cell_type": "code",
      "metadata": {
        "id": "vBllVEHCXxdb",
        "colab_type": "code",
        "colab": {}
      },
      "source": [
        "fig, axes = plt.subplots(nrows=2, ncols=2, figsize=(12, 16))\n",
        "plt.legend(bbox_to_anchor=(0, -0.1), loc='upper left', borderaxespad=0, fontsize=18)\n",
        "#df4_scale.loc[target0:target1, \"('block1_conv1', 0)\":\"('block1_conv1', 3)\"].plot(kind=\"barh\")\n",
        "df4_scale.loc[target0:target1:2, \"('block1_conv1', 0)\":\"('block1_conv1', 3)\" ].plot(ax=axes[0, 0], kind=\"line\")\n",
        "df4_scale.loc[target0:target1, \"('block1_conv1', 0)\":\"('block1_conv1', 3)\" ].plot(ax=axes[0, 1], kind=\"line\")\n"
      ],
      "execution_count": 0,
      "outputs": []
    },
    {
      "cell_type": "code",
      "metadata": {
        "id": "TCiFL07FPAdm",
        "colab_type": "code",
        "colab": {}
      },
      "source": [
        "df = df4_scale.loc[target0:target1:2].iloc[:,1:]\n",
        "df"
      ],
      "execution_count": 0,
      "outputs": []
    },
    {
      "cell_type": "code",
      "metadata": {
        "id": "D5ySv0BVkgPK",
        "colab_type": "code",
        "outputId": "029e14e7-2339-46fe-9db5-ebced0167fc8",
        "colab": {
          "base_uri": "https://localhost:8080/",
          "height": 1000
        }
      },
      "source": [
        "df_corr = df.corr()\n",
        "\n",
        "#fig, axes = plt.subplots(figsize=(12, 16))\n",
        "#df_corr[[\"('predictions', 3)\",\"('before_softmax', 7)\"]].plot(kind=\"bar\")\n",
        "fig, axes = plt.subplots(figsize=(12, 16))\n",
        "df_corr[\"('predictions', 3)\"].plot(kind=\"bar\")"
      ],
      "execution_count": 112,
      "outputs": [
        {
          "output_type": "execute_result",
          "data": {
            "text/plain": [
              "<matplotlib.axes._subplots.AxesSubplot at 0x7f503863ca20>"
            ]
          },
          "metadata": {
            "tags": []
          },
          "execution_count": 112
        },
        {
          "output_type": "display_data",
          "data": {
            "image/png": "[encoded data removed]",
            "text/plain": [
              "<Figure size 864x1152 with 1 Axes>"
            ]
          },
          "metadata": {
            "tags": []
          }
        }
      ]
    },
    {
      "cell_type": "code",
      "metadata": {
        "id": "-257Rn6FkP0i",
        "colab_type": "code",
        "colab": {
          "base_uri": "https://localhost:8080/",
          "height": 1000
        },
        "outputId": "8f6acc8a-2371-41b1-e84e-aca9a12776de"
      },
      "source": [
        "(df_corr[\"('predictions', 3)\"] > 0.80)+(df_corr[\"('predictions', 3)\"] < -0.80)"
      ],
      "execution_count": 113,
      "outputs": [
        {
          "output_type": "stream",
          "text": [
            "/usr/local/lib/python3.6/dist-packages/pandas/core/computation/expressions.py:194: UserWarning: evaluating in Python space because the '+' operator is not supported by numexpr for the bool dtype, use '|' instead\n",
            "  op=op_str, alt_op=unsupported[op_str]\n"
          ],
          "name": "stderr"
        },
        {
          "output_type": "execute_result",
          "data": {
            "text/plain": [
              "('block1_conv1', 0)       True\n",
              "('block1_conv1', 1)       True\n",
              "('block1_conv1', 2)       True\n",
              "('block1_conv1', 3)       True\n",
              "('block1_pool1', 0)       True\n",
              "('block1_pool1', 1)       True\n",
              "('block1_pool1', 2)       True\n",
              "('block1_pool1', 3)       True\n",
              "('block2_conv1', 0)       True\n",
              "('block2_conv1', 1)       True\n",
              "('block2_conv1', 2)       True\n",
              "('block2_conv1', 3)       True\n",
              "('block2_conv1', 4)       True\n",
              "('block2_conv1', 5)       True\n",
              "('block2_conv1', 6)      False\n",
              "('block2_conv1', 7)       True\n",
              "('block2_conv1', 8)       True\n",
              "('block2_conv1', 9)      False\n",
              "('block2_conv1', 10)     False\n",
              "('block2_conv1', 11)      True\n",
              "('block2_pool1', 0)       True\n",
              "('block2_pool1', 1)      False\n",
              "('block2_pool1', 2)       True\n",
              "('block2_pool1', 3)       True\n",
              "('block2_pool1', 4)       True\n",
              "('block2_pool1', 5)       True\n",
              "('block2_pool1', 6)      False\n",
              "('block2_pool1', 7)       True\n",
              "('block2_pool1', 8)       True\n",
              "('block2_pool1', 9)      False\n",
              "('block2_pool1', 10)     False\n",
              "('block2_pool1', 11)      True\n",
              "('before_softmax', 0)     True\n",
              "('before_softmax', 1)     True\n",
              "('before_softmax', 2)     True\n",
              "('before_softmax', 3)     True\n",
              "('before_softmax', 4)     True\n",
              "('before_softmax', 5)     True\n",
              "('before_softmax', 6)    False\n",
              "('before_softmax', 7)    False\n",
              "('before_softmax', 8)     True\n",
              "('before_softmax', 9)    False\n",
              "('predictions', 0)       False\n",
              "('predictions', 1)       False\n",
              "('predictions', 2)       False\n",
              "('predictions', 3)        True\n",
              "('predictions', 4)       False\n",
              "('predictions', 5)       False\n",
              "('predictions', 6)       False\n",
              "('predictions', 7)        True\n",
              "('predictions', 8)        True\n",
              "('predictions', 9)       False\n",
              "Name: ('predictions', 3), dtype: bool"
            ]
          },
          "metadata": {
            "tags": []
          },
          "execution_count": 113
        }
      ]
    },
    {
      "cell_type": "code",
      "metadata": {
        "id": "h22QYQriUrnY",
        "colab_type": "code",
        "colab": {}
      },
      "source": [
        ""
      ],
      "execution_count": 0,
      "outputs": []
    }
  ]
}