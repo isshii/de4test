{
  "nbformat": 4,
  "nbformat_minor": 0,
  "metadata": {
    "kernelspec": {
      "name": "python3",
      "display_name": "Python 3"
    },
    "language_info": {
      "codemirror_mode": {
        "name": "ipython",
        "version": 3
      },
      "file_extension": ".py",
      "mimetype": "text/x-python",
      "name": "python",
      "nbconvert_exporter": "python",
      "pygments_lexer": "ipython3",
      "version": "3.6.4"
    },
    "colab": {
      "name": "DeepXplore_base.ipynb",
      "provenance": [],
      "collapsed_sections": [],
      "include_colab_link": true
    },
    "accelerator": "GPU"
  },
  "cells": [
    {
      "cell_type": "markdown",
      "metadata": {
        "id": "view-in-github",
        "colab_type": "text"
      },
      "source": [
        "<a href=\"https://colab.research.google.com/github/isshii/de4test/blob/test_ozawa/DeepXplore/DeepXplore_03_03_MNIST_per_figure_draft.ipynb\" target=\"_parent\"><img src=\"https://colab.research.google.com/assets/colab-badge.svg\" alt=\"Open In Colab\"/></a>"
      ]
    },
    {
      "cell_type": "markdown",
      "metadata": {
        "id": "UHbF5GaCQlkP",
        "colab_type": "text"
      },
      "source": [
        ""
      ]
    },
    {
      "cell_type": "code",
      "metadata": {
        "id": "sGVFjZpUIRF4",
        "colab_type": "code",
        "colab": {}
      },
      "source": [
        "# 共通で使うパスなどの定義\n",
        "# 共通の変数設定\n",
        "# 共通フォルダパス\n",
        "data_dir = \"/content/gdrive/My Drive/ColabNotebooks/test4ai/data\"\n",
        "#data_imagenet = \"/content/gdrive/My Drive/ColabNotebooks/test4ai/data/ImageNet\"\n",
        "data_mnist = \"/content/gdrive/My Drive/ColabNotebooks/test4ai/data/MNIST\"\n",
        "#data_imagenet_seeds = \"/content/gdrive/My Drive/ColabNotebooks/test4ai/data/ImageNet/seeds\"\n",
        "model_dir = \"/content/gdrive/My Drive/ColabNotebooks/test4ai/model\"\n",
        "output_dir = \"/content/gdrive/My Drive/ColabNotebooks/test4ai/output\"\n",
        "tmp_dir = \"/content/gdrive/My Drive/ColabNotebooks/test4ai/tmp\"\n"
      ],
      "execution_count": 0,
      "outputs": []
    },
    {
      "cell_type": "code",
      "metadata": {
        "id": "V4lP4POGn5Xj",
        "colab_type": "code",
        "outputId": "8ad3067d-1f21-4b53-c891-fbcb6966a0af",
        "colab": {
          "base_uri": "https://localhost:8080/",
          "height": 54
        }
      },
      "source": [
        "# Goggle Drive つなぐ\n",
        "from google.colab import drive\n",
        "drive.mount('/content/gdrive')"
      ],
      "execution_count": 2,
      "outputs": [
        {
          "output_type": "stream",
          "text": [
            "Drive already mounted at /content/gdrive; to attempt to forcibly remount, call drive.mount(\"/content/gdrive\", force_remount=True).\n"
          ],
          "name": "stdout"
        }
      ]
    },
    {
      "cell_type": "code",
      "metadata": {
        "id": "z3d3Suv3Q5Db",
        "colab_type": "code",
        "colab": {}
      },
      "source": [
        "# outputフォルダ内容物のクリーンアップ削除\n",
        "!rm \"$output_dir\"/*"
      ],
      "execution_count": 0,
      "outputs": []
    },
    {
      "cell_type": "code",
      "metadata": {
        "id": "vhdHYnLT0Nbt",
        "colab_type": "code",
        "colab": {}
      },
      "source": [
        "import sys\n",
        "sys.path.append('/content/gdrive/My Drive/ColabNotebooks/test4ai/model/MNIST')\n",
        "\n",
        "class bcolors:\n",
        "    HEADER = '\\033[95m'\n",
        "    OKBLUE = '\\033[94m'\n",
        "    OKGREEN = '\\033[92m'\n",
        "    WARNING = '\\033[93m'\n",
        "    FAIL = '\\033[91m'\n",
        "    ENDC = '\\033[0m'\n",
        "    BOLD = '\\033[1m'\n",
        "    UNDERLINE = '\\033[4m'"
      ],
      "execution_count": 0,
      "outputs": []
    },
    {
      "cell_type": "code",
      "metadata": {
        "id": "aDY8sDVBqxmK",
        "colab_type": "code",
        "colab": {
          "base_uri": "https://localhost:8080/",
          "height": 34
        },
        "outputId": "2a9a3249-bbb8-4639-f820-75efea5e3e9f"
      },
      "source": [
        "import argparse\n",
        "\n",
        "%tensorflow_version 1.x\n",
        "from keras.datasets import mnist\n",
        "from keras.layers import Input\n",
        "import imageio\n",
        "\n",
        "from __future__ import print_function\n",
        "\n",
        "from keras.datasets import mnist\n",
        "from keras.layers import Convolution2D, MaxPooling2D, Input, Dense, Activation, Flatten\n",
        "from keras.models import Model\n",
        "from keras.utils import to_categorical\n",
        "import os"
      ],
      "execution_count": 5,
      "outputs": [
        {
          "output_type": "stream",
          "text": [
            "Using TensorFlow backend.\n"
          ],
          "name": "stderr"
        }
      ]
    },
    {
      "cell_type": "code",
      "metadata": {
        "id": "aiGGwQVElJNH",
        "colab_type": "code",
        "colab": {
          "base_uri": "https://localhost:8080/",
          "height": 488
        },
        "outputId": "45dabb3e-2920-49d3-efd1-650b76ec1da9"
      },
      "source": [
        "from tensorflow.python.client import device_lib\n",
        "device_lib.list_local_devices()"
      ],
      "execution_count": 6,
      "outputs": [
        {
          "output_type": "execute_result",
          "data": {
            "text/plain": [
              "[name: \"/device:CPU:0\"\n",
              " device_type: \"CPU\"\n",
              " memory_limit: 268435456\n",
              " locality {\n",
              " }\n",
              " incarnation: 9363819296037387895, name: \"/device:XLA_CPU:0\"\n",
              " device_type: \"XLA_CPU\"\n",
              " memory_limit: 17179869184\n",
              " locality {\n",
              " }\n",
              " incarnation: 15635049406761603987\n",
              " physical_device_desc: \"device: XLA_CPU device\", name: \"/device:XLA_GPU:0\"\n",
              " device_type: \"XLA_GPU\"\n",
              " memory_limit: 17179869184\n",
              " locality {\n",
              " }\n",
              " incarnation: 2716633303471246417\n",
              " physical_device_desc: \"device: XLA_GPU device\", name: \"/device:GPU:0\"\n",
              " device_type: \"GPU\"\n",
              " memory_limit: 15956161332\n",
              " locality {\n",
              "   bus_id: 1\n",
              "   links {\n",
              "   }\n",
              " }\n",
              " incarnation: 13049004744745239112\n",
              " physical_device_desc: \"device: 0, name: Tesla P100-PCIE-16GB, pci bus id: 0000:00:04.0, compute capability: 6.0\"]"
            ]
          },
          "metadata": {
            "tags": []
          },
          "execution_count": 6
        }
      ]
    },
    {
      "cell_type": "code",
      "metadata": {
        "id": "mWQ2M_8glJNM",
        "colab_type": "code",
        "cellView": "code",
        "colab": {
          "base_uri": "https://localhost:8080/",
          "height": 54
        },
        "outputId": "0e12112c-baea-47e0-9f58-f05896b4d29a"
      },
      "source": [
        "#@title デフォルトのタイトル テキスト\n",
        "# DeepXplore のパラメータ設定部\n",
        "# read the parameter\n",
        "# argument parsing\n",
        "parser = argparse.ArgumentParser(description='Main function for difference-inducing input generation in MNIST dataset')\n",
        "parser.add_argument('transformation', help=\"realistic transformation type\", choices=['light', 'occl', 'blackout'])\n",
        "parser.add_argument('weight_diff', help=\"weight hyperparm to control differential behavior\", type=float)\n",
        "parser.add_argument('weight_nc', help=\"weight hyperparm to control neuron coverage\", type=float)\n",
        "parser.add_argument('step', help=\"step size of gradient descent\", type=float)\n",
        "parser.add_argument('seeds', help=\"number of seeds of input\", type=int)\n",
        "parser.add_argument('grad_iterations', help=\"number of iterations of gradient descent\", type=int)\n",
        "parser.add_argument('threshold', help=\"threshold for determining neuron activated\", type=float)\n",
        "parser.add_argument('-t', '--target_model', help=\"target model that we want it predicts differently\",\n",
        "                    choices=[0, 1, 2], default=0, type=int)\n",
        "parser.add_argument('-sp', '--start_point', help=\"occlusion upper left corner coordinate\", default=(0, 0), type=tuple)\n",
        "parser.add_argument('-occl_size', '--occlusion_size', help=\"occlusion size\", default=(10, 10), type=tuple)"
      ],
      "execution_count": 7,
      "outputs": [
        {
          "output_type": "execute_result",
          "data": {
            "text/plain": [
              "_StoreAction(option_strings=['-occl_size', '--occlusion_size'], dest='occlusion_size', nargs=None, const=None, default=(10, 10), type=<class 'tuple'>, choices=None, help='occlusion size', metavar=None)"
            ]
          },
          "metadata": {
            "tags": []
          },
          "execution_count": 7
        }
      ]
    },
    {
      "cell_type": "markdown",
      "metadata": {
        "id": "1Csx_IXrMdMj",
        "colab_type": "text"
      },
      "source": [
        ""
      ]
    },
    {
      "cell_type": "code",
      "metadata": {
        "id": "93KW-VGjMzun",
        "colab_type": "code",
        "cellView": "both",
        "colab": {}
      },
      "source": [
        "#@title ノイズのタイプ light / occl / blackout\n",
        "#@body {light,occl,blackout} weight_diff weight_nc step seeds\n",
        "#                   grad_iterations threshold\n",
        "noise_type = \"light\" #@param [\"light\", \"occl\", \"blackout\"]\n",
        "weight_diff = \"0.1\" #@param {type:\"string\"}\n",
        "weight_nc = \"0.1\" #@param {type:\"string\"}\n",
        "step = \"20\" #@param {type:\"string\"}　#50だとほぼ白飛び\n",
        "seeds = \"80\" #@param {type:\"string\"}\n",
        "grad_iterations = \"10\" #@param {type:\"string\"}\n",
        "threshold = \"0.1\" #@param {type:\"string\"}"
      ],
      "execution_count": 0,
      "outputs": []
    },
    {
      "cell_type": "code",
      "metadata": {
        "id": "Szk80fCuPts9",
        "colab_type": "code",
        "colab": {}
      },
      "source": [
        "args = parser.parse_args([noise_type, weight_diff, weight_nc, step, seeds, grad_iterations, threshold])"
      ],
      "execution_count": 0,
      "outputs": []
    },
    {
      "cell_type": "code",
      "metadata": {
        "id": "1tTYrllplJNQ",
        "colab_type": "code",
        "colab": {}
      },
      "source": [
        "import random\n",
        "from collections import defaultdict\n",
        "\n",
        "import numpy as np\n",
        "from keras import backend as K\n",
        "from keras.models import Model\n",
        "\n",
        "\n",
        "# util function to convert a tensor into a valid image\n",
        "def deprocess_image(x):\n",
        "    x *= 255\n",
        "    x = np.clip(x, 0, 255).astype('uint8')\n",
        "    return x.reshape(x.shape[1], x.shape[2])  # original shape (1,img_rows, img_cols,1)\n",
        "\n",
        "\n",
        "def normalize(x):\n",
        "    # utility function to normalize a tensor by its L2 norm\n",
        "    return x / (K.sqrt(K.mean(K.square(x))) + 1e-5)\n",
        "\n",
        "\n",
        "def constraint_occl(gradients, start_point, rect_shape):\n",
        "    new_grads = np.zeros_like(gradients)\n",
        "    new_grads[:, start_point[0]:start_point[0] + rect_shape[0],\n",
        "    start_point[1]:start_point[1] + rect_shape[1]] = gradients[:, start_point[0]:start_point[0] + rect_shape[0],\n",
        "                                                     start_point[1]:start_point[1] + rect_shape[1]]\n",
        "    return new_grads\n",
        "\n",
        "\n",
        "def constraint_light(gradients):\n",
        "    new_grads = np.ones_like(gradients)\n",
        "    grad_mean = np.mean(gradients)\n",
        "    return grad_mean * new_grads\n",
        "\n",
        "\n",
        "def constraint_black(gradients, rect_shape=(6, 6)):\n",
        "    start_point = (\n",
        "        random.randint(0, gradients.shape[1] - rect_shape[0]), random.randint(0, gradients.shape[2] - rect_shape[1]))\n",
        "    new_grads = np.zeros_like(gradients)\n",
        "    patch = gradients[:, start_point[0]:start_point[0] + rect_shape[0], start_point[1]:start_point[1] + rect_shape[1]]\n",
        "    if np.mean(patch) < 0:\n",
        "        new_grads[:, start_point[0]:start_point[0] + rect_shape[0],\n",
        "        start_point[1]:start_point[1] + rect_shape[1]] = -np.ones_like(patch)\n",
        "    return new_grads\n",
        "\n",
        "\n",
        "def init_coverage_tables(model1, model2, model3):\n",
        "    model_layer_dict1 = defaultdict(bool)\n",
        "    model_layer_dict2 = defaultdict(bool)\n",
        "    model_layer_dict3 = defaultdict(bool)\n",
        "    init_dict(model1, model_layer_dict1)\n",
        "    init_dict(model2, model_layer_dict2)\n",
        "    init_dict(model3, model_layer_dict3)\n",
        "    return model_layer_dict1, model_layer_dict2, model_layer_dict3\n",
        "\n",
        "\n",
        "def init_dict(model, model_layer_dict):\n",
        "    for layer in model.layers:\n",
        "        if 'flatten' in layer.name or 'input' in layer.name:\n",
        "            continue\n",
        "        for index in range(layer.output_shape[-1]):\n",
        "            model_layer_dict[(layer.name, index)] = False\n",
        "\n",
        "\n",
        "def neuron_to_cover(model_layer_dict):\n",
        "    not_covered = [(layer_name, index) for (layer_name, index), v in model_layer_dict.items() if not v]\n",
        "    if not_covered:\n",
        "        layer_name, index = random.choice(not_covered)\n",
        "    else:\n",
        "        layer_name, index = random.choice(model_layer_dict.keys())\n",
        "    return layer_name, index\n",
        "\n",
        "\n",
        "def neuron_covered(model_layer_dict):\n",
        "    covered_neurons = len([v for v in model_layer_dict.values() if v])\n",
        "    total_neurons = len(model_layer_dict)\n",
        "    return covered_neurons, total_neurons, covered_neurons / float(total_neurons)\n",
        "\n",
        "\n",
        "def update_coverage(input_data, model, model_layer_dict, threshold=0):\n",
        "    layer_names = [layer.name for layer in model.layers if\n",
        "                   'flatten' not in layer.name and 'input' not in layer.name]\n",
        "\n",
        "    intermediate_layer_model = Model(inputs=model.input,\n",
        "                                     outputs=[model.get_layer(layer_name).output for layer_name in layer_names])\n",
        "    intermediate_layer_outputs = intermediate_layer_model.predict(input_data)\n",
        "\n",
        "    for i, intermediate_layer_output in enumerate(intermediate_layer_outputs):\n",
        "        scaled = scale(intermediate_layer_output[0])\n",
        "        for num_neuron in range(scaled.shape[-1]):\n",
        "            if np.mean(scaled[..., num_neuron]) > threshold and not model_layer_dict[(layer_names[i], num_neuron)]:\n",
        "                model_layer_dict[(layer_names[i], num_neuron)] = True\n",
        "\n",
        "\n",
        "def full_coverage(model_layer_dict):\n",
        "    if False in model_layer_dict.values():\n",
        "        return False\n",
        "    return True\n",
        "\n",
        "\n",
        "def scale(intermediate_layer_output, rmax=1, rmin=0):\n",
        "    X_std = (intermediate_layer_output - intermediate_layer_output.min()) / (\n",
        "        intermediate_layer_output.max() - intermediate_layer_output.min())\n",
        "    X_scaled = X_std * (rmax - rmin) + rmin\n",
        "    return X_scaled\n",
        "\n",
        "\n",
        "def fired(model, layer_name, index, input_data, threshold=0):\n",
        "    intermediate_layer_model = Model(inputs=model.input, outputs=model.get_layer(layer_name).output)\n",
        "    intermediate_layer_output = intermediate_layer_model.predict(input_data)[0]\n",
        "    scaled = scale(intermediate_layer_output)\n",
        "    if np.mean(scaled[..., index]) > threshold:\n",
        "        return True\n",
        "    return False\n",
        "\n",
        "\n",
        "def diverged(predictions1, predictions2, predictions3, target):\n",
        "    #     if predictions2 == predictions3 == target and predictions1 != target:\n",
        "    if not predictions1 == predictions2 == predictions3:\n",
        "        return True\n",
        "    return False\n",
        "\n",
        "\n",
        "#add\n",
        "def list_pictures(directory, ext='jpg|jpeg|bmp|png|ppm'):\n",
        "    return [os.path.join(root, f)\n",
        "            for root, _, files in os.walk(directory) for f in files\n",
        "            if re.match(r'([\\w]+\\.(?:' + ext + '))', f.lower())]"
      ],
      "execution_count": 0,
      "outputs": []
    },
    {
      "cell_type": "code",
      "metadata": {
        "id": "xoRphb5Fl0JT",
        "colab_type": "code",
        "colab": {
          "base_uri": "https://localhost:8080/",
          "height": 106
        },
        "outputId": "4b65db24-478b-47ce-a45b-1519b6034e4c"
      },
      "source": [
        "# input image dimensions\n",
        "img_rows, img_cols = 28, 28\n",
        "# the data, shuffled and split between train and test sets\n",
        "(_, _), (x_test, _) = mnist.load_data()\n",
        "\n",
        "x_test = x_test.reshape(x_test.shape[0], img_rows, img_cols, 1)\n",
        "input_shape = (img_rows, img_cols, 1)\n",
        "\n",
        "x_test = x_test.astype('float32')\n",
        "x_test /= 255\n",
        "\n",
        "# define input tensor as a placeholder\n",
        "input_tensor = Input(shape=input_shape)"
      ],
      "execution_count": 11,
      "outputs": [
        {
          "output_type": "stream",
          "text": [
            "WARNING:tensorflow:From /usr/local/lib/python3.6/dist-packages/keras/backend/tensorflow_backend.py:66: The name tf.get_default_graph is deprecated. Please use tf.compat.v1.get_default_graph instead.\n",
            "\n",
            "WARNING:tensorflow:From /usr/local/lib/python3.6/dist-packages/keras/backend/tensorflow_backend.py:541: The name tf.placeholder is deprecated. Please use tf.compat.v1.placeholder instead.\n",
            "\n"
          ],
          "name": "stdout"
        }
      ]
    },
    {
      "cell_type": "code",
      "metadata": {
        "id": "UDDT47Er6u23",
        "colab_type": "code",
        "colab": {
          "base_uri": "https://localhost:8080/",
          "height": 962
        },
        "outputId": "e9c78809-94bd-4225-f077-214db73ff702"
      },
      "source": [
        "'''\n",
        "LeNet-1\n",
        "'''\n",
        "def Model1(input_tensor=None, train=False):\n",
        "    nb_classes = 10\n",
        "    # convolution kernel size\n",
        "    kernel_size = (5, 5)\n",
        "\n",
        "    if train:\n",
        "        batch_size = 256\n",
        "        nb_epoch = 10\n",
        "\n",
        "        # input image dimensions\n",
        "        img_rows, img_cols = 28, 28\n",
        "\n",
        "        # the data, shuffled and split between train and test sets\n",
        "        (x_train, y_train), (x_test, y_test) = mnist.load_data()\n",
        "\n",
        "        print(x_train.shape)\n",
        "        x_train = x_train.reshape(x_train.shape[0], img_rows, img_cols, 1)\n",
        "        x_test = x_test.reshape(x_test.shape[0], img_rows, img_cols, 1)\n",
        "        input_shape = (img_rows, img_cols, 1)\n",
        "\n",
        "        x_train = x_train.astype('float32')\n",
        "        x_test = x_test.astype('float32')\n",
        "        x_train /= 255\n",
        "        x_test /= 255\n",
        "\n",
        "        # convert class vectors to binary class matrices\n",
        "        y_train = to_categorical(y_train, nb_classes)\n",
        "        y_test = to_categorical(y_test, nb_classes)\n",
        "\n",
        "        input_tensor = Input(shape=input_shape)\n",
        "    elif input_tensor is None:\n",
        "        print(bcolors.FAIL + 'you have to proved input_tensor when testing')\n",
        "        exit()\n",
        "\n",
        "    # block1\n",
        "    x = Convolution2D(4, kernel_size, activation='relu', padding='same', name='block1_conv1')(input_tensor)\n",
        "    x = MaxPooling2D(pool_size=(2, 2), name='block1_pool1')(x)\n",
        "\n",
        "    # block2\n",
        "    x = Convolution2D(12, kernel_size, activation='relu', padding='same', name='block2_conv1')(x)\n",
        "    x = MaxPooling2D(pool_size=(2, 2), name='block2_pool1')(x)\n",
        "\n",
        "    x = Flatten(name='flatten')(x)\n",
        "    x = Dense(nb_classes, name='before_softmax')(x)\n",
        "    x = Activation('softmax', name='predictions')(x)\n",
        "\n",
        "    model = Model(input_tensor, x)\n",
        "\n",
        "    if train:\n",
        "        # compiling\n",
        "        model.compile(loss='categorical_crossentropy', optimizer='adadelta', metrics=['accuracy'])\n",
        "\n",
        "        # trainig\n",
        "        model.fit(x_train, y_train, validation_data=(x_test, y_test), batch_size=batch_size, epochs=nb_epoch, verbose=1)\n",
        "        # save model\n",
        "#        model.save_weights('./Model1.h5')\n",
        "        model.save_weights('/content/gdrive/My Drive/ColabNotebooks/test4ai/model/MNIST/Model1.h5')\n",
        "        score = model.evaluate(x_test, y_test, verbose=0)\n",
        "        print('\\n')\n",
        "        print('Overall Test score:', score[0])\n",
        "        print('Overall Test accuracy:', score[1])\n",
        "    else:\n",
        "#        model.load_weights('./Model1.h5')\n",
        "        model.load_weights('/content/gdrive/My Drive/ColabNotebooks/test4ai/model/MNIST/Model1.h5')\n",
        "        print(bcolors.OKBLUE + 'Model1 loaded' + bcolors.ENDC)\n",
        "\n",
        "    return model\n",
        "\n",
        "\n",
        "if __name__ == '__main__':\n",
        "    Model1(train=True)\n"
      ],
      "execution_count": 12,
      "outputs": [
        {
          "output_type": "stream",
          "text": [
            "(60000, 28, 28)\n",
            "WARNING:tensorflow:From /usr/local/lib/python3.6/dist-packages/keras/backend/tensorflow_backend.py:4432: The name tf.random_uniform is deprecated. Please use tf.random.uniform instead.\n",
            "\n",
            "WARNING:tensorflow:From /usr/local/lib/python3.6/dist-packages/keras/backend/tensorflow_backend.py:4267: The name tf.nn.max_pool is deprecated. Please use tf.nn.max_pool2d instead.\n",
            "\n",
            "WARNING:tensorflow:From /usr/local/lib/python3.6/dist-packages/keras/optimizers.py:793: The name tf.train.Optimizer is deprecated. Please use tf.compat.v1.train.Optimizer instead.\n",
            "\n",
            "WARNING:tensorflow:From /usr/local/lib/python3.6/dist-packages/keras/backend/tensorflow_backend.py:3576: The name tf.log is deprecated. Please use tf.math.log instead.\n",
            "\n",
            "WARNING:tensorflow:From /usr/local/lib/python3.6/dist-packages/tensorflow_core/python/ops/math_grad.py:1424: where (from tensorflow.python.ops.array_ops) is deprecated and will be removed in a future version.\n",
            "Instructions for updating:\n",
            "Use tf.where in 2.0, which has the same broadcast rule as np.where\n",
            "WARNING:tensorflow:From /usr/local/lib/python3.6/dist-packages/keras/backend/tensorflow_backend.py:1033: The name tf.assign_add is deprecated. Please use tf.compat.v1.assign_add instead.\n",
            "\n",
            "WARNING:tensorflow:From /usr/local/lib/python3.6/dist-packages/keras/backend/tensorflow_backend.py:1020: The name tf.assign is deprecated. Please use tf.compat.v1.assign instead.\n",
            "\n",
            "WARNING:tensorflow:From /usr/local/lib/python3.6/dist-packages/keras/backend/tensorflow_backend.py:3005: The name tf.Session is deprecated. Please use tf.compat.v1.Session instead.\n",
            "\n",
            "Train on 60000 samples, validate on 10000 samples\n",
            "Epoch 1/10\n",
            "WARNING:tensorflow:From /usr/local/lib/python3.6/dist-packages/keras/backend/tensorflow_backend.py:190: The name tf.get_default_session is deprecated. Please use tf.compat.v1.get_default_session instead.\n",
            "\n",
            "WARNING:tensorflow:From /usr/local/lib/python3.6/dist-packages/keras/backend/tensorflow_backend.py:197: The name tf.ConfigProto is deprecated. Please use tf.compat.v1.ConfigProto instead.\n",
            "\n",
            "WARNING:tensorflow:From /usr/local/lib/python3.6/dist-packages/keras/backend/tensorflow_backend.py:207: The name tf.global_variables is deprecated. Please use tf.compat.v1.global_variables instead.\n",
            "\n",
            "WARNING:tensorflow:From /usr/local/lib/python3.6/dist-packages/keras/backend/tensorflow_backend.py:216: The name tf.is_variable_initialized is deprecated. Please use tf.compat.v1.is_variable_initialized instead.\n",
            "\n",
            "WARNING:tensorflow:From /usr/local/lib/python3.6/dist-packages/keras/backend/tensorflow_backend.py:223: The name tf.variables_initializer is deprecated. Please use tf.compat.v1.variables_initializer instead.\n",
            "\n",
            "60000/60000 [==============================] - 4s 70us/step - loss: 0.4320 - acc: 0.8692 - val_loss: 0.1406 - val_acc: 0.9573\n",
            "Epoch 2/10\n",
            "60000/60000 [==============================] - 2s 29us/step - loss: 0.1169 - acc: 0.9653 - val_loss: 0.0949 - val_acc: 0.9686\n",
            "Epoch 3/10\n",
            "60000/60000 [==============================] - 2s 29us/step - loss: 0.0893 - acc: 0.9733 - val_loss: 0.0715 - val_acc: 0.9785\n",
            "Epoch 4/10\n",
            "60000/60000 [==============================] - 2s 29us/step - loss: 0.0745 - acc: 0.9774 - val_loss: 0.0744 - val_acc: 0.9763\n",
            "Epoch 5/10\n",
            "60000/60000 [==============================] - 2s 26us/step - loss: 0.0658 - acc: 0.9798 - val_loss: 0.0676 - val_acc: 0.9785\n",
            "Epoch 6/10\n",
            "60000/60000 [==============================] - 2s 27us/step - loss: 0.0594 - acc: 0.9819 - val_loss: 0.0573 - val_acc: 0.9814\n",
            "Epoch 7/10\n",
            "60000/60000 [==============================] - 2s 27us/step - loss: 0.0550 - acc: 0.9834 - val_loss: 0.0452 - val_acc: 0.9858\n",
            "Epoch 8/10\n",
            "60000/60000 [==============================] - 2s 28us/step - loss: 0.0510 - acc: 0.9841 - val_loss: 0.0441 - val_acc: 0.9856\n",
            "Epoch 9/10\n",
            "60000/60000 [==============================] - 2s 30us/step - loss: 0.0477 - acc: 0.9850 - val_loss: 0.0435 - val_acc: 0.9864\n",
            "Epoch 10/10\n",
            "60000/60000 [==============================] - 2s 30us/step - loss: 0.0449 - acc: 0.9856 - val_loss: 0.0421 - val_acc: 0.9862\n",
            "\n",
            "\n",
            "Overall Test score: 0.04213812852177071\n",
            "Overall Test accuracy: 0.9862\n"
          ],
          "name": "stdout"
        }
      ]
    },
    {
      "cell_type": "code",
      "metadata": {
        "id": "JU88awZf68JO",
        "colab_type": "code",
        "colab": {
          "base_uri": "https://localhost:8080/",
          "height": 453
        },
        "outputId": "06c5056b-5e2a-4b27-d599-e88a26b29cd1"
      },
      "source": [
        "'''\n",
        "LeNet-4\n",
        "'''\n",
        "def Model2(input_tensor=None, train=False):\n",
        "    nb_classes = 10\n",
        "    # convolution kernel size\n",
        "    kernel_size = (5, 5)\n",
        "\n",
        "    if train:\n",
        "        batch_size = 256\n",
        "        nb_epoch = 10\n",
        "\n",
        "        # input image dimensions\n",
        "        img_rows, img_cols = 28, 28\n",
        "\n",
        "        # the data, shuffled and split between train and test sets\n",
        "        (x_train, y_train), (x_test, y_test) = mnist.load_data()\n",
        "\n",
        "        x_train = x_train.reshape(x_train.shape[0], img_rows, img_cols, 1)\n",
        "        x_test = x_test.reshape(x_test.shape[0], img_rows, img_cols, 1)\n",
        "        input_shape = (img_rows, img_cols, 1)\n",
        "\n",
        "        x_train = x_train.astype('float32')\n",
        "        x_test = x_test.astype('float32')\n",
        "        x_train /= 255\n",
        "        x_test /= 255\n",
        "\n",
        "        # convert class vectors to binary class matrices\n",
        "        y_train = to_categorical(y_train, nb_classes)\n",
        "        y_test = to_categorical(y_test, nb_classes)\n",
        "\n",
        "        input_tensor = Input(shape=input_shape)\n",
        "    elif input_tensor is None:\n",
        "        print(bcolors.FAIL + 'you have to proved input_tensor when testing')\n",
        "        exit()\n",
        "\n",
        "    # block1\n",
        "    x = Convolution2D(6, kernel_size, activation='relu', padding='same', name='block1_conv1')(input_tensor)\n",
        "    x = MaxPooling2D(pool_size=(2, 2), name='block1_pool1')(x)\n",
        "\n",
        "    # block2\n",
        "    x = Convolution2D(16, kernel_size, activation='relu', padding='same', name='block2_conv1')(x)\n",
        "    x = MaxPooling2D(pool_size=(2, 2), name='block2_pool1')(x)\n",
        "\n",
        "    x = Flatten(name='flatten')(x)\n",
        "    x = Dense(84, activation='relu', name='fc1')(x)\n",
        "    x = Dense(nb_classes, name='before_softmax')(x)\n",
        "    x = Activation('softmax', name='predictions')(x)\n",
        "\n",
        "    model = Model(input_tensor, x)\n",
        "\n",
        "    if train:\n",
        "        # compiling\n",
        "        model.compile(loss='categorical_crossentropy', optimizer='adadelta', metrics=['accuracy'])\n",
        "\n",
        "        # trainig\n",
        "        model.fit(x_train, y_train, validation_data=(x_test, y_test), batch_size=batch_size, epochs=nb_epoch, verbose=1)\n",
        "        # save model\n",
        "        model.save_weights('./Model2.h5')\n",
        "        score = model.evaluate(x_test, y_test, verbose=0)\n",
        "        print('\\n')\n",
        "        print('Overall Test score:', score[0])\n",
        "        print('Overall Test accuracy:', score[1])\n",
        "    else:\n",
        "        model.load_weights('./Model2.h5')\n",
        "        print(bcolors.OKBLUE + 'Model2 loaded' + bcolors.ENDC)\n",
        "\n",
        "    return model\n",
        "\n",
        "\n",
        "if __name__ == '__main__':\n",
        "    Model2(train=True)\n"
      ],
      "execution_count": 13,
      "outputs": [
        {
          "output_type": "stream",
          "text": [
            "Train on 60000 samples, validate on 10000 samples\n",
            "Epoch 1/10\n",
            "60000/60000 [==============================] - 2s 40us/step - loss: 0.3586 - acc: 0.8930 - val_loss: 0.0845 - val_acc: 0.9722\n",
            "Epoch 2/10\n",
            "60000/60000 [==============================] - 2s 33us/step - loss: 0.0838 - acc: 0.9741 - val_loss: 0.0603 - val_acc: 0.9809\n",
            "Epoch 3/10\n",
            "60000/60000 [==============================] - 2s 32us/step - loss: 0.0605 - acc: 0.9814 - val_loss: 0.0681 - val_acc: 0.9755\n",
            "Epoch 4/10\n",
            "60000/60000 [==============================] - 2s 32us/step - loss: 0.0485 - acc: 0.9848 - val_loss: 0.0600 - val_acc: 0.9808\n",
            "Epoch 5/10\n",
            "60000/60000 [==============================] - 2s 31us/step - loss: 0.0409 - acc: 0.9875 - val_loss: 0.0360 - val_acc: 0.9887\n",
            "Epoch 6/10\n",
            "60000/60000 [==============================] - 2s 33us/step - loss: 0.0346 - acc: 0.9893 - val_loss: 0.0371 - val_acc: 0.9878\n",
            "Epoch 7/10\n",
            "60000/60000 [==============================] - 2s 31us/step - loss: 0.0300 - acc: 0.9904 - val_loss: 0.0425 - val_acc: 0.9864\n",
            "Epoch 8/10\n",
            "60000/60000 [==============================] - 2s 31us/step - loss: 0.0264 - acc: 0.9919 - val_loss: 0.0285 - val_acc: 0.9903\n",
            "Epoch 9/10\n",
            "60000/60000 [==============================] - 2s 32us/step - loss: 0.0234 - acc: 0.9929 - val_loss: 0.0417 - val_acc: 0.9869\n",
            "Epoch 10/10\n",
            "60000/60000 [==============================] - 2s 33us/step - loss: 0.0206 - acc: 0.9934 - val_loss: 0.0272 - val_acc: 0.9913\n",
            "\n",
            "\n",
            "Overall Test score: 0.02722550432001008\n",
            "Overall Test accuracy: 0.9913\n"
          ],
          "name": "stdout"
        }
      ]
    },
    {
      "cell_type": "code",
      "metadata": {
        "id": "ufs67uRN7KYL",
        "colab_type": "code",
        "colab": {
          "base_uri": "https://localhost:8080/",
          "height": 453
        },
        "outputId": "3d7a0c95-b8da-434f-d036-b50f510b4806"
      },
      "source": [
        "'''\n",
        "LeNet-5\n",
        "'''\n",
        "def Model3(input_tensor=None, train=False):\n",
        "    nb_classes = 10\n",
        "    # convolution kernel size\n",
        "    kernel_size = (5, 5)\n",
        "\n",
        "    if train:\n",
        "        batch_size = 256\n",
        "        nb_epoch = 10\n",
        "\n",
        "        # input image dimensions\n",
        "        img_rows, img_cols = 28, 28\n",
        "\n",
        "        # the data, shuffled and split between train and test sets\n",
        "        (x_train, y_train), (x_test, y_test) = mnist.load_data()\n",
        "\n",
        "        x_train = x_train.reshape(x_train.shape[0], img_rows, img_cols, 1)\n",
        "        x_test = x_test.reshape(x_test.shape[0], img_rows, img_cols, 1)\n",
        "        input_shape = (img_rows, img_cols, 1)\n",
        "\n",
        "        x_train = x_train.astype('float32')\n",
        "        x_test = x_test.astype('float32')\n",
        "        x_train /= 255\n",
        "        x_test /= 255\n",
        "\n",
        "        # convert class vectors to binary class matrices\n",
        "        y_train = to_categorical(y_train, nb_classes)\n",
        "        y_test = to_categorical(y_test, nb_classes)\n",
        "\n",
        "        input_tensor = Input(shape=input_shape)\n",
        "    elif input_tensor is None:\n",
        "        print(bcolors.FAIL + 'you have to proved input_tensor when testing')\n",
        "        exit()\n",
        "\n",
        "    # block1\n",
        "    x = Convolution2D(6, kernel_size, activation='relu', padding='same', name='block1_conv1')(input_tensor)\n",
        "    x = MaxPooling2D(pool_size=(2, 2), name='block1_pool1')(x)\n",
        "\n",
        "    # block2\n",
        "    x = Convolution2D(16, kernel_size, activation='relu', padding='same', name='block2_conv1')(x)\n",
        "    x = MaxPooling2D(pool_size=(2, 2), name='block2_pool1')(x)\n",
        "\n",
        "    x = Flatten(name='flatten')(x)\n",
        "    x = Dense(120, activation='relu', name='fc1')(x)\n",
        "    x = Dense(84, activation='relu', name='fc2')(x)\n",
        "    x = Dense(nb_classes, name='before_softmax')(x)\n",
        "    x = Activation('softmax', name='predictions')(x)\n",
        "\n",
        "    model = Model(input_tensor, x)\n",
        "\n",
        "    if train:\n",
        "        # compiling\n",
        "        model.compile(loss='categorical_crossentropy', optimizer='adadelta', metrics=['accuracy'])\n",
        "\n",
        "        # trainig\n",
        "        model.fit(x_train, y_train, validation_data=(x_test, y_test), batch_size=batch_size, epochs=nb_epoch, verbose=1)\n",
        "        # save model\n",
        "        model.save_weights('./Model3.h5')\n",
        "        score = model.evaluate(x_test, y_test, verbose=0)\n",
        "        print('\\n')\n",
        "        print('Overall Test score:', score[0])\n",
        "        print('Overall Test accuracy:', score[1])\n",
        "    else:\n",
        "        model.load_weights('./Model3.h5')\n",
        "        print(bcolors.OKBLUE + 'Model3 loaded' + bcolors.ENDC)\n",
        "\n",
        "    return model\n",
        "\n",
        "\n",
        "if __name__ == '__main__':\n",
        "    Model3(train=True)\n"
      ],
      "execution_count": 14,
      "outputs": [
        {
          "output_type": "stream",
          "text": [
            "Train on 60000 samples, validate on 10000 samples\n",
            "Epoch 1/10\n",
            "60000/60000 [==============================] - 3s 43us/step - loss: 0.3909 - acc: 0.8779 - val_loss: 0.1085 - val_acc: 0.9663\n",
            "Epoch 2/10\n",
            "60000/60000 [==============================] - 2s 32us/step - loss: 0.0841 - acc: 0.9739 - val_loss: 0.0713 - val_acc: 0.9772\n",
            "Epoch 3/10\n",
            "60000/60000 [==============================] - 2s 32us/step - loss: 0.0579 - acc: 0.9817 - val_loss: 0.0741 - val_acc: 0.9741\n",
            "Epoch 4/10\n",
            "60000/60000 [==============================] - 2s 33us/step - loss: 0.0439 - acc: 0.9863 - val_loss: 0.0410 - val_acc: 0.9865\n",
            "Epoch 5/10\n",
            "60000/60000 [==============================] - 2s 32us/step - loss: 0.0359 - acc: 0.9886 - val_loss: 0.0667 - val_acc: 0.9774\n",
            "Epoch 6/10\n",
            "60000/60000 [==============================] - 2s 33us/step - loss: 0.0300 - acc: 0.9909 - val_loss: 0.0788 - val_acc: 0.9768\n",
            "Epoch 7/10\n",
            "60000/60000 [==============================] - 2s 36us/step - loss: 0.0258 - acc: 0.9919 - val_loss: 0.0364 - val_acc: 0.9877\n",
            "Epoch 8/10\n",
            "60000/60000 [==============================] - 2s 37us/step - loss: 0.0219 - acc: 0.9927 - val_loss: 0.0293 - val_acc: 0.9894\n",
            "Epoch 9/10\n",
            "60000/60000 [==============================] - 2s 36us/step - loss: 0.0188 - acc: 0.9938 - val_loss: 0.0462 - val_acc: 0.9838\n",
            "Epoch 10/10\n",
            "60000/60000 [==============================] - 2s 35us/step - loss: 0.0163 - acc: 0.9948 - val_loss: 0.0359 - val_acc: 0.9884\n",
            "\n",
            "\n",
            "Overall Test score: 0.03592152180007543\n",
            "Overall Test accuracy: 0.9884\n"
          ],
          "name": "stdout"
        }
      ]
    },
    {
      "cell_type": "code",
      "metadata": {
        "id": "7K9QiwlW7WWR",
        "colab_type": "code",
        "colab": {
          "base_uri": "https://localhost:8080/",
          "height": 69
        },
        "outputId": "bed4d5aa-e738-4e7d-f4e7-63ce20b4f712"
      },
      "source": [
        "model1 = Model1(input_tensor=input_tensor)\n",
        "model2 = Model2(input_tensor=input_tensor)\n",
        "model3 = Model3(input_tensor=input_tensor)\n",
        "model_layer_dict1, model_layer_dict2, model_layer_dict3 = init_coverage_tables(model1, model2, model3)"
      ],
      "execution_count": 15,
      "outputs": [
        {
          "output_type": "stream",
          "text": [
            "\u001b[94mModel1 loaded\u001b[0m\n",
            "\u001b[94mModel2 loaded\u001b[0m\n",
            "\u001b[94mModel3 loaded\u001b[0m\n"
          ],
          "name": "stdout"
        }
      ]
    },
    {
      "cell_type": "code",
      "metadata": {
        "id": "KD6cHroNl43Q",
        "colab_type": "code",
        "colab": {}
      },
      "source": [
        "# start gen inputs\n",
        "# img_paths = list_pictures(data_imagenet_seeds)"
      ],
      "execution_count": 0,
      "outputs": []
    },
    {
      "cell_type": "code",
      "metadata": {
        "id": "lkfdTZi4mUPf",
        "colab_type": "code",
        "colab": {
          "base_uri": "https://localhost:8080/",
          "height": 1000
        },
        "outputId": "89a406ed-3925-48bc-9ac4-0aa7dbcb3b51"
      },
      "source": [
        "%%time\n",
        "\n",
        "count_already = 0\n",
        "count_found = 0\n",
        "count_not_found = 0\n",
        "for _ in range(args.seeds):\n",
        "    gen_img = np.expand_dims(random.choice(x_test), axis=0)\n",
        "    orig_img = gen_img.copy()\n",
        "    # first check if input already induces differences\n",
        "    label1, label2, label3 = np.argmax(model1.predict(gen_img)[0]), np.argmax(model2.predict(gen_img)[0]), np.argmax(model3.predict(gen_img)[0])\n",
        "\n",
        "    if not label1 == label2 == label3:\n",
        "        count_already += 1\n",
        "        print(bcolors.OKGREEN + '{}/{}. input already causes different outputs ({},{},{}) at{}/{}: '.format(_, args.seeds, label1, label2, label3, count_already, count_already + count_found + count_not_found) + bcolors.ENDC)\n",
        "#        print(bcolors.OKBLUE + '{}/{}. input already causes different outputs: {}, {}, {}'.format(_, args.seeds, label1, label2, label3) + bcolors.ENDC)\n",
        "        \n",
        "\n",
        "        update_coverage(gen_img, model1, model_layer_dict1, args.threshold)\n",
        "        update_coverage(gen_img, model2, model_layer_dict2, args.threshold)\n",
        "        update_coverage(gen_img, model3, model_layer_dict3, args.threshold)\n",
        "\n",
        "        print(bcolors.OKGREEN + '     covered neurons percentage %d neurons %.3f, %d neurons %.3f, %d neurons %.3f'\n",
        "              % (len(model_layer_dict1), neuron_covered(model_layer_dict1)[2], len(model_layer_dict2),\n",
        "                 neuron_covered(model_layer_dict2)[2], len(model_layer_dict3),\n",
        "                 neuron_covered(model_layer_dict3)[2]) + bcolors.ENDC)\n",
        "        averaged_nc = (neuron_covered(model_layer_dict1)[0] + neuron_covered(model_layer_dict2)[0] +\n",
        "                       neuron_covered(model_layer_dict3)[0]) / float(\n",
        "            neuron_covered(model_layer_dict1)[1] + neuron_covered(model_layer_dict2)[1] +\n",
        "            neuron_covered(model_layer_dict3)[\n",
        "                1])\n",
        "        print(bcolors.OKGREEN + '     averaged covered neurons %.3f' % (averaged_nc) + bcolors.ENDC)\n",
        "\n",
        "        gen_img_deprocessed = deprocess_image(gen_img)\n",
        "\n",
        "        # save the result to disk\n",
        "        outputfilepath0 = os.path.join(output_dir, 'already_differ_' + str(label1) + '_' + str(label2) + '_' + str(label3) +'_['+ str(_) +  '].png')\n",
        "        imageio.imwrite(outputfilepath0, gen_img_deprocessed)\n",
        "        continue\n",
        "\n",
        "    # if all label agrees\n",
        "    orig_label = label1\n",
        "    layer_name1, index1 = neuron_to_cover(model_layer_dict1)\n",
        "    layer_name2, index2 = neuron_to_cover(model_layer_dict2)\n",
        "    layer_name3, index3 = neuron_to_cover(model_layer_dict3)\n",
        "\n",
        "    # construct joint loss function\n",
        "    if args.target_model == 0:\n",
        "        loss1 = -args.weight_diff * K.mean(model1.get_layer('before_softmax').output[..., orig_label])\n",
        "        loss2 = K.mean(model2.get_layer('before_softmax').output[..., orig_label])\n",
        "        loss3 = K.mean(model3.get_layer('before_softmax').output[..., orig_label])\n",
        "    elif args.target_model == 1:\n",
        "        loss1 = K.mean(model1.get_layer('before_softmax').output[..., orig_label])\n",
        "        loss2 = -args.weight_diff * K.mean(model2.get_layer('before_softmax').output[..., orig_label])\n",
        "        loss3 = K.mean(model3.get_layer('before_softmax').output[..., orig_label])\n",
        "    elif args.target_model == 2:\n",
        "        loss1 = K.mean(model1.get_layer('before_softmax').output[..., orig_label])\n",
        "        loss2 = K.mean(model2.get_layer('before_softmax').output[..., orig_label])\n",
        "        loss3 = -args.weight_diff * K.mean(model3.get_layer('before_softmax').output[..., orig_label])\n",
        "    loss1_neuron = K.mean(model1.get_layer(layer_name1).output[..., index1])\n",
        "    loss2_neuron = K.mean(model2.get_layer(layer_name2).output[..., index2])\n",
        "    loss3_neuron = K.mean(model3.get_layer(layer_name3).output[..., index3])\n",
        "    layer_output = (loss1 + loss2 + loss3) + args.weight_nc * (loss1_neuron + loss2_neuron + loss3_neuron)\n",
        "\n",
        "    # for adversarial image generation\n",
        "    final_loss = K.mean(layer_output)\n",
        "\n",
        "    # we compute the gradient of the input picture wrt this loss\n",
        "    grads = normalize(K.gradients(final_loss, input_tensor)[0])\n",
        "\n",
        "    # this function returns the loss and grads given the input picture\n",
        "    iterate = K.function([input_tensor], [loss1, loss2, loss3, loss1_neuron, loss2_neuron, loss3_neuron, grads])\n",
        "\n",
        "    # we run gradient ascent for 20 steps\n",
        "    for iters in range(args.grad_iterations):\n",
        "        loss_value1, loss_value2, loss_value3, loss_neuron1, loss_neuron2, loss_neuron3, grads_value = iterate(\n",
        "            [gen_img])\n",
        "        if args.transformation == 'light':\n",
        "            grads_value = constraint_light(grads_value)  # constraint the gradients value\n",
        "        elif args.transformation == 'occl':\n",
        "            grads_value = constraint_occl(grads_value, args.start_point,\n",
        "                                          args.occlusion_size)  # constraint the gradients value\n",
        "        elif args.transformation == 'blackout':\n",
        "            grads_value = constraint_black(grads_value)  # constraint the gradients value\n",
        "\n",
        "        gen_img += grads_value * args.step\n",
        "        predictions1 = np.argmax(model1.predict(gen_img)[0])\n",
        "        predictions2 = np.argmax(model2.predict(gen_img)[0])\n",
        "        predictions3 = np.argmax(model3.predict(gen_img)[0])\n",
        "\n",
        "        if not predictions1 == predictions2 == predictions3:\n",
        "            update_coverage(gen_img, model1, model_layer_dict1, args.threshold)\n",
        "            update_coverage(gen_img, model2, model_layer_dict2, args.threshold)\n",
        "            update_coverage(gen_img, model3, model_layer_dict3, args.threshold)\n",
        "            count_found += 1\n",
        "            print(bcolors.OKBLUE + '%4d/%d. found at %d! covered neurons percentage %d neurons %.3f, %d neurons %.3f, %d neurons %.3f at %d/%d'\n",
        "                  % (_, args.seeds, iters, len(model_layer_dict1), neuron_covered(model_layer_dict1)[2], len(model_layer_dict2),\n",
        "                     neuron_covered(model_layer_dict2)[2], len(model_layer_dict3),\n",
        "                     neuron_covered(model_layer_dict3)[2], count_found, count_already + count_found + count_not_found) + bcolors.ENDC)\n",
        "            averaged_nc = (neuron_covered(model_layer_dict1)[0] + neuron_covered(model_layer_dict2)[0] +\n",
        "                           neuron_covered(model_layer_dict3)[0]) / float(\n",
        "                neuron_covered(model_layer_dict1)[1] + neuron_covered(model_layer_dict2)[1] +\n",
        "                neuron_covered(model_layer_dict3)[\n",
        "                    1])\n",
        "            print(bcolors.OKBLUE + '     averaged covered neurons %.3f' % averaged_nc + bcolors.ENDC)\n",
        "\n",
        "            gen_img_deprocessed = deprocess_image(gen_img)\n",
        "            orig_img_deprocessed = deprocess_image(orig_img)\n",
        "\n",
        "            # save the result to disk\n",
        "            #outputfilepath = os.path.join(output_dir, args.transformation + '_' + str(label1) + '_' + str(label2) + '_' + str(label3) + '.png')\n",
        "            outputfilepath = os.path.join(output_dir, args.transformation + '_from' + str(label1) + '_to' + str(predictions1) + '_'  + str(predictions2) + '_' + str(predictions3) +'_['+ str(_) +  '].png')\n",
        "            #print(outputfilepath)\n",
        "            imageio.imwrite(outputfilepath, gen_img_deprocessed)\n",
        "#            outputfilepath2 = os.path.join(output_dir, args.transformation + '_' + str(label1) + '_' + str(label2) + '_' + str(label3) + '_orig.png')\n",
        "            outputfilepath2 = os.path.join(output_dir, args.transformation + '_from' + str(label1) + '_to' + str(predictions1) + '_'  + str(predictions2) + '_' + str(predictions3) +'_['+ str(_) +  ']_orig.png')\n",
        "            #print(outputfilepath2)\n",
        "            imageio.imwrite(outputfilepath2, orig_img_deprocessed)\n",
        "            break\n",
        "        #add\n",
        "        if iters == (args.grad_iterations-1):\n",
        "            update_coverage(gen_img, model1, model_layer_dict1, args.threshold)\n",
        "            update_coverage(gen_img, model2, model_layer_dict2, args.threshold)\n",
        "            update_coverage(gen_img, model3, model_layer_dict3, args.threshold)\n",
        "            averaged_nc = (neuron_covered(model_layer_dict1)[0] + neuron_covered(model_layer_dict2)[0] +\n",
        "                           neuron_covered(model_layer_dict3)[0]) / float(\n",
        "                neuron_covered(model_layer_dict1)[1] + neuron_covered(model_layer_dict2)[1] +\n",
        "                neuron_covered(model_layer_dict3)[\n",
        "                    1])\n",
        "            count_not_found += 1\n",
        "            print('%4d/%d. test suite was not found: averaged covered neurons %.3f at %d/%d' % (_, args.seeds, averaged_nc, count_not_found, count_already + count_found + count_not_found))\n",
        "\n",
        "            gen_img_deprocessed = deprocess_image(gen_img)\n",
        "            #orig_img_deprocessed = deprocess_image(orig_img)\n",
        "\n",
        "            # save the result to disk\n",
        "            #outputfilepath = os.path.join(output_dir, args.transformation + '_' + str(label1) + '_' + str(label2) + '_' + str(label3) + '.png')\n",
        "            outputfilepath = os.path.join(output_dir, 'not_found_' + str(label1)+'_['+ str(_) + '].png')\n",
        "#            print(outputfilepath)\n",
        "            imageio.imwrite(outputfilepath, gen_img_deprocessed)"
      ],
      "execution_count": 17,
      "outputs": [
        {
          "output_type": "stream",
          "text": [
            "   0/80. test suite was not found: averaged covered neurons 0.402 at 1/1\n",
            "\u001b[94m   1/80. found at 2! covered neurons percentage 52 neurons 0.558, 148 neurons 0.736, 268 neurons 0.549 at 1/2\u001b[0m\n",
            "\u001b[94m     averaged covered neurons 0.609\u001b[0m\n",
            "\u001b[94m   2/80. found at 5! covered neurons percentage 52 neurons 0.596, 148 neurons 0.750, 268 neurons 0.608 at 2/3\u001b[0m\n",
            "\u001b[94m     averaged covered neurons 0.652\u001b[0m\n",
            "\u001b[94m   3/80. found at 1! covered neurons percentage 52 neurons 0.654, 148 neurons 0.764, 268 neurons 0.690 at 3/4\u001b[0m\n",
            "\u001b[94m     averaged covered neurons 0.709\u001b[0m\n",
            "\u001b[94m   4/80. found at 1! covered neurons percentage 52 neurons 0.731, 148 neurons 0.784, 268 neurons 0.769 at 4/5\u001b[0m\n",
            "\u001b[94m     averaged covered neurons 0.769\u001b[0m\n",
            "\u001b[94m   5/80. found at 1! covered neurons percentage 52 neurons 0.731, 148 neurons 0.784, 268 neurons 0.772 at 5/6\u001b[0m\n",
            "\u001b[94m     averaged covered neurons 0.771\u001b[0m\n",
            "\u001b[94m   6/80. found at 1! covered neurons percentage 52 neurons 0.731, 148 neurons 0.818, 268 neurons 0.810 at 6/7\u001b[0m\n",
            "\u001b[94m     averaged covered neurons 0.803\u001b[0m\n",
            "\u001b[94m   7/80. found at 0! covered neurons percentage 52 neurons 0.750, 148 neurons 0.831, 268 neurons 0.858 at 7/8\u001b[0m\n",
            "\u001b[94m     averaged covered neurons 0.838\u001b[0m\n",
            "\u001b[94m   8/80. found at 2! covered neurons percentage 52 neurons 0.750, 148 neurons 0.851, 268 neurons 0.858 at 8/9\u001b[0m\n",
            "\u001b[94m     averaged covered neurons 0.844\u001b[0m\n",
            "\u001b[94m   9/80. found at 2! covered neurons percentage 52 neurons 0.750, 148 neurons 0.865, 268 neurons 0.866 at 9/10\u001b[0m\n",
            "\u001b[94m     averaged covered neurons 0.853\u001b[0m\n",
            "\u001b[94m  10/80. found at 2! covered neurons percentage 52 neurons 0.750, 148 neurons 0.865, 268 neurons 0.866 at 10/11\u001b[0m\n",
            "\u001b[94m     averaged covered neurons 0.853\u001b[0m\n",
            "\u001b[94m  11/80. found at 1! covered neurons percentage 52 neurons 0.750, 148 neurons 0.865, 268 neurons 0.869 at 11/12\u001b[0m\n",
            "\u001b[94m     averaged covered neurons 0.855\u001b[0m\n",
            "\u001b[94m  12/80. found at 1! covered neurons percentage 52 neurons 0.750, 148 neurons 0.872, 268 neurons 0.869 at 12/13\u001b[0m\n",
            "\u001b[94m     averaged covered neurons 0.857\u001b[0m\n",
            "\u001b[94m  13/80. found at 1! covered neurons percentage 52 neurons 0.750, 148 neurons 0.878, 268 neurons 0.869 at 13/14\u001b[0m\n",
            "\u001b[94m     averaged covered neurons 0.859\u001b[0m\n",
            "\u001b[94m  14/80. found at 2! covered neurons percentage 52 neurons 0.750, 148 neurons 0.878, 268 neurons 0.869 at 14/15\u001b[0m\n",
            "\u001b[94m     averaged covered neurons 0.859\u001b[0m\n",
            "  15/80. test suite was not found: averaged covered neurons 0.859 at 2/16\n",
            "\u001b[94m  16/80. found at 1! covered neurons percentage 52 neurons 0.750, 148 neurons 0.878, 268 neurons 0.873 at 15/17\u001b[0m\n",
            "\u001b[94m     averaged covered neurons 0.861\u001b[0m\n",
            "  17/80. test suite was not found: averaged covered neurons 0.863 at 3/18\n",
            "\u001b[92m18/80. input already causes different outputs (5,3,3) at1/19: \u001b[0m\n",
            "\u001b[92m     covered neurons percentage 52 neurons 0.808, 148 neurons 0.905, 268 neurons 0.881\u001b[0m\n",
            "\u001b[92m     averaged covered neurons 0.880\u001b[0m\n",
            "\u001b[94m  19/80. found at 2! covered neurons percentage 52 neurons 0.808, 148 neurons 0.905, 268 neurons 0.896 at 16/20\u001b[0m\n",
            "\u001b[94m     averaged covered neurons 0.889\u001b[0m\n",
            "\u001b[94m  20/80. found at 2! covered neurons percentage 52 neurons 0.808, 148 neurons 0.905, 268 neurons 0.907 at 17/21\u001b[0m\n",
            "\u001b[94m     averaged covered neurons 0.895\u001b[0m\n",
            "\u001b[94m  21/80. found at 1! covered neurons percentage 52 neurons 0.808, 148 neurons 0.905, 268 neurons 0.907 at 18/22\u001b[0m\n",
            "\u001b[94m     averaged covered neurons 0.895\u001b[0m\n",
            "\u001b[94m  22/80. found at 1! covered neurons percentage 52 neurons 0.808, 148 neurons 0.905, 268 neurons 0.910 at 19/23\u001b[0m\n",
            "\u001b[94m     averaged covered neurons 0.897\u001b[0m\n",
            "\u001b[94m  23/80. found at 1! covered neurons percentage 52 neurons 0.808, 148 neurons 0.905, 268 neurons 0.910 at 20/24\u001b[0m\n",
            "\u001b[94m     averaged covered neurons 0.897\u001b[0m\n",
            "\u001b[94m  24/80. found at 1! covered neurons percentage 52 neurons 0.808, 148 neurons 0.905, 268 neurons 0.910 at 21/25\u001b[0m\n",
            "\u001b[94m     averaged covered neurons 0.897\u001b[0m\n",
            "\u001b[94m  25/80. found at 4! covered neurons percentage 52 neurons 0.827, 148 neurons 0.905, 268 neurons 0.914 at 22/26\u001b[0m\n",
            "\u001b[94m     averaged covered neurons 0.902\u001b[0m\n",
            "\u001b[94m  26/80. found at 5! covered neurons percentage 52 neurons 0.827, 148 neurons 0.905, 268 neurons 0.914 at 23/27\u001b[0m\n",
            "\u001b[94m     averaged covered neurons 0.902\u001b[0m\n",
            "\u001b[94m  27/80. found at 1! covered neurons percentage 52 neurons 0.846, 148 neurons 0.912, 268 neurons 0.918 at 24/28\u001b[0m\n",
            "\u001b[94m     averaged covered neurons 0.908\u001b[0m\n",
            "  28/80. test suite was not found: averaged covered neurons 0.912 at 4/29\n",
            "\u001b[94m  29/80. found at 1! covered neurons percentage 52 neurons 0.846, 148 neurons 0.919, 268 neurons 0.922 at 25/30\u001b[0m\n",
            "\u001b[94m     averaged covered neurons 0.912\u001b[0m\n",
            "\u001b[94m  30/80. found at 2! covered neurons percentage 52 neurons 0.846, 148 neurons 0.919, 268 neurons 0.922 at 26/31\u001b[0m\n",
            "\u001b[94m     averaged covered neurons 0.912\u001b[0m\n",
            "\u001b[94m  31/80. found at 4! covered neurons percentage 52 neurons 0.846, 148 neurons 0.919, 268 neurons 0.922 at 27/32\u001b[0m\n",
            "\u001b[94m     averaged covered neurons 0.912\u001b[0m\n",
            "\u001b[92m32/80. input already causes different outputs (5,0,0) at2/33: \u001b[0m\n",
            "\u001b[92m     covered neurons percentage 52 neurons 0.846, 148 neurons 0.919, 268 neurons 0.922\u001b[0m\n",
            "\u001b[92m     averaged covered neurons 0.912\u001b[0m\n",
            "\u001b[94m  33/80. found at 2! covered neurons percentage 52 neurons 0.846, 148 neurons 0.919, 268 neurons 0.922 at 28/34\u001b[0m\n",
            "\u001b[94m     averaged covered neurons 0.912\u001b[0m\n",
            "\u001b[94m  34/80. found at 2! covered neurons percentage 52 neurons 0.846, 148 neurons 0.919, 268 neurons 0.922 at 29/35\u001b[0m\n",
            "\u001b[94m     averaged covered neurons 0.912\u001b[0m\n",
            "\u001b[94m  35/80. found at 1! covered neurons percentage 52 neurons 0.846, 148 neurons 0.919, 268 neurons 0.922 at 30/36\u001b[0m\n",
            "\u001b[94m     averaged covered neurons 0.912\u001b[0m\n",
            "\u001b[94m  36/80. found at 2! covered neurons percentage 52 neurons 0.846, 148 neurons 0.919, 268 neurons 0.922 at 31/37\u001b[0m\n",
            "\u001b[94m     averaged covered neurons 0.912\u001b[0m\n",
            "\u001b[94m  37/80. found at 1! covered neurons percentage 52 neurons 0.846, 148 neurons 0.926, 268 neurons 0.922 at 32/38\u001b[0m\n",
            "\u001b[94m     averaged covered neurons 0.915\u001b[0m\n",
            "\u001b[94m  38/80. found at 2! covered neurons percentage 52 neurons 0.846, 148 neurons 0.926, 268 neurons 0.922 at 33/39\u001b[0m\n",
            "\u001b[94m     averaged covered neurons 0.915\u001b[0m\n",
            "  39/80. test suite was not found: averaged covered neurons 0.915 at 5/40\n",
            "\u001b[94m  40/80. found at 1! covered neurons percentage 52 neurons 0.846, 148 neurons 0.932, 268 neurons 0.922 at 34/41\u001b[0m\n",
            "\u001b[94m     averaged covered neurons 0.917\u001b[0m\n",
            "\u001b[94m  41/80. found at 1! covered neurons percentage 52 neurons 0.846, 148 neurons 0.932, 268 neurons 0.925 at 35/42\u001b[0m\n",
            "\u001b[94m     averaged covered neurons 0.919\u001b[0m\n",
            "\u001b[94m  42/80. found at 1! covered neurons percentage 52 neurons 0.846, 148 neurons 0.932, 268 neurons 0.925 at 36/43\u001b[0m\n",
            "\u001b[94m     averaged covered neurons 0.919\u001b[0m\n",
            "\u001b[94m  43/80. found at 0! covered neurons percentage 52 neurons 0.846, 148 neurons 0.932, 268 neurons 0.925 at 37/44\u001b[0m\n",
            "\u001b[94m     averaged covered neurons 0.919\u001b[0m\n",
            "  44/80. test suite was not found: averaged covered neurons 0.919 at 6/45\n",
            "\u001b[94m  45/80. found at 2! covered neurons percentage 52 neurons 0.846, 148 neurons 0.932, 268 neurons 0.925 at 38/46\u001b[0m\n",
            "\u001b[94m     averaged covered neurons 0.919\u001b[0m\n",
            "\u001b[94m  46/80. found at 1! covered neurons percentage 52 neurons 0.846, 148 neurons 0.932, 268 neurons 0.925 at 39/47\u001b[0m\n",
            "\u001b[94m     averaged covered neurons 0.919\u001b[0m\n",
            "\u001b[94m  47/80. found at 3! covered neurons percentage 52 neurons 0.846, 148 neurons 0.932, 268 neurons 0.925 at 40/48\u001b[0m\n",
            "\u001b[94m     averaged covered neurons 0.919\u001b[0m\n",
            "\u001b[94m  48/80. found at 1! covered neurons percentage 52 neurons 0.846, 148 neurons 0.932, 268 neurons 0.925 at 41/49\u001b[0m\n",
            "\u001b[94m     averaged covered neurons 0.919\u001b[0m\n",
            "  49/80. test suite was not found: averaged covered neurons 0.919 at 7/50\n",
            "\u001b[94m  50/80. found at 9! covered neurons percentage 52 neurons 0.846, 148 neurons 0.932, 268 neurons 0.925 at 42/51\u001b[0m\n",
            "\u001b[94m     averaged covered neurons 0.919\u001b[0m\n",
            "\u001b[94m  51/80. found at 2! covered neurons percentage 52 neurons 0.846, 148 neurons 0.932, 268 neurons 0.925 at 43/52\u001b[0m\n",
            "\u001b[94m     averaged covered neurons 0.919\u001b[0m\n",
            "\u001b[94m  52/80. found at 0! covered neurons percentage 52 neurons 0.846, 148 neurons 0.932, 268 neurons 0.925 at 44/53\u001b[0m\n",
            "\u001b[94m     averaged covered neurons 0.919\u001b[0m\n",
            "  53/80. test suite was not found: averaged covered neurons 0.919 at 8/54\n",
            "  54/80. test suite was not found: averaged covered neurons 0.919 at 9/55\n",
            "\u001b[94m  55/80. found at 4! covered neurons percentage 52 neurons 0.846, 148 neurons 0.932, 268 neurons 0.925 at 45/56\u001b[0m\n",
            "\u001b[94m     averaged covered neurons 0.919\u001b[0m\n",
            "\u001b[94m  56/80. found at 2! covered neurons percentage 52 neurons 0.846, 148 neurons 0.939, 268 neurons 0.925 at 46/57\u001b[0m\n",
            "\u001b[94m     averaged covered neurons 0.921\u001b[0m\n",
            "  57/80. test suite was not found: averaged covered neurons 0.925 at 10/58\n",
            "\u001b[94m  58/80. found at 0! covered neurons percentage 52 neurons 0.885, 148 neurons 0.939, 268 neurons 0.925 at 47/59\u001b[0m\n",
            "\u001b[94m     averaged covered neurons 0.925\u001b[0m\n",
            "\u001b[94m  59/80. found at 1! covered neurons percentage 52 neurons 0.885, 148 neurons 0.939, 268 neurons 0.925 at 48/60\u001b[0m\n",
            "\u001b[94m     averaged covered neurons 0.925\u001b[0m\n",
            "  60/80. test suite was not found: averaged covered neurons 0.925 at 11/61\n",
            "\u001b[94m  61/80. found at 2! covered neurons percentage 52 neurons 0.885, 148 neurons 0.939, 268 neurons 0.925 at 49/62\u001b[0m\n",
            "\u001b[94m     averaged covered neurons 0.925\u001b[0m\n",
            "\u001b[94m  62/80. found at 1! covered neurons percentage 52 neurons 0.885, 148 neurons 0.939, 268 neurons 0.925 at 50/63\u001b[0m\n",
            "\u001b[94m     averaged covered neurons 0.925\u001b[0m\n",
            "\u001b[94m  63/80. found at 2! covered neurons percentage 52 neurons 0.885, 148 neurons 0.939, 268 neurons 0.925 at 51/64\u001b[0m\n",
            "\u001b[94m     averaged covered neurons 0.925\u001b[0m\n",
            "\u001b[94m  64/80. found at 9! covered neurons percentage 52 neurons 0.885, 148 neurons 0.939, 268 neurons 0.925 at 52/65\u001b[0m\n",
            "\u001b[94m     averaged covered neurons 0.925\u001b[0m\n",
            "  65/80. test suite was not found: averaged covered neurons 0.925 at 12/66\n",
            "\u001b[94m  66/80. found at 3! covered neurons percentage 52 neurons 0.885, 148 neurons 0.939, 268 neurons 0.925 at 53/67\u001b[0m\n",
            "\u001b[94m     averaged covered neurons 0.925\u001b[0m\n",
            "\u001b[94m  67/80. found at 2! covered neurons percentage 52 neurons 0.885, 148 neurons 0.939, 268 neurons 0.925 at 54/68\u001b[0m\n",
            "\u001b[94m     averaged covered neurons 0.925\u001b[0m\n",
            "\u001b[94m  68/80. found at 0! covered neurons percentage 52 neurons 0.885, 148 neurons 0.939, 268 neurons 0.925 at 55/69\u001b[0m\n",
            "\u001b[94m     averaged covered neurons 0.925\u001b[0m\n",
            "  69/80. test suite was not found: averaged covered neurons 0.925 at 13/70\n",
            "\u001b[94m  70/80. found at 1! covered neurons percentage 52 neurons 0.885, 148 neurons 0.939, 268 neurons 0.925 at 56/71\u001b[0m\n",
            "\u001b[94m     averaged covered neurons 0.925\u001b[0m\n",
            "\u001b[94m  71/80. found at 1! covered neurons percentage 52 neurons 0.885, 148 neurons 0.939, 268 neurons 0.925 at 57/72\u001b[0m\n",
            "\u001b[94m     averaged covered neurons 0.925\u001b[0m\n",
            "\u001b[94m  72/80. found at 1! covered neurons percentage 52 neurons 0.885, 148 neurons 0.939, 268 neurons 0.925 at 58/73\u001b[0m\n",
            "\u001b[94m     averaged covered neurons 0.925\u001b[0m\n",
            "\u001b[94m  73/80. found at 1! covered neurons percentage 52 neurons 0.885, 148 neurons 0.939, 268 neurons 0.925 at 59/74\u001b[0m\n",
            "\u001b[94m     averaged covered neurons 0.925\u001b[0m\n",
            "  74/80. test suite was not found: averaged covered neurons 0.925 at 14/75\n",
            "\u001b[94m  75/80. found at 1! covered neurons percentage 52 neurons 0.885, 148 neurons 0.939, 268 neurons 0.925 at 60/76\u001b[0m\n",
            "\u001b[94m     averaged covered neurons 0.925\u001b[0m\n",
            "  76/80. test suite was not found: averaged covered neurons 0.925 at 15/77\n",
            "\u001b[94m  77/80. found at 1! covered neurons percentage 52 neurons 0.885, 148 neurons 0.939, 268 neurons 0.925 at 61/78\u001b[0m\n",
            "\u001b[94m     averaged covered neurons 0.925\u001b[0m\n",
            "  78/80. test suite was not found: averaged covered neurons 0.925 at 16/79\n",
            "\u001b[94m  79/80. found at 1! covered neurons percentage 52 neurons 0.885, 148 neurons 0.939, 268 neurons 0.925 at 62/80\u001b[0m\n",
            "\u001b[94m     averaged covered neurons 0.925\u001b[0m\n",
            "CPU times: user 4min 1s, sys: 1.93 s, total: 4min 2s\n",
            "Wall time: 4min 2s\n"
          ],
          "name": "stdout"
        }
      ]
    },
    {
      "cell_type": "markdown",
      "metadata": {
        "id": "oxWV5ElWzHTy",
        "colab_type": "text"
      },
      "source": [
        "# 02 neuron coverage測定\n"
      ]
    },
    {
      "cell_type": "markdown",
      "metadata": {
        "id": "oGZQRy9H-84T",
        "colab_type": "text"
      },
      "source": [
        "## 02 01 layerごと"
      ]
    },
    {
      "cell_type": "code",
      "metadata": {
        "id": "a71yjeqUDVRj",
        "colab_type": "code",
        "colab": {
          "base_uri": "https://localhost:8080/",
          "height": 104
        },
        "outputId": "df4100d2-8d0c-4744-ed79-4e48f222d6f6"
      },
      "source": [
        "%%time\n",
        "#list(model_layer_dict1.keys())\n",
        "data_list_layer_nc = list([x[0][0], x[1]] for x in model_layer_dict3.items())\n",
        "data_list_layer = list(x[0][0] for x in model_layer_dict3.items())\n",
        "data_list_nc = list(x[1] for x in model_layer_dict3.items())\n",
        "#print(len(x))\n",
        "print([len(data_list_layer_nc), len(data_list_layer_nc[0]), len(data_list_layer), len(data_list_nc)])\n",
        "#import matplotlib\n",
        "#matplotlib.pyplot.hist(x)\n",
        "\n",
        "\n",
        "data_list_layer_nc_on = list(x[0][0] for x in model_layer_dict3.items() if x[1]==True)\n",
        "data_list_layer_nc_off = list(x[0][0] for x in model_layer_dict3.items() if x[1]==False)\n",
        "print(len(data_list_layer_nc_on), len(data_list_layer_nc_off), len(data_list_layer_nc_on)+len(data_list_layer_nc_off))\n",
        "data_list_layer_name = list(x[0][0] for x in model_layer_dict3.items() if x[0][1]==0)\n",
        "print(len(data_list_layer_name))\n",
        "bins = len(data_list_layer_name)-1\n",
        "\n",
        "data_list_layer_nc_0 = list(0 for x in model_layer_dict3.items() if x[1]==True)"
      ],
      "execution_count": 26,
      "outputs": [
        {
          "output_type": "stream",
          "text": [
            "[268, 2, 268, 268]\n",
            "248 20 268\n",
            "8\n",
            "CPU times: user 1.94 ms, sys: 1.01 ms, total: 2.95 ms\n",
            "Wall time: 2.82 ms\n"
          ],
          "name": "stdout"
        }
      ]
    },
    {
      "cell_type": "code",
      "metadata": {
        "id": "z1idGNH-zSvO",
        "colab_type": "code",
        "colab": {
          "base_uri": "https://localhost:8080/",
          "height": 546
        },
        "outputId": "e2d1b6f4-0684-4602-b609-c7994a83cf35"
      },
      "source": [
        "import matplotlib\n",
        "import matplotlib.pyplot as plt\n",
        "%matplotlib inline\n",
        "\n",
        "\n",
        "fig = plt.figure(figsize=(30,10),dpi=60)\n",
        "#ax = fig.add_subplot(1,2,1)\n",
        "ax = fig.add_subplot(1,1,1)\n",
        "matplotlib.pyplot.hist(data_list_layer, rwidth=0.8, bins=bins)\n",
        "# x軸縦書き。\n",
        "#plt.xticks(rotation=90)\n",
        "ax.set_xlabel('layer')\n",
        "ax.set_ylabel('# of neurons')\n",
        "\n",
        "#ax = fig.add_subplot(1,2,2)\n",
        "#matplotlib.pyplot.hist(data_list_layer, rwidth=0.8, bins=bins)\n",
        "## x 軸のラベル\n",
        "#dt_labels = [dt.strftime('%H:%M') for dt in df['datetime']]  # ラベル一覧作成\n",
        "## 4つおきにラベルを表示する。\n",
        "#plt.xticks(rotation=90)\n",
        "#plt.ylim(0,12000)"
      ],
      "execution_count": 28,
      "outputs": [
        {
          "output_type": "execute_result",
          "data": {
            "text/plain": [
              "Text(0, 0.5, '# of neurons')"
            ]
          },
          "metadata": {
            "tags": []
          },
          "execution_count": 28
        },
        {
          "output_type": "display_data",
          "data": {
            "image/png": "[encoded data removed]",
            "text/plain": [
              "<Figure size 1800x600 with 1 Axes>"
            ]
          },
          "metadata": {
            "tags": []
          }
        }
      ]
    },
    {
      "cell_type": "code",
      "metadata": {
        "id": "6px7zF7tzU5L",
        "colab_type": "code",
        "colab": {
          "base_uri": "https://localhost:8080/",
          "height": 356
        },
        "outputId": "c9465904-c62e-460a-8710-b78f9d9c9577"
      },
      "source": [
        "\n",
        "fig = plt.figure(figsize=(12,5),dpi=60)\n",
        "#ax = fig.add_subplot(1,2,1)\n",
        "ax = fig.add_subplot(1,1,1)\n",
        "#ax.hist([data_list_layer_nc_on, data_list_layer_nc_off],label=['ON', 'OFF'], histtype='bar', stacked=True, rwidth=0.9, bins=bins)\n",
        "ax.hist([data_list_layer_nc_on, data_list_layer_nc_off],label=['ON','OFF'], histtype='bar', stacked=True, rwidth=0.8, bins=bins)\n",
        "#ax.hist(data_list_layer_nc_on,label='ON', histtype='bar', rwidth=0.9, bins=bins)\n",
        "plt.xticks(rotation=90)\n",
        "ax.set_xlabel('layer name')\n",
        "ax.set_ylabel('# of neurons')\n",
        "ax.legend(loc='upper left')\n",
        "#ax = fig.add_subplot(1,2,2)\n",
        "#ax.hist([data_list_layer_nc_on, data_list_layer_nc_off],label=['ON', 'OFF'], histtype='bar', stacked=False, rwidth=0.9, bins=bins)\n",
        "#plt.xticks(rotation=90)\n",
        "#ax.set_xlabel('layer')\n",
        "#ax.set_ylabel('# of neurons')\n",
        "#ax.legend(loc='upper left')\n",
        "#plt.ylim(0,100)"
      ],
      "execution_count": 23,
      "outputs": [
        {
          "output_type": "execute_result",
          "data": {
            "text/plain": [
              "<matplotlib.legend.Legend at 0x7efb7bcc1da0>"
            ]
          },
          "metadata": {
            "tags": []
          },
          "execution_count": 23
        },
        {
          "output_type": "display_data",
          "data": {
            "image/png": "[encoded data removed]",
            "text/plain": [
              "<Figure size 720x300 with 1 Axes>"
            ]
          },
          "metadata": {
            "tags": []
          }
        }
      ]
    },
    {
      "cell_type": "code",
      "metadata": {
        "id": "MceoR_F83dKj",
        "colab_type": "code",
        "colab": {}
      },
      "source": [
        ""
      ],
      "execution_count": 0,
      "outputs": []
    },
    {
      "cell_type": "markdown",
      "metadata": {
        "id": "imwjpOrA3diw",
        "colab_type": "text"
      },
      "source": [
        "#03 MNIST\n"
      ]
    },
    {
      "cell_type": "markdown",
      "metadata": {
        "id": "fbC--mVy_Bhr",
        "colab_type": "text"
      },
      "source": [
        "##03 01 base"
      ]
    },
    {
      "cell_type": "code",
      "metadata": {
        "id": "opqQwaLp1oWk",
        "colab_type": "code",
        "colab": {
          "base_uri": "https://localhost:8080/",
          "height": 132
        },
        "outputId": "15e5c6e2-b99c-424e-ccb3-5731b5dc7b39"
      },
      "source": [
        "from keras.datasets import mnist\n",
        "import numpy as np\n",
        "(x_train, y_train), (x_test, y_test) = mnist.load_data()"
      ],
      "execution_count": 1,
      "outputs": [
        {
          "output_type": "stream",
          "text": [
            "Using TensorFlow backend.\n"
          ],
          "name": "stderr"
        },
        {
          "output_type": "display_data",
          "data": {
            "text/html": [
              "<p style=\"color: red;\">\n",
              "The default version of TensorFlow in Colab will soon switch to TensorFlow 2.x.<br>\n",
              "We recommend you <a href=\"https://www.tensorflow.org/guide/migrate\" target=\"_blank\">upgrade</a> now \n",
              "or ensure your notebook will continue to use TensorFlow 1.x via the <code>%tensorflow_version 1.x</code> magic:\n",
              "<a href=\"https://colab.research.google.com/notebooks/tensorflow_version.ipynb\" target=\"_blank\">more info</a>.</p>\n"
            ],
            "text/plain": [
              "<IPython.core.display.HTML object>"
            ]
          },
          "metadata": {
            "tags": []
          }
        },
        {
          "output_type": "stream",
          "text": [
            "Downloading data from https://s3.amazonaws.com/img-datasets/mnist.npz\n",
            "11493376/11490434 [==============================] - 2s 0us/step\n"
          ],
          "name": "stdout"
        }
      ]
    },
    {
      "cell_type": "code",
      "metadata": {
        "id": "0n0_b0Os3lH7",
        "colab_type": "code",
        "colab": {
          "base_uri": "https://localhost:8080/",
          "height": 34
        },
        "outputId": "3ee89c15-bf16-4c8d-8639-19654f9d328b"
      },
      "source": [
        "type(x_train)"
      ],
      "execution_count": 2,
      "outputs": [
        {
          "output_type": "execute_result",
          "data": {
            "text/plain": [
              "numpy.ndarray"
            ]
          },
          "metadata": {
            "tags": []
          },
          "execution_count": 2
        }
      ]
    },
    {
      "cell_type": "code",
      "metadata": {
        "id": "wT6jhu-I3yiP",
        "colab_type": "code",
        "colab": {
          "base_uri": "https://localhost:8080/",
          "height": 34
        },
        "outputId": "650ff359-6288-40df-827f-349c93b16c5e"
      },
      "source": [
        "print(x_train.shape, y_train.shape, x_test.shape, y_test.shape)"
      ],
      "execution_count": 3,
      "outputs": [
        {
          "output_type": "stream",
          "text": [
            "(60000, 28, 28) (60000,) (10000, 28, 28) (10000,)\n"
          ],
          "name": "stdout"
        }
      ]
    },
    {
      "cell_type": "code",
      "metadata": {
        "id": "j0CYjrnp30Uy",
        "colab_type": "code",
        "colab": {
          "base_uri": "https://localhost:8080/",
          "height": 34
        },
        "outputId": "ce013f6a-6a98-4762-c752-fd9b9d993d07"
      },
      "source": [
        "y_train[0:10]"
      ],
      "execution_count": 4,
      "outputs": [
        {
          "output_type": "execute_result",
          "data": {
            "text/plain": [
              "array([5, 0, 4, 1, 9, 2, 1, 3, 1, 4], dtype=uint8)"
            ]
          },
          "metadata": {
            "tags": []
          },
          "execution_count": 4
        }
      ]
    },
    {
      "cell_type": "code",
      "metadata": {
        "id": "EgmwCS0kqL0f",
        "colab_type": "code",
        "colab": {
          "base_uri": "https://localhost:8080/",
          "height": 34
        },
        "outputId": "138dbbce-41f5-4f3c-d434-15d50d8fb68b"
      },
      "source": [
        "x_train[0].shape"
      ],
      "execution_count": 5,
      "outputs": [
        {
          "output_type": "execute_result",
          "data": {
            "text/plain": [
              "(28, 28)"
            ]
          },
          "metadata": {
            "tags": []
          },
          "execution_count": 5
        }
      ]
    },
    {
      "cell_type": "markdown",
      "metadata": {
        "id": "Rgny02LY5mur",
        "colab_type": "text"
      },
      "source": [
        "描画\n"
      ]
    },
    {
      "cell_type": "code",
      "metadata": {
        "id": "pteSDp_0qY2N",
        "colab_type": "code",
        "colab": {
          "base_uri": "https://localhost:8080/",
          "height": 282
        },
        "outputId": "e4779576-d3c9-4c67-f8f8-b46a4f752d40"
      },
      "source": [
        "from PIL import Image\n",
        "import matplotlib.pyplot as plt\n",
        "plt.imshow(x_train[24], cmap=\"binary_r\")"
      ],
      "execution_count": 9,
      "outputs": [
        {
          "output_type": "execute_result",
          "data": {
            "text/plain": [
              "<matplotlib.image.AxesImage at 0x7fe091741cc0>"
            ]
          },
          "metadata": {
            "tags": []
          },
          "execution_count": 9
        },
        {
          "output_type": "display_data",
          "data": {
            "image/png": "[encoded data removed]",
            "text/plain": [
              "<Figure size 432x288 with 1 Axes>"
            ]
          },
          "metadata": {
            "tags": []
          }
        }
      ]
    },
    {
      "cell_type": "markdown",
      "metadata": {
        "id": "2-wvy_vz5wgt",
        "colab_type": "text"
      },
      "source": [
        "## 03 02 MNISTの画像をラベル（数字）ごとに仕分ける"
      ]
    },
    {
      "cell_type": "code",
      "metadata": {
        "id": "D7iD41gOr876",
        "colab_type": "code",
        "colab": {
          "base_uri": "https://localhost:8080/",
          "height": 191
        },
        "outputId": "475bf782-f6f0-4312-def4-0b34284203cc"
      },
      "source": [
        "test_per_fig_x = np.array([])\n",
        "test_per_fig_y = np.array([])\n",
        "tests_x = np.array([])\n",
        "tests_y = np.array([])\n",
        "\n",
        "length = 80\n",
        "for i in range(10):\n",
        "  cond = [(x==i) for x in y_test]\n",
        "  test_per_fig_x = x_test[cond]\n",
        "  test_per_fig_y = y_test[cond]\n",
        "  print(i, test_per_fig_x.shape, test_per_fig_x.shape[0]-1000)\n",
        "  tests_x = np.append(tests_x, test_per_fig_x[:length])\n",
        "  tests_y = np.append(tests_y, test_per_fig_y[:length])\n",
        "#  conds = [conds, cond]"
      ],
      "execution_count": 29,
      "outputs": [
        {
          "output_type": "stream",
          "text": [
            "0 (980, 28, 28) -20\n",
            "1 (1135, 28, 28) 135\n",
            "2 (1032, 28, 28) 32\n",
            "3 (1010, 28, 28) 10\n",
            "4 (982, 28, 28) -18\n",
            "5 (892, 28, 28) -108\n",
            "6 (958, 28, 28) -42\n",
            "7 (1028, 28, 28) 28\n",
            "8 (974, 28, 28) -26\n",
            "9 (1009, 28, 28) 9\n"
          ],
          "name": "stdout"
        }
      ]
    },
    {
      "cell_type": "code",
      "metadata": {
        "id": "032uAPZ95xoQ",
        "colab_type": "code",
        "colab": {
          "base_uri": "https://localhost:8080/",
          "height": 34
        },
        "outputId": "2a0b7835-cadf-4366-b383-4b491cfde16c"
      },
      "source": [
        "print(tests_x.shape[0]/28/28/10, length, \"equal?\")"
      ],
      "execution_count": 30,
      "outputs": [
        {
          "output_type": "stream",
          "text": [
            "80.0 80 equal?\n"
          ],
          "name": "stdout"
        }
      ]
    },
    {
      "cell_type": "markdown",
      "metadata": {
        "id": "HmI-_D_V-Ao_",
        "colab_type": "text"
      },
      "source": [
        ""
      ]
    },
    {
      "cell_type": "markdown",
      "metadata": {
        "id": "0l4FW_nv-B9Z",
        "colab_type": "text"
      },
      "source": [
        "## 03 03 画像ごとのDeepXplore試作"
      ]
    },
    {
      "cell_type": "code",
      "metadata": {
        "id": "aPMU9ZU_-M1S",
        "colab_type": "code",
        "colab": {}
      },
      "source": [
        "%%time\n",
        "\n",
        "count_already = 0\n",
        "count_found = 0\n",
        "count_not_found = 0\n",
        "for index_fig in range(10):\n",
        "  for _ in range(length)):\n",
        "    gen_img = np.expand_dims(random.choice(x_test), axis=0)\n",
        "    orig_img = gen_img.copy()\n",
        "    # first check if input already induces differences\n",
        "    label1, label2, label3 = np.argmax(model1.predict(gen_img)[0]), np.argmax(model2.predict(gen_img)[0]), np.argmax(model3.predict(gen_img)[0])\n",
        "\n",
        "    if not label1 == label2 == label3:\n",
        "        count_already += 1\n",
        "        print(bcolors.OKGREEN + '{}/10. {}/{}. input already causes different outputs ({},{},{}) at{}/{}: '.format(index_fig, _, args.seeds, label1, label2, label3, count_already, count_already + count_found + count_not_found) + bcolors.ENDC)\n",
        "#        print(bcolors.OKBLUE + '{}/{}. input already causes different outputs: {}, {}, {}'.format(_, args.seeds, label1, label2, label3) + bcolors.ENDC)\n",
        "        \n",
        "\n",
        "        update_coverage(gen_img, model1, model_layer_dict1, args.threshold)\n",
        "        update_coverage(gen_img, model2, model_layer_dict2, args.threshold)\n",
        "        update_coverage(gen_img, model3, model_layer_dict3, args.threshold)\n",
        "\n",
        "        print(bcolors.OKGREEN + '     covered neurons percentage %d neurons %.3f, %d neurons %.3f, %d neurons %.3f'\n",
        "              % (len(model_layer_dict1), neuron_covered(model_layer_dict1)[2], len(model_layer_dict2),\n",
        "                 neuron_covered(model_layer_dict2)[2], len(model_layer_dict3),\n",
        "                 neuron_covered(model_layer_dict3)[2]) + bcolors.ENDC)\n",
        "        averaged_nc = (neuron_covered(model_layer_dict1)[0] + neuron_covered(model_layer_dict2)[0] +\n",
        "                       neuron_covered(model_layer_dict3)[0]) / float(\n",
        "            neuron_covered(model_layer_dict1)[1] + neuron_covered(model_layer_dict2)[1] +\n",
        "            neuron_covered(model_layer_dict3)[\n",
        "                1])\n",
        "        print(bcolors.OKGREEN + '     averaged covered neurons %.3f' % (averaged_nc) + bcolors.ENDC)\n",
        "\n",
        "        gen_img_deprocessed = deprocess_image(gen_img)\n",
        "\n",
        "        # save the result to disk\n",
        "        outputfilepath0 = os.path.join(output_dir, 'already_differ_' + str(label1) + '_' + str(label2) + '_' + str(label3) +'_['+ str(_) +  '].png')\n",
        "        imageio.imwrite(outputfilepath0, gen_img_deprocessed)\n",
        "        continue\n",
        "\n",
        "    # if all label agrees\n",
        "    orig_label = label1\n",
        "    layer_name1, index1 = neuron_to_cover(model_layer_dict1)\n",
        "    layer_name2, index2 = neuron_to_cover(model_layer_dict2)\n",
        "    layer_name3, index3 = neuron_to_cover(model_layer_dict3)\n",
        "\n",
        "    # construct joint loss function\n",
        "    if args.target_model == 0:\n",
        "        loss1 = -args.weight_diff * K.mean(model1.get_layer('before_softmax').output[..., orig_label])\n",
        "        loss2 = K.mean(model2.get_layer('before_softmax').output[..., orig_label])\n",
        "        loss3 = K.mean(model3.get_layer('before_softmax').output[..., orig_label])\n",
        "    elif args.target_model == 1:\n",
        "        loss1 = K.mean(model1.get_layer('before_softmax').output[..., orig_label])\n",
        "        loss2 = -args.weight_diff * K.mean(model2.get_layer('before_softmax').output[..., orig_label])\n",
        "        loss3 = K.mean(model3.get_layer('before_softmax').output[..., orig_label])\n",
        "    elif args.target_model == 2:\n",
        "        loss1 = K.mean(model1.get_layer('before_softmax').output[..., orig_label])\n",
        "        loss2 = K.mean(model2.get_layer('before_softmax').output[..., orig_label])\n",
        "        loss3 = -args.weight_diff * K.mean(model3.get_layer('before_softmax').output[..., orig_label])\n",
        "    loss1_neuron = K.mean(model1.get_layer(layer_name1).output[..., index1])\n",
        "    loss2_neuron = K.mean(model2.get_layer(layer_name2).output[..., index2])\n",
        "    loss3_neuron = K.mean(model3.get_layer(layer_name3).output[..., index3])\n",
        "    layer_output = (loss1 + loss2 + loss3) + args.weight_nc * (loss1_neuron + loss2_neuron + loss3_neuron)\n",
        "\n",
        "    # for adversarial image generation\n",
        "    final_loss = K.mean(layer_output)\n",
        "\n",
        "    # we compute the gradient of the input picture wrt this loss\n",
        "    grads = normalize(K.gradients(final_loss, input_tensor)[0])\n",
        "\n",
        "    # this function returns the loss and grads given the input picture\n",
        "    iterate = K.function([input_tensor], [loss1, loss2, loss3, loss1_neuron, loss2_neuron, loss3_neuron, grads])\n",
        "\n",
        "    # we run gradient ascent for 20 steps\n",
        "    for iters in range(args.grad_iterations):\n",
        "        loss_value1, loss_value2, loss_value3, loss_neuron1, loss_neuron2, loss_neuron3, grads_value = iterate(\n",
        "            [gen_img])\n",
        "        if args.transformation == 'light':\n",
        "            grads_value = constraint_light(grads_value)  # constraint the gradients value\n",
        "        elif args.transformation == 'occl':\n",
        "            grads_value = constraint_occl(grads_value, args.start_point,\n",
        "                                          args.occlusion_size)  # constraint the gradients value\n",
        "        elif args.transformation == 'blackout':\n",
        "            grads_value = constraint_black(grads_value)  # constraint the gradients value\n",
        "\n",
        "        gen_img += grads_value * args.step\n",
        "        predictions1 = np.argmax(model1.predict(gen_img)[0])\n",
        "        predictions2 = np.argmax(model2.predict(gen_img)[0])\n",
        "        predictions3 = np.argmax(model3.predict(gen_img)[0])\n",
        "\n",
        "        if not predictions1 == predictions2 == predictions3:\n",
        "            update_coverage(gen_img, model1, model_layer_dict1, args.threshold)\n",
        "            update_coverage(gen_img, model2, model_layer_dict2, args.threshold)\n",
        "            update_coverage(gen_img, model3, model_layer_dict3, args.threshold)\n",
        "            count_found += 1\n",
        "            print(bcolors.OKBLUE + '%2d/10. %4d/%d. found at %d! covered neurons percentage %d neurons %.3f, %d neurons %.3f, %d neurons %.3f at %d/%d'\n",
        "                  % (index_fig, _, args.seeds, iters, len(model_layer_dict1), neuron_covered(model_layer_dict1)[2], len(model_layer_dict2),\n",
        "                     neuron_covered(model_layer_dict2)[2], len(model_layer_dict3),\n",
        "                     neuron_covered(model_layer_dict3)[2], count_found, count_already + count_found + count_not_found) + bcolors.ENDC)\n",
        "            averaged_nc = (neuron_covered(model_layer_dict1)[0] + neuron_covered(model_layer_dict2)[0] +\n",
        "                           neuron_covered(model_layer_dict3)[0]) / float(\n",
        "                neuron_covered(model_layer_dict1)[1] + neuron_covered(model_layer_dict2)[1] +\n",
        "                neuron_covered(model_layer_dict3)[\n",
        "                    1])\n",
        "            print(bcolors.OKBLUE + '     averaged covered neurons %.3f' % averaged_nc + bcolors.ENDC)\n",
        "\n",
        "            gen_img_deprocessed = deprocess_image(gen_img)\n",
        "            orig_img_deprocessed = deprocess_image(orig_img)\n",
        "\n",
        "            # save the result to disk\n",
        "            #outputfilepath = os.path.join(output_dir, args.transformation + '_' + str(label1) + '_' + str(label2) + '_' + str(label3) + '.png')\n",
        "            outputfilepath = os.path.join(output_dir, args.transformation + '_from' + str(label1) + '_to' + str(predictions1) + '_'  + str(predictions2) + '_' + str(predictions3) +'_['+ str(_) +  '].png')\n",
        "            #print(outputfilepath)\n",
        "            imageio.imwrite(outputfilepath, gen_img_deprocessed)\n",
        "#            outputfilepath2 = os.path.join(output_dir, args.transformation + '_' + str(label1) + '_' + str(label2) + '_' + str(label3) + '_orig.png')\n",
        "            outputfilepath2 = os.path.join(output_dir, args.transformation + '_from' + str(label1) + '_to' + str(predictions1) + '_'  + str(predictions2) + '_' + str(predictions3) +'_['+ str(_) +  ']_orig.png')\n",
        "            #print(outputfilepath2)\n",
        "            imageio.imwrite(outputfilepath2, orig_img_deprocessed)\n",
        "            break\n",
        "        #add\n",
        "        if iters == (args.grad_iterations-1):\n",
        "            update_coverage(gen_img, model1, model_layer_dict1, args.threshold)\n",
        "            update_coverage(gen_img, model2, model_layer_dict2, args.threshold)\n",
        "            update_coverage(gen_img, model3, model_layer_dict3, args.threshold)\n",
        "            averaged_nc = (neuron_covered(model_layer_dict1)[0] + neuron_covered(model_layer_dict2)[0] +\n",
        "                           neuron_covered(model_layer_dict3)[0]) / float(\n",
        "                neuron_covered(model_layer_dict1)[1] + neuron_covered(model_layer_dict2)[1] +\n",
        "                neuron_covered(model_layer_dict3)[\n",
        "                    1])\n",
        "            count_not_found += 1\n",
        "            print('%2d/10. %4d/%d. test suite was not found: averaged covered neurons %.3f at %d/%d' % (index_fig, _, args.seeds, averaged_nc, count_not_found, count_already + count_found + count_not_found))\n",
        "\n",
        "            gen_img_deprocessed = deprocess_image(gen_img)\n",
        "            #orig_img_deprocessed = deprocess_image(orig_img)\n",
        "\n",
        "            # save the result to disk\n",
        "            #outputfilepath = os.path.join(output_dir, args.transformation + '_' + str(label1) + '_' + str(label2) + '_' + str(label3) + '.png')\n",
        "            outputfilepath = os.path.join(output_dir, 'not_found_' + str(label1)+'_['+ str(_) + '].png')\n",
        "#            print(outputfilepath)\n",
        "            imageio.imwrite(outputfilepath, gen_img_deprocessed)"
      ],
      "execution_count": 0,
      "outputs": []
    },
    {
      "cell_type": "code",
      "metadata": {
        "id": "_i_FkG64BOYU",
        "colab_type": "code",
        "colab": {}
      },
      "source": [
        ""
      ],
      "execution_count": 0,
      "outputs": []
    }
  ]
}