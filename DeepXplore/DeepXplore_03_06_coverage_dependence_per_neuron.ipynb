{
  "nbformat": 4,
  "nbformat_minor": 0,
  "metadata": {
    "kernelspec": {
      "name": "python3",
      "display_name": "Python 3"
    },
    "language_info": {
      "codemirror_mode": {
        "name": "ipython",
        "version": 3
      },
      "file_extension": ".py",
      "mimetype": "text/x-python",
      "name": "python",
      "nbconvert_exporter": "python",
      "pygments_lexer": "ipython3",
      "version": "3.6.4"
    },
    "colab": {
      "name": "DeepXplore_base.ipynb",
      "provenance": [],
      "collapsed_sections": [],
      "include_colab_link": true
    },
    "accelerator": "GPU"
  },
  "cells": [
    {
      "cell_type": "markdown",
      "metadata": {
        "id": "view-in-github",
        "colab_type": "text"
      },
      "source": [
        "<a href=\"https://colab.research.google.com/github/isshii/de4test/blob/test_ozawa/DeepXplore/DeepXplore_03_06_coverage_dependence_per_neuron.ipynb\" target=\"_parent\"><img src=\"https://colab.research.google.com/assets/colab-badge.svg\" alt=\"Open In Colab\"/></a>"
      ]
    },
    {
      "cell_type": "markdown",
      "metadata": {
        "id": "UHbF5GaCQlkP",
        "colab_type": "text"
      },
      "source": [
        ""
      ]
    },
    {
      "cell_type": "code",
      "metadata": {
        "id": "sGVFjZpUIRF4",
        "colab_type": "code",
        "colab": {}
      },
      "source": [
        "# 共通で使うパスなどの定義\n",
        "# 共通の変数設定\n",
        "# 共通フォルダパス\n",
        "\n",
        "import datetime\n",
        "import pytz\n",
        "dt_now = datetime.datetime.now(pytz.timezone('Asia/Tokyo'))\n",
        "dt_str = str(dt_now.strftime('%Y%m%d_%H%M'))\n",
        "\n",
        "data_dir = \"/content/gdrive/My Drive/ColabNotebooks/test4ai/data\"\n",
        "#data_imagenet = \"/content/gdrive/My Drive/ColabNotebooks/test4ai/data/ImageNet\"\n",
        "data_mnist = \"/content/gdrive/My Drive/ColabNotebooks/test4ai/data/MNIST\"\n",
        "#data_imagenet_seeds = \"/content/gdrive/My Drive/ColabNotebooks/test4ai/data/ImageNet/seeds\"\n",
        "model_dir = \"/content/gdrive/My Drive/ColabNotebooks/test4ai/model\"\n",
        "#output_dir = \"/content/gdrive/My Drive/ColabNotebooks/test4ai/output\"\n",
        "output_dir = \"/content/gdrive/My Drive/ColabNotebooks/test4ai/output/\" + dt_str\n",
        "tmp_dir = \"/content/gdrive/My Drive/ColabNotebooks/test4ai/tmp\"\n"
      ],
      "execution_count": 0,
      "outputs": []
    },
    {
      "cell_type": "code",
      "metadata": {
        "id": "V4lP4POGn5Xj",
        "colab_type": "code",
        "outputId": "8c0e1c9d-a214-4d62-94af-dabca0665f24",
        "colab": {
          "base_uri": "https://localhost:8080/",
          "height": 34
        }
      },
      "source": [
        "# Goggle Drive つなぐ\n",
        "from google.colab import drive\n",
        "drive.mount('/content/gdrive')"
      ],
      "execution_count": 2,
      "outputs": [
        {
          "output_type": "stream",
          "text": [
            "Drive already mounted at /content/gdrive; to attempt to forcibly remount, call drive.mount(\"/content/gdrive\", force_remount=True).\n"
          ],
          "name": "stdout"
        }
      ]
    },
    {
      "cell_type": "code",
      "metadata": {
        "id": "z3d3Suv3Q5Db",
        "colab_type": "code",
        "outputId": "18d8d0e6-6906-40e2-ffd5-2dd4bdf968fc",
        "colab": {
          "base_uri": "https://localhost:8080/",
          "height": 34
        }
      },
      "source": [
        "# outputフォルダ内容物のクリーンアップ削除\n",
        "!mkdir \"$output_dir\"\n",
        "!rm \"$output_dir\"/*"
      ],
      "execution_count": 3,
      "outputs": [
        {
          "output_type": "stream",
          "text": [
            "rm: cannot remove '/content/gdrive/My Drive/ColabNotebooks/test4ai/output/20191226_2228/*': No such file or directory\n"
          ],
          "name": "stdout"
        }
      ]
    },
    {
      "cell_type": "code",
      "metadata": {
        "id": "vhdHYnLT0Nbt",
        "colab_type": "code",
        "colab": {}
      },
      "source": [
        "import sys\n",
        "sys.path.append('/content/gdrive/My Drive/ColabNotebooks/test4ai/model/MNIST')\n",
        "\n",
        "class bcolors:\n",
        "    HEADER = '\\033[95m'\n",
        "    OKBLUE = '\\033[94m'\n",
        "    OKGREEN = '\\033[92m'\n",
        "    WARNING = '\\033[93m'\n",
        "    FAIL = '\\033[91m'\n",
        "    ENDC = '\\033[0m'\n",
        "    BOLD = '\\033[1m'\n",
        "    UNDERLINE = '\\033[4m'"
      ],
      "execution_count": 0,
      "outputs": []
    },
    {
      "cell_type": "code",
      "metadata": {
        "id": "aDY8sDVBqxmK",
        "colab_type": "code",
        "outputId": "dadb51a1-e499-449c-e873-2f0d9580632c",
        "colab": {
          "base_uri": "https://localhost:8080/",
          "height": 34
        }
      },
      "source": [
        "import argparse\n",
        "import pandas as pd\n",
        "\n",
        "%tensorflow_version 1.x\n",
        "from keras.datasets import mnist\n",
        "from keras.layers import Input\n",
        "import imageio\n",
        "\n",
        "from __future__ import print_function\n",
        "\n",
        "from keras.datasets import mnist\n",
        "from keras.layers import Convolution2D, MaxPooling2D, Input, Dense, Activation, Flatten\n",
        "from keras.models import Model\n",
        "from keras.utils import to_categorical\n",
        "import os"
      ],
      "execution_count": 5,
      "outputs": [
        {
          "output_type": "stream",
          "text": [
            "Using TensorFlow backend.\n"
          ],
          "name": "stderr"
        }
      ]
    },
    {
      "cell_type": "code",
      "metadata": {
        "id": "aiGGwQVElJNH",
        "colab_type": "code",
        "outputId": "55076a88-c5bd-4543-9f5d-4010f49a1d7e",
        "colab": {
          "base_uri": "https://localhost:8080/",
          "height": 476
        }
      },
      "source": [
        "from tensorflow.python.client import device_lib\n",
        "device_lib.list_local_devices()"
      ],
      "execution_count": 6,
      "outputs": [
        {
          "output_type": "execute_result",
          "data": {
            "text/plain": [
              "[name: \"/device:CPU:0\"\n",
              " device_type: \"CPU\"\n",
              " memory_limit: 268435456\n",
              " locality {\n",
              " }\n",
              " incarnation: 14640310725190579065, name: \"/device:XLA_CPU:0\"\n",
              " device_type: \"XLA_CPU\"\n",
              " memory_limit: 17179869184\n",
              " locality {\n",
              " }\n",
              " incarnation: 8778016146651625765\n",
              " physical_device_desc: \"device: XLA_CPU device\", name: \"/device:XLA_GPU:0\"\n",
              " device_type: \"XLA_GPU\"\n",
              " memory_limit: 17179869184\n",
              " locality {\n",
              " }\n",
              " incarnation: 4263123365289240808\n",
              " physical_device_desc: \"device: XLA_GPU device\", name: \"/device:GPU:0\"\n",
              " device_type: \"GPU\"\n",
              " memory_limit: 15956161332\n",
              " locality {\n",
              "   bus_id: 1\n",
              "   links {\n",
              "   }\n",
              " }\n",
              " incarnation: 8119542745455481165\n",
              " physical_device_desc: \"device: 0, name: Tesla P100-PCIE-16GB, pci bus id: 0000:00:04.0, compute capability: 6.0\"]"
            ]
          },
          "metadata": {
            "tags": []
          },
          "execution_count": 6
        }
      ]
    },
    {
      "cell_type": "code",
      "metadata": {
        "id": "mWQ2M_8glJNM",
        "colab_type": "code",
        "cellView": "code",
        "outputId": "04841f64-cfcd-4489-8886-e162bf2e33d7",
        "colab": {
          "base_uri": "https://localhost:8080/",
          "height": 34
        }
      },
      "source": [
        "#@title デフォルトのタイトル テキスト\n",
        "# DeepXplore のパラメータ設定部\n",
        "# read the parameter\n",
        "# argument parsing\n",
        "parser = argparse.ArgumentParser(description='Main function for difference-inducing input generation in MNIST dataset')\n",
        "parser.add_argument('transformation', help=\"realistic transformation type\", choices=['light', 'occl', 'blackout'])\n",
        "parser.add_argument('weight_diff', help=\"weight hyperparm to control differential behavior\", type=float)\n",
        "parser.add_argument('weight_nc', help=\"weight hyperparm to control neuron coverage\", type=float)\n",
        "parser.add_argument('step', help=\"step size of gradient descent\", type=float)\n",
        "parser.add_argument('seeds', help=\"number of seeds of input\", type=int)\n",
        "parser.add_argument('grad_iterations', help=\"number of iterations of gradient descent\", type=int)\n",
        "parser.add_argument('threshold', help=\"threshold for determining neuron activated\", type=float)\n",
        "parser.add_argument('-t', '--target_model', help=\"target model that we want it predicts differently\",\n",
        "                    choices=[0, 1, 2], default=0, type=int)\n",
        "parser.add_argument('-sp', '--start_point', help=\"occlusion upper left corner coordinate\", default=(0, 0), type=tuple)\n",
        "parser.add_argument('-occl_size', '--occlusion_size', help=\"occlusion size\", default=(10, 10), type=tuple)"
      ],
      "execution_count": 7,
      "outputs": [
        {
          "output_type": "execute_result",
          "data": {
            "text/plain": [
              "_StoreAction(option_strings=['-occl_size', '--occlusion_size'], dest='occlusion_size', nargs=None, const=None, default=(10, 10), type=<class 'tuple'>, choices=None, help='occlusion size', metavar=None)"
            ]
          },
          "metadata": {
            "tags": []
          },
          "execution_count": 7
        }
      ]
    },
    {
      "cell_type": "markdown",
      "metadata": {
        "id": "1Csx_IXrMdMj",
        "colab_type": "text"
      },
      "source": [
        ""
      ]
    },
    {
      "cell_type": "code",
      "metadata": {
        "id": "93KW-VGjMzun",
        "colab_type": "code",
        "cellView": "both",
        "colab": {}
      },
      "source": [
        "#@title ノイズのタイプ light / occl / blackout\n",
        "#@body {light,occl,blackout} weight_diff weight_nc step seeds\n",
        "#                   grad_iterations threshold\n",
        "noise_type = \"light\" #@param [\"light\", \"occl\", \"blackout\"]\n",
        "weight_diff = \"0.1\" #@param {type:\"string\"}\n",
        "weight_nc = \"0.1\" #@param {type:\"string\"}\n",
        "step = \"20\" #@param {type:\"string\"}　#50だとほぼ白飛び\n",
        "seeds = \"100\" #@param {type:\"string\"}\n",
        "grad_iterations = \"10\" #@param {type:\"string\"}\n",
        "threshold = \"0.1\" #@param {type:\"string\"}"
      ],
      "execution_count": 0,
      "outputs": []
    },
    {
      "cell_type": "code",
      "metadata": {
        "id": "Szk80fCuPts9",
        "colab_type": "code",
        "colab": {}
      },
      "source": [
        "args = parser.parse_args([noise_type, weight_diff, weight_nc, step, seeds, grad_iterations, threshold])"
      ],
      "execution_count": 0,
      "outputs": []
    },
    {
      "cell_type": "code",
      "metadata": {
        "id": "1tTYrllplJNQ",
        "colab_type": "code",
        "colab": {}
      },
      "source": [
        "import random\n",
        "from collections import defaultdict\n",
        "\n",
        "import numpy as np\n",
        "from keras import backend as K\n",
        "from keras.models import Model\n",
        "\n",
        "\n",
        "# util function to convert a tensor into a valid image\n",
        "def deprocess_image(x):\n",
        "    x *= 255\n",
        "    x = np.clip(x, 0, 255).astype('uint8')\n",
        "    return x.reshape(x.shape[1], x.shape[2])  # original shape (1,img_rows, img_cols,1)\n",
        "\n",
        "\n",
        "def normalize(x):\n",
        "    # utility function to normalize a tensor by its L2 norm\n",
        "    return x / (K.sqrt(K.mean(K.square(x))) + 1e-5)\n",
        "\n",
        "\n",
        "def constraint_occl(gradients, start_point, rect_shape):\n",
        "    new_grads = np.zeros_like(gradients)\n",
        "    new_grads[:, start_point[0]:start_point[0] + rect_shape[0],\n",
        "    start_point[1]:start_point[1] + rect_shape[1]] = gradients[:, start_point[0]:start_point[0] + rect_shape[0],\n",
        "                                                     start_point[1]:start_point[1] + rect_shape[1]]\n",
        "    return new_grads\n",
        "\n",
        "\n",
        "def constraint_light(gradients):\n",
        "    new_grads = np.ones_like(gradients)\n",
        "    grad_mean = np.mean(gradients)\n",
        "    return grad_mean * new_grads\n",
        "\n",
        "\n",
        "def constraint_black(gradients, rect_shape=(6, 6)):\n",
        "    start_point = (\n",
        "        random.randint(0, gradients.shape[1] - rect_shape[0]), random.randint(0, gradients.shape[2] - rect_shape[1]))\n",
        "    new_grads = np.zeros_like(gradients)\n",
        "    patch = gradients[:, start_point[0]:start_point[0] + rect_shape[0], start_point[1]:start_point[1] + rect_shape[1]]\n",
        "    if np.mean(patch) < 0:\n",
        "        new_grads[:, start_point[0]:start_point[0] + rect_shape[0],\n",
        "        start_point[1]:start_point[1] + rect_shape[1]] = -np.ones_like(patch)\n",
        "    return new_grads\n",
        "\n",
        "\n",
        "def init_coverage_tables(model1, model2, model3):\n",
        "    model_layer_dict1 = defaultdict(bool)\n",
        "    model_layer_dict2 = defaultdict(bool)\n",
        "    model_layer_dict3 = defaultdict(bool)\n",
        "    init_dict(model1, model_layer_dict1)\n",
        "    init_dict(model2, model_layer_dict2)\n",
        "    init_dict(model3, model_layer_dict3)\n",
        "    return model_layer_dict1, model_layer_dict2, model_layer_dict3\n",
        "\n",
        "\n",
        "def init_dict(model, model_layer_dict):\n",
        "    for layer in model.layers:\n",
        "        if 'flatten' in layer.name or 'input' in layer.name:\n",
        "            continue\n",
        "        for index in range(layer.output_shape[-1]):\n",
        "            model_layer_dict[(layer.name, index)] = False\n",
        "\n",
        "\n",
        "def neuron_to_cover(model_layer_dict):\n",
        "    not_covered = [(layer_name, index) for (layer_name, index), v in model_layer_dict.items() if not v]\n",
        "    if not_covered:\n",
        "        layer_name, index = random.choice(not_covered)\n",
        "    else:\n",
        "        layer_name, index = random.choice(model_layer_dict.keys())\n",
        "    return layer_name, index\n",
        "\n",
        "\n",
        "def neuron_covered(model_layer_dict):\n",
        "    covered_neurons = len([v for v in model_layer_dict.values() if v])\n",
        "    total_neurons = len(model_layer_dict)\n",
        "    return covered_neurons, total_neurons, covered_neurons / float(total_neurons)\n",
        "\n",
        "\n",
        "def update_coverage(input_data, model, model_layer_dict, threshold=0):\n",
        "    layer_names = [layer.name for layer in model.layers if\n",
        "                   'flatten' not in layer.name and 'input' not in layer.name]\n",
        "\n",
        "    intermediate_layer_model = Model(inputs=model.input,\n",
        "                                     outputs=[model.get_layer(layer_name).output for layer_name in layer_names])\n",
        "    intermediate_layer_outputs = intermediate_layer_model.predict(input_data)\n",
        "\n",
        "    for i, intermediate_layer_output in enumerate(intermediate_layer_outputs):\n",
        "        scaled = scale(intermediate_layer_output[0])\n",
        "        for num_neuron in range(scaled.shape[-1]):\n",
        "            if np.mean(scaled[..., num_neuron]) > threshold and not model_layer_dict[(layer_names[i], num_neuron)]:\n",
        "                model_layer_dict[(layer_names[i], num_neuron)] = True\n",
        "\n",
        "\n",
        "def full_coverage(model_layer_dict):\n",
        "    if False in model_layer_dict.values():\n",
        "        return False\n",
        "    return True\n",
        "\n",
        "\n",
        "def scale(intermediate_layer_output, rmax=1, rmin=0):\n",
        "    X_std = (intermediate_layer_output - intermediate_layer_output.min()) / (\n",
        "        intermediate_layer_output.max() - intermediate_layer_output.min())\n",
        "    X_scaled = X_std * (rmax - rmin) + rmin\n",
        "    return X_scaled\n",
        "\n",
        "\n",
        "def fired(model, layer_name, index, input_data, threshold=0):\n",
        "    intermediate_layer_model = Model(inputs=model.input, outputs=model.get_layer(layer_name).output)\n",
        "    intermediate_layer_output = intermediate_layer_model.predict(input_data)[0]\n",
        "    scaled = scale(intermediate_layer_output)\n",
        "    if np.mean(scaled[..., index]) > threshold:\n",
        "        return True\n",
        "    return False\n",
        "\n",
        "\n",
        "def diverged(predictions1, predictions2, predictions3, target):\n",
        "    #     if predictions2 == predictions3 == target and predictions1 != target:\n",
        "    if not predictions1 == predictions2 == predictions3:\n",
        "        return True\n",
        "    return False\n",
        "\n",
        "\n",
        "#add\n",
        "def list_pictures(directory, ext='jpg|jpeg|bmp|png|ppm'):\n",
        "    return [os.path.join(root, f)\n",
        "            for root, _, files in os.walk(directory) for f in files\n",
        "            if re.match(r'([\\w]+\\.(?:' + ext + '))', f.lower())]"
      ],
      "execution_count": 0,
      "outputs": []
    },
    {
      "cell_type": "code",
      "metadata": {
        "id": "xoRphb5Fl0JT",
        "colab_type": "code",
        "outputId": "a2d3785b-a9f4-430d-a900-5a53443c4314",
        "colab": {
          "base_uri": "https://localhost:8080/",
          "height": 85
        }
      },
      "source": [
        "# input image dimensions\n",
        "img_rows, img_cols = 28, 28\n",
        "# the data, shuffled and split between train and test sets\n",
        "(_, _), (x_test, _) = mnist.load_data()\n",
        "\n",
        "x_test = x_test.reshape(x_test.shape[0], img_rows, img_cols, 1)\n",
        "input_shape = (img_rows, img_cols, 1)\n",
        "\n",
        "x_test = x_test.astype('float32')\n",
        "x_test /= 255\n",
        "\n",
        "# define input tensor as a placeholder\n",
        "input_tensor = Input(shape=input_shape)"
      ],
      "execution_count": 11,
      "outputs": [
        {
          "output_type": "stream",
          "text": [
            "WARNING:tensorflow:From /usr/local/lib/python3.6/dist-packages/keras/backend/tensorflow_backend.py:66: The name tf.get_default_graph is deprecated. Please use tf.compat.v1.get_default_graph instead.\n",
            "\n",
            "WARNING:tensorflow:From /usr/local/lib/python3.6/dist-packages/keras/backend/tensorflow_backend.py:541: The name tf.placeholder is deprecated. Please use tf.compat.v1.placeholder instead.\n",
            "\n"
          ],
          "name": "stdout"
        }
      ]
    },
    {
      "cell_type": "code",
      "metadata": {
        "id": "UDDT47Er6u23",
        "colab_type": "code",
        "outputId": "30a9cfa5-51b0-42af-cbbe-6fcfaa9fed23",
        "colab": {
          "base_uri": "https://localhost:8080/",
          "height": 918
        }
      },
      "source": [
        "'''\n",
        "LeNet-1\n",
        "'''\n",
        "def Model1(input_tensor=None, train=False):\n",
        "    nb_classes = 10\n",
        "    # convolution kernel size\n",
        "    kernel_size = (5, 5)\n",
        "\n",
        "    if train:\n",
        "        batch_size = 256\n",
        "        nb_epoch = 10\n",
        "\n",
        "        # input image dimensions\n",
        "        img_rows, img_cols = 28, 28\n",
        "\n",
        "        # the data, shuffled and split between train and test sets\n",
        "        (x_train, y_train), (x_test, y_test) = mnist.load_data()\n",
        "\n",
        "        print(x_train.shape)\n",
        "        x_train = x_train.reshape(x_train.shape[0], img_rows, img_cols, 1)\n",
        "        x_test = x_test.reshape(x_test.shape[0], img_rows, img_cols, 1)\n",
        "        input_shape = (img_rows, img_cols, 1)\n",
        "\n",
        "        x_train = x_train.astype('float32')\n",
        "        x_test = x_test.astype('float32')\n",
        "        x_train /= 255\n",
        "        x_test /= 255\n",
        "\n",
        "        # convert class vectors to binary class matrices\n",
        "        y_train = to_categorical(y_train, nb_classes)\n",
        "        y_test = to_categorical(y_test, nb_classes)\n",
        "\n",
        "        input_tensor = Input(shape=input_shape)\n",
        "    elif input_tensor is None:\n",
        "        print(bcolors.FAIL + 'you have to proved input_tensor when testing')\n",
        "        exit()\n",
        "\n",
        "    # block1\n",
        "    x = Convolution2D(4, kernel_size, activation='relu', padding='same', name='block1_conv1')(input_tensor)\n",
        "    x = MaxPooling2D(pool_size=(2, 2), name='block1_pool1')(x)\n",
        "\n",
        "    # block2\n",
        "    x = Convolution2D(12, kernel_size, activation='relu', padding='same', name='block2_conv1')(x)\n",
        "    x = MaxPooling2D(pool_size=(2, 2), name='block2_pool1')(x)\n",
        "\n",
        "    x = Flatten(name='flatten')(x)\n",
        "    x = Dense(nb_classes, name='before_softmax')(x)\n",
        "    x = Activation('softmax', name='predictions')(x)\n",
        "\n",
        "    model = Model(input_tensor, x)\n",
        "\n",
        "    if train:\n",
        "        # compiling\n",
        "        model.compile(loss='categorical_crossentropy', optimizer='adadelta', metrics=['accuracy'])\n",
        "\n",
        "        # trainig\n",
        "        model.fit(x_train, y_train, validation_data=(x_test, y_test), batch_size=batch_size, epochs=nb_epoch, verbose=1)\n",
        "        # save model\n",
        "#        model.save_weights('./Model1.h5')\n",
        "        model.save_weights('/content/gdrive/My Drive/ColabNotebooks/test4ai/model/MNIST/Model1.h5')\n",
        "        score = model.evaluate(x_test, y_test, verbose=0)\n",
        "        print('\\n')\n",
        "        print('Overall Test score:', score[0])\n",
        "        print('Overall Test accuracy:', score[1])\n",
        "    else:\n",
        "#        model.load_weights('./Model1.h5')\n",
        "        model.load_weights('/content/gdrive/My Drive/ColabNotebooks/test4ai/model/MNIST/Model1.h5')\n",
        "        print(bcolors.OKBLUE + 'Model1 loaded' + bcolors.ENDC)\n",
        "\n",
        "    return model\n",
        "\n",
        "\n",
        "if __name__ == '__main__':\n",
        "    Model1(train=True)\n"
      ],
      "execution_count": 12,
      "outputs": [
        {
          "output_type": "stream",
          "text": [
            "(60000, 28, 28)\n",
            "WARNING:tensorflow:From /usr/local/lib/python3.6/dist-packages/keras/backend/tensorflow_backend.py:4432: The name tf.random_uniform is deprecated. Please use tf.random.uniform instead.\n",
            "\n",
            "WARNING:tensorflow:From /usr/local/lib/python3.6/dist-packages/keras/backend/tensorflow_backend.py:4267: The name tf.nn.max_pool is deprecated. Please use tf.nn.max_pool2d instead.\n",
            "\n",
            "WARNING:tensorflow:From /usr/local/lib/python3.6/dist-packages/keras/optimizers.py:793: The name tf.train.Optimizer is deprecated. Please use tf.compat.v1.train.Optimizer instead.\n",
            "\n",
            "WARNING:tensorflow:From /usr/local/lib/python3.6/dist-packages/keras/backend/tensorflow_backend.py:3576: The name tf.log is deprecated. Please use tf.math.log instead.\n",
            "\n",
            "WARNING:tensorflow:From /usr/local/lib/python3.6/dist-packages/tensorflow_core/python/ops/math_grad.py:1424: where (from tensorflow.python.ops.array_ops) is deprecated and will be removed in a future version.\n",
            "Instructions for updating:\n",
            "Use tf.where in 2.0, which has the same broadcast rule as np.where\n",
            "WARNING:tensorflow:From /usr/local/lib/python3.6/dist-packages/keras/backend/tensorflow_backend.py:1033: The name tf.assign_add is deprecated. Please use tf.compat.v1.assign_add instead.\n",
            "\n",
            "WARNING:tensorflow:From /usr/local/lib/python3.6/dist-packages/keras/backend/tensorflow_backend.py:1020: The name tf.assign is deprecated. Please use tf.compat.v1.assign instead.\n",
            "\n",
            "WARNING:tensorflow:From /usr/local/lib/python3.6/dist-packages/keras/backend/tensorflow_backend.py:3005: The name tf.Session is deprecated. Please use tf.compat.v1.Session instead.\n",
            "\n",
            "Train on 60000 samples, validate on 10000 samples\n",
            "Epoch 1/10\n",
            "WARNING:tensorflow:From /usr/local/lib/python3.6/dist-packages/keras/backend/tensorflow_backend.py:190: The name tf.get_default_session is deprecated. Please use tf.compat.v1.get_default_session instead.\n",
            "\n",
            "WARNING:tensorflow:From /usr/local/lib/python3.6/dist-packages/keras/backend/tensorflow_backend.py:197: The name tf.ConfigProto is deprecated. Please use tf.compat.v1.ConfigProto instead.\n",
            "\n",
            "WARNING:tensorflow:From /usr/local/lib/python3.6/dist-packages/keras/backend/tensorflow_backend.py:207: The name tf.global_variables is deprecated. Please use tf.compat.v1.global_variables instead.\n",
            "\n",
            "WARNING:tensorflow:From /usr/local/lib/python3.6/dist-packages/keras/backend/tensorflow_backend.py:216: The name tf.is_variable_initialized is deprecated. Please use tf.compat.v1.is_variable_initialized instead.\n",
            "\n",
            "WARNING:tensorflow:From /usr/local/lib/python3.6/dist-packages/keras/backend/tensorflow_backend.py:223: The name tf.variables_initializer is deprecated. Please use tf.compat.v1.variables_initializer instead.\n",
            "\n",
            "60000/60000 [==============================] - 4s 59us/step - loss: 0.4919 - acc: 0.8460 - val_loss: 0.1298 - val_acc: 0.9600\n",
            "Epoch 2/10\n",
            "60000/60000 [==============================] - 1s 21us/step - loss: 0.1175 - acc: 0.9648 - val_loss: 0.1032 - val_acc: 0.9688\n",
            "Epoch 3/10\n",
            "60000/60000 [==============================] - 1s 20us/step - loss: 0.0851 - acc: 0.9740 - val_loss: 0.0660 - val_acc: 0.9794\n",
            "Epoch 4/10\n",
            "60000/60000 [==============================] - 1s 20us/step - loss: 0.0699 - acc: 0.9792 - val_loss: 0.0614 - val_acc: 0.9806\n",
            "Epoch 5/10\n",
            "60000/60000 [==============================] - 1s 21us/step - loss: 0.0606 - acc: 0.9819 - val_loss: 0.0533 - val_acc: 0.9829\n",
            "Epoch 6/10\n",
            "60000/60000 [==============================] - 1s 21us/step - loss: 0.0544 - acc: 0.9836 - val_loss: 0.0560 - val_acc: 0.9818\n",
            "Epoch 7/10\n",
            "60000/60000 [==============================] - 1s 20us/step - loss: 0.0505 - acc: 0.9852 - val_loss: 0.0511 - val_acc: 0.9830\n",
            "Epoch 8/10\n",
            "60000/60000 [==============================] - 1s 21us/step - loss: 0.0463 - acc: 0.9858 - val_loss: 0.0566 - val_acc: 0.9819\n",
            "Epoch 9/10\n",
            "60000/60000 [==============================] - 1s 21us/step - loss: 0.0432 - acc: 0.9868 - val_loss: 0.0496 - val_acc: 0.9828\n",
            "Epoch 10/10\n",
            "60000/60000 [==============================] - 1s 20us/step - loss: 0.0409 - acc: 0.9874 - val_loss: 0.0471 - val_acc: 0.9846\n",
            "\n",
            "\n",
            "Overall Test score: 0.047055332215712405\n",
            "Overall Test accuracy: 0.9846\n"
          ],
          "name": "stdout"
        }
      ]
    },
    {
      "cell_type": "code",
      "metadata": {
        "id": "JU88awZf68JO",
        "colab_type": "code",
        "outputId": "914997dd-297c-4677-c558-ab18d71f05ec",
        "colab": {
          "base_uri": "https://localhost:8080/",
          "height": 442
        }
      },
      "source": [
        "'''\n",
        "LeNet-4\n",
        "'''\n",
        "def Model2(input_tensor=None, train=False):\n",
        "    nb_classes = 10\n",
        "    # convolution kernel size\n",
        "    kernel_size = (5, 5)\n",
        "\n",
        "    if train:\n",
        "        batch_size = 256\n",
        "        nb_epoch = 10\n",
        "\n",
        "        # input image dimensions\n",
        "        img_rows, img_cols = 28, 28\n",
        "\n",
        "        # the data, shuffled and split between train and test sets\n",
        "        (x_train, y_train), (x_test, y_test) = mnist.load_data()\n",
        "\n",
        "        x_train = x_train.reshape(x_train.shape[0], img_rows, img_cols, 1)\n",
        "        x_test = x_test.reshape(x_test.shape[0], img_rows, img_cols, 1)\n",
        "        input_shape = (img_rows, img_cols, 1)\n",
        "\n",
        "        x_train = x_train.astype('float32')\n",
        "        x_test = x_test.astype('float32')\n",
        "        x_train /= 255\n",
        "        x_test /= 255\n",
        "\n",
        "        # convert class vectors to binary class matrices\n",
        "        y_train = to_categorical(y_train, nb_classes)\n",
        "        y_test = to_categorical(y_test, nb_classes)\n",
        "\n",
        "        input_tensor = Input(shape=input_shape)\n",
        "    elif input_tensor is None:\n",
        "        print(bcolors.FAIL + 'you have to proved input_tensor when testing')\n",
        "        exit()\n",
        "\n",
        "    # block1\n",
        "    x = Convolution2D(6, kernel_size, activation='relu', padding='same', name='block1_conv1')(input_tensor)\n",
        "    x = MaxPooling2D(pool_size=(2, 2), name='block1_pool1')(x)\n",
        "\n",
        "    # block2\n",
        "    x = Convolution2D(16, kernel_size, activation='relu', padding='same', name='block2_conv1')(x)\n",
        "    x = MaxPooling2D(pool_size=(2, 2), name='block2_pool1')(x)\n",
        "\n",
        "    x = Flatten(name='flatten')(x)\n",
        "    x = Dense(84, activation='relu', name='fc1')(x)\n",
        "    x = Dense(nb_classes, name='before_softmax')(x)\n",
        "    x = Activation('softmax', name='predictions')(x)\n",
        "\n",
        "    model = Model(input_tensor, x)\n",
        "\n",
        "    if train:\n",
        "        # compiling\n",
        "        model.compile(loss='categorical_crossentropy', optimizer='adadelta', metrics=['accuracy'])\n",
        "\n",
        "        # trainig\n",
        "        model.fit(x_train, y_train, validation_data=(x_test, y_test), batch_size=batch_size, epochs=nb_epoch, verbose=1)\n",
        "        # save model\n",
        "        model.save_weights('./Model2.h5')\n",
        "        score = model.evaluate(x_test, y_test, verbose=0)\n",
        "        print('\\n')\n",
        "        print('Overall Test score:', score[0])\n",
        "        print('Overall Test accuracy:', score[1])\n",
        "    else:\n",
        "        model.load_weights('./Model2.h5')\n",
        "        print(bcolors.OKBLUE + 'Model2 loaded' + bcolors.ENDC)\n",
        "\n",
        "    return model\n",
        "\n",
        "\n",
        "if __name__ == '__main__':\n",
        "    Model2(train=True)\n"
      ],
      "execution_count": 13,
      "outputs": [
        {
          "output_type": "stream",
          "text": [
            "Train on 60000 samples, validate on 10000 samples\n",
            "Epoch 1/10\n",
            "60000/60000 [==============================] - 2s 29us/step - loss: 0.3593 - acc: 0.8900 - val_loss: 0.0933 - val_acc: 0.9729\n",
            "Epoch 2/10\n",
            "60000/60000 [==============================] - 1s 23us/step - loss: 0.0810 - acc: 0.9755 - val_loss: 0.0681 - val_acc: 0.9789\n",
            "Epoch 3/10\n",
            "60000/60000 [==============================] - 1s 23us/step - loss: 0.0587 - acc: 0.9819 - val_loss: 0.0945 - val_acc: 0.9684\n",
            "Epoch 4/10\n",
            "60000/60000 [==============================] - 1s 22us/step - loss: 0.0467 - acc: 0.9853 - val_loss: 0.0479 - val_acc: 0.9845\n",
            "Epoch 5/10\n",
            "60000/60000 [==============================] - 1s 23us/step - loss: 0.0402 - acc: 0.9877 - val_loss: 0.0381 - val_acc: 0.9861\n",
            "Epoch 6/10\n",
            "60000/60000 [==============================] - 1s 22us/step - loss: 0.0334 - acc: 0.9897 - val_loss: 0.0447 - val_acc: 0.9846\n",
            "Epoch 7/10\n",
            "60000/60000 [==============================] - 1s 22us/step - loss: 0.0293 - acc: 0.9907 - val_loss: 0.0389 - val_acc: 0.9874\n",
            "Epoch 8/10\n",
            "60000/60000 [==============================] - 1s 22us/step - loss: 0.0251 - acc: 0.9920 - val_loss: 0.0335 - val_acc: 0.9895\n",
            "Epoch 9/10\n",
            "60000/60000 [==============================] - 1s 22us/step - loss: 0.0217 - acc: 0.9933 - val_loss: 0.0317 - val_acc: 0.9900\n",
            "Epoch 10/10\n",
            "60000/60000 [==============================] - 1s 23us/step - loss: 0.0190 - acc: 0.9937 - val_loss: 0.0289 - val_acc: 0.9911\n",
            "\n",
            "\n",
            "Overall Test score: 0.028897808011685264\n",
            "Overall Test accuracy: 0.9911\n"
          ],
          "name": "stdout"
        }
      ]
    },
    {
      "cell_type": "code",
      "metadata": {
        "id": "ufs67uRN7KYL",
        "colab_type": "code",
        "outputId": "9fce1255-10c4-4a76-c70b-8ab6eecfd6e1",
        "colab": {
          "base_uri": "https://localhost:8080/",
          "height": 442
        }
      },
      "source": [
        "'''\n",
        "LeNet-5\n",
        "'''\n",
        "def Model3(input_tensor=None, train=False):\n",
        "    nb_classes = 10\n",
        "    # convolution kernel size\n",
        "    kernel_size = (5, 5)\n",
        "\n",
        "    if train:\n",
        "        batch_size = 256\n",
        "        nb_epoch = 10\n",
        "\n",
        "        # input image dimensions\n",
        "        img_rows, img_cols = 28, 28\n",
        "\n",
        "        # the data, shuffled and split between train and test sets\n",
        "        (x_train, y_train), (x_test, y_test) = mnist.load_data()\n",
        "\n",
        "        x_train = x_train.reshape(x_train.shape[0], img_rows, img_cols, 1)\n",
        "        x_test = x_test.reshape(x_test.shape[0], img_rows, img_cols, 1)\n",
        "        input_shape = (img_rows, img_cols, 1)\n",
        "\n",
        "        x_train = x_train.astype('float32')\n",
        "        x_test = x_test.astype('float32')\n",
        "        x_train /= 255\n",
        "        x_test /= 255\n",
        "\n",
        "        # convert class vectors to binary class matrices\n",
        "        y_train = to_categorical(y_train, nb_classes)\n",
        "        y_test = to_categorical(y_test, nb_classes)\n",
        "\n",
        "        input_tensor = Input(shape=input_shape)\n",
        "    elif input_tensor is None:\n",
        "        print(bcolors.FAIL + 'you have to proved input_tensor when testing')\n",
        "        exit()\n",
        "\n",
        "    # block1\n",
        "    x = Convolution2D(6, kernel_size, activation='relu', padding='same', name='block1_conv1')(input_tensor)\n",
        "    x = MaxPooling2D(pool_size=(2, 2), name='block1_pool1')(x)\n",
        "\n",
        "    # block2\n",
        "    x = Convolution2D(16, kernel_size, activation='relu', padding='same', name='block2_conv1')(x)\n",
        "    x = MaxPooling2D(pool_size=(2, 2), name='block2_pool1')(x)\n",
        "\n",
        "    x = Flatten(name='flatten')(x)\n",
        "    x = Dense(120, activation='relu', name='fc1')(x)\n",
        "    x = Dense(84, activation='relu', name='fc2')(x)\n",
        "    x = Dense(nb_classes, name='before_softmax')(x)\n",
        "    x = Activation('softmax', name='predictions')(x)\n",
        "\n",
        "    model = Model(input_tensor, x)\n",
        "\n",
        "    if train:\n",
        "        # compiling\n",
        "        model.compile(loss='categorical_crossentropy', optimizer='adadelta', metrics=['accuracy'])\n",
        "\n",
        "        # trainig\n",
        "        model.fit(x_train, y_train, validation_data=(x_test, y_test), batch_size=batch_size, epochs=nb_epoch, verbose=1)\n",
        "        # save model\n",
        "        model.save_weights('./Model3.h5')\n",
        "        score = model.evaluate(x_test, y_test, verbose=0)\n",
        "        print('\\n')\n",
        "        print('Overall Test score:', score[0])\n",
        "        print('Overall Test accuracy:', score[1])\n",
        "    else:\n",
        "        model.load_weights('./Model3.h5')\n",
        "        print(bcolors.OKBLUE + 'Model3 loaded' + bcolors.ENDC)\n",
        "\n",
        "    return model\n",
        "\n",
        "\n",
        "if __name__ == '__main__':\n",
        "    Model3(train=True)\n"
      ],
      "execution_count": 14,
      "outputs": [
        {
          "output_type": "stream",
          "text": [
            "Train on 60000 samples, validate on 10000 samples\n",
            "Epoch 1/10\n",
            "60000/60000 [==============================] - 2s 31us/step - loss: 0.3843 - acc: 0.8777 - val_loss: 0.1173 - val_acc: 0.9606\n",
            "Epoch 2/10\n",
            "60000/60000 [==============================] - 1s 24us/step - loss: 0.0791 - acc: 0.9750 - val_loss: 0.0555 - val_acc: 0.9817\n",
            "Epoch 3/10\n",
            "60000/60000 [==============================] - 1s 24us/step - loss: 0.0558 - acc: 0.9823 - val_loss: 0.0481 - val_acc: 0.9845\n",
            "Epoch 4/10\n",
            "60000/60000 [==============================] - 1s 24us/step - loss: 0.0424 - acc: 0.9863 - val_loss: 0.0396 - val_acc: 0.9863\n",
            "Epoch 5/10\n",
            "60000/60000 [==============================] - 1s 24us/step - loss: 0.0333 - acc: 0.9894 - val_loss: 0.0362 - val_acc: 0.9873\n",
            "Epoch 6/10\n",
            "60000/60000 [==============================] - 2s 25us/step - loss: 0.0284 - acc: 0.9911 - val_loss: 0.0672 - val_acc: 0.9779\n",
            "Epoch 7/10\n",
            "60000/60000 [==============================] - 1s 24us/step - loss: 0.0240 - acc: 0.9924 - val_loss: 0.0314 - val_acc: 0.9901\n",
            "Epoch 8/10\n",
            "60000/60000 [==============================] - 1s 24us/step - loss: 0.0203 - acc: 0.9932 - val_loss: 0.0634 - val_acc: 0.9792\n",
            "Epoch 9/10\n",
            "60000/60000 [==============================] - 1s 24us/step - loss: 0.0171 - acc: 0.9943 - val_loss: 0.0436 - val_acc: 0.9860\n",
            "Epoch 10/10\n",
            "60000/60000 [==============================] - 1s 25us/step - loss: 0.0143 - acc: 0.9954 - val_loss: 0.0397 - val_acc: 0.9877\n",
            "\n",
            "\n",
            "Overall Test score: 0.03968658735411009\n",
            "Overall Test accuracy: 0.9877\n"
          ],
          "name": "stdout"
        }
      ]
    },
    {
      "cell_type": "code",
      "metadata": {
        "id": "7K9QiwlW7WWR",
        "colab_type": "code",
        "outputId": "cb31e4be-ea28-4e8a-9eac-fbd01ac70eaa",
        "colab": {
          "base_uri": "https://localhost:8080/",
          "height": 68
        }
      },
      "source": [
        "model1 = Model1(input_tensor=input_tensor)\n",
        "model2 = Model2(input_tensor=input_tensor)\n",
        "model3 = Model3(input_tensor=input_tensor)\n",
        "model_layer_dict1, model_layer_dict2, model_layer_dict3 = init_coverage_tables(model1, model2, model3)"
      ],
      "execution_count": 15,
      "outputs": [
        {
          "output_type": "stream",
          "text": [
            "\u001b[94mModel1 loaded\u001b[0m\n",
            "\u001b[94mModel2 loaded\u001b[0m\n",
            "\u001b[94mModel3 loaded\u001b[0m\n"
          ],
          "name": "stdout"
        }
      ]
    },
    {
      "cell_type": "code",
      "metadata": {
        "id": "KD6cHroNl43Q",
        "colab_type": "code",
        "colab": {}
      },
      "source": [
        "# start gen inputs\n",
        "# img_paths = list_pictures(data_imagenet_seeds)"
      ],
      "execution_count": 0,
      "outputs": []
    },
    {
      "cell_type": "code",
      "metadata": {
        "id": "brFIdSfL8nHP",
        "colab_type": "code",
        "outputId": "ffebb161-2d5e-4374-db95-86d9b105d4ac",
        "colab": {
          "base_uri": "https://localhost:8080/",
          "height": 204
        }
      },
      "source": [
        "(x_train, y_train), (x_test, y_test) = mnist.load_data()\n",
        "test_per_fig_x = np.array([])\n",
        "test_per_fig_y = np.array([])\n",
        "tests_x = np.array([])\n",
        "tests_y = np.array([])\n",
        "\n",
        "x_train = x_train.astype('float32')\n",
        "x_test = x_test.astype('float32')\n",
        "#x_train = x_train.astype('float')\n",
        "#x_test = x_test.astype('float')\n",
        "x_train /= 255\n",
        "x_test /= 255\n",
        "\n",
        "length = int(args.seeds/10)\n",
        "for i in range(10):\n",
        "  cond = [(x==i) for x in y_test]\n",
        "  test_per_fig_x = x_test[cond]\n",
        "  test_per_fig_y = y_test[cond]\n",
        "  print(i, test_per_fig_x.shape, test_per_fig_x.shape[0]-1000)\n",
        "  tests_x = np.append(tests_x, test_per_fig_x[:length])\n",
        "  tests_y = np.append(tests_y, test_per_fig_y[:length])\n",
        "#  conds = [conds, cond]\n",
        "print(\"check!\", tests_x.shape[0]/28/28/10, \"=\", length, \"equal?\")\n",
        "tests_x = tests_x.reshape(-1,28,28,1)\n",
        "#tests_x = tests_x.reshape(-1,1,28,28,1,)\n",
        "tests_x.shape\n",
        "tests_x = tests_x.astype('float32')"
      ],
      "execution_count": 17,
      "outputs": [
        {
          "output_type": "stream",
          "text": [
            "0 (980, 28, 28) -20\n",
            "1 (1135, 28, 28) 135\n",
            "2 (1032, 28, 28) 32\n",
            "3 (1010, 28, 28) 10\n",
            "4 (982, 28, 28) -18\n",
            "5 (892, 28, 28) -108\n",
            "6 (958, 28, 28) -42\n",
            "7 (1028, 28, 28) 28\n",
            "8 (974, 28, 28) -26\n",
            "9 (1009, 28, 28) 9\n",
            "check! 10.0 = 10 equal?\n"
          ],
          "name": "stdout"
        }
      ]
    },
    {
      "cell_type": "code",
      "metadata": {
        "id": "eyo2SSSz8vkT",
        "colab_type": "code",
        "outputId": "b9de504f-e545-45eb-c0f8-e932d11859b2",
        "colab": {
          "base_uri": "https://localhost:8080/",
          "height": 34
        }
      },
      "source": [
        "x_test.shape"
      ],
      "execution_count": 18,
      "outputs": [
        {
          "output_type": "execute_result",
          "data": {
            "text/plain": [
              "(10000, 28, 28)"
            ]
          },
          "metadata": {
            "tags": []
          },
          "execution_count": 18
        }
      ]
    },
    {
      "cell_type": "code",
      "metadata": {
        "id": "lkfdTZi4mUPf",
        "colab_type": "code",
        "outputId": "121d1709-d295-4dc6-ec08-bdadf7e3b69e",
        "colab": {
          "base_uri": "https://localhost:8080/",
          "height": 1000
        }
      },
      "source": [
        "%%time\n",
        "\n",
        "\n",
        "def neuron_output(input_data, model, model_layer_dict, threshold=0):\n",
        "    layer_names = [layer.name for layer in model.layers if\n",
        "                   'flatten' not in layer.name and 'input' not in layer.name]\n",
        "\n",
        "    intermediate_layer_model = Model(inputs=model.input,\n",
        "                                     outputs=[model.get_layer(layer_name).output for layer_name in layer_names])\n",
        "    intermediate_layer_outputs = intermediate_layer_model.predict(input_data)\n",
        "    \n",
        "    out_list = []\n",
        "    out_list_scale = []\n",
        "    for i, intermediate_layer_output in enumerate(intermediate_layer_outputs):\n",
        "        scaled = scale(intermediate_layer_output[0])\n",
        "        for num_neuron in range(scaled.shape[-1]):\n",
        "            out_list.append(np.mean(intermediate_layer_output[..., num_neuron]))\n",
        "            out_list_scale.append(np.mean(scaled[..., num_neuron]))\n",
        "\n",
        "    return out_list, out_list_scale\n",
        "\n",
        "\n",
        "count_already = 0\n",
        "count_found = 0\n",
        "count_not_found = 0\n",
        "temp_per_nc1 = np.array([])\n",
        "temp_per_nc2 = np.array([])\n",
        "temp_per_nc3 = np.array([])\n",
        "temp_num_nc1 = np.array([])\n",
        "temp_num_nc2 = np.array([])\n",
        "temp_num_nc3 = np.array([])\n",
        "\n",
        "#for each neuron\n",
        "num_neurons1 = neuron_covered(model_layer_dict1)[1]\n",
        "num_neurons2 = neuron_covered(model_layer_dict2)[1]\n",
        "num_neurons3 = neuron_covered(model_layer_dict3)[1]\n",
        "\n",
        "column_tmp1 = list(model_layer_dict1.keys())\n",
        "column_tmp2 = list(model_layer_dict2.keys())\n",
        "column_tmp3 = list(model_layer_dict3.keys())\n",
        "df1 = pd.DataFrame(columns=column_tmp1)\n",
        "df2 = pd.DataFrame(columns=column_tmp2)\n",
        "df3 = pd.DataFrame(columns=column_tmp3)\n",
        "df1_scale = pd.DataFrame(columns=column_tmp1)\n",
        "df2_scale = pd.DataFrame(columns=column_tmp2)\n",
        "df3_scale = pd.DataFrame(columns=column_tmp3)\n",
        "trial = 0\n",
        "\n",
        "for index_fig in range(10):\n",
        "  print(\"figure\"+str(index_fig))\n",
        "  for _ in range(length):\n",
        "      #gen_img = np.expand_dims(random.choice(tests_x), axis=0)\n",
        "      gen_img = np.expand_dims(tests_x[(length*index_fig + _)], axis=0)\n",
        "      orig_img = gen_img.copy()\n",
        "      # first check if input already induces differences\n",
        "      label1, label2, label3 = np.argmax(model1.predict(gen_img)[0]), np.argmax(model2.predict(gen_img)[0]), np.argmax(model3.predict(gen_img)[0])\n",
        "\n",
        "      if not label1 == label2 == label3:\n",
        "          count_already += 1\n",
        "          print(bcolors.OKGREEN + '{}/{}. input already causes different outputs ({},{},{}) at{}/{}: '.format(_, length, label1, label2, label3, count_already, count_already + count_found + count_not_found) + bcolors.ENDC)        \n",
        "          #print(bcolors.OKGREEN + '{}/{}. input already causes different outputs ({},{},{}) at{}/{}: '.format(_, length, label1, label2, label3, count_already, count_already + count_found + count_not_found) + bcolors.ENDC)        \n",
        "\n",
        "          update_coverage(gen_img, model1, model_layer_dict1, args.threshold)\n",
        "          update_coverage(gen_img, model2, model_layer_dict2, args.threshold)\n",
        "          update_coverage(gen_img, model3, model_layer_dict3, args.threshold)\n",
        "\n",
        "          temp_per_nc1=np.append(temp_per_nc1,  neuron_covered(model_layer_dict1)[2])\n",
        "          temp_per_nc2=np.append(temp_per_nc2,  neuron_covered(model_layer_dict2)[2])\n",
        "          temp_per_nc3=np.append(temp_per_nc3,  neuron_covered(model_layer_dict3)[2])\n",
        "          temp_num_nc1=np.append(temp_num_nc1,  neuron_covered(model_layer_dict1)[0])\n",
        "          temp_num_nc2=np.append(temp_num_nc2,  neuron_covered(model_layer_dict2)[0])\n",
        "          temp_num_nc3=np.append(temp_num_nc3,  neuron_covered(model_layer_dict3)[0])\n",
        "                               \n",
        "          print(bcolors.OKGREEN + '     covered neurons percentage %d neurons %.3f, %d neurons %.3f, %d neurons %.3f'% (len(model_layer_dict1), neuron_covered(model_layer_dict1)[2], len(model_layer_dict2),\n",
        "                  neuron_covered(model_layer_dict2)[2], len(model_layer_dict3), neuron_covered(model_layer_dict3)[2]) + bcolors.ENDC)\n",
        "          averaged_nc = (neuron_covered(model_layer_dict1)[0] + neuron_covered(model_layer_dict2)[0] +\n",
        "                       neuron_covered(model_layer_dict3)[0]) / float(neuron_covered(model_layer_dict1)[1] + neuron_covered(model_layer_dict2)[1] +neuron_covered(model_layer_dict3)[1])\n",
        "          print(bcolors.OKGREEN + '     averaged covered neurons %.3f' % (averaged_nc) + bcolors.ENDC)\n",
        "\n",
        "          gen_img_deprocessed = deprocess_image(gen_img)\n",
        "\n",
        "          # save the result to disk\n",
        "          outputfilepath0 = os.path.join(output_dir, 'already_differ_' + str(label1) + '_' + str(label2) + '_' + str(label3) +'_['+ str(_) +  '].png')\n",
        "          imageio.imwrite(outputfilepath0, gen_img_deprocessed)\n",
        "\n",
        "          temp, temp_scale = neuron_output(gen_img, model1, model_layer_dict1, args.threshold)\n",
        "          temp = pd.Series(temp, index=df1.columns, name=str(trial))\n",
        "          temp_scale = pd.Series(temp_scale, index=df1.columns, name=str(trial))\n",
        "          df1 = df1.append(temp)\n",
        "          df1_scale = df1_scale.append(temp_scale)\n",
        "\n",
        "          temp, temp_scale = neuron_output(gen_img, model2, model_layer_dict2, args.threshold)\n",
        "          temp = pd.Series(temp, index=df2.columns, name=str(trial))\n",
        "          temp_scale = pd.Series(temp_scale, index=df2.columns, name=str(trial))\n",
        "          df2 = df2.append(temp)\n",
        "          df2_scale = df2_scale.append(temp_scale)\n",
        "\n",
        "          temp, temp_scale = neuron_output(gen_img, model3, model_layer_dict3, args.threshold)\n",
        "          temp = pd.Series(temp, index=df3.columns, name=str(trial))\n",
        "          temp_scale = pd.Series(temp_scale, index=df3.columns, name=str(trial))\n",
        "\n",
        "          df3 = df3.append(temp)\n",
        "          df3_scale = df3_scale.append(temp_scale)\n",
        "\n",
        "          trial += 1\n",
        "          continue\n",
        "\n",
        "      # if all label agrees\n",
        "      orig_label = label1\n",
        "      layer_name1, index1 = neuron_to_cover(model_layer_dict1)\n",
        "      layer_name2, index2 = neuron_to_cover(model_layer_dict2)\n",
        "      layer_name3, index3 = neuron_to_cover(model_layer_dict3)\n",
        "\n",
        "      # construct joint loss function\n",
        "      if args.target_model == 0:\n",
        "        loss1 = -args.weight_diff * K.mean(model1.get_layer('before_softmax').output[..., orig_label])\n",
        "        loss2 = K.mean(model2.get_layer('before_softmax').output[..., orig_label])\n",
        "        loss3 = K.mean(model3.get_layer('before_softmax').output[..., orig_label])\n",
        "      elif args.target_model == 1:\n",
        "        loss1 = K.mean(model1.get_layer('before_softmax').output[..., orig_label])\n",
        "        loss2 = -args.weight_diff * K.mean(model2.get_layer('before_softmax').output[..., orig_label])\n",
        "        loss3 = K.mean(model3.get_layer('before_softmax').output[..., orig_label])\n",
        "      elif args.target_model == 2:\n",
        "        loss1 = K.mean(model1.get_layer('before_softmax').output[..., orig_label])\n",
        "        loss2 = K.mean(model2.get_layer('before_softmax').output[..., orig_label])\n",
        "        loss3 = -args.weight_diff * K.mean(model3.get_layer('before_softmax').output[..., orig_label])\n",
        "      loss1_neuron = K.mean(model1.get_layer(layer_name1).output[..., index1])\n",
        "      loss2_neuron = K.mean(model2.get_layer(layer_name2).output[..., index2])\n",
        "      loss3_neuron = K.mean(model3.get_layer(layer_name3).output[..., index3])\n",
        "      layer_output = (loss1 + loss2 + loss3) + args.weight_nc * (loss1_neuron + loss2_neuron + loss3_neuron)\n",
        "\n",
        "      # for adversarial image generation\n",
        "      final_loss = K.mean(layer_output)\n",
        "\n",
        "      # we compute the gradient of the input picture wrt this loss\n",
        "      grads = normalize(K.gradients(final_loss, input_tensor)[0])\n",
        "\n",
        "      # this function returns the loss and grads given the input picture\n",
        "      iterate = K.function([input_tensor], [loss1, loss2, loss3, loss1_neuron, loss2_neuron, loss3_neuron, grads])\n",
        "\n",
        "      # we run gradient ascent for some steps\n",
        "      for iters in range(args.grad_iterations):\n",
        "        loss_value1, loss_value2, loss_value3, loss_neuron1, loss_neuron2, loss_neuron3, grads_value = iterate(\n",
        "            [gen_img])\n",
        "        if args.transformation == 'light':\n",
        "            grads_value = constraint_light(grads_value)  # constraint the gradients value\n",
        "        elif args.transformation == 'occl':\n",
        "            grads_value = constraint_occl(grads_value, args.start_point,\n",
        "                                          args.occlusion_size)  # constraint the gradients value\n",
        "        elif args.transformation == 'blackout':\n",
        "            grads_value = constraint_black(grads_value)  # constraint the gradients value\n",
        "\n",
        "        gen_img += grads_value * args.step\n",
        "        predictions1 = np.argmax(model1.predict(gen_img)[0])\n",
        "        predictions2 = np.argmax(model2.predict(gen_img)[0])\n",
        "        predictions3 = np.argmax(model3.predict(gen_img)[0])\n",
        "\n",
        "        if not predictions1 == predictions2 == predictions3:\n",
        "            update_coverage(gen_img, model1, model_layer_dict1, args.threshold)\n",
        "            update_coverage(gen_img, model2, model_layer_dict2, args.threshold)\n",
        "            update_coverage(gen_img, model3, model_layer_dict3, args.threshold)\n",
        "            count_found += 1\n",
        "            print(bcolors.OKBLUE + '%4d/%d. found at %d! covered neurons percentage %d neurons %.3f, %d neurons %.3f, %d neurons %.3f at %d/%d'\n",
        "#                  % (_, args.seeds, iters, len(model_layer_dict1), neuron_covered(model_layer_dict1)[2], len(model_layer_dict2),\n",
        "                  % (_, length, iters, len(model_layer_dict1), neuron_covered(model_layer_dict1)[2], len(model_layer_dict2),\n",
        "                     neuron_covered(model_layer_dict2)[2], len(model_layer_dict3),\n",
        "                     neuron_covered(model_layer_dict3)[2], count_found, count_already + count_found + count_not_found) + bcolors.ENDC)\n",
        "            averaged_nc = (neuron_covered(model_layer_dict1)[0] + neuron_covered(model_layer_dict2)[0] +\n",
        "                           neuron_covered(model_layer_dict3)[0]) / float(\n",
        "                neuron_covered(model_layer_dict1)[1] + neuron_covered(model_layer_dict2)[1] +\n",
        "                neuron_covered(model_layer_dict3)[1])\n",
        "            print(bcolors.OKBLUE + '     averaged covered neurons %.3f' % averaged_nc + bcolors.ENDC)\n",
        "\n",
        "            gen_img_deprocessed = deprocess_image(gen_img)\n",
        "            orig_img_deprocessed = deprocess_image(orig_img)\n",
        "\n",
        "            # save the result to disk\n",
        "            #outputfilepath = os.path.join(output_dir, args.transformation + '_' + str(label1) + '_' + str(label2) + '_' + str(label3) + '.png')\n",
        "            outputfilepath = os.path.join(output_dir, args.transformation + '_from' + str(label1) + '_to' + str(predictions1) + '_'  + str(predictions2) + '_' + str(predictions3) +'_['+ str(_) +  '].png')\n",
        "            #print(outputfilepath)\n",
        "            imageio.imwrite(outputfilepath, gen_img_deprocessed)\n",
        "#            outputfilepath2 = os.path.join(output_dir, args.transformation + '_' + str(label1) + '_' + str(label2) + '_' + str(label3) + '_orig.png')\n",
        "            outputfilepath2 = os.path.join(output_dir, args.transformation + '_from' + str(label1) + '_to' + str(predictions1) + '_'  + str(predictions2) + '_' + str(predictions3) +'_['+ str(_) +  ']_orig.png')\n",
        "            #print(outputfilepath2)\n",
        "            imageio.imwrite(outputfilepath2, orig_img_deprocessed)\n",
        "            temp_per_nc1=np.append(temp_per_nc1,  neuron_covered(model_layer_dict1)[2])\n",
        "            temp_per_nc2=np.append(temp_per_nc2,  neuron_covered(model_layer_dict2)[2])\n",
        "            temp_per_nc3=np.append(temp_per_nc3,  neuron_covered(model_layer_dict3)[2])\n",
        "            temp_num_nc1=np.append(temp_num_nc1,  neuron_covered(model_layer_dict1)[0])\n",
        "            temp_num_nc2=np.append(temp_num_nc2,  neuron_covered(model_layer_dict2)[0])\n",
        "            temp_num_nc3=np.append(temp_num_nc3,  neuron_covered(model_layer_dict3)[0])\n",
        "\n",
        "            temp, temp_scale = neuron_output(gen_img, model1, model_layer_dict1, args.threshold)\n",
        "            temp = pd.Series(temp, index=df1.columns, name=str(trial))\n",
        "            temp_scale = pd.Series(temp_scale, index=df1.columns, name=str(trial))\n",
        "            df1 = df1.append(temp)\n",
        "            df1_scale = df1_scale.append(temp_scale)\n",
        "\n",
        "            temp, temp_scale = neuron_output(gen_img, model2, model_layer_dict2, args.threshold)\n",
        "            temp = pd.Series(temp, index=df2.columns, name=str(trial))\n",
        "            temp_scale = pd.Series(temp_scale, index=df2.columns, name=str(trial))\n",
        "            df2 = df2.append(temp)\n",
        "            df2_scale = df2_scale.append(temp_scale)\n",
        "\n",
        "            temp, temp_scale = neuron_output(gen_img, model3, model_layer_dict3, args.threshold)\n",
        "            temp = pd.Series(temp, index=df3.columns, name=str(trial))\n",
        "            temp_scale = pd.Series(temp_scale, index=df3.columns, name=str(trial))\n",
        "\n",
        "            df3 = df3.append(temp)\n",
        "            df3_scale = df3_scale.append(temp_scale)\n",
        "\n",
        "            trial += 1\n",
        "            break\n",
        "          \n",
        "          #add\n",
        "        if iters == (args.grad_iterations-1):\n",
        "            update_coverage(gen_img, model1, model_layer_dict1, args.threshold)\n",
        "            update_coverage(gen_img, model2, model_layer_dict2, args.threshold)\n",
        "            update_coverage(gen_img, model3, model_layer_dict3, args.threshold)\n",
        "            averaged_nc = (neuron_covered(model_layer_dict1)[0] + neuron_covered(model_layer_dict2)[0] +\n",
        "                           neuron_covered(model_layer_dict3)[0]) / float(neuron_covered(model_layer_dict1)[1] + neuron_covered(model_layer_dict2)[1] +\n",
        "                neuron_covered(model_layer_dict3)[1])\n",
        "            count_not_found += 1\n",
        "#              print('%4d/%d. test suite was not found: averaged covered neurons %.3f at %d/%d' % (_, args.seeds, averaged_nc, count_not_found, count_already + count_found + count_not_found))\n",
        "            print('%4d/%d. test suite was not found: averaged covered neurons %.3f at %d/%d' % (_, length, averaged_nc, count_not_found, count_already + count_found + count_not_found))\n",
        "\n",
        "            gen_img_deprocessed = deprocess_image(gen_img)\n",
        "            #orig_img_deprocessed = deprocess_image(orig_img)\n",
        "\n",
        "            # save the result to disk\n",
        "            #outputfilepath = os.path.join(output_dir, args.transformation + '_' + str(label1) + '_' + str(label2) + '_' + str(label3) + '.png')\n",
        "            outputfilepath = os.path.join(output_dir, 'not_found_' + str(label1)+'_['+ str(_) + '].png')\n",
        "#           print(outputfilepath)\n",
        "            imageio.imwrite(outputfilepath, gen_img_deprocessed)\n",
        "\n",
        "            \n",
        "            temp, temp_scale = neuron_output(gen_img, model1, model_layer_dict1, args.threshold)\n",
        "            temp = pd.Series(temp, index=df1.columns, name=str(trial))\n",
        "            temp_scale = pd.Series(temp_scale, index=df1.columns, name=str(trial))\n",
        "            df1 = df1.append(temp)\n",
        "            df1_scale = df1_scale.append(temp_scale)\n",
        "\n",
        "            temp, temp_scale = neuron_output(gen_img, model2, model_layer_dict2, args.threshold)\n",
        "            temp = pd.Series(temp, index=df2.columns, name=str(trial))\n",
        "            temp_scale = pd.Series(temp_scale, index=df2.columns, name=str(trial))\n",
        "            df2 = df2.append(temp)\n",
        "            df2_scale = df2_scale.append(temp_scale)\n",
        "\n",
        "            temp, temp_scale = neuron_output(gen_img, model3, model_layer_dict3, args.threshold)\n",
        "            temp = pd.Series(temp, index=df3.columns, name=str(trial))\n",
        "            temp_scale = pd.Series(temp_scale, index=df3.columns, name=str(trial))\n",
        "\n",
        "            df3 = df3.append(temp)\n",
        "            df3_scale = df3_scale.append(temp_scale)\n",
        "\n",
        "            trial += 1\n",
        "            \n",
        "            #break\n",
        "\n",
        "            temp_per_nc1=np.append(temp_per_nc1,  neuron_covered(model_layer_dict1)[2])\n",
        "            temp_per_nc2=np.append(temp_per_nc2,  neuron_covered(model_layer_dict2)[2])\n",
        "            temp_per_nc3=np.append(temp_per_nc3,  neuron_covered(model_layer_dict3)[2])\n",
        "            temp_num_nc1=np.append(temp_num_nc1,  neuron_covered(model_layer_dict1)[0])\n",
        "            temp_num_nc2=np.append(temp_num_nc2,  neuron_covered(model_layer_dict2)[0])\n",
        "            temp_num_nc3=np.append(temp_num_nc3,  neuron_covered(model_layer_dict3)[0])\n",
        "\n",
        "temp_per_nc1=temp_per_nc1.reshape(10, length)\n",
        "temp_per_nc2=temp_per_nc2.reshape(10, length)\n",
        "temp_per_nc3=temp_per_nc3.reshape(10, length)\n",
        "temp_num_nc1=temp_num_nc1.reshape(10, length)\n",
        "temp_num_nc2=temp_num_nc2.reshape(10, length)\n",
        "temp_num_nc3=temp_num_nc3.reshape(10, length)"
      ],
      "execution_count": 19,
      "outputs": [
        {
          "output_type": "stream",
          "text": [
            "figure0\n",
            "\u001b[94m   0/10. found at 0! covered neurons percentage 52 neurons 0.327, 148 neurons 0.473, 268 neurons 0.444 at 1/1\u001b[0m\n",
            "\u001b[94m     averaged covered neurons 0.440\u001b[0m\n",
            "\u001b[94m   1/10. found at 1! covered neurons percentage 52 neurons 0.423, 148 neurons 0.561, 268 neurons 0.526 at 2/2\u001b[0m\n",
            "\u001b[94m     averaged covered neurons 0.526\u001b[0m\n",
            "\u001b[94m   2/10. found at 8! covered neurons percentage 52 neurons 0.481, 148 neurons 0.581, 268 neurons 0.560 at 3/3\u001b[0m\n",
            "\u001b[94m     averaged covered neurons 0.558\u001b[0m\n",
            "\u001b[94m   3/10. found at 2! covered neurons percentage 52 neurons 0.481, 148 neurons 0.595, 268 neurons 0.575 at 4/4\u001b[0m\n",
            "\u001b[94m     averaged covered neurons 0.571\u001b[0m\n",
            "\u001b[94m   4/10. found at 0! covered neurons percentage 52 neurons 0.481, 148 neurons 0.608, 268 neurons 0.582 at 5/5\u001b[0m\n",
            "\u001b[94m     averaged covered neurons 0.579\u001b[0m\n",
            "\u001b[94m   5/10. found at 3! covered neurons percentage 52 neurons 0.481, 148 neurons 0.622, 268 neurons 0.590 at 6/6\u001b[0m\n",
            "\u001b[94m     averaged covered neurons 0.588\u001b[0m\n",
            "\u001b[94m   6/10. found at 7! covered neurons percentage 52 neurons 0.481, 148 neurons 0.642, 268 neurons 0.612 at 7/7\u001b[0m\n",
            "\u001b[94m     averaged covered neurons 0.607\u001b[0m\n",
            "\u001b[94m   7/10. found at 3! covered neurons percentage 52 neurons 0.481, 148 neurons 0.642, 268 neurons 0.619 at 8/8\u001b[0m\n",
            "\u001b[94m     averaged covered neurons 0.611\u001b[0m\n",
            "\u001b[94m   8/10. found at 1! covered neurons percentage 52 neurons 0.827, 148 neurons 0.730, 268 neurons 0.720 at 9/9\u001b[0m\n",
            "\u001b[94m     averaged covered neurons 0.735\u001b[0m\n",
            "\u001b[94m   9/10. found at 1! covered neurons percentage 52 neurons 0.827, 148 neurons 0.736, 268 neurons 0.735 at 10/10\u001b[0m\n",
            "\u001b[94m     averaged covered neurons 0.746\u001b[0m\n",
            "figure1\n",
            "\u001b[94m   0/10. found at 1! covered neurons percentage 52 neurons 0.865, 148 neurons 0.764, 268 neurons 0.795 at 11/11\u001b[0m\n",
            "\u001b[94m     averaged covered neurons 0.793\u001b[0m\n",
            "\u001b[94m   1/10. found at 1! covered neurons percentage 52 neurons 0.865, 148 neurons 0.777, 268 neurons 0.802 at 12/12\u001b[0m\n",
            "\u001b[94m     averaged covered neurons 0.801\u001b[0m\n",
            "\u001b[94m   2/10. found at 2! covered neurons percentage 52 neurons 0.904, 148 neurons 0.804, 268 neurons 0.821 at 13/13\u001b[0m\n",
            "\u001b[94m     averaged covered neurons 0.825\u001b[0m\n",
            "\u001b[94m   3/10. found at 1! covered neurons percentage 52 neurons 0.904, 148 neurons 0.811, 268 neurons 0.828 at 14/14\u001b[0m\n",
            "\u001b[94m     averaged covered neurons 0.831\u001b[0m\n",
            "\u001b[94m   4/10. found at 1! covered neurons percentage 52 neurons 0.904, 148 neurons 0.811, 268 neurons 0.828 at 15/15\u001b[0m\n",
            "\u001b[94m     averaged covered neurons 0.831\u001b[0m\n",
            "\u001b[94m   5/10. found at 2! covered neurons percentage 52 neurons 0.904, 148 neurons 0.811, 268 neurons 0.832 at 16/16\u001b[0m\n",
            "\u001b[94m     averaged covered neurons 0.833\u001b[0m\n",
            "\u001b[94m   6/10. found at 2! covered neurons percentage 52 neurons 0.904, 148 neurons 0.811, 268 neurons 0.832 at 17/17\u001b[0m\n",
            "\u001b[94m     averaged covered neurons 0.833\u001b[0m\n",
            "\u001b[94m   7/10. found at 0! covered neurons percentage 52 neurons 0.904, 148 neurons 0.811, 268 neurons 0.832 at 18/18\u001b[0m\n",
            "\u001b[94m     averaged covered neurons 0.833\u001b[0m\n",
            "\u001b[94m   8/10. found at 0! covered neurons percentage 52 neurons 0.904, 148 neurons 0.831, 268 neurons 0.840 at 19/19\u001b[0m\n",
            "\u001b[94m     averaged covered neurons 0.844\u001b[0m\n",
            "\u001b[94m   9/10. found at 2! covered neurons percentage 52 neurons 0.904, 148 neurons 0.838, 268 neurons 0.843 at 20/20\u001b[0m\n",
            "\u001b[94m     averaged covered neurons 0.848\u001b[0m\n",
            "figure2\n",
            "   0/10. test suite was not found: averaged covered neurons 0.865 at 1/21\n",
            "\u001b[94m   1/10. found at 9! covered neurons percentage 52 neurons 0.904, 148 neurons 0.872, 268 neurons 0.862 at 21/22\u001b[0m\n",
            "\u001b[94m     averaged covered neurons 0.870\u001b[0m\n",
            "\u001b[94m   2/10. found at 3! covered neurons percentage 52 neurons 0.904, 148 neurons 0.872, 268 neurons 0.862 at 22/23\u001b[0m\n",
            "\u001b[94m     averaged covered neurons 0.870\u001b[0m\n",
            "\u001b[94m   3/10. found at 1! covered neurons percentage 52 neurons 0.904, 148 neurons 0.872, 268 neurons 0.873 at 23/24\u001b[0m\n",
            "\u001b[94m     averaged covered neurons 0.876\u001b[0m\n",
            "\u001b[94m   4/10. found at 1! covered neurons percentage 52 neurons 0.904, 148 neurons 0.872, 268 neurons 0.873 at 24/25\u001b[0m\n",
            "\u001b[94m     averaged covered neurons 0.876\u001b[0m\n",
            "\u001b[94m   5/10. found at 1! covered neurons percentage 52 neurons 0.904, 148 neurons 0.878, 268 neurons 0.873 at 25/26\u001b[0m\n",
            "\u001b[94m     averaged covered neurons 0.878\u001b[0m\n",
            "\u001b[94m   6/10. found at 1! covered neurons percentage 52 neurons 0.904, 148 neurons 0.878, 268 neurons 0.877 at 26/27\u001b[0m\n",
            "\u001b[94m     averaged covered neurons 0.880\u001b[0m\n",
            "   7/10. test suite was not found: averaged covered neurons 0.880 at 2/28\n",
            "\u001b[94m   8/10. found at 1! covered neurons percentage 52 neurons 0.904, 148 neurons 0.878, 268 neurons 0.877 at 27/29\u001b[0m\n",
            "\u001b[94m     averaged covered neurons 0.880\u001b[0m\n",
            "\u001b[94m   9/10. found at 4! covered neurons percentage 52 neurons 0.904, 148 neurons 0.878, 268 neurons 0.888 at 28/30\u001b[0m\n",
            "\u001b[94m     averaged covered neurons 0.887\u001b[0m\n",
            "figure3\n",
            "\u001b[94m   0/10. found at 1! covered neurons percentage 52 neurons 0.904, 148 neurons 0.885, 268 neurons 0.892 at 29/31\u001b[0m\n",
            "\u001b[94m     averaged covered neurons 0.891\u001b[0m\n",
            "\u001b[94m   1/10. found at 0! covered neurons percentage 52 neurons 0.904, 148 neurons 0.885, 268 neurons 0.892 at 30/32\u001b[0m\n",
            "\u001b[94m     averaged covered neurons 0.891\u001b[0m\n",
            "\u001b[94m   2/10. found at 3! covered neurons percentage 52 neurons 0.904, 148 neurons 0.885, 268 neurons 0.892 at 31/33\u001b[0m\n",
            "\u001b[94m     averaged covered neurons 0.891\u001b[0m\n",
            "\u001b[94m   3/10. found at 0! covered neurons percentage 52 neurons 0.904, 148 neurons 0.892, 268 neurons 0.892 at 32/34\u001b[0m\n",
            "\u001b[94m     averaged covered neurons 0.893\u001b[0m\n",
            "\u001b[94m   4/10. found at 4! covered neurons percentage 52 neurons 0.904, 148 neurons 0.892, 268 neurons 0.892 at 33/35\u001b[0m\n",
            "\u001b[94m     averaged covered neurons 0.893\u001b[0m\n",
            "\u001b[94m   5/10. found at 7! covered neurons percentage 52 neurons 0.923, 148 neurons 0.899, 268 neurons 0.892 at 34/36\u001b[0m\n",
            "\u001b[94m     averaged covered neurons 0.897\u001b[0m\n",
            "\u001b[94m   6/10. found at 4! covered neurons percentage 52 neurons 0.923, 148 neurons 0.899, 268 neurons 0.892 at 35/37\u001b[0m\n",
            "\u001b[94m     averaged covered neurons 0.897\u001b[0m\n",
            "\u001b[94m   7/10. found at 0! covered neurons percentage 52 neurons 0.923, 148 neurons 0.899, 268 neurons 0.892 at 36/38\u001b[0m\n",
            "\u001b[94m     averaged covered neurons 0.897\u001b[0m\n",
            "\u001b[94m   8/10. found at 0! covered neurons percentage 52 neurons 0.923, 148 neurons 0.899, 268 neurons 0.896 at 37/39\u001b[0m\n",
            "\u001b[94m     averaged covered neurons 0.900\u001b[0m\n",
            "\u001b[94m   9/10. found at 0! covered neurons percentage 52 neurons 0.923, 148 neurons 0.899, 268 neurons 0.896 at 38/40\u001b[0m\n",
            "\u001b[94m     averaged covered neurons 0.900\u001b[0m\n",
            "figure4\n",
            "   0/10. test suite was not found: averaged covered neurons 0.906 at 3/41\n",
            "\u001b[94m   1/10. found at 1! covered neurons percentage 52 neurons 0.923, 148 neurons 0.899, 268 neurons 0.910 at 39/42\u001b[0m\n",
            "\u001b[94m     averaged covered neurons 0.908\u001b[0m\n",
            "\u001b[94m   2/10. found at 1! covered neurons percentage 52 neurons 0.923, 148 neurons 0.899, 268 neurons 0.910 at 40/43\u001b[0m\n",
            "\u001b[94m     averaged covered neurons 0.908\u001b[0m\n",
            "\u001b[94m   3/10. found at 6! covered neurons percentage 52 neurons 0.923, 148 neurons 0.899, 268 neurons 0.910 at 41/44\u001b[0m\n",
            "\u001b[94m     averaged covered neurons 0.908\u001b[0m\n",
            "   4/10. test suite was not found: averaged covered neurons 0.908 at 4/45\n",
            "\u001b[94m   5/10. found at 1! covered neurons percentage 52 neurons 0.923, 148 neurons 0.899, 268 neurons 0.910 at 42/46\u001b[0m\n",
            "\u001b[94m     averaged covered neurons 0.908\u001b[0m\n",
            "\u001b[94m   6/10. found at 1! covered neurons percentage 52 neurons 0.923, 148 neurons 0.899, 268 neurons 0.910 at 43/47\u001b[0m\n",
            "\u001b[94m     averaged covered neurons 0.908\u001b[0m\n",
            "\u001b[94m   7/10. found at 5! covered neurons percentage 52 neurons 0.923, 148 neurons 0.899, 268 neurons 0.910 at 44/48\u001b[0m\n",
            "\u001b[94m     averaged covered neurons 0.908\u001b[0m\n",
            "   8/10. test suite was not found: averaged covered neurons 0.908 at 5/49\n",
            "   9/10. test suite was not found: averaged covered neurons 0.910 at 6/50\n",
            "figure5\n",
            "\u001b[94m   0/10. found at 0! covered neurons percentage 52 neurons 0.923, 148 neurons 0.899, 268 neurons 0.918 at 45/51\u001b[0m\n",
            "\u001b[94m     averaged covered neurons 0.912\u001b[0m\n",
            "\u001b[94m   1/10. found at 1! covered neurons percentage 52 neurons 0.942, 148 neurons 0.899, 268 neurons 0.918 at 46/52\u001b[0m\n",
            "\u001b[94m     averaged covered neurons 0.915\u001b[0m\n",
            "\u001b[94m   2/10. found at 0! covered neurons percentage 52 neurons 0.942, 148 neurons 0.899, 268 neurons 0.918 at 47/53\u001b[0m\n",
            "\u001b[94m     averaged covered neurons 0.915\u001b[0m\n",
            "\u001b[94m   3/10. found at 0! covered neurons percentage 52 neurons 0.942, 148 neurons 0.899, 268 neurons 0.918 at 48/54\u001b[0m\n",
            "\u001b[94m     averaged covered neurons 0.915\u001b[0m\n",
            "\u001b[94m   4/10. found at 7! covered neurons percentage 52 neurons 0.942, 148 neurons 0.899, 268 neurons 0.918 at 49/55\u001b[0m\n",
            "\u001b[94m     averaged covered neurons 0.915\u001b[0m\n",
            "\u001b[94m   5/10. found at 1! covered neurons percentage 52 neurons 0.942, 148 neurons 0.899, 268 neurons 0.918 at 50/56\u001b[0m\n",
            "\u001b[94m     averaged covered neurons 0.915\u001b[0m\n",
            "\u001b[94m   6/10. found at 4! covered neurons percentage 52 neurons 0.942, 148 neurons 0.899, 268 neurons 0.918 at 51/57\u001b[0m\n",
            "\u001b[94m     averaged covered neurons 0.915\u001b[0m\n",
            "\u001b[94m   7/10. found at 2! covered neurons percentage 52 neurons 0.942, 148 neurons 0.899, 268 neurons 0.918 at 52/58\u001b[0m\n",
            "\u001b[94m     averaged covered neurons 0.915\u001b[0m\n",
            "\u001b[94m   8/10. found at 0! covered neurons percentage 52 neurons 0.942, 148 neurons 0.899, 268 neurons 0.918 at 53/59\u001b[0m\n",
            "\u001b[94m     averaged covered neurons 0.915\u001b[0m\n",
            "\u001b[94m   9/10. found at 0! covered neurons percentage 52 neurons 0.942, 148 neurons 0.899, 268 neurons 0.918 at 54/60\u001b[0m\n",
            "\u001b[94m     averaged covered neurons 0.915\u001b[0m\n",
            "figure6\n",
            "\u001b[94m   0/10. found at 0! covered neurons percentage 52 neurons 0.942, 148 neurons 0.905, 268 neurons 0.918 at 55/61\u001b[0m\n",
            "\u001b[94m     averaged covered neurons 0.917\u001b[0m\n",
            "\u001b[94m   1/10. found at 1! covered neurons percentage 52 neurons 0.942, 148 neurons 0.905, 268 neurons 0.918 at 56/62\u001b[0m\n",
            "\u001b[94m     averaged covered neurons 0.917\u001b[0m\n",
            "\u001b[94m   2/10. found at 3! covered neurons percentage 52 neurons 0.942, 148 neurons 0.905, 268 neurons 0.918 at 57/63\u001b[0m\n",
            "\u001b[94m     averaged covered neurons 0.917\u001b[0m\n",
            "\u001b[94m   3/10. found at 1! covered neurons percentage 52 neurons 0.942, 148 neurons 0.905, 268 neurons 0.918 at 58/64\u001b[0m\n",
            "\u001b[94m     averaged covered neurons 0.917\u001b[0m\n",
            "\u001b[94m   4/10. found at 7! covered neurons percentage 52 neurons 0.942, 148 neurons 0.912, 268 neurons 0.918 at 59/65\u001b[0m\n",
            "\u001b[94m     averaged covered neurons 0.919\u001b[0m\n",
            "\u001b[94m   5/10. found at 1! covered neurons percentage 52 neurons 0.942, 148 neurons 0.912, 268 neurons 0.918 at 60/66\u001b[0m\n",
            "\u001b[94m     averaged covered neurons 0.919\u001b[0m\n",
            "\u001b[94m   6/10. found at 4! covered neurons percentage 52 neurons 0.942, 148 neurons 0.912, 268 neurons 0.918 at 61/67\u001b[0m\n",
            "\u001b[94m     averaged covered neurons 0.919\u001b[0m\n",
            "\u001b[94m   7/10. found at 8! covered neurons percentage 52 neurons 0.942, 148 neurons 0.912, 268 neurons 0.918 at 62/68\u001b[0m\n",
            "\u001b[94m     averaged covered neurons 0.919\u001b[0m\n",
            "\u001b[94m   8/10. found at 1! covered neurons percentage 52 neurons 0.942, 148 neurons 0.912, 268 neurons 0.918 at 63/69\u001b[0m\n",
            "\u001b[94m     averaged covered neurons 0.919\u001b[0m\n",
            "\u001b[94m   9/10. found at 1! covered neurons percentage 52 neurons 0.942, 148 neurons 0.912, 268 neurons 0.918 at 64/70\u001b[0m\n",
            "\u001b[94m     averaged covered neurons 0.919\u001b[0m\n",
            "figure7\n",
            "\u001b[94m   0/10. found at 3! covered neurons percentage 52 neurons 0.942, 148 neurons 0.919, 268 neurons 0.918 at 65/71\u001b[0m\n",
            "\u001b[94m     averaged covered neurons 0.921\u001b[0m\n",
            "\u001b[94m   1/10. found at 4! covered neurons percentage 52 neurons 0.942, 148 neurons 0.926, 268 neurons 0.918 at 66/72\u001b[0m\n",
            "\u001b[94m     averaged covered neurons 0.923\u001b[0m\n",
            "\u001b[94m   2/10. found at 1! covered neurons percentage 52 neurons 0.942, 148 neurons 0.926, 268 neurons 0.918 at 67/73\u001b[0m\n",
            "\u001b[94m     averaged covered neurons 0.923\u001b[0m\n",
            "\u001b[94m   3/10. found at 1! covered neurons percentage 52 neurons 0.942, 148 neurons 0.926, 268 neurons 0.918 at 68/74\u001b[0m\n",
            "\u001b[94m     averaged covered neurons 0.923\u001b[0m\n",
            "\u001b[94m   4/10. found at 1! covered neurons percentage 52 neurons 0.942, 148 neurons 0.926, 268 neurons 0.918 at 69/75\u001b[0m\n",
            "\u001b[94m     averaged covered neurons 0.923\u001b[0m\n",
            "\u001b[94m   5/10. found at 1! covered neurons percentage 52 neurons 0.942, 148 neurons 0.926, 268 neurons 0.918 at 70/76\u001b[0m\n",
            "\u001b[94m     averaged covered neurons 0.923\u001b[0m\n",
            "   6/10. test suite was not found: averaged covered neurons 0.923 at 7/77\n",
            "\u001b[94m   7/10. found at 2! covered neurons percentage 52 neurons 0.942, 148 neurons 0.926, 268 neurons 0.922 at 71/78\u001b[0m\n",
            "\u001b[94m     averaged covered neurons 0.925\u001b[0m\n",
            "\u001b[94m   8/10. found at 2! covered neurons percentage 52 neurons 0.942, 148 neurons 0.926, 268 neurons 0.922 at 72/79\u001b[0m\n",
            "\u001b[94m     averaged covered neurons 0.925\u001b[0m\n",
            "\u001b[94m   9/10. found at 1! covered neurons percentage 52 neurons 0.942, 148 neurons 0.926, 268 neurons 0.922 at 73/80\u001b[0m\n",
            "\u001b[94m     averaged covered neurons 0.925\u001b[0m\n",
            "figure8\n",
            "\u001b[94m   0/10. found at 0! covered neurons percentage 52 neurons 0.942, 148 neurons 0.926, 268 neurons 0.922 at 74/81\u001b[0m\n",
            "\u001b[94m     averaged covered neurons 0.925\u001b[0m\n",
            "\u001b[94m   1/10. found at 0! covered neurons percentage 52 neurons 0.942, 148 neurons 0.926, 268 neurons 0.922 at 75/82\u001b[0m\n",
            "\u001b[94m     averaged covered neurons 0.925\u001b[0m\n",
            "\u001b[94m   2/10. found at 0! covered neurons percentage 52 neurons 0.942, 148 neurons 0.926, 268 neurons 0.922 at 76/83\u001b[0m\n",
            "\u001b[94m     averaged covered neurons 0.925\u001b[0m\n",
            "\u001b[94m   3/10. found at 3! covered neurons percentage 52 neurons 0.942, 148 neurons 0.926, 268 neurons 0.922 at 77/84\u001b[0m\n",
            "\u001b[94m     averaged covered neurons 0.925\u001b[0m\n",
            "\u001b[94m   4/10. found at 0! covered neurons percentage 52 neurons 0.942, 148 neurons 0.926, 268 neurons 0.922 at 78/85\u001b[0m\n",
            "\u001b[94m     averaged covered neurons 0.925\u001b[0m\n",
            "\u001b[94m   5/10. found at 0! covered neurons percentage 52 neurons 0.942, 148 neurons 0.926, 268 neurons 0.922 at 79/86\u001b[0m\n",
            "\u001b[94m     averaged covered neurons 0.925\u001b[0m\n",
            "\u001b[94m   6/10. found at 0! covered neurons percentage 52 neurons 0.942, 148 neurons 0.926, 268 neurons 0.922 at 80/87\u001b[0m\n",
            "\u001b[94m     averaged covered neurons 0.925\u001b[0m\n",
            "\u001b[94m   7/10. found at 0! covered neurons percentage 52 neurons 0.942, 148 neurons 0.926, 268 neurons 0.922 at 81/88\u001b[0m\n",
            "\u001b[94m     averaged covered neurons 0.925\u001b[0m\n",
            "\u001b[94m   8/10. found at 0! covered neurons percentage 52 neurons 0.942, 148 neurons 0.926, 268 neurons 0.922 at 82/89\u001b[0m\n",
            "\u001b[94m     averaged covered neurons 0.925\u001b[0m\n",
            "\u001b[94m   9/10. found at 0! covered neurons percentage 52 neurons 0.942, 148 neurons 0.926, 268 neurons 0.922 at 83/90\u001b[0m\n",
            "\u001b[94m     averaged covered neurons 0.925\u001b[0m\n",
            "figure9\n",
            "\u001b[94m   0/10. found at 1! covered neurons percentage 52 neurons 0.942, 148 neurons 0.926, 268 neurons 0.922 at 84/91\u001b[0m\n",
            "\u001b[94m     averaged covered neurons 0.925\u001b[0m\n",
            "\u001b[94m   1/10. found at 3! covered neurons percentage 52 neurons 0.942, 148 neurons 0.926, 268 neurons 0.922 at 85/92\u001b[0m\n",
            "\u001b[94m     averaged covered neurons 0.925\u001b[0m\n",
            "\u001b[94m   2/10. found at 0! covered neurons percentage 52 neurons 0.942, 148 neurons 0.932, 268 neurons 0.925 at 86/93\u001b[0m\n",
            "\u001b[94m     averaged covered neurons 0.929\u001b[0m\n",
            "\u001b[94m   3/10. found at 4! covered neurons percentage 52 neurons 0.942, 148 neurons 0.939, 268 neurons 0.925 at 87/94\u001b[0m\n",
            "\u001b[94m     averaged covered neurons 0.932\u001b[0m\n",
            "\u001b[94m   4/10. found at 1! covered neurons percentage 52 neurons 0.942, 148 neurons 0.939, 268 neurons 0.925 at 88/95\u001b[0m\n",
            "\u001b[94m     averaged covered neurons 0.932\u001b[0m\n",
            "\u001b[94m   5/10. found at 1! covered neurons percentage 52 neurons 0.942, 148 neurons 0.939, 268 neurons 0.925 at 89/96\u001b[0m\n",
            "\u001b[94m     averaged covered neurons 0.932\u001b[0m\n",
            "\u001b[94m   6/10. found at 0! covered neurons percentage 52 neurons 0.942, 148 neurons 0.939, 268 neurons 0.925 at 90/97\u001b[0m\n",
            "\u001b[94m     averaged covered neurons 0.932\u001b[0m\n",
            "\u001b[94m   7/10. found at 0! covered neurons percentage 52 neurons 0.942, 148 neurons 0.939, 268 neurons 0.925 at 91/98\u001b[0m\n",
            "\u001b[94m     averaged covered neurons 0.932\u001b[0m\n",
            "\u001b[94m   8/10. found at 0! covered neurons percentage 52 neurons 0.942, 148 neurons 0.939, 268 neurons 0.925 at 92/99\u001b[0m\n",
            "\u001b[94m     averaged covered neurons 0.932\u001b[0m\n",
            "\u001b[94m   9/10. found at 1! covered neurons percentage 52 neurons 0.942, 148 neurons 0.939, 268 neurons 0.925 at 93/100\u001b[0m\n",
            "\u001b[94m     averaged covered neurons 0.932\u001b[0m\n",
            "CPU times: user 8min 28s, sys: 2.87 s, total: 8min 31s\n",
            "Wall time: 8min 32s\n"
          ],
          "name": "stdout"
        }
      ]
    },
    {
      "cell_type": "code",
      "metadata": {
        "id": "80lvnBNfg8Z0",
        "colab_type": "code",
        "colab": {}
      },
      "source": [
        "###print(type(df1_scale.columns[0]), df1_scale.columns[0][0], df1_scale.columns[0][1])\n",
        "###\n",
        "###thresholds = np.linspace(0,0.4,2)\n",
        "###print(thresholds)\n",
        "###\n",
        "###for thres in thresholds:\n",
        "###  print(thres)\n",
        "###  for colm in df1_scale.columns:\n",
        "####    bools = df\n",
        "###    bools = df1_scale[colm] > thres\n",
        "###    print(thres, bools.sum())\n",
        "####  print(bools, bools.sum())\n",
        "####bools = df1_scale[df1_scale.columns[0]] > 0.1\n",
        "####print(bools, bools.sum())"
      ],
      "execution_count": 0,
      "outputs": []
    },
    {
      "cell_type": "code",
      "metadata": {
        "id": "1QtyLAZiPeKb",
        "colab_type": "code",
        "colab": {}
      },
      "source": [
        "bools_sum_layer =  pd.DataFrame(columns=(\"layer\", \"count\", \"index\"))"
      ],
      "execution_count": 0,
      "outputs": []
    },
    {
      "cell_type": "code",
      "metadata": {
        "id": "4B19EsPFQrak",
        "colab_type": "code",
        "colab": {}
      },
      "source": [
        "thres = 0.4\n",
        "bools = df1_scale > thres\n",
        "\n",
        "for i, count in enumerate(bools.sum()):\n",
        "#    print(bools.sum().index[i][0], bools.sum().index[i][1], count)\n",
        "    cont = [bools.sum().index[i][0], count, bools.sum().index[i][1]]\n",
        "    cont = pd.Series(cont, index=bools_sum_layer.columns, name=str(i))\n",
        "    bools_sum_layer = bools_sum_layer.append(cont)"
      ],
      "execution_count": 0,
      "outputs": []
    },
    {
      "cell_type": "code",
      "metadata": {
        "id": "1W4ySii4Txkb",
        "colab_type": "code",
        "colab": {
          "base_uri": "https://localhost:8080/",
          "height": 918
        },
        "outputId": "42a12937-58ca-4a12-e281-8b1651385b93"
      },
      "source": [
        "#bools_sum_layer.columns\n",
        "bools.sum()"
      ],
      "execution_count": 24,
      "outputs": [
        {
          "output_type": "execute_result",
          "data": {
            "text/plain": [
              "(block1_conv1, 0)       0\n",
              "(block1_conv1, 1)      33\n",
              "(block1_conv1, 2)       0\n",
              "(block1_conv1, 3)       0\n",
              "(block1_pool1, 0)      21\n",
              "(block1_pool1, 1)      34\n",
              "(block1_pool1, 2)       6\n",
              "(block1_pool1, 3)       0\n",
              "(block2_conv1, 0)       0\n",
              "(block2_conv1, 1)       0\n",
              "(block2_conv1, 2)       0\n",
              "(block2_conv1, 3)       0\n",
              "(block2_conv1, 4)       2\n",
              "(block2_conv1, 5)       0\n",
              "(block2_conv1, 6)       0\n",
              "(block2_conv1, 7)       0\n",
              "(block2_conv1, 8)       0\n",
              "(block2_conv1, 9)       8\n",
              "(block2_conv1, 10)      0\n",
              "(block2_conv1, 11)      0\n",
              "(block2_pool1, 0)       0\n",
              "(block2_pool1, 1)       0\n",
              "(block2_pool1, 2)       0\n",
              "(block2_pool1, 3)      24\n",
              "(block2_pool1, 4)      23\n",
              "(block2_pool1, 5)       0\n",
              "(block2_pool1, 6)       0\n",
              "(block2_pool1, 7)       0\n",
              "(block2_pool1, 8)       0\n",
              "(block2_pool1, 9)      31\n",
              "(block2_pool1, 10)      0\n",
              "(block2_pool1, 11)      0\n",
              "(before_softmax, 0)    13\n",
              "(before_softmax, 1)    77\n",
              "(before_softmax, 2)    93\n",
              "(before_softmax, 3)    89\n",
              "(before_softmax, 4)    69\n",
              "(before_softmax, 5)    67\n",
              "(before_softmax, 6)    38\n",
              "(before_softmax, 7)    58\n",
              "(before_softmax, 8)    76\n",
              "(before_softmax, 9)    42\n",
              "(predictions, 0)        0\n",
              "(predictions, 1)        5\n",
              "(predictions, 2)       56\n",
              "(predictions, 3)       11\n",
              "(predictions, 4)       12\n",
              "(predictions, 5)        2\n",
              "(predictions, 6)        5\n",
              "(predictions, 7)        0\n",
              "(predictions, 8)        7\n",
              "(predictions, 9)        2\n",
              "dtype: int64"
            ]
          },
          "metadata": {
            "tags": []
          },
          "execution_count": 24
        }
      ]
    },
    {
      "cell_type": "code",
      "metadata": {
        "id": "cqW-Pk3iQoSv",
        "colab_type": "code",
        "colab": {
          "base_uri": "https://localhost:8080/",
          "height": 514
        },
        "outputId": "3e4f880b-ef6a-4ae4-8726-fc8407f942e3"
      },
      "source": [
        "bools_sum_layer.head(15)"
      ],
      "execution_count": 25,
      "outputs": [
        {
          "output_type": "execute_result",
          "data": {
            "text/html": [
              "<div>\n",
              "<style scoped>\n",
              "    .dataframe tbody tr th:only-of-type {\n",
              "        vertical-align: middle;\n",
              "    }\n",
              "\n",
              "    .dataframe tbody tr th {\n",
              "        vertical-align: top;\n",
              "    }\n",
              "\n",
              "    .dataframe thead th {\n",
              "        text-align: right;\n",
              "    }\n",
              "</style>\n",
              "<table border=\"1\" class=\"dataframe\">\n",
              "  <thead>\n",
              "    <tr style=\"text-align: right;\">\n",
              "      <th></th>\n",
              "      <th>layer</th>\n",
              "      <th>count</th>\n",
              "      <th>index</th>\n",
              "    </tr>\n",
              "  </thead>\n",
              "  <tbody>\n",
              "    <tr>\n",
              "      <th>0</th>\n",
              "      <td>block1_conv1</td>\n",
              "      <td>0</td>\n",
              "      <td>0</td>\n",
              "    </tr>\n",
              "    <tr>\n",
              "      <th>1</th>\n",
              "      <td>block1_conv1</td>\n",
              "      <td>33</td>\n",
              "      <td>1</td>\n",
              "    </tr>\n",
              "    <tr>\n",
              "      <th>2</th>\n",
              "      <td>block1_conv1</td>\n",
              "      <td>0</td>\n",
              "      <td>2</td>\n",
              "    </tr>\n",
              "    <tr>\n",
              "      <th>3</th>\n",
              "      <td>block1_conv1</td>\n",
              "      <td>0</td>\n",
              "      <td>3</td>\n",
              "    </tr>\n",
              "    <tr>\n",
              "      <th>4</th>\n",
              "      <td>block1_pool1</td>\n",
              "      <td>21</td>\n",
              "      <td>0</td>\n",
              "    </tr>\n",
              "    <tr>\n",
              "      <th>5</th>\n",
              "      <td>block1_pool1</td>\n",
              "      <td>34</td>\n",
              "      <td>1</td>\n",
              "    </tr>\n",
              "    <tr>\n",
              "      <th>6</th>\n",
              "      <td>block1_pool1</td>\n",
              "      <td>6</td>\n",
              "      <td>2</td>\n",
              "    </tr>\n",
              "    <tr>\n",
              "      <th>7</th>\n",
              "      <td>block1_pool1</td>\n",
              "      <td>0</td>\n",
              "      <td>3</td>\n",
              "    </tr>\n",
              "    <tr>\n",
              "      <th>8</th>\n",
              "      <td>block2_conv1</td>\n",
              "      <td>0</td>\n",
              "      <td>0</td>\n",
              "    </tr>\n",
              "    <tr>\n",
              "      <th>9</th>\n",
              "      <td>block2_conv1</td>\n",
              "      <td>0</td>\n",
              "      <td>1</td>\n",
              "    </tr>\n",
              "    <tr>\n",
              "      <th>10</th>\n",
              "      <td>block2_conv1</td>\n",
              "      <td>0</td>\n",
              "      <td>2</td>\n",
              "    </tr>\n",
              "    <tr>\n",
              "      <th>11</th>\n",
              "      <td>block2_conv1</td>\n",
              "      <td>0</td>\n",
              "      <td>3</td>\n",
              "    </tr>\n",
              "    <tr>\n",
              "      <th>12</th>\n",
              "      <td>block2_conv1</td>\n",
              "      <td>2</td>\n",
              "      <td>4</td>\n",
              "    </tr>\n",
              "    <tr>\n",
              "      <th>13</th>\n",
              "      <td>block2_conv1</td>\n",
              "      <td>0</td>\n",
              "      <td>5</td>\n",
              "    </tr>\n",
              "    <tr>\n",
              "      <th>14</th>\n",
              "      <td>block2_conv1</td>\n",
              "      <td>0</td>\n",
              "      <td>6</td>\n",
              "    </tr>\n",
              "  </tbody>\n",
              "</table>\n",
              "</div>"
            ],
            "text/plain": [
              "           layer count index\n",
              "0   block1_conv1     0     0\n",
              "1   block1_conv1    33     1\n",
              "2   block1_conv1     0     2\n",
              "3   block1_conv1     0     3\n",
              "4   block1_pool1    21     0\n",
              "5   block1_pool1    34     1\n",
              "6   block1_pool1     6     2\n",
              "7   block1_pool1     0     3\n",
              "8   block2_conv1     0     0\n",
              "9   block2_conv1     0     1\n",
              "10  block2_conv1     0     2\n",
              "11  block2_conv1     0     3\n",
              "12  block2_conv1     2     4\n",
              "13  block2_conv1     0     5\n",
              "14  block2_conv1     0     6"
            ]
          },
          "metadata": {
            "tags": []
          },
          "execution_count": 25
        }
      ]
    },
    {
      "cell_type": "code",
      "metadata": {
        "id": "0VhvynP7lHy5",
        "colab_type": "code",
        "colab": {
          "base_uri": "https://localhost:8080/",
          "height": 202
        },
        "outputId": "52bb7d2a-2e32-4681-f66f-30278024f3d2"
      },
      "source": [
        ""
      ],
      "execution_count": 26,
      "outputs": [
        {
          "output_type": "error",
          "ename": "NameError",
          "evalue": "ignored",
          "traceback": [
            "\u001b[0;31m---------------------------------------------------------------------------\u001b[0m",
            "\u001b[0;31mNameError\u001b[0m                                 Traceback (most recent call last)",
            "\u001b[0;32m<ipython-input-26-d43a097a654c>\u001b[0m in \u001b[0;36m<module>\u001b[0;34m()\u001b[0m\n\u001b[0;32m----> 1\u001b[0;31m \u001b[0;32mfor\u001b[0m \u001b[0mthres\u001b[0m \u001b[0;32min\u001b[0m \u001b[0mthresholds\u001b[0m\u001b[0;34m:\u001b[0m\u001b[0;34m\u001b[0m\u001b[0;34m\u001b[0m\u001b[0m\n\u001b[0m\u001b[1;32m      2\u001b[0m   \u001b[0mbools\u001b[0m \u001b[0;34m=\u001b[0m \u001b[0mdf1_scale\u001b[0m \u001b[0;34m>\u001b[0m \u001b[0mthres\u001b[0m\u001b[0;34m\u001b[0m\u001b[0;34m\u001b[0m\u001b[0m\n\u001b[1;32m      3\u001b[0m   \u001b[0mprint\u001b[0m\u001b[0;34m(\u001b[0m\u001b[0mbools\u001b[0m\u001b[0;34m,\u001b[0m \u001b[0mbools\u001b[0m\u001b[0;34m.\u001b[0m\u001b[0msum\u001b[0m\u001b[0;34m(\u001b[0m\u001b[0;34m)\u001b[0m\u001b[0;34m)\u001b[0m\u001b[0;34m\u001b[0m\u001b[0;34m\u001b[0m\u001b[0m\n",
            "\u001b[0;31mNameError\u001b[0m: name 'thresholds' is not defined"
          ]
        }
      ]
    },
    {
      "cell_type": "code",
      "metadata": {
        "id": "fNk4OB6Pqq7v",
        "colab_type": "code",
        "colab": {
          "base_uri": "https://localhost:8080/",
          "height": 296
        },
        "outputId": "97b949aa-8438-4d61-c30c-a9e51c02917f"
      },
      "source": [
        "import pylab as pl\n",
        "\n",
        "thres = 0.1\n",
        "bools = df1_scale > thres\n",
        "bools.sum().hist()\n",
        "pl.xlabel(\"activation time\")\n",
        "pl.ylabel(\"number of neurons\")"
      ],
      "execution_count": 27,
      "outputs": [
        {
          "output_type": "execute_result",
          "data": {
            "text/plain": [
              "Text(0, 0.5, 'number of neurons')"
            ]
          },
          "metadata": {
            "tags": []
          },
          "execution_count": 27
        },
        {
          "output_type": "display_data",
          "data": {
            "image/png": "[encoded data removed]",
            "text/plain": [
              "<Figure size 432x288 with 1 Axes>"
            ]
          },
          "metadata": {
            "tags": []
          }
        }
      ]
    },
    {
      "cell_type": "code",
      "metadata": {
        "id": "X9i776jSEOTn",
        "colab_type": "code",
        "colab": {
          "base_uri": "https://localhost:8080/",
          "height": 51
        },
        "outputId": "9ff0955e-b088-47bb-c0f1-2181cdd44e49"
      },
      "source": [
        "test = bools.sum()\n",
        "print(type(test))\n",
        "print(test[0])\n"
      ],
      "execution_count": 28,
      "outputs": [
        {
          "output_type": "stream",
          "text": [
            "<class 'pandas.core.series.Series'>\n",
            "63\n"
          ],
          "name": "stdout"
        }
      ]
    },
    {
      "cell_type": "code",
      "metadata": {
        "id": "FRhR6N3GEi9E",
        "colab_type": "code",
        "colab": {
          "base_uri": "https://localhost:8080/",
          "height": 605
        },
        "outputId": "0cea8508-9afe-42a5-ff9e-56d25df2aaa5"
      },
      "source": [
        "import matplotlib.pyplot as plt\n",
        "%matplotlib inline\n",
        "print(test.index[0],test.index[0][0])\n",
        "\n",
        "fig, axes = plt.subplots(figsize=(12, 8))\n",
        "test.plot(kind=\"bar\")"
      ],
      "execution_count": 30,
      "outputs": [
        {
          "output_type": "stream",
          "text": [
            "('block1_conv1', 0) block1_conv1\n"
          ],
          "name": "stdout"
        },
        {
          "output_type": "execute_result",
          "data": {
            "text/plain": [
              "<matplotlib.axes._subplots.AxesSubplot at 0x7fa3243eef98>"
            ]
          },
          "metadata": {
            "tags": []
          },
          "execution_count": 30
        },
        {
          "output_type": "display_data",
          "data": {
            "image/png": "[encoded data removed]",
            "text/plain": [
              "<Figure size 864x576 with 1 Axes>"
            ]
          },
          "metadata": {
            "tags": []
          }
        }
      ]
    },
    {
      "cell_type": "code",
      "metadata": {
        "id": "20OgY8wsUSOP",
        "colab_type": "code",
        "colab": {
          "base_uri": "https://localhost:8080/",
          "height": 119
        },
        "outputId": "2655084a-e2c9-405a-c1dd-cfc4032c9198"
      },
      "source": [
        "temp, temp_scale = neuron_output(gen_img, model1, model_layer_dict1, args.threshold)\n",
        "temp, temp_scale_mod = neuron_output(gen_img, model1, model_layer_dict1, args.threshold)\n",
        "#temp_scale\n",
        "temp_list = df1.columns\n",
        "temp_list_mod = df1.columns\n",
        "\n",
        "\n",
        "for i, layer in enumerate(temp_list):\n",
        "  #print(i, layer)\n",
        "  if layer[1] == 0:\n",
        "    print(i, layer)\n",
        "    if i > 0:\n",
        "      temp_list_mod.insert(i, (\"None\", 0))\n",
        "      temp_scale_mod.insert(i,0)"
      ],
      "execution_count": 31,
      "outputs": [
        {
          "output_type": "stream",
          "text": [
            "0 ('block1_conv1', 0)\n",
            "4 ('block1_pool1', 0)\n",
            "8 ('block2_conv1', 0)\n",
            "20 ('block2_pool1', 0)\n",
            "32 ('before_softmax', 0)\n",
            "42 ('predictions', 0)\n"
          ],
          "name": "stdout"
        }
      ]
    },
    {
      "cell_type": "code",
      "metadata": {
        "id": "CPTxxcKAYMQP",
        "colab_type": "code",
        "colab": {
          "base_uri": "https://localhost:8080/",
          "height": 717
        },
        "outputId": "1c15918a-974e-4d86-f846-b1a2ee221d06"
      },
      "source": [
        "print(temp_list)\n",
        "print(temp_list_mod)\n",
        "print(temp_scale)\n",
        "print(temp_scale_mod)"
      ],
      "execution_count": 32,
      "outputs": [
        {
          "output_type": "stream",
          "text": [
            "Index([  ('block1_conv1', 0),   ('block1_conv1', 1),   ('block1_conv1', 2),\n",
            "         ('block1_conv1', 3),   ('block1_pool1', 0),   ('block1_pool1', 1),\n",
            "         ('block1_pool1', 2),   ('block1_pool1', 3),   ('block2_conv1', 0),\n",
            "         ('block2_conv1', 1),   ('block2_conv1', 2),   ('block2_conv1', 3),\n",
            "         ('block2_conv1', 4),   ('block2_conv1', 5),   ('block2_conv1', 6),\n",
            "         ('block2_conv1', 7),   ('block2_conv1', 8),   ('block2_conv1', 9),\n",
            "        ('block2_conv1', 10),  ('block2_conv1', 11),   ('block2_pool1', 0),\n",
            "         ('block2_pool1', 1),   ('block2_pool1', 2),   ('block2_pool1', 3),\n",
            "         ('block2_pool1', 4),   ('block2_pool1', 5),   ('block2_pool1', 6),\n",
            "         ('block2_pool1', 7),   ('block2_pool1', 8),   ('block2_pool1', 9),\n",
            "        ('block2_pool1', 10),  ('block2_pool1', 11), ('before_softmax', 0),\n",
            "       ('before_softmax', 1), ('before_softmax', 2), ('before_softmax', 3),\n",
            "       ('before_softmax', 4), ('before_softmax', 5), ('before_softmax', 6),\n",
            "       ('before_softmax', 7), ('before_softmax', 8), ('before_softmax', 9),\n",
            "          ('predictions', 0),    ('predictions', 1),    ('predictions', 2),\n",
            "          ('predictions', 3),    ('predictions', 4),    ('predictions', 5),\n",
            "          ('predictions', 6),    ('predictions', 7),    ('predictions', 8),\n",
            "          ('predictions', 9)],\n",
            "      dtype='object')\n",
            "Index([  ('block1_conv1', 0),   ('block1_conv1', 1),   ('block1_conv1', 2),\n",
            "         ('block1_conv1', 3),   ('block1_pool1', 0),   ('block1_pool1', 1),\n",
            "         ('block1_pool1', 2),   ('block1_pool1', 3),   ('block2_conv1', 0),\n",
            "         ('block2_conv1', 1),   ('block2_conv1', 2),   ('block2_conv1', 3),\n",
            "         ('block2_conv1', 4),   ('block2_conv1', 5),   ('block2_conv1', 6),\n",
            "         ('block2_conv1', 7),   ('block2_conv1', 8),   ('block2_conv1', 9),\n",
            "        ('block2_conv1', 10),  ('block2_conv1', 11),   ('block2_pool1', 0),\n",
            "         ('block2_pool1', 1),   ('block2_pool1', 2),   ('block2_pool1', 3),\n",
            "         ('block2_pool1', 4),   ('block2_pool1', 5),   ('block2_pool1', 6),\n",
            "         ('block2_pool1', 7),   ('block2_pool1', 8),   ('block2_pool1', 9),\n",
            "        ('block2_pool1', 10),  ('block2_pool1', 11), ('before_softmax', 0),\n",
            "       ('before_softmax', 1), ('before_softmax', 2), ('before_softmax', 3),\n",
            "       ('before_softmax', 4), ('before_softmax', 5), ('before_softmax', 6),\n",
            "       ('before_softmax', 7), ('before_softmax', 8), ('before_softmax', 9),\n",
            "          ('predictions', 0),    ('predictions', 1),    ('predictions', 2),\n",
            "          ('predictions', 3),    ('predictions', 4),    ('predictions', 5),\n",
            "          ('predictions', 6),    ('predictions', 7),    ('predictions', 8),\n",
            "          ('predictions', 9)],\n",
            "      dtype='object')\n",
            "[0.0102703525, 0.3961128, 0.22291616, 0.12878035, 0.022121865, 0.43234745, 0.25660372, 0.16681033, 0.053691518, 0.076974295, 0.10533199, 0.23163013, 0.0014115529, 0.06623608, 0.122125044, 0.06357269, 0.21187082, 0.03133929, 0.07943694, 0.014548258, 0.11478055, 0.17382927, 0.23558465, 0.35600317, 0.0055308854, 0.10386828, 0.21879463, 0.12979332, 0.29564607, 0.059923135, 0.16457978, 0.043961562, 0.2066805, 0.04662384, 0.699718, 0.9877837, 0.5075219, 0.37357655, 0.35823685, 0.0, 1.0, 0.86871904, 0.0, 0.0, 0.0, 3.4633525e-15, 0.0, 0.0, 0.0, 0.0, 1.0, 0.0]\n",
            "[0.0102703525, 0.3961128, 0.22291616, 0.12878035, 0, 0.022121865, 0.43234745, 0.25660372, 0, 0.16681033, 0.053691518, 0.076974295, 0.10533199, 0.23163013, 0.0014115529, 0.06623608, 0.122125044, 0.06357269, 0.21187082, 0.03133929, 0, 0.07943694, 0.014548258, 0.11478055, 0.17382927, 0.23558465, 0.35600317, 0.0055308854, 0.10386828, 0.21879463, 0.12979332, 0.29564607, 0, 0.059923135, 0.16457978, 0.043961562, 0.2066805, 0.04662384, 0.699718, 0.9877837, 0.5075219, 0.37357655, 0, 0.35823685, 0.0, 1.0, 0.86871904, 0.0, 0.0, 0.0, 3.4633525e-15, 0.0, 0.0, 0.0, 0.0, 1.0, 0.0]\n"
          ],
          "name": "stdout"
        }
      ]
    },
    {
      "cell_type": "code",
      "metadata": {
        "id": "VI6mbgm3HSFS",
        "colab_type": "code",
        "colab": {}
      },
      "source": [
        ""
      ],
      "execution_count": 0,
      "outputs": []
    },
    {
      "cell_type": "code",
      "metadata": {
        "id": "eHWoVLXLYLh-",
        "colab_type": "code",
        "colab": {}
      },
      "source": [
        ""
      ],
      "execution_count": 0,
      "outputs": []
    },
    {
      "cell_type": "code",
      "metadata": {
        "id": "HDPvC0JSHVpj",
        "colab_type": "code",
        "colab": {}
      },
      "source": [
        "xs = test.index\n",
        "xs"
      ],
      "execution_count": 0,
      "outputs": []
    },
    {
      "cell_type": "markdown",
      "metadata": {
        "id": "yKCZjT-uk3no",
        "colab_type": "text"
      },
      "source": [
        "for thres in thresholds:\n",
        "#  for colm in df1_scale.columns:\n",
        "#    bools = df\n",
        "bools = df1_scale[df1_scale.columns[0]] > thresholds\n",
        "print(thres)\n",
        "print(bools, bools.sum())\n",
        "#bools = df1_scale[df1_scale.columns[0]] > 0.1\n",
        "#print(bools, bools.sum())"
      ]
    },
    {
      "cell_type": "code",
      "metadata": {
        "id": "KmL8BC2QHVCJ",
        "colab_type": "code",
        "colab": {}
      },
      "source": [
        ""
      ],
      "execution_count": 0,
      "outputs": []
    },
    {
      "cell_type": "code",
      "metadata": {
        "id": "Xo-WxIcnOzEz",
        "colab_type": "code",
        "colab": {}
      },
      "source": [
        "pd.options.display.float_format = '{:.3f}'.format\n",
        "df1_scale"
      ],
      "execution_count": 0,
      "outputs": []
    },
    {
      "cell_type": "code",
      "metadata": {
        "id": "YLyQvSQN5bPM",
        "colab_type": "code",
        "colab": {}
      },
      "source": [
        "data_per_x1 = np.average(temp_per_nc1, axis=1)\n",
        "data_per_x2 = np.average(temp_per_nc2, axis=1)\n",
        "data_per_x3 = np.average(temp_per_nc3, axis=1)\n",
        "std_per_x1 = np.std(temp_per_nc1, axis=1)\n",
        "std_per_x2 = np.std(temp_per_nc2, axis=1)\n",
        "std_per_x3 = np.std(temp_per_nc3, axis=1)\n",
        "\n",
        "print(data_per_x1, std_per_x1, std_per_x2, std_per_x3)"
      ],
      "execution_count": 0,
      "outputs": []
    },
    {
      "cell_type": "code",
      "metadata": {
        "id": "NIlpsRy3XY95",
        "colab_type": "code",
        "colab": {}
      },
      "source": [
        "data_num_x1 = np.average(temp_num_nc1, axis=1)\n",
        "data_num_x2 = np.average(temp_num_nc2, axis=1)\n",
        "data_num_x3 = np.average(temp_num_nc3, axis=1)\n",
        "std_num_x1 = np.std(temp_num_nc1, axis=1)\n",
        "std_num_x2 = np.std(temp_num_nc2, axis=1)\n",
        "std_num_x3 = np.std(temp_num_nc3, axis=1)\n",
        "\n",
        "print(data_num_x1, std_num_x1, std_num_x2, std_num_x3)"
      ],
      "execution_count": 0,
      "outputs": []
    },
    {
      "cell_type": "code",
      "metadata": {
        "id": "Qc6vamXyXbEM",
        "colab_type": "code",
        "colab": {}
      },
      "source": [
        "import matplotlib\n",
        "import matplotlib.pyplot as plt\n",
        "t = np.linspace(0, 10, 10)\n",
        "fig = plt.figure(figsize=(20,7),dpi=60)\n",
        "ax = fig.add_subplot(1,2,1)\n",
        "plt.errorbar(t, data_per_x1, yerr=std_per_x1, marker=\"o\", label=\"model1\")\n",
        "plt.errorbar(t, data_per_x2, yerr=std_per_x2, marker=\"s\", label=\"model2\")\n",
        "plt.errorbar(t, data_per_x3, yerr=std_per_x3, marker=\"^\", label=\"model3\")\n",
        "ax.legend(loc=0)\n",
        "plt.legend(fontsize=18)\n",
        "plt.title(\"neuron coverage\", fontsize=18)\n",
        "ax.set_xlabel('step', fontsize=18)\n",
        "ax.set_ylabel('neuron coverage', fontsize=18)\n",
        "plt.tick_params(labelsize=16)\n",
        "\n",
        "ax = fig.add_subplot(1,2,2)\n",
        "plt.errorbar(t, data_num_x1, yerr=std_num_x1, marker=\"o\", label=\"model1:\"+str(neuron_covered(model_layer_dict1)[1]))\n",
        "plt.errorbar(t, data_num_x2, yerr=std_num_x2, marker=\"s\", label=\"model2:\"+str(neuron_covered(model_layer_dict2)[1]))\n",
        "plt.errorbar(t, data_num_x3, yerr=std_num_x3, marker=\"^\", label=\"model3:\"+str(neuron_covered(model_layer_dict3)[1]))\n",
        "ax.legend(loc=0)\n",
        "plt.legend(fontsize=18)\n",
        "plt.title(\"neuron coverage\", fontsize=18)\n",
        "ax.set_xlabel('step', fontsize=18)\n",
        "ax.set_ylabel('# covered neuron ', fontsize=18)\n",
        "plt.tick_params(labelsize=16)"
      ],
      "execution_count": 0,
      "outputs": []
    },
    {
      "cell_type": "code",
      "metadata": {
        "id": "dJXfVtcaXd-2",
        "colab_type": "code",
        "colab": {}
      },
      "source": [
        ""
      ],
      "execution_count": 0,
      "outputs": []
    }
  ]
}