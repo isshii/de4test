{
  "nbformat": 4,
  "nbformat_minor": 0,
  "metadata": {
    "kernelspec": {
      "name": "python3",
      "display_name": "Python 3"
    },
    "language_info": {
      "codemirror_mode": {
        "name": "ipython",
        "version": 3
      },
      "file_extension": ".py",
      "mimetype": "text/x-python",
      "name": "python",
      "nbconvert_exporter": "python",
      "pygments_lexer": "ipython3",
      "version": "3.6.4"
    },
    "colab": {
      "name": "DeepXplore_with_LIME_base.ipynb",
      "provenance": [],
      "collapsed_sections": [],
      "include_colab_link": true
    },
    "accelerator": "GPU"
  },
  "cells": [
    {
      "cell_type": "markdown",
      "metadata": {
        "id": "view-in-github",
        "colab_type": "text"
      },
      "source": [
        "<a href=\"https://colab.research.google.com/github/isshii/de4test/blob/master/LIME/DeepXplore_with_LIME_base.ipynb\" target=\"_parent\"><img src=\"https://colab.research.google.com/assets/colab-badge.svg\" alt=\"Open In Colab\"/></a>"
      ]
    },
    {
      "cell_type": "code",
      "metadata": {
        "id": "sGVFjZpUIRF4",
        "colab_type": "code",
        "colab": {}
      },
      "source": [
        "# 共通で使うパスなどの定義\n",
        "# 共通の変数設定\n",
        "# 共通フォルダパス\n",
        "data_dir = \"/content/gdrive/My Drive/ColabNotebooks/test4ai/data\"\n",
        "data_imagenet = \"/content/gdrive/My Drive/ColabNotebooks/test4ai/data/ImageNet\"\n",
        "data_imagenet_seeds = \"/content/gdrive/My Drive/ColabNotebooks/test4ai/data/ImageNet/seeds\"\n",
        "model_dir = \"/content/gdrive/My Drive/ColabNotebooks/test4ai/model\"\n",
        "output_dir = \"/content/gdrive/My Drive/ColabNotebooks/test4ai/output\"\n",
        "tmp_dir = \"/content/gdrive/My Drive/ColabNotebooks/test4ai/tmp\"\n"
      ],
      "execution_count": 0,
      "outputs": []
    },
    {
      "cell_type": "code",
      "metadata": {
        "id": "V4lP4POGn5Xj",
        "colab_type": "code",
        "outputId": "2f1b93a4-ee2b-449d-9bec-6e9e766d9f6f",
        "colab": {
          "base_uri": "https://localhost:8080/",
          "height": 125
        }
      },
      "source": [
        "# Goggle Drive つなぐ\n",
        "from google.colab import drive\n",
        "drive.mount('/content/gdrive')"
      ],
      "execution_count": 7,
      "outputs": [
        {
          "output_type": "stream",
          "text": [
            "Go to this URL in a browser: https://accounts.google.com/o/oauth2/auth?client_id=947318989803-6bn6qk8qdgf4n4g3pfee6491hc0brc4i.apps.googleusercontent.com&redirect_uri=urn%3aietf%3awg%3aoauth%3a2.0%3aoob&response_type=code&scope=email%20https%3a%2f%2fwww.googleapis.com%2fauth%2fdocs.test%20https%3a%2f%2fwww.googleapis.com%2fauth%2fdrive%20https%3a%2f%2fwww.googleapis.com%2fauth%2fdrive.photos.readonly%20https%3a%2f%2fwww.googleapis.com%2fauth%2fpeopleapi.readonly\n",
            "\n",
            "Enter your authorization code:\n",
            "··········\n",
            "Mounted at /content/gdrive\n"
          ],
          "name": "stdout"
        }
      ]
    },
    {
      "cell_type": "code",
      "metadata": {
        "id": "z3d3Suv3Q5Db",
        "colab_type": "code",
        "colab": {}
      },
      "source": [
        "# outputフォルダ内容物のクリーンアップ削除\n",
        "!rm \"$output_dir\"/*"
      ],
      "execution_count": 0,
      "outputs": []
    },
    {
      "cell_type": "code",
      "metadata": {
        "id": "aDY8sDVBqxmK",
        "colab_type": "code",
        "colab": {
          "base_uri": "https://localhost:8080/",
          "height": 34
        },
        "outputId": "ac3d65fa-0222-4f4b-c138-720a95f0c1b8"
      },
      "source": [
        "import argparse\n",
        "\n",
        "%tensorflow_version 1.x\n",
        "from keras.applications.resnet50 import ResNet50\n",
        "from keras.applications import vgg16 as vgg16\n",
        "from keras.applications.vgg16 import VGG16\n",
        "from keras.applications.vgg19 import VGG19\n",
        "from keras.layers import Input\n",
        "import imageio\n"
      ],
      "execution_count": 8,
      "outputs": [
        {
          "output_type": "stream",
          "text": [
            "Using TensorFlow backend.\n"
          ],
          "name": "stderr"
        }
      ]
    },
    {
      "cell_type": "code",
      "metadata": {
        "id": "eG1-nEdzNhBe",
        "colab_type": "code",
        "colab": {
          "base_uri": "https://localhost:8080/",
          "height": 600
        },
        "outputId": "c23d1df0-167c-416e-b8b5-34a8dea513dc"
      },
      "source": [
        "# Limeのインストール\n",
        "%load_ext autoreload\n",
        "%autoreload 2\n",
        "import os,sys\n",
        "! pip install lime\n"
      ],
      "execution_count": 9,
      "outputs": [
        {
          "output_type": "stream",
          "text": [
            "Collecting lime\n",
            "\u001b[?25l  Downloading https://files.pythonhosted.org/packages/b5/e0/60070b461a589b2fee0dbc45df9987f150fca83667c2f8a064cef7dbac6b/lime-0.1.1.37.tar.gz (275kB)\n",
            "\r\u001b[K     |█▏                              | 10kB 31.7MB/s eta 0:00:01\r\u001b[K     |██▍                             | 20kB 3.1MB/s eta 0:00:01\r\u001b[K     |███▋                            | 30kB 4.0MB/s eta 0:00:01\r\u001b[K     |████▊                           | 40kB 3.0MB/s eta 0:00:01\r\u001b[K     |██████                          | 51kB 3.7MB/s eta 0:00:01\r\u001b[K     |███████▏                        | 61kB 4.4MB/s eta 0:00:01\r\u001b[K     |████████▎                       | 71kB 4.9MB/s eta 0:00:01\r\u001b[K     |█████████▌                      | 81kB 5.0MB/s eta 0:00:01\r\u001b[K     |██████████▊                     | 92kB 5.6MB/s eta 0:00:01\r\u001b[K     |███████████▉                    | 102kB 5.0MB/s eta 0:00:01\r\u001b[K     |█████████████                   | 112kB 5.0MB/s eta 0:00:01\r\u001b[K     |██████████████▎                 | 122kB 5.0MB/s eta 0:00:01\r\u001b[K     |███████████████▍                | 133kB 5.0MB/s eta 0:00:01\r\u001b[K     |████████████████▋               | 143kB 5.0MB/s eta 0:00:01\r\u001b[K     |█████████████████▉              | 153kB 5.0MB/s eta 0:00:01\r\u001b[K     |███████████████████             | 163kB 5.0MB/s eta 0:00:01\r\u001b[K     |████████████████████▏           | 174kB 5.0MB/s eta 0:00:01\r\u001b[K     |█████████████████████▍          | 184kB 5.0MB/s eta 0:00:01\r\u001b[K     |██████████████████████▋         | 194kB 5.0MB/s eta 0:00:01\r\u001b[K     |███████████████████████▊        | 204kB 5.0MB/s eta 0:00:01\r\u001b[K     |█████████████████████████       | 215kB 5.0MB/s eta 0:00:01\r\u001b[K     |██████████████████████████▏     | 225kB 5.0MB/s eta 0:00:01\r\u001b[K     |███████████████████████████▎    | 235kB 5.0MB/s eta 0:00:01\r\u001b[K     |████████████████████████████▌   | 245kB 5.0MB/s eta 0:00:01\r\u001b[K     |█████████████████████████████▊  | 256kB 5.0MB/s eta 0:00:01\r\u001b[K     |██████████████████████████████▉ | 266kB 5.0MB/s eta 0:00:01\r\u001b[K     |████████████████████████████████| 276kB 5.0MB/s \n",
            "\u001b[?25hRequirement already satisfied: numpy in /usr/local/lib/python3.6/dist-packages (from lime) (1.17.5)\n",
            "Requirement already satisfied: scipy in /usr/local/lib/python3.6/dist-packages (from lime) (1.4.1)\n",
            "Collecting progressbar\n",
            "  Downloading https://files.pythonhosted.org/packages/a3/a6/b8e451f6cff1c99b4747a2f7235aa904d2d49e8e1464e0b798272aa84358/progressbar-2.5.tar.gz\n",
            "Requirement already satisfied: scikit-learn>=0.18 in /usr/local/lib/python3.6/dist-packages (from lime) (0.22.1)\n",
            "Requirement already satisfied: matplotlib in /usr/local/lib/python3.6/dist-packages (from lime) (3.1.2)\n",
            "Requirement already satisfied: scikit-image>=0.12 in /usr/local/lib/python3.6/dist-packages (from lime) (0.16.2)\n",
            "Requirement already satisfied: joblib>=0.11 in /usr/local/lib/python3.6/dist-packages (from scikit-learn>=0.18->lime) (0.14.1)\n",
            "Requirement already satisfied: cycler>=0.10 in /usr/local/lib/python3.6/dist-packages (from matplotlib->lime) (0.10.0)\n",
            "Requirement already satisfied: pyparsing!=2.0.4,!=2.1.2,!=2.1.6,>=2.0.1 in /usr/local/lib/python3.6/dist-packages (from matplotlib->lime) (2.4.6)\n",
            "Requirement already satisfied: python-dateutil>=2.1 in /usr/local/lib/python3.6/dist-packages (from matplotlib->lime) (2.6.1)\n",
            "Requirement already satisfied: kiwisolver>=1.0.1 in /usr/local/lib/python3.6/dist-packages (from matplotlib->lime) (1.1.0)\n",
            "Requirement already satisfied: pillow>=4.3.0 in /usr/local/lib/python3.6/dist-packages (from scikit-image>=0.12->lime) (6.2.2)\n",
            "Requirement already satisfied: PyWavelets>=0.4.0 in /usr/local/lib/python3.6/dist-packages (from scikit-image>=0.12->lime) (1.1.1)\n",
            "Requirement already satisfied: networkx>=2.0 in /usr/local/lib/python3.6/dist-packages (from scikit-image>=0.12->lime) (2.4)\n",
            "Requirement already satisfied: imageio>=2.3.0 in /usr/local/lib/python3.6/dist-packages (from scikit-image>=0.12->lime) (2.4.1)\n",
            "Requirement already satisfied: six in /usr/local/lib/python3.6/dist-packages (from cycler>=0.10->matplotlib->lime) (1.12.0)\n",
            "Requirement already satisfied: setuptools in /usr/local/lib/python3.6/dist-packages (from kiwisolver>=1.0.1->matplotlib->lime) (42.0.2)\n",
            "Requirement already satisfied: decorator>=4.3.0 in /usr/local/lib/python3.6/dist-packages (from networkx>=2.0->scikit-image>=0.12->lime) (4.4.1)\n",
            "Building wheels for collected packages: lime, progressbar\n",
            "  Building wheel for lime (setup.py) ... \u001b[?25l\u001b[?25hdone\n",
            "  Created wheel for lime: filename=lime-0.1.1.37-cp36-none-any.whl size=284277 sha256=d6b1f2d6d80a1cc55b93e2e39d044ce71ec0eda4bc990718cae39a5a9d5be01c\n",
            "  Stored in directory: /root/.cache/pip/wheels/c1/38/e7/50d75d4fb75afa604570dc42f20c5c5f5ab26d3fbe8d6ef27b\n",
            "  Building wheel for progressbar (setup.py) ... \u001b[?25l\u001b[?25hdone\n",
            "  Created wheel for progressbar: filename=progressbar-2.5-cp36-none-any.whl size=12073 sha256=d31afa31d78b2be45b2bffb8e1506f27c36cf5fe03cf11f1e025a4b4a62b8e4d\n",
            "  Stored in directory: /root/.cache/pip/wheels/c0/e9/6b/ea01090205e285175842339aa3b491adeb4015206cda272ff0\n",
            "Successfully built lime progressbar\n",
            "Installing collected packages: progressbar, lime\n",
            "Successfully installed lime-0.1.1.37 progressbar-2.5\n"
          ],
          "name": "stdout"
        }
      ]
    },
    {
      "cell_type": "code",
      "metadata": {
        "id": "HVVbpMALNlLp",
        "colab_type": "code",
        "colab": {}
      },
      "source": [
        "# Lime で利用するライブラリのインストール\n",
        "try:\n",
        "    import lime\n",
        "except:\n",
        "    sys.path.append(os.path.join('..', '..')) # add the current directory\n",
        "    import lime\n",
        "from lime import lime_image\n",
        "from skimage.segmentation import mark_boundaries\n",
        "import matplotlib.pyplot as plt\n"
      ],
      "execution_count": 0,
      "outputs": []
    },
    {
      "cell_type": "code",
      "metadata": {
        "id": "aiGGwQVElJNH",
        "colab_type": "code",
        "outputId": "ecb8c890-433d-4e24-fc1e-cb384212b9a4",
        "colab": {
          "base_uri": "https://localhost:8080/",
          "height": 492
        }
      },
      "source": [
        "from tensorflow.python.client import device_lib\n",
        "device_lib.list_local_devices()"
      ],
      "execution_count": 11,
      "outputs": [
        {
          "output_type": "execute_result",
          "data": {
            "text/plain": [
              "[name: \"/device:CPU:0\"\n",
              " device_type: \"CPU\"\n",
              " memory_limit: 268435456\n",
              " locality {\n",
              " }\n",
              " incarnation: 3740043161421319879, name: \"/device:XLA_CPU:0\"\n",
              " device_type: \"XLA_CPU\"\n",
              " memory_limit: 17179869184\n",
              " locality {\n",
              " }\n",
              " incarnation: 17689310518525182271\n",
              " physical_device_desc: \"device: XLA_CPU device\", name: \"/device:XLA_GPU:0\"\n",
              " device_type: \"XLA_GPU\"\n",
              " memory_limit: 17179869184\n",
              " locality {\n",
              " }\n",
              " incarnation: 12475337355684316681\n",
              " physical_device_desc: \"device: XLA_GPU device\", name: \"/device:GPU:0\"\n",
              " device_type: \"GPU\"\n",
              " memory_limit: 15956161332\n",
              " locality {\n",
              "   bus_id: 1\n",
              "   links {\n",
              "   }\n",
              " }\n",
              " incarnation: 15977971536971904897\n",
              " physical_device_desc: \"device: 0, name: Tesla P100-PCIE-16GB, pci bus id: 0000:00:04.0, compute capability: 6.0\"]"
            ]
          },
          "metadata": {
            "tags": []
          },
          "execution_count": 11
        }
      ]
    },
    {
      "cell_type": "code",
      "metadata": {
        "id": "mWQ2M_8glJNM",
        "colab_type": "code",
        "cellView": "code",
        "outputId": "16511e2d-0fd8-4420-83a7-5cdd882e8d24",
        "colab": {
          "base_uri": "https://localhost:8080/",
          "height": 54
        }
      },
      "source": [
        "#@title デフォルトのタイトル テキスト\n",
        "# DeepXplore のパラメータ設定部\n",
        "# read the parameter\n",
        "# argument parsing\n",
        "parser = argparse.ArgumentParser(description='Main function for difference-inducing input generation in MNIST dataset')\n",
        "parser.add_argument('transformation', help=\"realistic transformation type\", choices=['light', 'occl', 'blackout'])\n",
        "parser.add_argument('weight_diff', help=\"weight hyperparm to control differential behavior\", type=float)\n",
        "parser.add_argument('weight_nc', help=\"weight hyperparm to control neuron coverage\", type=float)\n",
        "parser.add_argument('step', help=\"step size of gradient descent\", type=float)\n",
        "parser.add_argument('seeds', help=\"number of seeds of input\", type=int)\n",
        "parser.add_argument('grad_iterations', help=\"number of iterations of gradient descent\", type=int)\n",
        "parser.add_argument('threshold', help=\"threshold for determining neuron activated\", type=float)\n",
        "parser.add_argument('-t', '--target_model', help=\"target model that we want it predicts differently\",\n",
        "                    choices=[0, 1, 2], default=0, type=int)\n",
        "parser.add_argument('-sp', '--start_point', help=\"occlusion upper left corner coordinate\", default=(0, 0), type=tuple)\n",
        "parser.add_argument('-occl_size', '--occlusion_size', help=\"occlusion size\", default=(10, 10), type=tuple)\n",
        "\n"
      ],
      "execution_count": 12,
      "outputs": [
        {
          "output_type": "execute_result",
          "data": {
            "text/plain": [
              "_StoreAction(option_strings=['-occl_size', '--occlusion_size'], dest='occlusion_size', nargs=None, const=None, default=(10, 10), type=<class 'tuple'>, choices=None, help='occlusion size', metavar=None)"
            ]
          },
          "metadata": {
            "tags": []
          },
          "execution_count": 12
        }
      ]
    },
    {
      "cell_type": "markdown",
      "metadata": {
        "id": "1Csx_IXrMdMj",
        "colab_type": "text"
      },
      "source": [
        ""
      ]
    },
    {
      "cell_type": "code",
      "metadata": {
        "id": "93KW-VGjMzun",
        "colab_type": "code",
        "cellView": "both",
        "colab": {}
      },
      "source": [
        "#@title ノイズのタイプ light / occl / blackout\n",
        "#@body {light,occl,blackout} weight_diff weight_nc step seeds\n",
        "#                   grad_iterations threshold\n",
        "noise_type = \"light\" #@param [\"light\", \"occl\", \"blackout\"]\n",
        "weight_diff = \"0.1\" #@param {type:\"string\"}\n",
        "weight_nc = \"0.1\" #@param {type:\"string\"}\n",
        "step = \"1\" #@param {type:\"string\"}\n",
        "seeds = \"10\" #@param {type:\"string\"}\n",
        "grad_iterations = \"10\" #@param {type:\"string\"}\n",
        "threshold = \"0.1\" #@param {type:\"string\"}"
      ],
      "execution_count": 0,
      "outputs": []
    },
    {
      "cell_type": "code",
      "metadata": {
        "id": "Szk80fCuPts9",
        "colab_type": "code",
        "colab": {}
      },
      "source": [
        "args = parser.parse_args([noise_type, weight_diff, weight_nc, step, seeds, grad_iterations, threshold])"
      ],
      "execution_count": 0,
      "outputs": []
    },
    {
      "cell_type": "code",
      "metadata": {
        "id": "1tTYrllplJNQ",
        "colab_type": "code",
        "colab": {}
      },
      "source": [
        "import random\n",
        "from collections import defaultdict\n",
        "\n",
        "import numpy as np\n",
        "from keras import backend as K\n",
        "from keras.applications.vgg16 import preprocess_input, decode_predictions\n",
        "from keras.models import Model\n",
        "from keras.preprocessing import image as k_image\n",
        "import os, re\n",
        "\n",
        "\n",
        "def preprocess_image(img_path):\n",
        "    img = image.load_img(img_path, target_size=(224, 224))\n",
        "    input_img_data = image.img_to_array(img)\n",
        "    input_img_data = np.expand_dims(input_img_data, axis=0)\n",
        "    input_img_data = preprocess_input(input_img_data)  # final input shape = (1,224,224,3)\n",
        "    return input_img_data\n",
        "\n",
        "\n",
        "def deprocess_image(x):\n",
        "    x = x.reshape((224, 224, 3))\n",
        "    # Remove zero-center by mean pixel\n",
        "    x[:, :, 0] += 103.939\n",
        "    x[:, :, 1] += 116.779\n",
        "    x[:, :, 2] += 123.68\n",
        "    # 'BGR'->'RGB'\n",
        "    x = x[:, :, ::-1]\n",
        "    x = np.clip(x, 0, 255).astype('uint8')\n",
        "    return x\n",
        "\n",
        "\n",
        "def decode_label(pred):\n",
        "    return decode_predictions(pred)[0][0][1]\n",
        "\n",
        "\n",
        "def normalize(x):\n",
        "    # utility function to normalize a tensor by its L2 norm\n",
        "    return x / (K.sqrt(K.mean(K.square(x))) + 1e-5)\n",
        "\n",
        "\n",
        "def constraint_occl(gradients, start_point, rect_shape):\n",
        "    new_grads = np.zeros_like(gradients)\n",
        "    new_grads[:, start_point[0]:start_point[0] + rect_shape[0],\n",
        "    start_point[1]:start_point[1] + rect_shape[1]] = gradients[:, start_point[0]:start_point[0] + rect_shape[0],\n",
        "                                                     start_point[1]:start_point[1] + rect_shape[1]]\n",
        "    return new_grads\n",
        "\n",
        "\n",
        "def constraint_light(gradients):\n",
        "    new_grads = np.ones_like(gradients)\n",
        "    grad_mean = 1e4 * np.mean(gradients)\n",
        "    return grad_mean * new_grads\n",
        "\n",
        "\n",
        "def constraint_black(gradients, rect_shape=(10, 10)):\n",
        "    start_point = (\n",
        "        random.randint(0, gradients.shape[1] - rect_shape[0]), random.randint(0, gradients.shape[2] - rect_shape[1]))\n",
        "    new_grads = np.zeros_like(gradients)\n",
        "    patch = gradients[:, start_point[0]:start_point[0] + rect_shape[0], start_point[1]:start_point[1] + rect_shape[1]]\n",
        "    if np.mean(patch) < 0:\n",
        "        new_grads[:, start_point[0]:start_point[0] + rect_shape[0],\n",
        "        start_point[1]:start_point[1] + rect_shape[1]] = -np.ones_like(patch)\n",
        "    return new_grads\n",
        "\n",
        "\n",
        "def init_coverage_tables(model1, model2, model3):\n",
        "    model_layer_dict1 = defaultdict(bool)\n",
        "    model_layer_dict2 = defaultdict(bool)\n",
        "    model_layer_dict3 = defaultdict(bool)\n",
        "    init_dict(model1, model_layer_dict1)\n",
        "    init_dict(model2, model_layer_dict2)\n",
        "    init_dict(model3, model_layer_dict3)\n",
        "    return model_layer_dict1, model_layer_dict2, model_layer_dict3\n",
        "\n",
        "\n",
        "def init_dict(model, model_layer_dict):\n",
        "    for layer in model.layers:\n",
        "        if 'flatten' in layer.name or 'input' in layer.name:\n",
        "            continue\n",
        "        for index in range(layer.output_shape[-1]):\n",
        "            model_layer_dict[(layer.name, index)] = False\n",
        "\n",
        "\n",
        "def neuron_to_cover(model_layer_dict):\n",
        "    not_covered = [(layer_name, index) for (layer_name, index), v in list(model_layer_dict.items()) if not v]\n",
        "    if not_covered:\n",
        "        layer_name, index = random.choice(not_covered)\n",
        "    else:\n",
        "        layer_name, index = random.choice(list(model_layer_dict.keys()))\n",
        "    return layer_name, index\n",
        "\n",
        "\n",
        "def neuron_covered(model_layer_dict):\n",
        "    covered_neurons = len([v for v in list(model_layer_dict.values()) if v])\n",
        "    total_neurons = len(model_layer_dict)\n",
        "    return covered_neurons, total_neurons, covered_neurons / float(total_neurons)\n",
        "\n",
        "\n",
        "def scale(intermediate_layer_output, rmax=1, rmin=0):\n",
        "    X_std = (intermediate_layer_output - intermediate_layer_output.min()) / (\n",
        "        intermediate_layer_output.max() - intermediate_layer_output.min())\n",
        "    X_scaled = X_std * (rmax - rmin) + rmin\n",
        "    return X_scaled\n",
        "\n",
        "\n",
        "def update_coverage(input_data, model, model_layer_dict, threshold=0):\n",
        "    layer_names = [layer.name for layer in model.layers if\n",
        "                   'flatten' not in layer.name and 'input' not in layer.name]\n",
        "\n",
        "    intermediate_layer_model = Model(inputs=model.input,\n",
        "                                     outputs=[model.get_layer(layer_name).output for layer_name in layer_names])\n",
        "    intermediate_layer_outputs = intermediate_layer_model.predict(input_data)\n",
        "\n",
        "    for i, intermediate_layer_output in enumerate(intermediate_layer_outputs):\n",
        "        scaled = scale(intermediate_layer_output[0])\n",
        "        for num_neuron in range(scaled.shape[-1]):\n",
        "            if np.mean(scaled[..., num_neuron]) > threshold and not model_layer_dict[(layer_names[i], num_neuron)]:\n",
        "                model_layer_dict[(layer_names[i], num_neuron)] = True\n",
        "\n",
        "\n",
        "def full_coverage(model_layer_dict):\n",
        "    if False in list(model_layer_dict.values()):\n",
        "        return False\n",
        "    return True\n",
        "\n",
        "\n",
        "def fired(model, layer_name, index, input_data, threshold=0):\n",
        "    intermediate_layer_model = Model(inputs=model.input, outputs=model.get_layer(layer_name).output)\n",
        "    intermediate_layer_output = intermediate_layer_model.predict(input_data)[0]\n",
        "    scaled = scale(intermediate_layer_output)\n",
        "    if np.mean(scaled[..., index]) > threshold:\n",
        "        return True\n",
        "    return False\n",
        "\n",
        "\n",
        "def diverged(predictions1, predictions2, predictions3, target):\n",
        "    if not predictions1 == predictions2 == predictions3:\n",
        "        return True\n",
        "    return False\n",
        "\n",
        "#add\n",
        "def list_pictures(directory, ext='jpg|jpeg|bmp|png|ppm'):\n",
        "    return [os.path.join(root, f)\n",
        "            for root, _, files in os.walk(directory) for f in files\n",
        "            if re.match(r'([\\w]+\\.(?:' + ext + '))', f.lower())]"
      ],
      "execution_count": 0,
      "outputs": []
    },
    {
      "cell_type": "code",
      "metadata": {
        "id": "8fj7l69kRgdt",
        "colab_type": "code",
        "colab": {}
      },
      "source": [
        "# lime params\n",
        "label_cnt = 5 #@param{type:\"integer\"}\n",
        "sample_count = 1000 #@param\n",
        "is_positive = False #@param{type:\"boolean\"}\n"
      ],
      "execution_count": 0,
      "outputs": []
    },
    {
      "cell_type": "code",
      "metadata": {
        "id": "HK3HeDVRPdHI",
        "colab_type": "code",
        "colab": {}
      },
      "source": [
        "# lime funtion\n",
        "def explain(image, model):\n",
        "  explainer = lime_image.LimeImageExplainer()\n",
        "  explanation = explainer.explain_instance(image, model.predict, top_labels=label_cnt, hide_color=0, num_samples=1000)\n",
        "  temp, mask = explanation.get_image_and_mask(explanation.top_labels[0], positive_only=is_positive, num_features=5, hide_rest=False)\n",
        "  plt.imshow(mark_boundaries(temp / 2 + 0.5, mask))\n"
      ],
      "execution_count": 0,
      "outputs": []
    },
    {
      "cell_type": "code",
      "metadata": {
        "id": "xoRphb5Fl0JT",
        "colab_type": "code",
        "outputId": "c87c91bb-e0fc-49b2-fbc4-34458319443b",
        "colab": {
          "base_uri": "https://localhost:8080/",
          "height": 600
        }
      },
      "source": [
        "%%time\n",
        "# input image dimensions\n",
        "img_rows, img_cols = 224, 224\n",
        "input_shape = (img_rows, img_cols, 3)\n",
        "\n",
        "# define input tensor as a placeholder\n",
        "input_tensor = Input(shape=input_shape)\n",
        "\n",
        "# load multiple models sharing same input tensor\n",
        "K.set_learning_phase(0)\n",
        "model1 = VGG16(input_tensor=input_tensor)\n",
        "model2 = VGG19(input_tensor=input_tensor)\n",
        "model3 = ResNet50(input_tensor=input_tensor)\n",
        "\n",
        "\n",
        "# init coverage table\n",
        "model_layer_dict1, model_layer_dict2, model_layer_dict3 = init_coverage_tables(model1, model2, model3)"
      ],
      "execution_count": 18,
      "outputs": [
        {
          "output_type": "stream",
          "text": [
            "WARNING:tensorflow:From /usr/local/lib/python3.6/dist-packages/keras/backend/tensorflow_backend.py:66: The name tf.get_default_graph is deprecated. Please use tf.compat.v1.get_default_graph instead.\n",
            "\n",
            "WARNING:tensorflow:From /usr/local/lib/python3.6/dist-packages/keras/backend/tensorflow_backend.py:541: The name tf.placeholder is deprecated. Please use tf.compat.v1.placeholder instead.\n",
            "\n",
            "WARNING:tensorflow:From /usr/local/lib/python3.6/dist-packages/keras/backend/tensorflow_backend.py:4432: The name tf.random_uniform is deprecated. Please use tf.random.uniform instead.\n",
            "\n",
            "WARNING:tensorflow:From /usr/local/lib/python3.6/dist-packages/keras/backend/tensorflow_backend.py:4267: The name tf.nn.max_pool is deprecated. Please use tf.nn.max_pool2d instead.\n",
            "\n",
            "Downloading data from https://github.com/fchollet/deep-learning-models/releases/download/v0.1/vgg16_weights_tf_dim_ordering_tf_kernels.h5\n",
            "553467904/553467096 [==============================] - 12s 0us/step\n",
            "WARNING:tensorflow:From /usr/local/lib/python3.6/dist-packages/keras/backend/tensorflow_backend.py:190: The name tf.get_default_session is deprecated. Please use tf.compat.v1.get_default_session instead.\n",
            "\n",
            "WARNING:tensorflow:From /usr/local/lib/python3.6/dist-packages/keras/backend/tensorflow_backend.py:197: The name tf.ConfigProto is deprecated. Please use tf.compat.v1.ConfigProto instead.\n",
            "\n",
            "WARNING:tensorflow:From /usr/local/lib/python3.6/dist-packages/keras/backend/tensorflow_backend.py:203: The name tf.Session is deprecated. Please use tf.compat.v1.Session instead.\n",
            "\n",
            "WARNING:tensorflow:From /usr/local/lib/python3.6/dist-packages/keras/backend/tensorflow_backend.py:207: The name tf.global_variables is deprecated. Please use tf.compat.v1.global_variables instead.\n",
            "\n",
            "WARNING:tensorflow:From /usr/local/lib/python3.6/dist-packages/keras/backend/tensorflow_backend.py:216: The name tf.is_variable_initialized is deprecated. Please use tf.compat.v1.is_variable_initialized instead.\n",
            "\n",
            "WARNING:tensorflow:From /usr/local/lib/python3.6/dist-packages/keras/backend/tensorflow_backend.py:223: The name tf.variables_initializer is deprecated. Please use tf.compat.v1.variables_initializer instead.\n",
            "\n",
            "Downloading data from https://github.com/fchollet/deep-learning-models/releases/download/v0.1/vgg19_weights_tf_dim_ordering_tf_kernels.h5\n",
            "574717952/574710816 [==============================] - 12s 0us/step\n",
            "WARNING:tensorflow:From /usr/local/lib/python3.6/dist-packages/keras/backend/tensorflow_backend.py:4479: The name tf.truncated_normal is deprecated. Please use tf.random.truncated_normal instead.\n",
            "\n",
            "WARNING:tensorflow:From /usr/local/lib/python3.6/dist-packages/keras/backend/tensorflow_backend.py:2041: The name tf.nn.fused_batch_norm is deprecated. Please use tf.compat.v1.nn.fused_batch_norm instead.\n",
            "\n",
            "Downloading data from https://github.com/fchollet/deep-learning-models/releases/download/v0.2/resnet50_weights_tf_dim_ordering_tf_kernels.h5\n",
            "102858752/102853048 [==============================] - 3s 0us/step\n",
            "CPU times: user 9.95 s, sys: 3.74 s, total: 13.7 s\n",
            "Wall time: 43 s\n"
          ],
          "name": "stdout"
        }
      ]
    },
    {
      "cell_type": "code",
      "metadata": {
        "id": "KD6cHroNl43Q",
        "colab_type": "code",
        "outputId": "6251110c-b381-4ea9-cd8b-2d14a943655e",
        "colab": {
          "base_uri": "https://localhost:8080/",
          "height": 54
        }
      },
      "source": [
        "# start gen inputs\n",
        " img_paths = list_pictures(data_imagenet_seeds)\n",
        " print(img_paths)\n"
      ],
      "execution_count": 19,
      "outputs": [
        {
          "output_type": "stream",
          "text": [
            "['/content/gdrive/My Drive/ColabNotebooks/test4ai/data/ImageNet/seeds/ILSVRC2012_test_00001907.JPEG', '/content/gdrive/My Drive/ColabNotebooks/test4ai/data/ImageNet/seeds/ILSVRC2012_test_00001823.JPEG', '/content/gdrive/My Drive/ColabNotebooks/test4ai/data/ImageNet/seeds/ILSVRC2012_test_00001880.JPEG', '/content/gdrive/My Drive/ColabNotebooks/test4ai/data/ImageNet/seeds/ILSVRC2012_test_00001855.JPEG', '/content/gdrive/My Drive/ColabNotebooks/test4ai/data/ImageNet/seeds/ILSVRC2012_test_00001993.JPEG', '/content/gdrive/My Drive/ColabNotebooks/test4ai/data/ImageNet/seeds/ILSVRC2012_test_00001819.JPEG', '/content/gdrive/My Drive/ColabNotebooks/test4ai/data/ImageNet/seeds/ILSVRC2012_test_00001950.JPEG', '/content/gdrive/My Drive/ColabNotebooks/test4ai/data/ImageNet/seeds/ILSVRC2012_test_00001822.JPEG', '/content/gdrive/My Drive/ColabNotebooks/test4ai/data/ImageNet/seeds/ILSVRC2012_test_00002002.JPEG', '/content/gdrive/My Drive/ColabNotebooks/test4ai/data/ImageNet/seeds/ILSVRC2012_test_00001992.JPEG', '/content/gdrive/My Drive/ColabNotebooks/test4ai/data/ImageNet/seeds/ILSVRC2012_test_00001947.JPEG', '/content/gdrive/My Drive/ColabNotebooks/test4ai/data/ImageNet/seeds/ILSVRC2012_test_00001896.JPEG', '/content/gdrive/My Drive/ColabNotebooks/test4ai/data/ImageNet/seeds/ILSVRC2012_test_00001970.JPEG', '/content/gdrive/My Drive/ColabNotebooks/test4ai/data/ImageNet/seeds/ILSVRC2012_test_00001878.JPEG', '/content/gdrive/My Drive/ColabNotebooks/test4ai/data/ImageNet/seeds/ILSVRC2012_test_00001839.JPEG', '/content/gdrive/My Drive/ColabNotebooks/test4ai/data/ImageNet/seeds/ILSVRC2012_test_00001985.JPEG', '/content/gdrive/My Drive/ColabNotebooks/test4ai/data/ImageNet/seeds/ILSVRC2012_test_00001984.JPEG', '/content/gdrive/My Drive/ColabNotebooks/test4ai/data/ImageNet/seeds/ILSVRC2012_test_00001951.JPEG', '/content/gdrive/My Drive/ColabNotebooks/test4ai/data/ImageNet/seeds/ILSVRC2012_test_00001897.JPEG', '/content/gdrive/My Drive/ColabNotebooks/test4ai/data/ImageNet/seeds/ILSVRC2012_test_00001927.JPEG', '/content/gdrive/My Drive/ColabNotebooks/test4ai/data/ImageNet/seeds/ILSVRC2012_test_00001875.JPEG', '/content/gdrive/My Drive/ColabNotebooks/test4ai/data/ImageNet/seeds/ILSVRC2012_test_00001874.JPEG', '/content/gdrive/My Drive/ColabNotebooks/test4ai/data/ImageNet/seeds/ILSVRC2012_test_00001835.JPEG', '/content/gdrive/My Drive/ColabNotebooks/test4ai/data/ImageNet/seeds/ILSVRC2012_test_00001931.JPEG', '/content/gdrive/My Drive/ColabNotebooks/test4ai/data/ImageNet/seeds/ILSVRC2012_test_00001843.JPEG', '/content/gdrive/My Drive/ColabNotebooks/test4ai/data/ImageNet/seeds/ILSVRC2012_test_00001911.JPEG', '/content/gdrive/My Drive/ColabNotebooks/test4ai/data/ImageNet/seeds/ILSVRC2012_test_00001842.JPEG', '/content/gdrive/My Drive/ColabNotebooks/test4ai/data/ImageNet/seeds/ILSVRC2012_test_00001859.JPEG', '/content/gdrive/My Drive/ColabNotebooks/test4ai/data/ImageNet/seeds/ILSVRC2012_test_00001854.JPEG', '/content/gdrive/My Drive/ColabNotebooks/test4ai/data/ImageNet/seeds/ILSVRC2012_test_00001858.JPEG', '/content/gdrive/My Drive/ColabNotebooks/test4ai/data/ImageNet/seeds/ILSVRC2012_test_00001862.JPEG', '/content/gdrive/My Drive/ColabNotebooks/test4ai/data/ImageNet/seeds/ILSVRC2012_test_00001989.JPEG', '/content/gdrive/My Drive/ColabNotebooks/test4ai/data/ImageNet/seeds/ILSVRC2012_test_00001946.JPEG', '/content/gdrive/My Drive/ColabNotebooks/test4ai/data/ImageNet/seeds/ILSVRC2012_test_00001879.JPEG', '/content/gdrive/My Drive/ColabNotebooks/test4ai/data/ImageNet/seeds/ILSVRC2012_test_00001906.JPEG', '/content/gdrive/My Drive/ColabNotebooks/test4ai/data/ImageNet/seeds/ILSVRC2012_test_00001926.JPEG', '/content/gdrive/My Drive/ColabNotebooks/test4ai/data/ImageNet/seeds/ILSVRC2012_test_00001995.JPEG', '/content/gdrive/My Drive/ColabNotebooks/test4ai/data/ImageNet/seeds/ILSVRC2012_test_00001966.JPEG', '/content/gdrive/My Drive/ColabNotebooks/test4ai/data/ImageNet/seeds/ILSVRC2012_test_00001838.JPEG', '/content/gdrive/My Drive/ColabNotebooks/test4ai/data/ImageNet/seeds/ILSVRC2012_test_00001881.JPEG', '/content/gdrive/My Drive/ColabNotebooks/test4ai/data/ImageNet/seeds/ILSVRC2012_test_00001910.JPEG']\n"
          ],
          "name": "stdout"
        }
      ]
    },
    {
      "cell_type": "code",
      "metadata": {
        "id": "lkfdTZi4mUPf",
        "colab_type": "code",
        "outputId": "18b30fbf-3edc-4eb8-dfc3-a7b574f207dc",
        "colab": {
          "base_uri": "https://localhost:8080/",
          "height": 1000
        }
      },
      "source": [
        "%%time\n",
        "for _ in range(args.seeds):\n",
        "    gen_img = preprocess_image(random.choice(img_paths))\n",
        "    orig_img = gen_img.copy()\n",
        "    # first check if input already induces differences\n",
        "    pred1, pred2, pred3 = model1.predict(gen_img), model2.predict(gen_img), model3.predict(gen_img)\n",
        "    label1, label2, label3 = np.argmax(pred1[0]), np.argmax(pred2[0]), np.argmax(pred3[0])\n",
        "    if not label1 == label2 == label3:\n",
        "        print('input already causes different outputs: {}, {}, {}'.format(decode_label(pred1),\n",
        "                                                                                            decode_label(pred2),\n",
        "                                                                                            decode_label(\n",
        "                                                                                                pred3)))\n",
        "\n",
        "        update_coverage(gen_img, model1, model_layer_dict1, args.threshold)\n",
        "        update_coverage(gen_img, model2, model_layer_dict2, args.threshold)\n",
        "        update_coverage(gen_img, model3, model_layer_dict3, args.threshold)\n",
        "\n",
        "        print('covered neurons percentage %d neurons %.3f, %d neurons %.3f, %d neurons %.3f'\n",
        "              % (len(model_layer_dict1), neuron_covered(model_layer_dict1)[2], len(model_layer_dict2),\n",
        "                 neuron_covered(model_layer_dict2)[2], len(model_layer_dict3),\n",
        "                 neuron_covered(model_layer_dict3)[2]))\n",
        "  \n",
        "        averaged_nc = (neuron_covered(model_layer_dict1)[0] + neuron_covered(model_layer_dict2)[0] +\n",
        "                       neuron_covered(model_layer_dict3)[0]) / float(\n",
        "            neuron_covered(model_layer_dict1)[1] + neuron_covered(model_layer_dict2)[1] +\n",
        "            neuron_covered(model_layer_dict3)[1])\n",
        "        print('averaged covered neurons %.3f' % averaged_nc)\n",
        "\n",
        "        gen_img_deprocessed = deprocess_image(gen_img)\n",
        "\n",
        "        # save the result to disk\n",
        "        outputfilepath0 = os.path.join(output_dir, 'already_differ_' + decode_label(pred1) + '_' + decode_label(pred2) + '_' + decode_label(pred3) + '.png')\n",
        "        imageio.imwrite(outputfilepath0, gen_img_deprocessed)\n",
        "        continue\n",
        "\n",
        "    # if all label agrees\n",
        "    orig_label = label1\n",
        "    layer_name1, index1 = neuron_to_cover(model_layer_dict1)\n",
        "    layer_name2, index2 = neuron_to_cover(model_layer_dict2)\n",
        "    layer_name3, index3 = neuron_to_cover(model_layer_dict3)\n",
        "\n",
        "    # construct joint loss function\n",
        "    if args.target_model == 0:\n",
        "        loss1 = -args.weight_diff * K.mean(model1.get_layer('predictions').output[..., orig_label])\n",
        "        loss2 = K.mean(model2.get_layer('predictions').output[..., orig_label])\n",
        "        loss3 = K.mean(model3.get_layer('fc1000').output[..., orig_label])\n",
        "    elif args.target_model == 1:\n",
        "        loss1 = K.mean(model1.get_layer('predictions').output[..., orig_label])\n",
        "        loss2 = -args.weight_diff * K.mean(model2.get_layer('predictions').output[..., orig_label])\n",
        "        loss3 = K.mean(model3.get_layer('fc1000').output[..., orig_label])\n",
        "    elif args.target_model == 2:\n",
        "        loss1 = K.mean(model1.get_layer('predictions').output[..., label1])\n",
        "        loss2 = K.mean(model2.get_layer('predictions').output[..., orig_label])\n",
        "        loss3 = -args.weight_diff * K.mean(model3.get_layer('fc1000').output[..., orig_label])\n",
        "    loss1_neuron = K.mean(model1.get_layer(layer_name1).output[..., index1])\n",
        "    loss2_neuron = K.mean(model2.get_layer(layer_name2).output[..., index2])\n",
        "    loss3_neuron = K.mean(model3.get_layer(layer_name3).output[..., index3])\n",
        "    layer_output = (loss1 + loss2 + loss3) + args.weight_nc * (loss1_neuron + loss2_neuron + loss3_neuron)\n",
        "\n",
        "    # for adversarial image generation\n",
        "    final_loss = K.mean(layer_output)\n",
        "\n",
        "    # we compute the gradient of the input picture wrt this loss\n",
        "    grads = normalize(K.gradients(final_loss, input_tensor)[0])\n",
        "\n",
        "    # this function returns the loss and grads given the input picture\n",
        "    iterate = K.function([input_tensor], [loss1, loss2, loss3, loss1_neuron, loss2_neuron, loss3_neuron, grads])\n",
        "    print(\"+++++++++\")\n",
        "    print(grads)\n",
        "    print(input_tensor)\n",
        "    print(loss1)\n",
        "    print(loss1_neuron)\n",
        "    print(loss2)\n",
        "    print(loss2_neuron)\n",
        "    print(loss3)\n",
        "    print(loss3_neuron)\n",
        "    print(\"+++++++++\")\n",
        "    print(gen_img.shape)\n",
        "    # we run gradient ascent for 20 steps\n",
        "    for iters in range(args.grad_iterations):\n",
        "        loss_value1, loss_value2, loss_value3, loss_neuron1, loss_neuron2, loss_neuron3, grads_value = iterate(\n",
        "            [gen_img])\n",
        "        if args.transformation == 'light':\n",
        "            grads_value = constraint_light(grads_value)  # constraint the gradients value\n",
        "        elif args.transformation == 'occl':\n",
        "            grads_value = constraint_occl(grads_value, args.start_point,\n",
        "                                          args.occlusion_size)  # constraint the gradients value\n",
        "        elif args.transformation == 'blackout':\n",
        "            grads_value = constraint_black(grads_value)  # constraint the gradients value\n",
        "\n",
        "        gen_img += grads_value * args.step\n",
        "        pred1, pred2, pred3 = model1.predict(gen_img), model2.predict(gen_img), model3.predict(gen_img)\n",
        "        label1, label2, label3 = np.argmax(pred1[0]), np.argmax(pred2[0]), np.argmax(pred3[0])\n",
        "\n",
        "        if not label1 == label2 == label3:\n",
        "            update_coverage(gen_img, model1, model_layer_dict1, args.threshold)\n",
        "            update_coverage(gen_img, model2, model_layer_dict2, args.threshold)\n",
        "            update_coverage(gen_img, model3, model_layer_dict3, args.threshold)\n",
        "            averaged_nc = (neuron_covered(model_layer_dict1)[0] + neuron_covered(model_layer_dict2)[0] +\n",
        "                           neuron_covered(model_layer_dict3)[0]) / float(\n",
        "                neuron_covered(model_layer_dict1)[1] + neuron_covered(model_layer_dict2)[1] +\n",
        "                neuron_covered(model_layer_dict3)[\n",
        "                    1])\n",
        "            print('averaged covered neurons %.3f' % averaged_nc)\n",
        "\n",
        "            gen_img_deprocessed = deprocess_image(gen_img)\n",
        "            orig_img_deprocessed = deprocess_image(orig_img)\n",
        "\n",
        "            # save the result to disk\n",
        "            outputfilepath = os.path.join(output_dir, args.transformation + '_' + decode_label(pred1) + '_' + decode_label(pred2) + '_' + decode_label(pred3) + '.png')\n",
        "            print(outputfilepath)\n",
        "            imageio.imwrite(outputfilepath, gen_img_deprocessed)\n",
        "            outputfilepath2 = os.path.join(output_dir, args.transformation + '_' + decode_label(pred1) + '_' + decode_label(pred2) + '_' + decode_label(pred3) + '_orig.png')\n",
        "            print(outputfilepath2)\n",
        "            imageio.imwrite(outputfilepath2, orig_img_deprocessed)\n",
        "            break"
      ],
      "execution_count": 16,
      "outputs": [
        {
          "output_type": "stream",
          "text": [
            "Downloading data from https://storage.googleapis.com/download.tensorflow.org/data/imagenet_class_index.json\n",
            "40960/35363 [==================================] - 0s 0us/step\n",
            "input already causes different outputs: Border_terrier, wallaby, dingo\n",
            "covered neurons percentage 14888 neurons 0.117, 16168 neurons 0.108, 94123 neurons 0.743\n",
            "averaged covered neurons 0.586\n",
            "+++++++++\n",
            "Tensor(\"truediv:0\", shape=(?, 224, 224, 3), dtype=float32)\n",
            "Tensor(\"input_1:0\", shape=(?, 224, 224, 3), dtype=float32)\n",
            "Tensor(\"mul:0\", shape=(), dtype=float32)\n",
            "Tensor(\"Mean_3:0\", shape=(), dtype=float32)\n",
            "Tensor(\"Mean_1:0\", shape=(), dtype=float32)\n",
            "Tensor(\"Mean_4:0\", shape=(), dtype=float32)\n",
            "Tensor(\"Mean_2:0\", shape=(), dtype=float32)\n",
            "Tensor(\"Mean_5:0\", shape=(), dtype=float32)\n",
            "+++++++++\n",
            "(1, 224, 224, 3)\n",
            "input already causes different outputs: ground_beetle, long-horned_beetle, long-horned_beetle\n",
            "covered neurons percentage 14888 neurons 0.208, 16168 neurons 0.188, 94123 neurons 0.752\n",
            "averaged covered neurons 0.615\n",
            "+++++++++\n",
            "Tensor(\"truediv_1:0\", shape=(?, 224, 224, 3), dtype=float32)\n",
            "Tensor(\"input_1:0\", shape=(?, 224, 224, 3), dtype=float32)\n",
            "Tensor(\"mul_2:0\", shape=(), dtype=float32)\n",
            "Tensor(\"Mean_11:0\", shape=(), dtype=float32)\n",
            "Tensor(\"Mean_9:0\", shape=(), dtype=float32)\n",
            "Tensor(\"Mean_12:0\", shape=(), dtype=float32)\n",
            "Tensor(\"Mean_10:0\", shape=(), dtype=float32)\n",
            "Tensor(\"Mean_13:0\", shape=(), dtype=float32)\n",
            "+++++++++\n",
            "(1, 224, 224, 3)\n",
            "+++++++++\n",
            "Tensor(\"truediv_2:0\", shape=(?, 224, 224, 3), dtype=float32)\n",
            "Tensor(\"input_1:0\", shape=(?, 224, 224, 3), dtype=float32)\n",
            "Tensor(\"mul_4:0\", shape=(), dtype=float32)\n",
            "Tensor(\"Mean_19:0\", shape=(), dtype=float32)\n",
            "Tensor(\"Mean_17:0\", shape=(), dtype=float32)\n",
            "Tensor(\"Mean_20:0\", shape=(), dtype=float32)\n",
            "Tensor(\"Mean_18:0\", shape=(), dtype=float32)\n",
            "Tensor(\"Mean_21:0\", shape=(), dtype=float32)\n",
            "+++++++++\n",
            "(1, 224, 224, 3)\n",
            "averaged covered neurons 0.639\n",
            "/content/gdrive/My Drive/ColabNotebooks/test4ai/output/light_toilet_seat_toilet_seat_lighter.png\n",
            "/content/gdrive/My Drive/ColabNotebooks/test4ai/output/light_toilet_seat_toilet_seat_lighter_orig.png\n",
            "+++++++++\n",
            "Tensor(\"truediv_3:0\", shape=(?, 224, 224, 3), dtype=float32)\n",
            "Tensor(\"input_1:0\", shape=(?, 224, 224, 3), dtype=float32)\n",
            "Tensor(\"mul_6:0\", shape=(), dtype=float32)\n",
            "Tensor(\"Mean_27:0\", shape=(), dtype=float32)\n",
            "Tensor(\"Mean_25:0\", shape=(), dtype=float32)\n",
            "Tensor(\"Mean_28:0\", shape=(), dtype=float32)\n",
            "Tensor(\"Mean_26:0\", shape=(), dtype=float32)\n",
            "Tensor(\"Mean_29:0\", shape=(), dtype=float32)\n",
            "+++++++++\n",
            "(1, 224, 224, 3)\n",
            "averaged covered neurons 0.654\n",
            "/content/gdrive/My Drive/ColabNotebooks/test4ai/output/light_flamingo_flamingo_web_site.png\n",
            "/content/gdrive/My Drive/ColabNotebooks/test4ai/output/light_flamingo_flamingo_web_site_orig.png\n",
            "+++++++++\n",
            "Tensor(\"truediv_4:0\", shape=(?, 224, 224, 3), dtype=float32)\n",
            "Tensor(\"input_1:0\", shape=(?, 224, 224, 3), dtype=float32)\n",
            "Tensor(\"mul_8:0\", shape=(), dtype=float32)\n",
            "Tensor(\"Mean_35:0\", shape=(), dtype=float32)\n",
            "Tensor(\"Mean_33:0\", shape=(), dtype=float32)\n",
            "Tensor(\"Mean_36:0\", shape=(), dtype=float32)\n",
            "Tensor(\"Mean_34:0\", shape=(), dtype=float32)\n",
            "Tensor(\"Mean_37:0\", shape=(), dtype=float32)\n",
            "+++++++++\n",
            "(1, 224, 224, 3)\n",
            "averaged covered neurons 0.673\n",
            "/content/gdrive/My Drive/ColabNotebooks/test4ai/output/light_potter's_wheel_potter's_wheel_iron.png\n",
            "/content/gdrive/My Drive/ColabNotebooks/test4ai/output/light_potter's_wheel_potter's_wheel_iron_orig.png\n",
            "+++++++++\n",
            "Tensor(\"truediv_5:0\", shape=(?, 224, 224, 3), dtype=float32)\n",
            "Tensor(\"input_1:0\", shape=(?, 224, 224, 3), dtype=float32)\n",
            "Tensor(\"mul_10:0\", shape=(), dtype=float32)\n",
            "Tensor(\"Mean_43:0\", shape=(), dtype=float32)\n",
            "Tensor(\"Mean_41:0\", shape=(), dtype=float32)\n",
            "Tensor(\"Mean_44:0\", shape=(), dtype=float32)\n",
            "Tensor(\"Mean_42:0\", shape=(), dtype=float32)\n",
            "Tensor(\"Mean_45:0\", shape=(), dtype=float32)\n",
            "+++++++++\n",
            "(1, 224, 224, 3)\n",
            "+++++++++\n",
            "Tensor(\"truediv_6:0\", shape=(?, 224, 224, 3), dtype=float32)\n",
            "Tensor(\"input_1:0\", shape=(?, 224, 224, 3), dtype=float32)\n",
            "Tensor(\"mul_12:0\", shape=(), dtype=float32)\n",
            "Tensor(\"Mean_51:0\", shape=(), dtype=float32)\n",
            "Tensor(\"Mean_49:0\", shape=(), dtype=float32)\n",
            "Tensor(\"Mean_52:0\", shape=(), dtype=float32)\n",
            "Tensor(\"Mean_50:0\", shape=(), dtype=float32)\n",
            "Tensor(\"Mean_53:0\", shape=(), dtype=float32)\n",
            "+++++++++\n",
            "(1, 224, 224, 3)\n",
            "+++++++++\n",
            "Tensor(\"truediv_7:0\", shape=(?, 224, 224, 3), dtype=float32)\n",
            "Tensor(\"input_1:0\", shape=(?, 224, 224, 3), dtype=float32)\n",
            "Tensor(\"mul_14:0\", shape=(), dtype=float32)\n",
            "Tensor(\"Mean_59:0\", shape=(), dtype=float32)\n",
            "Tensor(\"Mean_57:0\", shape=(), dtype=float32)\n",
            "Tensor(\"Mean_60:0\", shape=(), dtype=float32)\n",
            "Tensor(\"Mean_58:0\", shape=(), dtype=float32)\n",
            "Tensor(\"Mean_61:0\", shape=(), dtype=float32)\n",
            "+++++++++\n",
            "(1, 224, 224, 3)\n",
            "CPU times: user 59.1 s, sys: 5.86 s, total: 1min 4s\n",
            "Wall time: 1min 18s\n"
          ],
          "name": "stdout"
        }
      ]
    },
    {
      "cell_type": "code",
      "metadata": {
        "id": "VU1PQZatgurW",
        "colab_type": "code",
        "colab": {}
      },
      "source": [
        "def transform_img_fn(path_list):\n",
        "    out = []\n",
        "    for img_path in path_list:\n",
        "#        img = image.load_img(img_path, target_size=(299, 299))\n",
        "        print(img_path)\n",
        "        img = k_image.load_img(img_path, target_size=(224, 224))\n",
        "        print(\"in here\")\n",
        "        plt.imshow(img)\n",
        "        x = k_image.img_to_array(img)\n",
        "        x = np.expand_dims(x, axis=0)\n",
        "#        x = inc_net.preprocess_input(x)\n",
        "#        x = vgg16.preprocess_input(x,mode='tf')\n",
        "        x = vgg16.preprocess_input(x)\n",
        "        out.append(x)\n",
        "    return np.vstack(out)"
      ],
      "execution_count": 0,
      "outputs": []
    },
    {
      "cell_type": "code",
      "metadata": {
        "id": "ZhI2CxUkbV-Y",
        "colab_type": "code",
        "outputId": "d4804f68-cc37-49db-bad7-fbe9ac4c9cf4",
        "colab": {
          "base_uri": "https://localhost:8080/",
          "height": 394
        }
      },
      "source": [
        "generagte_img_paths = list_pictures(output_dir)\n",
        "print(generagte_img_paths)\n",
        "pre_image = random.choice(generagte_img_paths)\n",
        "# images = transform_img_fn(output_dir+\"/\")\n",
        "images = transform_img_fn([os.path.join(output_dir,'test_org.png')])\n",
        "\n",
        "for image in images:\n",
        "    # gen_img じゃなくてGenerated Imgを利用するように変更する\n",
        "    print(\"==== explain model 1 ====\")\n",
        "    explain(image, model1)"
      ],
      "execution_count": 21,
      "outputs": [
        {
          "output_type": "stream",
          "text": [
            "['/content/gdrive/My Drive/ColabNotebooks/test4ai/output/already_differ_Border_terrier_wallaby_dingo.png', '/content/gdrive/My Drive/ColabNotebooks/test4ai/output/light_toilet_seat_toilet_seat_lighter.png', '/content/gdrive/My Drive/ColabNotebooks/test4ai/output/light_toilet_seat_toilet_seat_lighter_orig.png', '/content/gdrive/My Drive/ColabNotebooks/test4ai/output/light_flamingo_flamingo_web_site.png', '/content/gdrive/My Drive/ColabNotebooks/test4ai/output/light_flamingo_flamingo_web_site_orig.png', '/content/gdrive/My Drive/ColabNotebooks/test4ai/output/test.png', '/content/gdrive/My Drive/ColabNotebooks/test4ai/output/test_org.png']\n",
            "/content/gdrive/My Drive/ColabNotebooks/test4ai/output/test_org.png\n",
            "in here\n",
            "==== explain model 1 ====\n"
          ],
          "name": "stdout"
        },
        {
          "output_type": "stream",
          "text": [
            "\n",
            "Clipping input data to the valid range for imshow with RGB data ([0..1] for floats or [0..255] for integers).\n"
          ],
          "name": "stderr"
        },
        {
          "output_type": "display_data",
          "data": {
            "image/png": "[encoded data removed]",
            "text/plain": [
              "<Figure size 432x288 with 1 Axes>"
            ]
          },
          "metadata": {
            "tags": []
          }
        }
      ]
    },
    {
      "cell_type": "code",
      "metadata": {
        "id": "QKqUgyBBrIcb",
        "colab_type": "code",
        "colab": {
          "base_uri": "https://localhost:8080/",
          "height": 322
        },
        "outputId": "963501bd-40c5-475c-a060-f4cffa79ec18"
      },
      "source": [
        "for image in images:\n",
        "    print(\"==== explain model 2 ====\")\n",
        "    explain(image, model2)\n"
      ],
      "execution_count": 22,
      "outputs": [
        {
          "output_type": "stream",
          "text": [
            "==== explain model 2 ====\n"
          ],
          "name": "stdout"
        },
        {
          "output_type": "stream",
          "text": [
            "\n",
            "Clipping input data to the valid range for imshow with RGB data ([0..1] for floats or [0..255] for integers).\n"
          ],
          "name": "stderr"
        },
        {
          "output_type": "display_data",
          "data": {
            "image/png": "[encoded data removed]",
            "text/plain": [
              "<Figure size 432x288 with 1 Axes>"
            ]
          },
          "metadata": {
            "tags": []
          }
        }
      ]
    },
    {
      "cell_type": "code",
      "metadata": {
        "id": "JnT0l3CLrKkT",
        "colab_type": "code",
        "colab": {
          "base_uri": "https://localhost:8080/",
          "height": 322
        },
        "outputId": "c8d87f98-a366-422d-dc9e-20fbcc2a4a93"
      },
      "source": [
        "for image in images:\n",
        "    print(\"==== explain model 3 ====\")\n",
        "    explain(image, model3)\n"
      ],
      "execution_count": 23,
      "outputs": [
        {
          "output_type": "stream",
          "text": [
            "==== explain model 3 ====\n"
          ],
          "name": "stdout"
        },
        {
          "output_type": "stream",
          "text": [
            "\n",
            "Clipping input data to the valid range for imshow with RGB data ([0..1] for floats or [0..255] for integers).\n"
          ],
          "name": "stderr"
        },
        {
          "output_type": "display_data",
          "data": {
            "image/png": "[encoded data removed]",
            "text/plain": [
              "<Figure size 432x288 with 1 Axes>"
            ]
          },
          "metadata": {
            "tags": []
          }
        }
      ]
    }
  ]
}