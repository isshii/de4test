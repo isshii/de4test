{
  "nbformat": 4,
  "nbformat_minor": 0,
  "metadata": {
    "colab": {
      "name": "03_download_model.ipynb",
      "provenance": [],
      "include_colab_link": true
    },
    "kernelspec": {
      "name": "python3",
      "display_name": "Python 3"
    }
  },
  "cells": [
    {
      "cell_type": "markdown",
      "metadata": {
        "id": "view-in-github",
        "colab_type": "text"
      },
      "source": [
        "<a href=\"https://colab.research.google.com/github/isshii/de4test/blob/master/env_set/03_download_model.ipynb\" target=\"_parent\"><img src=\"https://colab.research.google.com/assets/colab-badge.svg\" alt=\"Open In Colab\"/></a>"
      ]
    },
    {
      "cell_type": "code",
      "metadata": {
        "id": "A9pG8FOnE_8T",
        "colab_type": "code",
        "colab": {}
      },
      "source": [
        "import urllib.request\n",
        "import os\n",
        "# このノートブックは 01_create_common_dir.ipynb を実行して、gdrive に既定のフォルダ構成が存在することを前提にしてます\b\n",
        "\n",
        "# 共通の変数設定\n",
        "## モデルの置き場所\n",
        "model_dir = \"/content/gdrive/My Drive/ColabNotebooks/test4ai/model\"\n",
        "\n",
        "## MNIST 用モデルの置き場所\n",
        "mnist_model_dir = \"/content/gdrive/My Drive/ColabNotebooks/test4ai/model/MNIST\"\n",
        "\n",
        "# GDrive に接続して操作できるようにします\n",
        "from google.colab import drive\n",
        "drive.mount('/content/gdrive')"
      ],
      "execution_count": 0,
      "outputs": []
    },
    {
      "cell_type": "code",
      "metadata": {
        "id": "4djNDCk9F_bj",
        "colab_type": "code",
        "colab": {}
      },
      "source": [
        "# データのダウンロードのための共通メソッド\n",
        "def download_to_tmp_dir(target_url, filepath):\n",
        "  # 大きなデータは256mb毎に細切りにして読み込む\n",
        "  chunk_size = 1024 * 1024 * 256\n",
        "\n",
        "  with urllib.request.urlopen(target_url) as resp:\n",
        "    print(\"get data from : \" + target_url + \" : to model folder\")\n",
        "    num = 1\n",
        "    with open(filepath, 'wb') as f:\n",
        "      while 1:\n",
        "          chunk = resp.read(chunk_size)\n",
        "          print(num)\n",
        "          num = num + 1\n",
        "          if not chunk:\n",
        "              break\n",
        "          else : \n",
        "            f.write(chunk)\n",
        "            f.flush()\n",
        "            os.fsync(f.fileno())"
      ],
      "execution_count": 0,
      "outputs": []
    },
    {
      "cell_type": "code",
      "metadata": {
        "id": "0Cld71rHFdjz",
        "colab_type": "code",
        "colab": {}
      },
      "source": [
        "# model名 : good_vgg16.h5\n",
        "# 参照元 : https://www.kaggle.com/rohit1277/cat-dog-classifier-using-vgg16-transfer-learning\n",
        "# Dropbox保存先 : https://www.dropbox.com/s/qu0w00ft5i6wdq9/good_vgg16.h5?dl=1\n",
        "# Gdrive保存先 : /content/gdrive/My Drive/ColabNotebooks/test4ai/model\n",
        "\n",
        "target_url_good_vgg16 = \"https://www.dropbox.com/s/qu0w00ft5i6wdq9/good_vgg16.h5?dl=1\"\n",
        "\n",
        "download_to_tmp_dir(target_url_good_vgg16, model_dir + \"/ImageNet/good_vgg16.h5\")"
      ],
      "execution_count": 0,
      "outputs": []
    }
  ]
}