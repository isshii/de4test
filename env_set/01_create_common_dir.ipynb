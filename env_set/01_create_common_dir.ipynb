{
  "nbformat": 4,
  "nbformat_minor": 0,
  "metadata": {
    "colab": {
      "name": "create_common_dir.ipynb",
      "provenance": [],
      "collapsed_sections": [],
      "include_colab_link": true
    },
    "kernelspec": {
      "name": "python3",
      "display_name": "Python 3"
    }
  },
  "cells": [
    {
      "cell_type": "markdown",
      "metadata": {
        "id": "view-in-github",
        "colab_type": "text"
      },
      "source": [
        "<a href=\"https://colab.research.google.com/github/isshii/de4test/blob/master/env_set/01_create_common_dir.ipynb\" target=\"_parent\"><img src=\"https://colab.research.google.com/assets/colab-badge.svg\" alt=\"Open In Colab\"/></a>"
      ]
    },
    {
      "cell_type": "code",
      "metadata": {
        "id": "oIOIAxkR0Ls6",
        "colab_type": "code",
        "colab": {}
      },
      "source": [
        "# GDrive に接続して操作できるようにします\n",
        "from google.colab import drive\n",
        "drive.mount('/content/gdrive')"
      ],
      "execution_count": 0,
      "outputs": []
    },
    {
      "cell_type": "code",
      "metadata": {
        "id": "HsLzhfZi0_ya",
        "colab_type": "code",
        "colab": {}
      },
      "source": [
        "# 共通フォルダ構造を作っていくぞー\n",
        "!mkdir \"/content/gdrive/My Drive/ColabNotebooks\"\n",
        "!mkdir \"/content/gdrive/My Drive/ColabNotebooks/test4ai\"\n",
        "!mkdir \"/content/gdrive/My Drive/ColabNotebooks/test4ai/data\"\n",
        "!mkdir \"/content/gdrive/My Drive/ColabNotebooks/test4ai/data/ImageNet\"\n",
        "!mkdir \"/content/gdrive/My Drive/ColabNotebooks/test4ai/model\"\n",
        "!mkdir \"/content/gdrive/My Drive/ColabNotebooks/test4ai/output\"\n",
        "!mkdir \"/content/gdrive/My Drive/ColabNotebooks/test4ai/tmp\""
      ],
      "execution_count": 0,
      "outputs": []
    }
  ]
}