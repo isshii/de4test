{
  "nbformat": 4,
  "nbformat_minor": 0,
  "metadata": {
    "colab": {
      "name": "02_download_dataset.ipynb",
      "provenance": [],
      "include_colab_link": true
    },
    "kernelspec": {
      "name": "python3",
      "display_name": "Python 3"
    }
  },
  "cells": [
    {
      "cell_type": "markdown",
      "metadata": {
        "id": "view-in-github",
        "colab_type": "text"
      },
      "source": [
        "<a href=\"https://colab.research.google.com/github/isshii/de4test/blob/master/env_set/02_download_dataset.ipynb\" target=\"_parent\"><img src=\"https://colab.research.google.com/assets/colab-badge.svg\" alt=\"Open In Colab\"/></a>"
      ]
    },
    {
      "cell_type": "code",
      "metadata": {
        "id": "GlYcODXM9dLq",
        "colab_type": "code",
        "colab": {}
      },
      "source": [
        "# このノートブックは 01_create_common_dir.ipynb を実行して、gdrive に既定のフォルダ構成が存在することを前提にしてます\b\n",
        "\n",
        "# GDrive に接続して操作できるようにします\n",
        "from google.colab import drive\n",
        "drive.mount('/content/gdrive')"
      ],
      "execution_count": 0,
      "outputs": []
    },
    {
      "cell_type": "code",
      "metadata": {
        "id": "HubLxlZb9x97",
        "colab_type": "code",
        "colab": {}
      },
      "source": [
        "# ImageNet (deep explorer が使ってる ２０００ 件) の画像データ読み込み\n",
        "# 参考: https://qiita.com/Kaniikura/items/70cf383e981cc2b236ae\n",
        "import urllib.request\n",
        "import os\n",
        "\n",
        "# 共有リンク対象のURL\n",
        "dropbox_share_url = \"https://www.dropbox.com/s/46nvzp1vhrmbpow/ImageNet_seeds.zip?dl=1\"\n",
        "\n",
        "# 保存場所とファイル名\n",
        "filename=\"imagenet_seeds.zip\"\n",
        "directory=\"/content/gdrive/My Drive/ColabNotebooks/test4ai/tmp\"\n",
        "# 大きなデータは256mb毎に細切りにして読み込む\n",
        "chunk_size = 1024 * 1024 * 256\n",
        "\n",
        "with urllib.request.urlopen(dropbox_share_url) as resp:\n",
        "  num = 1\n",
        "  if not os.path.exists(directory):\n",
        "    os.makedirs(directory)\n",
        "  with open(os.path.join(directory, filename), 'wb') as f:\n",
        "     while 1:\n",
        "        chunk = resp.read(chunk_size)\n",
        "        print(num)\n",
        "        num = num + 1\n",
        "        if not chunk:\n",
        "            break\n",
        "        else : \n",
        "          f.write(chunk)\n",
        "          f.flush()\n",
        "          os.fsync(f.fileno())  "
      ],
      "execution_count": 0,
      "outputs": []
    },
    {
      "cell_type": "code",
      "metadata": {
        "colab_type": "code",
        "id": "vN0m67AI93FS",
        "colab": {}
      },
      "source": [
        "!unzip \"/content/gdrive/My Drive/ColabNotebooks/test4ai/tmp/imagenet_seeds.zip\" -d \"/content/gdrive/My Drive/ColabNotebooks/test4ai/data/ImageNet\""
      ],
      "execution_count": 0,
      "outputs": []
    }
  ]
}