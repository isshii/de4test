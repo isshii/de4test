{
  "nbformat": 4,
  "nbformat_minor": 0,
  "metadata": {
    "colab": {
      "name": "02_download_dataset.ipynb",
      "provenance": [],
      "collapsed_sections": [],
      "include_colab_link": true
    },
    "kernelspec": {
      "name": "python3",
      "display_name": "Python 3"
    }
  },
  "cells": [
    {
      "cell_type": "markdown",
      "metadata": {
        "id": "view-in-github",
        "colab_type": "text"
      },
      "source": [
        "<a href=\"https://colab.research.google.com/github/isshii/de4test/blob/master/env_set/02_download_dataset.ipynb\" target=\"_parent\"><img src=\"https://colab.research.google.com/assets/colab-badge.svg\" alt=\"Open In Colab\"/></a>"
      ]
    },
    {
      "cell_type": "code",
      "metadata": {
        "id": "GlYcODXM9dLq",
        "colab_type": "code",
        "colab": {}
      },
      "source": [
        "import urllib.request\n",
        "import os\n",
        "# このノートブックは 01_create_common_dir.ipynb を実行して、gdrive に既定のフォルダ構成が存在することを前提にしてます\b\n",
        "\n",
        "# 共通の変数設定\n",
        "## 一時ファイル置き場\n",
        "tmp_dir=\"/content/gdrive/My Drive/ColabNotebooks/test4ai/tmp\"\n",
        "## ImageNet (deep explorer が使ってる ２０００ 件) の画像データの置き場所\n",
        "imagenet_seeds_dir = \"/content/gdrive/My Drive/ColabNotebooks/test4ai/data/ImageNet/seeds\"\n",
        "\n",
        "## 犬猫の画像データの置き場所\n",
        "dog_and_cat_data_dir = \"/content/gdrive/My Drive/ColabNotebooks/test4ai/data/dog_and_cat\"\n",
        "dog_and_cat_data_test_dir = dog_and_cat_data_dir + \"/test\"\n",
        "dog_and_cat_data_train_dir = dog_and_cat_data_dir + \"/train\"\n",
        "\n",
        "# GDrive に接続して操作できるようにします\n",
        "from google.colab import drive\n",
        "drive.mount('/content/gdrive')"
      ],
      "execution_count": 0,
      "outputs": []
    },
    {
      "cell_type": "code",
      "metadata": {
        "id": "B1296ctQAk1d",
        "colab_type": "code",
        "colab": {}
      },
      "source": [
        "# データのダウンロードのための共通メソッド\n",
        "def download_to_tmp_dir(target_url, filepath)\n",
        "  # 大きなデータは256mb毎に細切りにして読み込む\n",
        "  chunk_size = 1024 * 1024 * 256\n",
        "\n",
        "  with urllib.request.urlopen(target_url) as resp:\n",
        "    num = 1\n",
        "    if not os.path.exists(tmp_dir):\n",
        "      os.makedirs(tmp_dir)\n",
        "    with open(filepath, 'wb') as f:\n",
        "      while 1:\n",
        "          chunk = resp.read(chunk_size)\n",
        "          print(num)\n",
        "          num = num + 1\n",
        "          if not chunk:\n",
        "              break\n",
        "          else : \n",
        "            f.write(chunk)\n",
        "            f.flush()\n",
        "            os.fsync(f.fileno())"
      ],
      "execution_count": 0,
      "outputs": []
    },
    {
      "cell_type": "code",
      "metadata": {
        "id": "HubLxlZb9x97",
        "colab_type": "code",
        "colab": {}
      },
      "source": [
        "# ImageNet (deep explorer が使ってる ２０００ 件) の画像データ読み込み\n",
        "# 参考: https://qiita.com/Kaniikura/items/70cf383e981cc2b236ae\n",
        "\n",
        "# 共有リンク対象のURL\n",
        "imagenet_url = \"https://www.dropbox.com/s/qlcqr1grps1bx6c/ImageNet_seeds.zip?dl=1\"\n",
        "\n",
        "# 保存場所とファイル名\n",
        "imagenet_filepath = os.path.join(tmp_dir, \"imagenet_seeds.zip\")\n",
        "\n"
      ],
      "execution_count": 0,
      "outputs": []
    },
    {
      "cell_type": "code",
      "metadata": {
        "id": "ujQvSOdXCRDh",
        "colab_type": "code",
        "colab": {}
      },
      "source": [
        "# ImageNet ダウンロード & 展開\n",
        "download_to_tmp_dir(imagenet_url, imagenet_filepath)\n",
        "!unzip \"$imagenet_filepath\" -d \"$imagenet_seeds_dir\""
      ],
      "execution_count": 0,
      "outputs": []
    },
    {
      "cell_type": "code",
      "metadata": {
        "id": "c85PuM8yAHvD",
        "colab_type": "code",
        "colab": {}
      },
      "source": [
        "# 犬猫画像\n",
        "dog_and_cat_test_url = \"https://www.dropbox.com/s/3mdnt9rpw51gh81/test.zip?dl=1\"\n",
        "dog_and_cat_train_url = \"https://www.dropbox.com/s/61e79cselfsbdn3/train.zip?dl=1\"\n",
        "\n",
        "dc_train_filepath = os.path.join(tmp_dir, \"train.zip\")\n",
        "dc_test_filepath = os.path.join(tmp_dir, \"test.zip\")\n",
        "\n",
        "download_to_tmp_dir(dog_and_cat_test_url, dc_train_filepath)\n",
        "download_to_tmp_dir(dog_and_cat_train_url, dc_test_filepath)"
      ],
      "execution_count": 0,
      "outputs": []
    },
    {
      "cell_type": "code",
      "metadata": {
        "id": "SuQe0DkpADUJ",
        "colab_type": "code",
        "colab": {}
      },
      "source": [
        "## 犬猫画像(テスト)のダウンロード & 展開\n",
        "download_to_tmp_dir(dog_and_cat_test_url, dc_train_filepath)\n",
        "!unzip \"$dog_and_cat_test_url\" -d \"$dog_and_cat_data_test_dir\""
      ],
      "execution_count": 0,
      "outputs": []
    },
    {
      "cell_type": "code",
      "metadata": {
        "id": "JGOi5wJlC3nL",
        "colab_type": "code",
        "colab": {}
      },
      "source": [
        "## 犬猫画像(トレーニング)のダウンロード & 展開\n",
        "download_to_tmp_dir(dog_and_cat_train_url, dc_test_filepath)\n",
        "!unzip \"$dog_and_cat_train_url\" -d \"$dog_and_cat_data_train_dir\""
      ],
      "execution_count": 0,
      "outputs": []
    },
    {
      "cell_type": "code",
      "metadata": {
        "id": "gMKjtum8DJLN",
        "colab_type": "code",
        "colab": {}
      },
      "source": [
        "# 一時フォルダ内容物のクリーンアップ削除\n",
        "!rm \"$tmp_dir\"/*"
      ],
      "execution_count": 0,
      "outputs": []
    }
  ]
}